{
 "cells": [
  {
   "cell_type": "code",
   "execution_count": 1,
   "id": "54f57a8e",
   "metadata": {},
   "outputs": [],
   "source": [
    "import ee\n",
    "import pandas as pd\n",
    "import numpy as np\n",
    "import matplotlib.pyplot as plt\n",
    "import time\n",
    "from tqdm.notebook import tqdm, trange\n",
    "import tqdm\n",
    "from pprint import pprint \n",
    "import statsmodels.api as sm\n",
    "import math\n",
    "import geemap\n",
    "import os\n",
    "\n",
    "from IPython.display import Image\n",
    "\n",
    "import folium\n",
    "from folium import plugins\n",
    "import importlib\n",
    "\n",
    "import geopandas as gpd\n",
    "from PIL import Image"
   ]
  },
  {
   "cell_type": "code",
   "execution_count": 2,
   "id": "6bd6876e",
   "metadata": {},
   "outputs": [
    {
     "data": {
      "text/html": [
       "<p>To authorize access needed by Earth Engine, open the following\n",
       "        URL in a web browser and follow the instructions:</p>\n",
       "        <p><a href=https://accounts.google.com/o/oauth2/auth?client_id=517222506229-vsmmajv00ul0bs7p89v5m89qs8eb9359.apps.googleusercontent.com&scope=https%3A%2F%2Fwww.googleapis.com%2Fauth%2Fearthengine+https%3A%2F%2Fwww.googleapis.com%2Fauth%2Fdevstorage.full_control&redirect_uri=urn%3Aietf%3Awg%3Aoauth%3A2.0%3Aoob&response_type=code&code_challenge=FK9fz84kjV8mSnSxuflS2TN9WC1Bby7LgDGPhgwgtes&code_challenge_method=S256>https://accounts.google.com/o/oauth2/auth?client_id=517222506229-vsmmajv00ul0bs7p89v5m89qs8eb9359.apps.googleusercontent.com&scope=https%3A%2F%2Fwww.googleapis.com%2Fauth%2Fearthengine+https%3A%2F%2Fwww.googleapis.com%2Fauth%2Fdevstorage.full_control&redirect_uri=urn%3Aietf%3Awg%3Aoauth%3A2.0%3Aoob&response_type=code&code_challenge=FK9fz84kjV8mSnSxuflS2TN9WC1Bby7LgDGPhgwgtes&code_challenge_method=S256</a></p>\n",
       "        <p>The authorization workflow will generate a code, which you\n",
       "        should paste in the box below</p>\n",
       "        "
      ],
      "text/plain": [
       "<IPython.core.display.HTML object>"
      ]
     },
     "metadata": {},
     "output_type": "display_data"
    },
    {
     "name": "stdout",
     "output_type": "stream",
     "text": [
      "Enter verification code: 4/1AX4XfWhteMIPuaEh86ewWy4M2zySaIon2tiCjFTxcAhg3r5zYMKp2KZNZMw\n",
      "\n",
      "Successfully saved authorization token.\n"
     ]
    }
   ],
   "source": [
    "ee.Authenticate()"
   ]
  },
  {
   "cell_type": "code",
   "execution_count": 3,
   "id": "7b800ea2",
   "metadata": {
    "scrolled": true
   },
   "outputs": [],
   "source": [
    "ee.Initialize()"
   ]
  },
  {
   "cell_type": "markdown",
   "id": "ba62bd28",
   "metadata": {},
   "source": [
    "This document is meant to create both maps and datasets depicting things like greenspace (NDVI), land surface temperature, and potentially albedo (land reflectance) throughout the city of Chicago or Cook County, organized by zip code (or potentially census tract). If anyone has any questions about the document, please let me know. Otherwise, it should run for everyone.\n",
    "\n",
    "The below code is used for loading/manipulating/visualizing the NDVI values throughout Chicago. Many thanks to Shopnavo Biswas for both sharing this code and for introducing us all to the entire concept of EarthEngine."
   ]
  },
  {
   "cell_type": "code",
   "execution_count": 4,
   "id": "35b5e831",
   "metadata": {},
   "outputs": [],
   "source": [
    "# This code loads the EE dataset which is used to calculate NDVI scores and restricts it to the year 2021\n",
    "\n",
    "col_sent = ee.ImageCollection(\"COPERNICUS/S2_SR\").filterDate(\"2021-01-01\", \"2022-01-01\")"
   ]
  },
  {
   "cell_type": "code",
   "execution_count": 5,
   "id": "1b4ee4e1",
   "metadata": {},
   "outputs": [
    {
     "name": "stdout",
     "output_type": "stream",
     "text": [
      "['60636', '60601', '60602', '60603', '60604', '60606', '60607', '60612', '60618', '60619',\n",
      " '60621', '60631', '60638', '60639', '60641', '60645', '60646', '60651', '60652', '60654',\n",
      " '60655', '60656', '60661', '60707', '60647', '60659', '60609', '60634', '60629', '60624',\n",
      " '60626', '60827', '60643', '60622', '60637', '60610', '60657', '60615', '60614', '60640',\n",
      " '60632', '60653', '60617', '60613', '60611', '60628', '60630', '60608', '60660', '60642',\n",
      " '60605', '60633', '60616', '60625', '60620', '60649', '60623', '60644']\n"
     ]
    }
   ],
   "source": [
    "# This code loads the EE dataset used to map Chicago zip codes or Cook County and filters the zip codes \n",
    "# to include only those in the city of Chicago (with one or two minor exceptions, and not including O'Hare Airport)\n",
    "\n",
    "# Isolate Cook County from the Census collection\n",
    "counties = ee.FeatureCollection('TIGER/2018/Counties')\n",
    "cookCounty = counties.filter(ee.Filter.eq(\"GEOID\", '17031'))\n",
    "\n",
    "# This is a list of the 67 zip codes that are accepted to make up Chicago\n",
    "# strict_zip_codes = list(['60007','60018','60068','60106','60131','60176','60601','60602','60603','60604','60605','60606',\n",
    "#                '60607','60608','60609','60610','60611','60612','60613','60614','60615','60616','60617','60618',\n",
    "#                '60619','60620','60621','60622','60623','60624','60625','60626','60628','60629','60630','60631',\n",
    "#                '60632','60633','60634','60636','60637','60638','60639','60640','60641','60642','60643','60644',\n",
    "#                '60645','60646','60647','60649','60651','60652','60653','60654','60655','60656','60657','60659',\n",
    "#                '60660','60661','60706','60707','60714','60804','60827'])\n",
    "\n",
    "# This is a list of the zip codes that show up on a map of Chicago\n",
    "# Note: Up to 60601 in the above list includes zip codes west of and around O'Hare, \n",
    "# which is 60666 in most maps but does not have its own zip code in TIGER/2018/Counties\n",
    "# and was therefore excluded from this list in order to make as close to a visualization of strictly Chicago as possible\n",
    "stricter_zip_codes = list(['60601','60602','60603','60604','60605','60606',\n",
    "               '60607','60608','60609','60610','60611','60612','60613','60614','60615','60616','60617','60618',\n",
    "               '60619','60620','60621','60622','60623','60624','60625','60626','60628','60629','60630','60631',\n",
    "               '60632','60633','60634','60636','60637','60638','60639','60640','60641','60642','60643','60644',\n",
    "               '60645','60646','60647','60649','60651','60652','60653','60654','60655','60656','60657','60659',\n",
    "               '60660','60661','60707','60827','60666'])\n",
    "\n",
    "# Get all US zip codes, then restrict to those that intersect with Cook County, and then\n",
    "# filter out those that don't overlap at all but only touch on the boundary\n",
    "# (e.g. some adjacent zip codes in Illinois and Indiana)\n",
    "# Commenting this to form a more strict set of zip codes\n",
    "# zipCodes = (\n",
    "#     ee.FeatureCollection('TIGER/2010/ZCTA5').filterBounds(cookCounty)\n",
    "#     .filter(\"GEOID10 != '46311'\").filter(\"GEOID10 != '46324'\")\n",
    "#     .filter(\"GEOID10 != '46321'\").filter(\"GEOID10 != '46327'\")\n",
    "#     .filter(\"GEOID10 != '46320'\").filter(\"GEOID10 != '60047'\")\n",
    "#     .filter(\"GEOID10 != '60035'\").filter(\"GEOID10 != '60110'\")\n",
    "#     .filter(\"GEOID10 != '60118'\").filter(\"GEOID10 != '60143'\")\n",
    "#     .filter(\"GEOID10 != '60191'\").filter(\"GEOID10 != '60106'\")\n",
    "#     .filter(\"GEOID10 != '60523'\").filter(\"GEOID10 != '60441'\")\n",
    "#     .filter(\"GEOID10 != '60448'\").filter(\"GEOID10 != '60449'\")\n",
    "#     .filter(\"GEOID10 != '60491'\").filter(\"GEOID10 != '60417'\")\n",
    "# )\n",
    "\n",
    "zipCodes = (\n",
    "     ee.FeatureCollection('TIGER/2010/ZCTA5').filterBounds(cookCounty)\n",
    "     .filter(ee.Filter.inList(\"GEOID10\",stricter_zip_codes)))\n",
    "\n",
    "# Create a geometry that is the union of all the zip codes in Chicago\n",
    "# I am not sure if this code is necessary\n",
    "zipChiGeom = zipCodes.union();\n",
    "\n",
    "#censusTracts = ee.FeatureCollection(\"TIGER/2010/Tracts_DP1\").filterBounds(cookCounty)\n",
    "\n",
    "# Compiles an array of the GEOID10 (2010 zip codes) column from the zipCodes dataset\n",
    "zipCodeIDs = zipCodes.aggregate_array(\"GEOID10\").getInfo()\n",
    "\n",
    "# To view the final list of zip codes\n",
    "pprint(zipCodeIDs, width=90, compact=True)"
   ]
  },
  {
   "cell_type": "code",
   "execution_count": 7,
   "id": "9689835d",
   "metadata": {},
   "outputs": [],
   "source": [
    "# Subset images with less than 5% cloud cover, then subset those which intersect Cook County.\n",
    "# This isn't strictly necessary, since we will just filter out everything which does not intersect\n",
    "# Chicago zip codes later on, but it reduces the processing workload of the computer w/o affecting the final result\n",
    "# I'm actually not even sure if this filterBounds function works, but do not have time to check\n",
    "clouds = col_sent.filter(ee.Filter.lt('CLOUDY_PIXEL_PERCENTAGE', 5)).filterBounds(cookCounty)\n",
    "\n",
    "# Adjust chosen bands to anything you want, and the featurization will flow from it\n",
    "# We choose the red, noninfrared, green, and blue bands. Learn more at \n",
    "# https://developers.google.com/earth-engine/datasets/catalog/COPERNICUS_S2_SR#bands\n",
    "chosen_bands = ['B2', 'B3', 'B4', 'B8']\n",
    "\n",
    "# Select only desired bands from the image \n",
    "bands = clouds.select(chosen_bands)\n",
    "# bands contains all sentinel images which satisfied the above two filters\n",
    "\n",
    "# Sort the freshly stripped images by CLOUD_COVER variable.\n",
    "# Note: This is not the same functionas the pandas sort function, and in general earth engine uses all unique fns.\n",
    "s = bands.sort('CLOUD_COVER')\n",
    "\n",
    "# Apply earth engine's reduce function (really, a sequence of 4 fns.: reduce(ee.Reducer.statistic()))\n",
    "# To apply a statistical calculation to all of the columns of data stored in the earth engine object\n",
    "scene = s.reduce(ee.Reducer.median())\n",
    "# Get metadata on all images in \"s\" imageCollection\n",
    "# s.getInfo()"
   ]
  },
  {
   "cell_type": "code",
   "execution_count": 36,
   "id": "2c0a87fd",
   "metadata": {},
   "outputs": [],
   "source": [
    "# Apply the same filters as above, but only to the Near Infared Band (NIR). This code then takes the median of \n",
    "# this band over the course of the year, so that the final NDVI value will be a median. This code could be replaced \n",
    "# by the simple .median() function, or by the .[statistic] function for a number of statistics, which is just a \n",
    "# simplified version of the .reduce(ee.Reducer.[statistic]) function. We had to do this calculation now, \n",
    "# rather than after producing the NDVI object, in order to perform basic arithmetic operations on the \n",
    "# imageCollections restricted to these bands, because unlike arrays or vectors in pandas, basic arithmetic \n",
    "# operations do not work on imageCollections\n",
    "nir = clouds.select(['B8']).reduce(ee.Reducer.median())\n",
    "\n",
    "# Do the same for the red band\n",
    "red = clouds.select(['B4']).reduce(ee.Reducer.median())\n",
    "\n",
    "# Calculate NDVI (Normalized Difference Vegetation Index) and restrict it to the polygon that is made from\n",
    "# the union of all Chicago zip codes\n",
    "numer = nir.add(red)\n",
    "denom = nir.subtract(red)\n",
    "ndvi = denom.divide(numer)\n",
    "\n",
    "# Select only the NDVI values from areas which intersect the areas covered by the Chicago zip codes\n",
    "# determined above\n",
    "ndvi_Chi = ndvi.clip(zipCodes.geometry())\n",
    "\n",
    "# Could have also successfully run\n",
    "# ndvi_Chi = ndvi.clip(zipChiGeom.geometry()), but again I'm not sure if the zipChiGeom variable is necessary"
   ]
  },
  {
   "cell_type": "markdown",
   "id": "77107667",
   "metadata": {},
   "source": [
    "The below code is for loading and manipulating Land Surface Temperature data."
   ]
  },
  {
   "cell_type": "code",
   "execution_count": 9,
   "id": "1f2746b1",
   "metadata": {},
   "outputs": [],
   "source": [
    "# A lot of the code in this section is copied from \n",
    "# https://developers.google.com/earth-engine/tutorials/community/ph-ug-temp\n",
    "\n",
    "# Load dataset and select the year 2021 and the boundary CookCounty (the second part did not work)\n",
    "surfTemp = ee.ImageCollection('MODIS/006/MOD11A2').filterDate('2021-01-01', '2022-01-01').filterBounds(zipCodes)\n",
    "landSurfaceTemperature = surfTemp.select('LST_Day_1km');\n",
    "landSurfaceTemperatureVis = {\n",
    "  'min': 13000.0,\n",
    "  'max': 16500.0,\n",
    "  'palette': [\n",
    "    '040274', '040281', '0502a3', '0502b8', '0502ce', '0502e6',\n",
    "    '0602ff', '235cb1', '307ef3', '269db1', '30c8e2', '32d3ef',\n",
    "    '3be285', '3ff38f', '86e26f', '3ae237', 'b5e22e', 'd6e21f',\n",
    "    'fff705', 'ffd611', 'ffb613', 'ff8b13', 'ff6e08', 'ff500d',\n",
    "    'ff0000', 'de0101', 'c21301', 'a71001', '911003'\n",
    "  ]}"
   ]
  },
  {
   "cell_type": "code",
   "execution_count": 31,
   "id": "138348aa",
   "metadata": {},
   "outputs": [],
   "source": [
    "# This is for gettting just one (hopefully representative) image from an entire year's worth of \n",
    "# earthengine images. \n",
    "# Please feel free to adjust the statistic used to produce that aggregate image.\n",
    "# Note that there are two datasets for land surface temp.; one is an 8-day mean of daily values and one comprises\n",
    "# the daily vaules themselves. Access these and other datasets of interest at \n",
    "# https://developers.google.com/earth-engine/datasets/catalog/modis\n",
    "\n",
    "LST_median = landSurfaceTemperature.median()\n",
    "\n",
    "# Select only the median LST values from areas which intersect the areas covered by the Chicago zip codes\n",
    "# determined above. This code can be repeated for any of the aggregated images, or for the nonaggregated \n",
    "# imageCollection.\n",
    "LST_median = LST_median.clip(zipCodes.geometry())\n",
    "\n",
    "LST_mean = landSurfaceTemperature.mean()\n",
    "\n",
    "LST_max = landSurfaceTemperature.max()\n",
    "\n",
    "LST_min = landSurfaceTemperature.min()"
   ]
  },
  {
   "cell_type": "code",
   "execution_count": 25,
   "id": "fb677c7f",
   "metadata": {},
   "outputs": [
    {
     "data": {
      "application/vnd.jupyter.widget-view+json": {
       "model_id": "ebbf7618b31c4e63b9fb2119ad46c238",
       "version_major": 2,
       "version_minor": 0
      },
      "text/plain": [
       "Map(center=[41.89520774043857, -87.64615767216159], controls=(WidgetControl(options=['position', 'transparent_…"
      ]
     },
     "metadata": {},
     "output_type": "display_data"
    }
   ],
   "source": [
    "# For a greenspace map:\n",
    "\n",
    "# Overview of code:\n",
    "# Generate a map, add the ndvi as a layer, then center the map on Cook County, and add Chicago's zip codes\n",
    "# as a layer\n",
    "\n",
    "# Huge thanks to Matheu for figuring out how to do this\n",
    "\n",
    "# Define the visual parameters (visParams): basically, just a map from numbers (in this case, NDVI Chicago scores) \n",
    "# to colors (the three parameters basically define a color for the lowest possible value and one for the final \n",
    "# value — I'm not sure what the third one does; you can play around with these assignments using hexadecimal colors, \n",
    "# which can be referenced at https://encycolorpedia.com/000fff).\n",
    "# These visParams are blue, white, green.\n",
    "ndviVP = {'min': -1, 'max': 1, 'palette': ['000FFF', 'FFFFFF', '00FF00']}\n",
    "\n",
    "# Load the map.\n",
    "fmap = geemap.Map()\n",
    "\n",
    "# Add the layer with greenspace restricted to Chicago, called ndviChi, with visParams as defined above and entitled\n",
    "# \"Scene 1\"\n",
    "fmap.addLayer(ndvi_Chi, ndviVP, 'Scene 1')\n",
    "\n",
    "# Center the map output on Cook County\n",
    "fmap.centerObject(cookCounty, 9)\n",
    "\n",
    "# This code adds a layer drawing and shading Cook County, which is neither necessary for helpful for our purposes\n",
    "# at this point. Note that Cook county is a municipal boundary restricted to the state of Illinois, but actually\n",
    "# overlaps some zip codes in Indiana, and furthermore is much larger than the city of Chicago itself.\n",
    "# fmap.addLayer(cookCounty)\n",
    "\n",
    "# This code draws the zip code boundaries on the map. The first input of the draw function determines the color of \n",
    "# the lines, the second determines (?), and the third determines the width of the lines. Learn more at\n",
    "# https://developers.google.com/earth-engine/guides/feature_collections_visualizing.\n",
    "fmap.addLayer(zipCodes.draw('000000', 0, 1))\n",
    "\n",
    "# This code produces the map in the code window.\n",
    "fmap"
   ]
  },
  {
   "cell_type": "code",
   "execution_count": null,
   "id": "1fec8ecf",
   "metadata": {},
   "outputs": [],
   "source": [
    "# For a map of LST or any other dataset loaded from MODIS:\n",
    "\n",
    "# Load the map\n",
    "fmap = geemap.Map()\n",
    "\n",
    "# This centers the map on Cook County and determines the zoom level of the initial image\n",
    "fmap.centerObject(cookCounty, 9)\n",
    "\n",
    "# This code simply maps the first measurement in the sequence of 8-day average measurements in the \n",
    "# landSurfaceTemperature dataset. In our case, that day was in January, so the surface temperatures \n",
    "# were obviously quite cold. The first argument to the addLayer function is an image or an imageCollection, \n",
    "# the next is visParams, and the third is the name of the layer, something that you decide.\n",
    "# fmap.addLayer(\n",
    "#     landSurfaceTemperature, landSurfaceTemperatureVis,\n",
    "#     'Land Surface Temperature')\n",
    "\n",
    "# This code, which is more reasonable, adds a layer with the median LST measurement for every pixel from all of\n",
    "# the 8-day measurements in the year-long dataset (could have chosen 10-year, or anytime back to when Google \n",
    "# started recording data).\n",
    "# Note:: Should change the visParams to be more interesting/visible, or figure out how to remove the shading caused \n",
    "# by adding the zip codes.\n",
    "fmap.addLayer(\n",
    "    LST_median, landSurfaceTemperatureVis,\n",
    "    'Land Surface Temperature')\n",
    "\n",
    "# I'm not sure what this code does but it is probably from the Uganda or Lyon examples in the EarthEngine tutorials\n",
    "# lst_urban_point = ee.lst.mean().sample(cookCounty, scale).first().get('LST_Day_1km').getInfo()\n",
    "# Adds the zip codes — more details above\n",
    "fmap.addLayer(zipCodes.draw('000000', 0, 1))\n",
    "\n",
    "# fmap.addLayer()\n",
    "fmap"
   ]
  },
  {
   "cell_type": "code",
   "execution_count": 38,
   "id": "7e723fb7",
   "metadata": {},
   "outputs": [
    {
     "name": "stdout",
     "output_type": "stream",
     "text": [
      "Computing statistics ...\n",
      "Generating URL ...\n",
      "Downloading data from https://earthengine.googleapis.com/v1alpha/projects/earthengine-legacy/tables/85fa7aebda2d78bfc8a1b7369ef28fb3-e68590fad4d253aef1702dd67144acae:getFeatures\n",
      "Please wait ...\n",
      "Data downloaded to /Users/cweis22/Downloads/chi_ndvi_means.csv\n"
     ]
    }
   ],
   "source": [
    "# This code will download a csv file containing the data that you select in the geemap.zonal() function\n",
    "# to your Downloads folder, or to whichever folder you specify in the out_dir function.\n",
    "\n",
    "# Another huge thank you to Matheu for figuring out how to do this.\n",
    "\n",
    "# The code in this block has been pre-specified to download a csv of median NDVI values\n",
    "# By the way, if anyone is curious as to why NDVI equates to greenspace, it has to do with the light emitted by \n",
    "# plants, but you should google around to learn more\n",
    "\n",
    "# Specify final location of the csv file\n",
    "out_dir = os.path.join(os.path.expanduser('~'), 'Downloads')\n",
    "\n",
    "# Specify the name/path of the file itself\n",
    "# It would be smart to adjust this name based on location, data, and statistic; e.g. \"nyc_ndvi_max.csv\"\n",
    "out_stats = os.path.join(out_dir, 'chi_ndvi_medians.csv')\n",
    "\n",
    "# Create the out_dir location on your computer if it does not already exist\n",
    "if not os.path.exists(out_dir):\n",
    "    os.makedirs(out_dir)\n",
    "\n",
    "# This code computes a statistic based on a polygon (in this case, Chicago zip codes) from a given stationary \n",
    "# (not time-dependent) dataset (in this case, the ndvi_Chi dataset created above)\n",
    "# Allowed output formats: csv, shp, json, kml, kmz\n",
    "# Allowed statistics type: MEAN, MAXIMUM, MINIMUM, MEDIAN, STD, MIN_MAX, VARIANCE, SUM\n",
    "geemap.zonal_statistics(ndvi_Chi, zipCodes, out_stats, statistics_type='MEDIAN', scale=1000)\n"
   ]
  },
  {
   "cell_type": "code",
   "execution_count": 27,
   "id": "3e72f7b1",
   "metadata": {},
   "outputs": [
    {
     "name": "stdout",
     "output_type": "stream",
     "text": [
      "Computing statistics ...\n",
      "Generating URL ...\n",
      "Downloading data from https://earthengine.googleapis.com/v1alpha/projects/earthengine-legacy/tables/ea16a1c61975fbcb45f2f67c6c41e813-59e1af2d82a5468716b454c1a126f3ba:getFeatures\n",
      "Please wait ...\n",
      "Data downloaded to /Users/cweis22/Downloads/chi_ndvi_stats.csv\n"
     ]
    }
   ],
   "source": [
    "# This is the same code as above, but for downloading median LST values\n",
    "    \n",
    "out_dir = os.path.join(os.path.expanduser('~'), 'Downloads')\n",
    "out_stats = os.path.join(out_dir, 'chi_lst_medians.csv')\n",
    "\n",
    "if not os.path.exists(out_dir):\n",
    "    os.makedirs(out_dir)\n",
    "\n",
    "# Allowed output formats: csv, shp, json, kml, kmz\n",
    "# Allowed statistics type: MEAN, MAXIMUM, MINIMUM, MEDIAN, STD, MIN_MAX, VARIANCE, SUM\n",
    "\n",
    "geemap.zonal_statistics(landSurfaceTemperature, zipCodes, out_stats, statistics_type='MEDIAN', scale=1000)\n"
   ]
  },
  {
   "cell_type": "code",
   "execution_count": null,
   "id": "e98142ae",
   "metadata": {},
   "outputs": [],
   "source": []
  }
 ],
 "metadata": {
  "kernelspec": {
   "display_name": "Python 3 (ipykernel)",
   "language": "python",
   "name": "python3"
  },
  "language_info": {
   "codemirror_mode": {
    "name": "ipython",
    "version": 3
   },
   "file_extension": ".py",
   "mimetype": "text/x-python",
   "name": "python",
   "nbconvert_exporter": "python",
   "pygments_lexer": "ipython3",
   "version": "3.7.11"
  }
 },
 "nbformat": 4,
 "nbformat_minor": 5
}

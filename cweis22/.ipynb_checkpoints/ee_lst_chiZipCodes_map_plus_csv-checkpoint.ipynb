{
 "cells": [
  {
   "cell_type": "code",
   "execution_count": 2,
   "id": "8a607ede",
   "metadata": {},
   "outputs": [],
   "source": [
    "import ee\n",
    "import pandas as pd\n",
    "import numpy as np\n",
    "import matplotlib.pyplot as plt\n",
    "import time\n",
    "from tqdm.notebook import tqdm, trange\n",
    "import tqdm\n",
    "from pprint import pprint \n",
    "import statsmodels.api as sm\n",
    "import math\n",
    "import geemap\n",
    "import os\n",
    "\n",
    "from IPython.display import Image\n",
    "\n",
    "import folium\n",
    "from folium import plugins\n",
    "import importlib\n",
    "\n",
    "import geopandas as gpd\n",
    "from PIL import Image"
   ]
  },
  {
   "cell_type": "code",
   "execution_count": 74,
   "id": "54308a5f",
   "metadata": {},
   "outputs": [
    {
     "data": {
      "text/html": [
       "<p>To authorize access needed by Earth Engine, open the following\n",
       "        URL in a web browser and follow the instructions:</p>\n",
       "        <p><a href=https://accounts.google.com/o/oauth2/auth?client_id=517222506229-vsmmajv00ul0bs7p89v5m89qs8eb9359.apps.googleusercontent.com&scope=https%3A%2F%2Fwww.googleapis.com%2Fauth%2Fearthengine+https%3A%2F%2Fwww.googleapis.com%2Fauth%2Fdevstorage.full_control&redirect_uri=urn%3Aietf%3Awg%3Aoauth%3A2.0%3Aoob&response_type=code&code_challenge=raSKDbJlQwZnLagxNWvaqNNUJfaE8B_SPSWEEqmxp_c&code_challenge_method=S256>https://accounts.google.com/o/oauth2/auth?client_id=517222506229-vsmmajv00ul0bs7p89v5m89qs8eb9359.apps.googleusercontent.com&scope=https%3A%2F%2Fwww.googleapis.com%2Fauth%2Fearthengine+https%3A%2F%2Fwww.googleapis.com%2Fauth%2Fdevstorage.full_control&redirect_uri=urn%3Aietf%3Awg%3Aoauth%3A2.0%3Aoob&response_type=code&code_challenge=raSKDbJlQwZnLagxNWvaqNNUJfaE8B_SPSWEEqmxp_c&code_challenge_method=S256</a></p>\n",
       "        <p>The authorization workflow will generate a code, which you\n",
       "        should paste in the box below</p>\n",
       "        "
      ],
      "text/plain": [
       "<IPython.core.display.HTML object>"
      ]
     },
     "metadata": {},
     "output_type": "display_data"
    },
    {
     "name": "stdout",
     "output_type": "stream",
     "text": [
      "Enter verification code: 4/1AX4XfWhhycp9WFYWMnKU4M-f9fypP7qmvFvMdHLXpPDaedD8h40KUHR0hok\n",
      "\n",
      "Successfully saved authorization token.\n"
     ]
    }
   ],
   "source": [
    "ee.Authenticate()"
   ]
  },
  {
   "cell_type": "code",
   "execution_count": 3,
   "id": "337d049a",
   "metadata": {},
   "outputs": [],
   "source": [
    "ee.Initialize()"
   ]
  },
  {
   "cell_type": "code",
   "execution_count": 4,
   "id": "d913af29",
   "metadata": {},
   "outputs": [],
   "source": [
    "col_sent = ee.ImageCollection(\"COPERNICUS/S2_SR\")"
   ]
  },
  {
   "cell_type": "code",
   "execution_count": 94,
   "id": "fcc75200",
   "metadata": {
    "scrolled": true
   },
   "outputs": [
    {
     "name": "stdout",
     "output_type": "stream",
     "text": [
      "['60636', '60601', '60602', '60603', '60604', '60606', '60607', '60612', '60618', '60619',\n",
      " '60621', '60631', '60638', '60639', '60641', '60645', '60646', '60651', '60652', '60654',\n",
      " '60655', '60656', '60661', '60707', '60647', '60659', '60609', '60634', '60629', '60624',\n",
      " '60626', '60827', '60643', '60622', '60637', '60610', '60657', '60615', '60614', '60640',\n",
      " '60632', '60653', '60617', '60613', '60611', '60628', '60630', '60608', '60660', '60642',\n",
      " '60605', '60633', '60616', '60625', '60620', '60649', '60623', '60644']\n"
     ]
    }
   ],
   "source": [
    "# Isolate Cook County from the Census collection\n",
    "counties = ee.FeatureCollection('TIGER/2018/Counties')\n",
    "cookCounty = counties.filter(ee.Filter.eq(\"GEOID\", '17031'))\n",
    "\n",
    "# This is a list of the 67 zip codes that are accepted to make up Chicago\n",
    "# strict_zip_codes = list(['60007','60018','60068','60106','60131','60176','60601','60602','60603','60604','60605','60606',\n",
    "#                '60607','60608','60609','60610','60611','60612','60613','60614','60615','60616','60617','60618',\n",
    "#                '60619','60620','60621','60622','60623','60624','60625','60626','60628','60629','60630','60631',\n",
    "#                '60632','60633','60634','60636','60637','60638','60639','60640','60641','60642','60643','60644',\n",
    "#                '60645','60646','60647','60649','60651','60652','60653','60654','60655','60656','60657','60659',\n",
    "#                '60660','60661','60706','60707','60714','60804','60827'])\n",
    "\n",
    "# This is a list of the zip codes that show up on a map of Chicago\n",
    "# Note: Up to 60601 in the above list includes zip codes west of and around O'Hare, \n",
    "# which is 60666 in most maps but does not have its own zip code in TIGER/2018/Counties\n",
    "# and was therefore excluded from this list in order to make as close to a visualization of strictly Chicago as possible\n",
    "stricter_zip_codes = list(['60601','60602','60603','60604','60605','60606',\n",
    "               '60607','60608','60609','60610','60611','60612','60613','60614','60615','60616','60617','60618',\n",
    "               '60619','60620','60621','60622','60623','60624','60625','60626','60628','60629','60630','60631',\n",
    "               '60632','60633','60634','60636','60637','60638','60639','60640','60641','60642','60643','60644',\n",
    "               '60645','60646','60647','60649','60651','60652','60653','60654','60655','60656','60657','60659',\n",
    "               '60660','60661','60707','60827','60666'])\n",
    "\n",
    "# Get all US zip codes, then restrict to those that intersect with Cook County, and then\n",
    "# filter out those that don't overlap at all but only touch on the boundary\n",
    "# (e.g. some adjacent zip codes in Illinois and Indiana)\n",
    "# Commenting this to form a more strict set of zip codes\n",
    "# zipCodes = (\n",
    "#     ee.FeatureCollection('TIGER/2010/ZCTA5').filterBounds(cookCounty)\n",
    "#     .filter(\"GEOID10 != '46311'\").filter(\"GEOID10 != '46324'\")\n",
    "#     .filter(\"GEOID10 != '46321'\").filter(\"GEOID10 != '46327'\")\n",
    "#     .filter(\"GEOID10 != '46320'\").filter(\"GEOID10 != '60047'\")\n",
    "#     .filter(\"GEOID10 != '60035'\").filter(\"GEOID10 != '60110'\")\n",
    "#     .filter(\"GEOID10 != '60118'\").filter(\"GEOID10 != '60143'\")\n",
    "#     .filter(\"GEOID10 != '60191'\").filter(\"GEOID10 != '60106'\")\n",
    "#     .filter(\"GEOID10 != '60523'\").filter(\"GEOID10 != '60441'\")\n",
    "#     .filter(\"GEOID10 != '60448'\").filter(\"GEOID10 != '60449'\")\n",
    "#     .filter(\"GEOID10 != '60491'\").filter(\"GEOID10 != '60417'\")\n",
    "# )\n",
    "\n",
    "zipCodes = (\n",
    "     ee.FeatureCollection('TIGER/2010/ZCTA5').filterBounds(cookCounty)\n",
    "     .filter(ee.Filter.inList(\"GEOID10\",stricter_zip_codes)))\n",
    "\n",
    "# Create a geometry that is the union of all the zip codes in Chicago\n",
    "zipChiGeom = zipCodes.union();\n",
    "#censusTracts = ee.FeatureCollection(\"TIGER/2010/Tracts_DP1\").filterBounds(cookCounty)\n",
    "\n",
    "zipCodeIDs = zipCodes.aggregate_array(\"GEOID10\").getInfo()\n",
    "pprint(zipCodeIDs, width=90, compact=True)\n"
   ]
  },
  {
   "cell_type": "code",
   "execution_count": null,
   "id": "3dd9ca70",
   "metadata": {},
   "outputs": [],
   "source": []
  },
  {
   "cell_type": "code",
   "execution_count": 95,
   "id": "03b74a87",
   "metadata": {},
   "outputs": [],
   "source": [
    "# Subset images with less than 5% cloud cover, then subset those which intersect the \n",
    "# lower left corner of the rectangle 'poly' we've just defined above.\n",
    "clouds = col_sent.filter(ee.Filter.lt('CLOUDY_PIXEL_PERCENTAGE', 5)).filterBounds(cookCounty)\n",
    "\n",
    "# Adjust chosen bands to anything you want, and the featurization will flow from it\n",
    "chosen_bands = ['B2', 'B3', 'B4', 'B8']\n",
    "\n",
    "# choose only desired bands from the image \n",
    "bands = clouds.select(chosen_bands)\n",
    "s = bands.sort('CLOUD_COVER')\n",
    "# s contains all sentinel images which satisfied the above two filters \n",
    "\n",
    "# Option 2:\n",
    "scene = s.reduce(ee.Reducer.median())"
   ]
  },
  {
   "cell_type": "code",
   "execution_count": 96,
   "id": "2ee9958a",
   "metadata": {},
   "outputs": [],
   "source": [
    "# Applying the same filters as above, but only to the Near Infared Band (NIR):\n",
    "nir = clouds.select(['B8']).reduce(ee.Reducer.median())\n",
    "\n",
    "# Do the same for the red band\n",
    "red = clouds.select(['B4']).reduce(ee.Reducer.median())\n",
    "\n",
    "# Calculate NDVI (Normalized Difference Vegetation Index) and restrict it to the polygon that is made from\n",
    "# the union of all Chicago zip codes\n",
    "numer = nir.add(red)\n",
    "denom = nir.subtract(red)\n",
    "\n",
    "ndvi = denom.divide(numer)\n",
    "ndvi_Chi = ndvi.clip(zipChiGeom.geometry())"
   ]
  },
  {
   "cell_type": "code",
   "execution_count": 97,
   "id": "76db1975",
   "metadata": {
    "scrolled": false
   },
   "outputs": [
    {
     "data": {
      "application/vnd.jupyter.widget-view+json": {
       "model_id": "06adf80c78c04384b904c7956e812167",
       "version_major": 2,
       "version_minor": 0
      },
      "text/plain": [
       "Map(center=[41.89520774043857, -87.64615767216159], controls=(WidgetControl(options=['position', 'transparent_…"
      ]
     },
     "metadata": {},
     "output_type": "display_data"
    }
   ],
   "source": [
    "# Generate a map, add the ndvi as a layer, then center the map on Cook County, and add Chicago's zip codes\n",
    "# as a layer\n",
    "\n",
    "ndviVP = {'min': -1, 'max': 1, 'palette': ['00FF00', 'FFFFFF', '00FF00']}\n",
    "\n",
    "# # Create an empty image into which to paint the features, cast to byte.\n",
    "# empty = ee.Image().byte()\n",
    "\n",
    "# # Paint all the polygon edges with the same number and width, display.\n",
    "# outline = empty.paint({\n",
    "#   zipCodes,\n",
    "#   1,\n",
    "#   3\n",
    "# })\n",
    "\n",
    "fmap = geemap.Map()\n",
    "fmap.addLayer(ndvi_Chi, ndviVP, 'Scene 1')\n",
    "fmap.centerObject(cookCounty, 10)\n",
    "#fmap.addLayer(cookCounty)\n",
    "fmap.addLayer(zipCodes.draw('000000', 0, 1))\n",
    "#fmap.addLayer(outline, {palette: 'FF0000'}, 'edges');\n",
    "fmap"
   ]
  },
  {
   "cell_type": "code",
   "execution_count": 8,
   "id": "673db73b",
   "metadata": {},
   "outputs": [
    {
     "name": "stdout",
     "output_type": "stream",
     "text": [
      "Computing statistics ...\n",
      "Generating URL ...\n",
      "Downloading data from https://earthengine.googleapis.com/v1alpha/projects/earthengine-legacy/tables/a8997a7e48310b68b0a2ea836ab35044-ac258e1f47ad994e1231b848d869c9f5:getFeatures\n",
      "Please wait ...\n",
      "Data downloaded to /Users/cweis22/Downloads/chi_ndvi_stats.csv\n"
     ]
    }
   ],
   "source": [
    "# RUNNING THIS WILL DOWNLOAD A CSV CONTAINING MEAN NDVI BY ZIP CODE IN COOK COUNTY\n",
    "# TO YOUR PERSONAL DOWNLOADS FOLDER. YOU CAN ALTERNATIVELY JUST COPY THE ndvi_chiZip_dataset.csv THAT IS\n",
    "# IN MY FOLDER TO YOUR OWN ;).\n",
    "    \n",
    "out_dir = os.path.join(os.path.expanduser('~'), 'Downloads')\n",
    "out_stats = os.path.join(out_dir, 'chi_ndvi_stats.csv')\n",
    "\n",
    "if not os.path.exists(out_dir):\n",
    "    os.makedirs(out_dir)\n",
    "\n",
    "# Allowed output formats: csv, shp, json, kml, kmz\n",
    "# Allowed statistics type: MEAN, MAXIMUM, MINIMUM, MEDIAN, STD, MIN_MAX, VARIANCE, SUM\n",
    "geemap.zonal_statistics(ndvi_Chi, zipCodes, out_stats, statistics_type='MEAN', scale=1000)"
   ]
  },
  {
   "cell_type": "code",
   "execution_count": null,
   "id": "23f4e49d",
   "metadata": {},
   "outputs": [],
   "source": [
    "dataset = ee.ImageCollection('MODIS/061/MOD11A1').filter(ee.Filter.date('2018-01-01', '2018-05-01'))\n",
    "landSurfaceTemperature = dataset.select('LST_Day_1km')\n",
    "landSurfaceTemperatureVis = {\n",
    "  \"min\": 13000.0,\n",
    "  \"max\": 16500.0,\n",
    "  \"palette\": [\n",
    "    '040274', '040281', '0502a3', '0502b8', '0502ce', '0502e6',\n",
    "    '0602ff', '235cb1', '307ef3', '269db1', '30c8e2', '32d3ef',\n",
    "    '3be285', '3ff38f', '86e26f', '3ae237', 'b5e22e', 'd6e21f',\n",
    "    'fff705', 'ffd611', 'ffb613', 'ff8b13', 'ff6e08', 'ff500d',\n",
    "    'ff0000', 'de0101', 'c21301', 'a71001', '911003'\n",
    "  ],\n",
    "}\n",
    "Map.setCenter(6.746, 46.529, 2)\n",
    "Map.addLayer(\n",
    "    landSurfaceTemperature, landSurfaceTemperatureVis,\n",
    "    'Land Surface Temperature')"
   ]
  }
 ],
 "metadata": {
  "kernelspec": {
   "display_name": "Python 3 (ipykernel)",
   "language": "python",
   "name": "python3"
  },
  "language_info": {
   "codemirror_mode": {
    "name": "ipython",
    "version": 3
   },
   "file_extension": ".py",
   "mimetype": "text/x-python",
   "name": "python",
   "nbconvert_exporter": "python",
   "pygments_lexer": "ipython3",
   "version": "3.7.11"
  }
 },
 "nbformat": 4,
 "nbformat_minor": 5
}

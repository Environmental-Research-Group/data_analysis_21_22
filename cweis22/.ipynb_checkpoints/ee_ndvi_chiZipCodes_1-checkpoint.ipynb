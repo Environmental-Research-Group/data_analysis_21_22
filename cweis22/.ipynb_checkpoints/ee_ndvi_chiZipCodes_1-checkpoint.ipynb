{
 "cells": [
  {
   "cell_type": "code",
   "execution_count": 1,
   "id": "8c0d3d41",
   "metadata": {},
   "outputs": [],
   "source": [
    "import ee\n",
    "import pandas as pd\n",
    "import numpy as np\n",
    "import matplotlib.pyplot as plt\n",
    "import time\n",
    "from tqdm.notebook import tqdm, trange\n",
    "import tqdm\n",
    "from pprint import pprint \n",
    "import statsmodels.api as sm\n",
    "import math\n",
    "import geemap\n",
    "\n",
    "from IPython.display import Image\n",
    "\n",
    "import folium\n",
    "from folium import plugins\n",
    "import importlib\n",
    "\n",
    "import geopandas as gpd\n",
    "from PIL import Image"
   ]
  },
  {
   "cell_type": "code",
   "execution_count": 3,
   "id": "d186baa7",
   "metadata": {},
   "outputs": [
    {
     "data": {
      "text/html": [
       "<p>To authorize access needed by Earth Engine, open the following\n",
       "        URL in a web browser and follow the instructions:</p>\n",
       "        <p><a href=https://accounts.google.com/o/oauth2/auth?client_id=517222506229-vsmmajv00ul0bs7p89v5m89qs8eb9359.apps.googleusercontent.com&scope=https%3A%2F%2Fwww.googleapis.com%2Fauth%2Fearthengine+https%3A%2F%2Fwww.googleapis.com%2Fauth%2Fdevstorage.full_control&redirect_uri=urn%3Aietf%3Awg%3Aoauth%3A2.0%3Aoob&response_type=code&code_challenge=ApoTJEgPYLiBZOlfdoXnyg6OKY_3OT4JDOnVnvfP2Zw&code_challenge_method=S256>https://accounts.google.com/o/oauth2/auth?client_id=517222506229-vsmmajv00ul0bs7p89v5m89qs8eb9359.apps.googleusercontent.com&scope=https%3A%2F%2Fwww.googleapis.com%2Fauth%2Fearthengine+https%3A%2F%2Fwww.googleapis.com%2Fauth%2Fdevstorage.full_control&redirect_uri=urn%3Aietf%3Awg%3Aoauth%3A2.0%3Aoob&response_type=code&code_challenge=ApoTJEgPYLiBZOlfdoXnyg6OKY_3OT4JDOnVnvfP2Zw&code_challenge_method=S256</a></p>\n",
       "        <p>The authorization workflow will generate a code, which you\n",
       "        should paste in the box below</p>\n",
       "        "
      ],
      "text/plain": [
       "<IPython.core.display.HTML object>"
      ]
     },
     "metadata": {},
     "output_type": "display_data"
    },
    {
     "name": "stdout",
     "output_type": "stream",
     "text": [
      "Enter verification code: 4/1AX4XfWiFs8cgtIhsJV9vGrukS1Xc8gq6GUUJhMJ0yEb_xDdKx1xw3NsT8Bg\n",
      "\n",
      "Successfully saved authorization token.\n"
     ]
    }
   ],
   "source": [
    "ee.Authenticate()"
   ]
  },
  {
   "cell_type": "code",
   "execution_count": 2,
   "id": "2623f6de",
   "metadata": {},
   "outputs": [],
   "source": [
    "ee.Initialize()"
   ]
  },
  {
   "cell_type": "code",
   "execution_count": 3,
   "id": "fb9e7e16",
   "metadata": {},
   "outputs": [],
   "source": [
    "# Import Sentinel\n",
    "col_sent = ee.ImageCollection(\"COPERNICUS/S2_SR\")"
   ]
  },
  {
   "cell_type": "code",
   "execution_count": 16,
   "id": "44b5fc7a",
   "metadata": {},
   "outputs": [
    {
     "data": {
      "text/plain": [
       "<ee.imagecollection.ImageCollection at 0x7fb02a510750>"
      ]
     },
     "execution_count": 16,
     "metadata": {},
     "output_type": "execute_result"
    }
   ],
   "source": [
    "col_sent"
   ]
  },
  {
   "cell_type": "code",
   "execution_count": 4,
   "id": "0f71213a",
   "metadata": {},
   "outputs": [],
   "source": [
    "# Isolate Cook County from the Census collection\n",
    "\n",
    "counties = ee.FeatureCollection('TIGER/2018/Counties')\n",
    "cookCounty = counties.filter(ee.Filter.eq(\"GEOID\", '17031'))\n",
    "\n",
    "zipCodes = ee.FeatureCollection('TIGER/2010/ZCTA5').filterBounds(cookCounty)\n",
    "censusTracts = ee.FeatureCollection(\"TIGER/2010/Tracts_DP1\").filterBounds(cookCounty)\n",
    "\n",
    "zipChiGeom = zipCodes.union(100);"
   ]
  },
  {
   "cell_type": "code",
   "execution_count": 5,
   "id": "3505a82d",
   "metadata": {},
   "outputs": [],
   "source": [
    "# Subset images with less than 5% cloud cover, then subset those which intersect Cook County\n",
    "clouds = col_sent.filter(ee.Filter.lt('CLOUDY_PIXEL_PERCENTAGE', \n",
    "                                      5)).filterBounds(cookCounty)\n",
    "\n",
    "# Adjust chosen bands to anything you want, and the featurization will flow from it\n",
    "chosen_bands = ['B2', 'B3', 'B4', 'B8']\n",
    "\n",
    "# choose only desired bands from the image \n",
    "bands = clouds.select(chosen_bands)\n",
    "s = bands.sort('CLOUD_COVER')\n",
    "# s contains all sentinel images which satisfied the above two filters \n",
    "\n",
    "# Option 2:\n",
    "scene = s.reduce(ee.Reducer.median())"
   ]
  },
  {
   "cell_type": "code",
   "execution_count": 14,
   "id": "c8311018",
   "metadata": {},
   "outputs": [],
   "source": [
    "# Applying the same filters as above, but only to the Near Infared Band (NIR):\n",
    "nir = clouds.select(['B8']).reduce(ee.Reducer.median())\n",
    "\n",
    "# Do the same for the red band\n",
    "red = clouds.select(['B4']).reduce(ee.Reducer.median())\n",
    "\n",
    "# Calculate NDVI (Normalized Difference Vegetation Index):\n",
    "numer = nir.add(red)\n",
    "denom = nir.subtract(red)\n",
    "\n",
    "ndvi = denom.divide(numer)\n",
    "ndvi_Chi = ndvi.clip(zipChiGeom.geometry())\n",
    "#masked = ndvi.updateMask(cookCounty)\n",
    "\n",
    "ndviVP = {'min': -1, 'max': 1, 'palette': ['000FFF', 'FFFFFF', '00FF00']}"
   ]
  },
  {
   "cell_type": "code",
   "execution_count": 15,
   "id": "4278f938",
   "metadata": {},
   "outputs": [
    {
     "data": {
      "text/plain": [
       "<ee.image.Image at 0x7faff81778d0>"
      ]
     },
     "execution_count": 15,
     "metadata": {},
     "output_type": "execute_result"
    }
   ],
   "source": [
    "ndvi"
   ]
  },
  {
   "cell_type": "code",
   "execution_count": 7,
   "id": "16206610",
   "metadata": {
    "scrolled": false
   },
   "outputs": [
    {
     "data": {
      "application/vnd.jupyter.widget-view+json": {
       "model_id": "03a323c7eccd463b84104336f42c5e6c",
       "version_major": 2,
       "version_minor": 0
      },
      "text/plain": [
       "Map(center=[41.89520774043857, -87.64615767216159], controls=(WidgetControl(options=['position', 'transparent_…"
      ]
     },
     "metadata": {},
     "output_type": "display_data"
    }
   ],
   "source": [
    "#zipCodes_shp = './ZipShapeFile.shp'\n",
    "#zipCodes = geemap.shp_to_ee(zipCodes_shp)\n",
    "#Map = geemap.Map(location=[lby, lbx], zoom_start=11)\n",
    "fmap = geemap.Map()\n",
    "fmap.addLayer(ndvi_Chi, ndviVP, 'Scene 1')\n",
    "fmap.centerObject(cookCounty, 9)\n",
    "#fmap.addLayer(cookCounty)\n",
    "fmap.addLayer(zipCodes)\n",
    "#fmap.addLayer(zipChiGeom)\n",
    "fmap"
   ]
  },
  {
   "cell_type": "code",
   "execution_count": null,
   "id": "3d7ac63c",
   "metadata": {},
   "outputs": [],
   "source": [
    "# Isolate Cook County from the Census collection\n",
    "counties = ee.FeatureCollection(\"TIGER/2018/Counties\")\n",
    "cookCounty = counties.filter(ee.Filter.eq(\"GEOID\", \"17031\"))\n",
    "zipCodes = ee.FeatureCollection(\"TIGER/2010/ZCTA5\").filterBounds(cookCounty)\n",
    "censusTracts = ee.FeatureCollection(\"TIGER/2010/Tracts_DP1\").filterBounds(cookCounty)\n",
    "# modisNDVI = ee.ImageCollection(“MODIS/MCD43A4_006_NDVI”).filterDate(‘2015-01-01’, ‘2015-03-15’);\n",
    "# create dummy image.\n",
    "stacked_image = ee.Image()\n",
    "# create function to combine all images into one image as bands.\n",
    "def stack_fun(img, stack):\n",
    "    stack = ee.Image(stack)\n",
    "    return stack.addBands(img.select([0], [img.get(\"system:index\")]))\n",
    "                                        \n",
    "def rename_band(img):\n",
    "    return img.select([0], [img.id()])\n",
    "\n",
    "# stack all the images into a single image.\n",
    "stacked_image = ndvi_Chi.map(rename_band).toBands() # iterate(combine, stacked_image);\n",
    "# determine scale to perform reduceRegions.\n",
    "scale = ndvi_Chi.first().projection().nominalScale();\n",
    "# calculate the timeseries for each feature.\n",
    "var ts = ee.Image(stacked_image).reduceRegions({collection: zipCodes, reducer: ee.Reducer.mean(), scale: scale});\n",
    "# print results.\n",
    "print(ts);"
   ]
  }
 ],
 "metadata": {
  "kernelspec": {
   "display_name": "Python 3 (ipykernel)",
   "language": "python",
   "name": "python3"
  },
  "language_info": {
   "codemirror_mode": {
    "name": "ipython",
    "version": 3
   },
   "file_extension": ".py",
   "mimetype": "text/x-python",
   "name": "python",
   "nbconvert_exporter": "python",
   "pygments_lexer": "ipython3",
   "version": "3.7.11"
  }
 },
 "nbformat": 4,
 "nbformat_minor": 5
}

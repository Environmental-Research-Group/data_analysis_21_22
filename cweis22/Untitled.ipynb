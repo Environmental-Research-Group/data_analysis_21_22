{
 "cells": [
  {
   "cell_type": "code",
   "execution_count": 1,
   "id": "87b17f70",
   "metadata": {},
   "outputs": [],
   "source": [
    "# This code is from Dan Nicoale and Michael Franklin's Intro to Data Science 2 Class\n",
    "\n",
    "# Import linear regression package\n",
    "from sklearn.linear_model import LinearRegression"
   ]
  },
  {
   "cell_type": "code",
   "execution_count": null,
   "id": "816d16ea",
   "metadata": {},
   "outputs": [],
   "source": [
    "# Define independent and explanatory variables\n",
    "X = \n",
    "Y = "
   ]
  },
  {
   "cell_type": "code",
   "execution_count": null,
   "id": "aaa2d59a",
   "metadata": {},
   "outputs": [],
   "source": []
  },
  {
   "cell_type": "code",
   "execution_count": null,
   "id": "bb4ff137",
   "metadata": {},
   "outputs": [],
   "source": [
    "# Create regression vector to store regression coefficients\n",
    "regress1 = LinearRegression()  \n",
    "regress1.fit(X, Y)"
   ]
  },
  {
   "cell_type": "code",
   "execution_count": null,
   "id": "f30d4be5",
   "metadata": {},
   "outputs": [],
   "source": [
    "# Retrieve the intercept:\n",
    "print(regress1.intercept_)\n",
    "\n",
    "# Retrieve the slope coefficient:\n",
    "print(regress1.coef_)"
   ]
  },
  {
   "cell_type": "code",
   "execution_count": null,
   "id": "ed606852",
   "metadata": {},
   "outputs": [],
   "source": [
    "# Run a "
   ]
  }
 ],
 "metadata": {
  "kernelspec": {
   "display_name": "Python 3 (ipykernel)",
   "language": "python",
   "name": "python3"
  },
  "language_info": {
   "codemirror_mode": {
    "name": "ipython",
    "version": 3
   },
   "file_extension": ".py",
   "mimetype": "text/x-python",
   "name": "python",
   "nbconvert_exporter": "python",
   "pygments_lexer": "ipython3",
   "version": "3.7.11"
  }
 },
 "nbformat": 4,
 "nbformat_minor": 5
}

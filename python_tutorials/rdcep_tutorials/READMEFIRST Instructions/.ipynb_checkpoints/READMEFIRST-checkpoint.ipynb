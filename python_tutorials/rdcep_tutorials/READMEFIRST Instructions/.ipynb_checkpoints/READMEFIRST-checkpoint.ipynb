{
 "cells": [
  {
   "cell_type": "markdown",
   "metadata": {
    "id": "GuXSNxtBRQWn"
   },
   "source": [
    "# Setup Instructions"
   ]
  },
  {
   "cell_type": "markdown",
   "metadata": {
    "id": "_XdmXkUVRQWr"
   },
   "source": [
    "## Overview\n",
    "*This is a modified version of the setup instructions from the Software Carpentry lesson: Programming with Python. Copyright by Software Carpentry http://software-carpentry.org/.*\n",
    "\n",
    "This lesson is designed to be run on a personal computer. All of the software and data used in this lesson are freely available online, and instructions on how to obtain them are provided below."
   ]
  },
  {
   "cell_type": "markdown",
   "metadata": {
    "id": "ZbviJ0iRRQWs"
   },
   "source": [
    "## Install Python\n",
    "In this lesson, we will be using Python 3 with some of its most popular scientific libraries. Although one can install a plain-vanilla Python and all required libraries by hand, we recommend installing Anaconda, a Python distribution that comes with everything we need for the lesson. If you already have python3 and miniconda, you do not have to install Anaconda.\n",
    "\n",
    "* If you do not have python on your local machine, install it using Anaconda3: https://www.anaconda.com/products/individual *** Make sure you have enough space on your computer to install this application, otherwise the installation will fail.***\n",
    "\n",
    "* Click \"download\" and then click the link that makes sense for your operating system. You likely have a 64-bit machine and want to use the graphical installer unless you are very familiar with the command line and how your computer works"
   ]
  },
  {
   "cell_type": "markdown",
   "metadata": {
    "id": "dgVRHByfRQWt"
   },
   "source": [
    "## Obtain lesson materials (Skip if you just downloaded the files)\n",
    "1. Download intro_to_scientific_computing-materials.zip. **(\"Download All Files\" link on the main page)**\n",
    "2. Create a folder called intro-python on your Desktop.\n",
    "3. Move downloaded files to intro-python.\n",
    "4. Unzip the files.\n",
    "You should see two folders called data and code in the intro-python directory on your Desktop."
   ]
  },
  {
   "cell_type": "markdown",
   "metadata": {
    "id": "G_GWNiCaRQWt"
   },
   "source": [
    "## Launch Python interface\n",
    "To start working with Python, we need to launch a program that will interpret and execute our Python commands. We recommend using the Jupyter Notebook interface. "
   ]
  },
  {
   "cell_type": "markdown",
   "metadata": {
    "id": "hzsQXbqnRQWu"
   },
   "source": [
    "### Jupyter Notebook\n",
    "A Jupyter Notebook provides a browser-based interface for working with Python. If you installed Anaconda, you can launch a notebook in two ways:  **(you only need to complete one method)**\n",
    "\n",
    "\n",
    "#### 1. Anaconda Navigator\n",
    "Step 1. Launch Anaconda Navigator. It might ask you if you would like to send anonymized usage information to Anaconda developers:\n",
    "![first-launch](anaconda-navigator-first-launch.png)\n",
    "Make your choice and click \"Ok, and do not show again\" button.\n",
    "\n",
    "Step 2. Find the \"Notebook\" tab and click on the \"Launch\" button:\n",
    "![notebook-launch](anaconda-navigator-notebook-launch.png)\n",
    "Anaconda will open a new browser window or tab with a Notebook Dashboard showing you the contents of your Home (or User) folder.\n",
    "\n",
    "Step 3. Navigate to the \"data\" directory by clicking on the directory names leading to it: \"Desktop\", \"intro-python\", then \"data\":\n",
    "![data-directory](jupyter-notebook-data-directory.png)\n",
    "\n",
    "Step 4. Launch the notebook by clicking on the \"New\" button and then selecting \"Python 3\":\n",
    "![launch-notebook](jupyter-notebook-launch-notebook.png)\n",
    "\n",
    "#### 2. Command line (Terminal)\n",
    "Step 1. Navigate to the \"data\" directory:\n",
    "* If you are using a Unix shell application, such as Terminal app in macOS, Console or Terminal in Linux, or Git Bash on Windows, execute the following command:\n",
    "![navigate-unix-shell](command-line-navigate-unix-shell.png)\n",
    "\n",
    "* On Windows, you can use its native Command Prompt program. The easiest way to start it up is pressing **Windows Logo Key+R**, entering \"cmd\", and hitting **Return**. In the Command Prompt, use the following command to navigate to the \"data\" folder:\n",
    "![navigate-windows](command-line-navigate-windows.png)\n",
    "\n",
    "Step 2. Start Jupyter server\n",
    "* Unix shell\n",
    "![startserver-unix-shell](command-line-startserver-unix-shell.png)\n",
    "\n",
    "* Command Prompt (Windows)\n",
    "![startserver-windows](command-line-startserver-windows.png)\n",
    "\n",
    "Step 3. Launch the notebook by clicking on the \"New\" button on the right and selecting \"Python 3\" from the drop-down menu:\n",
    "![launch-notebook](jupyter-notebook-launch-notebook.png)"
   ]
  }
 ],
 "metadata": {
  "colab": {
   "collapsed_sections": [],
   "name": "READMEFIRST.ipynb",
   "provenance": []
  },
  "kernelspec": {
   "display_name": "Python 3",
   "language": "python",
   "name": "python3"
  },
  "language_info": {
   "codemirror_mode": {
    "name": "ipython",
    "version": 3
   },
   "file_extension": ".py",
   "mimetype": "text/x-python",
   "name": "python",
   "nbconvert_exporter": "python",
   "pygments_lexer": "ipython3",
   "version": "3.8.8"
  }
 },
 "nbformat": 4,
 "nbformat_minor": 1
}

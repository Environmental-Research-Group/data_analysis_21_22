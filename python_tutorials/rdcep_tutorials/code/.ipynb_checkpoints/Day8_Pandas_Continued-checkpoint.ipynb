{
 "cells": [
  {
   "cell_type": "markdown",
   "metadata": {
    "id": "S1mIpiLb8z7K"
   },
   "source": [
    "# Day 8: Working With Data in Pandas"
   ]
  },
  {
   "cell_type": "markdown",
   "metadata": {
    "id": "w2YhPW67Y5_v"
   },
   "source": [
    "In Day 6, we learned how to open, view, change and save dataframes. Today we are going to do more data manipulation. "
   ]
  },
  {
   "cell_type": "markdown",
   "metadata": {
    "id": "Z63DM5_y01VI"
   },
   "source": [
    "## Goals for the day:\n",
    "\n",
    "- Do simple math and string manipulation\n",
    "- Work with dictionaries and Pandas\n",
    "- Combine data and work with multiple tables: `merge`, `concatenate`, `append`\n",
    "- Apply functions to and get stats out of data: `map`, `apply`, `applymap`\n",
    "- Analyze data using groupby\n",
    "- Create pivot tables\n",
    "\n",
    "## Functions Learned:\n",
    "- Overview of the data: `describe()`\n",
    "- Add a prefix or suffix to column names: `add_prefix()` or `add_suffix()`\n",
    "- Translate or map values to other values using dictionaries: `map`\n",
    "- Apply a function on a series or a dataframe: `apply`\n",
    "- Apply a function to all the cells in a dataframe: `applymap`\n",
    "- Merge tables from two data sets: `pd.merge`\n",
    "- Combine dataframes with columns with the same names but no data similarity: `concat`\n",
    "\n"
   ]
  },
  {
   "cell_type": "code",
   "execution_count": 1,
   "metadata": {
    "id": "tb9fFHWXJorY"
   },
   "outputs": [],
   "source": [
    "##always start by importing your python libraries\n",
    "\n",
    "#this line will make it so that when we make plots they show up in this notbook\n",
    "%matplotlib inline\n",
    "import matplotlib.pylab as plt\n",
    "import seaborn as sns\n",
    "\n",
    "#the usual \n",
    "import pandas as pd\n",
    "pd.options.mode.chained_assignment = None  # default='warn'\n",
    "import numpy as np"
   ]
  },
  {
   "cell_type": "markdown",
   "metadata": {
    "id": "0kcj1D7PVivw"
   },
   "source": [
    "## 0. Set directory"
   ]
  },
  {
   "cell_type": "code",
   "execution_count": 2,
   "metadata": {
    "id": "4Tm4s2EGcwkY"
   },
   "outputs": [],
   "source": [
    "#this is the specific directory where the data we want to use is stored\n",
    "datadirectory = '../data/'\n",
    "\n",
    "#this is the directory where we want to store the data we finish analyzing\n",
    "data_out_directory='../output/'"
   ]
  },
  {
   "cell_type": "markdown",
   "metadata": {
    "id": "v1ct_a56YzY5"
   },
   "source": [
    "## 8. Basic Math with a dataframe"
   ]
  },
  {
   "cell_type": "markdown",
   "metadata": {
    "id": "thYZGc0Letzr"
   },
   "source": [
    "Remeber the math you learned with numpy, you can do all of that with entire dataframes or specific columns."
   ]
  },
  {
   "cell_type": "code",
   "execution_count": 3,
   "metadata": {
    "colab": {
     "base_uri": "https://localhost:8080/",
     "height": 204
    },
    "executionInfo": {
     "elapsed": 812,
     "status": "ok",
     "timestamp": 1599837950400,
     "user": {
      "displayName": "Maria Hernandez Limon",
      "photoUrl": "https://lh3.googleusercontent.com/a-/AOh14Ghd3PTHlBML4DLlupZiaArIJ8xYakaUbI3sK1QW=s64",
      "userId": "15768601250316805169"
     },
     "user_tz": 300
    },
    "id": "sPGCOzhoeF4v",
    "outputId": "e1eae843-db19-4b1b-eb7e-230a6a88d3fa"
   },
   "outputs": [
    {
     "data": {
      "text/html": [
       "<div>\n",
       "<style scoped>\n",
       "    .dataframe tbody tr th:only-of-type {\n",
       "        vertical-align: middle;\n",
       "    }\n",
       "\n",
       "    .dataframe tbody tr th {\n",
       "        vertical-align: top;\n",
       "    }\n",
       "\n",
       "    .dataframe thead th {\n",
       "        text-align: right;\n",
       "    }\n",
       "</style>\n",
       "<table border=\"1\" class=\"dataframe\">\n",
       "  <thead>\n",
       "    <tr style=\"text-align: right;\">\n",
       "      <th></th>\n",
       "      <th>Number</th>\n",
       "      <th>Name</th>\n",
       "      <th>HP</th>\n",
       "      <th>Attack</th>\n",
       "      <th>Defense</th>\n",
       "    </tr>\n",
       "  </thead>\n",
       "  <tbody>\n",
       "    <tr>\n",
       "      <th>0</th>\n",
       "      <td>1</td>\n",
       "      <td>Bulbasaur</td>\n",
       "      <td>45</td>\n",
       "      <td>49</td>\n",
       "      <td>49</td>\n",
       "    </tr>\n",
       "    <tr>\n",
       "      <th>1</th>\n",
       "      <td>2</td>\n",
       "      <td>Ivysaur</td>\n",
       "      <td>60</td>\n",
       "      <td>62</td>\n",
       "      <td>63</td>\n",
       "    </tr>\n",
       "    <tr>\n",
       "      <th>2</th>\n",
       "      <td>3</td>\n",
       "      <td>Venusaur</td>\n",
       "      <td>80</td>\n",
       "      <td>82</td>\n",
       "      <td>83</td>\n",
       "    </tr>\n",
       "    <tr>\n",
       "      <th>3</th>\n",
       "      <td>3</td>\n",
       "      <td>VenusaurMega Venusaur</td>\n",
       "      <td>80</td>\n",
       "      <td>100</td>\n",
       "      <td>123</td>\n",
       "    </tr>\n",
       "    <tr>\n",
       "      <th>4</th>\n",
       "      <td>4</td>\n",
       "      <td>Charmander</td>\n",
       "      <td>39</td>\n",
       "      <td>52</td>\n",
       "      <td>43</td>\n",
       "    </tr>\n",
       "  </tbody>\n",
       "</table>\n",
       "</div>"
      ],
      "text/plain": [
       "   Number                   Name  HP  Attack  Defense\n",
       "0       1              Bulbasaur  45      49       49\n",
       "1       2                Ivysaur  60      62       63\n",
       "2       3               Venusaur  80      82       83\n",
       "3       3  VenusaurMega Venusaur  80     100      123\n",
       "4       4             Charmander  39      52       43"
      ]
     },
     "execution_count": 3,
     "metadata": {},
     "output_type": "execute_result"
    }
   ],
   "source": [
    "## load in your pokemon dataset but only keep the Name, HP,Attack, Defense columns\n",
    "pokemon=pd.read_csv(datadirectory+'Pokemon.csv', usecols=['Number','Name','HP','Attack','Defense'])\n",
    "pokemon.head()"
   ]
  },
  {
   "cell_type": "code",
   "execution_count": 4,
   "metadata": {
    "colab": {
     "base_uri": "https://localhost:8080/",
     "height": 221
    },
    "executionInfo": {
     "elapsed": 644,
     "status": "ok",
     "timestamp": 1599837952872,
     "user": {
      "displayName": "Maria Hernandez Limon",
      "photoUrl": "https://lh3.googleusercontent.com/a-/AOh14Ghd3PTHlBML4DLlupZiaArIJ8xYakaUbI3sK1QW=s64",
      "userId": "15768601250316805169"
     },
     "user_tz": 300
    },
    "id": "50CVGUlKI5dV",
    "outputId": "afc90882-5f59-483b-b644-c3d693c9a135"
   },
   "outputs": [
    {
     "name": "stdout",
     "output_type": "stream",
     "text": [
      "<class 'pandas.core.frame.DataFrame'>\n",
      "RangeIndex: 800 entries, 0 to 799\n",
      "Data columns (total 5 columns):\n",
      " #   Column   Non-Null Count  Dtype \n",
      "---  ------   --------------  ----- \n",
      " 0   Number   800 non-null    int64 \n",
      " 1   Name     800 non-null    object\n",
      " 2   HP       800 non-null    int64 \n",
      " 3   Attack   800 non-null    int64 \n",
      " 4   Defense  800 non-null    int64 \n",
      "dtypes: int64(4), object(1)\n",
      "memory usage: 31.4+ KB\n"
     ]
    }
   ],
   "source": [
    "pokemon.info()"
   ]
  },
  {
   "cell_type": "markdown",
   "metadata": {
    "id": "e7zM9DzcQTIe"
   },
   "source": [
    "## 8.1 Simple stats"
   ]
  },
  {
   "cell_type": "code",
   "execution_count": 5,
   "metadata": {
    "colab": {
     "base_uri": "https://localhost:8080/"
    },
    "executionInfo": {
     "elapsed": 42210,
     "status": "ok",
     "timestamp": 1599837579930,
     "user": {
      "displayName": "Maria Hernandez Limon",
      "photoUrl": "https://lh3.googleusercontent.com/a-/AOh14Ghd3PTHlBML4DLlupZiaArIJ8xYakaUbI3sK1QW=s64",
      "userId": "15768601250316805169"
     },
     "user_tz": 300
    },
    "id": "p12dGDYdKIUM",
    "outputId": "a5d8573f-b40e-44c1-fffb-024f215f63f4"
   },
   "outputs": [
    {
     "data": {
      "text/plain": [
       "(800, 5)"
      ]
     },
     "execution_count": 5,
     "metadata": {},
     "output_type": "execute_result"
    }
   ],
   "source": [
    "# we can also get info on how much data we have by calling .shape\n",
    "#this returns a tuple with the dimensions of the dataframe\n",
    "#.shape comes from np.shape(something)\n",
    "\n",
    "pokemon.shape"
   ]
  },
  {
   "cell_type": "code",
   "execution_count": 6,
   "metadata": {
    "colab": {
     "base_uri": "https://localhost:8080/"
    },
    "executionInfo": {
     "elapsed": 42204,
     "status": "ok",
     "timestamp": 1599837579931,
     "user": {
      "displayName": "Maria Hernandez Limon",
      "photoUrl": "https://lh3.googleusercontent.com/a-/AOh14Ghd3PTHlBML4DLlupZiaArIJ8xYakaUbI3sK1QW=s64",
      "userId": "15768601250316805169"
     },
     "user_tz": 300
    },
    "id": "Wt9ayD0xzUS6",
    "outputId": "5a575202-086b-41ba-bb2a-d5baf43a0632"
   },
   "outputs": [
    {
     "data": {
      "text/html": [
       "<div>\n",
       "<style scoped>\n",
       "    .dataframe tbody tr th:only-of-type {\n",
       "        vertical-align: middle;\n",
       "    }\n",
       "\n",
       "    .dataframe tbody tr th {\n",
       "        vertical-align: top;\n",
       "    }\n",
       "\n",
       "    .dataframe thead th {\n",
       "        text-align: right;\n",
       "    }\n",
       "</style>\n",
       "<table border=\"1\" class=\"dataframe\">\n",
       "  <thead>\n",
       "    <tr style=\"text-align: right;\">\n",
       "      <th></th>\n",
       "      <th>Number</th>\n",
       "      <th>HP</th>\n",
       "      <th>Attack</th>\n",
       "      <th>Defense</th>\n",
       "    </tr>\n",
       "  </thead>\n",
       "  <tbody>\n",
       "    <tr>\n",
       "      <th>count</th>\n",
       "      <td>800.000000</td>\n",
       "      <td>800.000000</td>\n",
       "      <td>800.000000</td>\n",
       "      <td>800.000000</td>\n",
       "    </tr>\n",
       "    <tr>\n",
       "      <th>mean</th>\n",
       "      <td>362.813750</td>\n",
       "      <td>69.258750</td>\n",
       "      <td>79.001250</td>\n",
       "      <td>73.842500</td>\n",
       "    </tr>\n",
       "    <tr>\n",
       "      <th>std</th>\n",
       "      <td>208.343798</td>\n",
       "      <td>25.534669</td>\n",
       "      <td>32.457366</td>\n",
       "      <td>31.183501</td>\n",
       "    </tr>\n",
       "    <tr>\n",
       "      <th>min</th>\n",
       "      <td>1.000000</td>\n",
       "      <td>1.000000</td>\n",
       "      <td>5.000000</td>\n",
       "      <td>5.000000</td>\n",
       "    </tr>\n",
       "    <tr>\n",
       "      <th>10%</th>\n",
       "      <td>73.900000</td>\n",
       "      <td>40.000000</td>\n",
       "      <td>40.000000</td>\n",
       "      <td>40.000000</td>\n",
       "    </tr>\n",
       "    <tr>\n",
       "      <th>50%</th>\n",
       "      <td>364.500000</td>\n",
       "      <td>65.000000</td>\n",
       "      <td>75.000000</td>\n",
       "      <td>70.000000</td>\n",
       "    </tr>\n",
       "    <tr>\n",
       "      <th>60%</th>\n",
       "      <td>431.400000</td>\n",
       "      <td>71.000000</td>\n",
       "      <td>85.000000</td>\n",
       "      <td>77.000000</td>\n",
       "    </tr>\n",
       "    <tr>\n",
       "      <th>90%</th>\n",
       "      <td>651.100000</td>\n",
       "      <td>100.000000</td>\n",
       "      <td>125.000000</td>\n",
       "      <td>115.000000</td>\n",
       "    </tr>\n",
       "    <tr>\n",
       "      <th>max</th>\n",
       "      <td>721.000000</td>\n",
       "      <td>255.000000</td>\n",
       "      <td>190.000000</td>\n",
       "      <td>230.000000</td>\n",
       "    </tr>\n",
       "  </tbody>\n",
       "</table>\n",
       "</div>"
      ],
      "text/plain": [
       "           Number          HP      Attack     Defense\n",
       "count  800.000000  800.000000  800.000000  800.000000\n",
       "mean   362.813750   69.258750   79.001250   73.842500\n",
       "std    208.343798   25.534669   32.457366   31.183501\n",
       "min      1.000000    1.000000    5.000000    5.000000\n",
       "10%     73.900000   40.000000   40.000000   40.000000\n",
       "50%    364.500000   65.000000   75.000000   70.000000\n",
       "60%    431.400000   71.000000   85.000000   77.000000\n",
       "90%    651.100000  100.000000  125.000000  115.000000\n",
       "max    721.000000  255.000000  190.000000  230.000000"
      ]
     },
     "execution_count": 6,
     "metadata": {},
     "output_type": "execute_result"
    }
   ],
   "source": [
    "### we can run describe and get an overview of the data\n",
    "pokemon.describe([.1,.6,.9])"
   ]
  },
  {
   "cell_type": "code",
   "execution_count": 7,
   "metadata": {
    "colab": {
     "base_uri": "https://localhost:8080/"
    },
    "executionInfo": {
     "elapsed": 42198,
     "status": "ok",
     "timestamp": 1599837579932,
     "user": {
      "displayName": "Maria Hernandez Limon",
      "photoUrl": "https://lh3.googleusercontent.com/a-/AOh14Ghd3PTHlBML4DLlupZiaArIJ8xYakaUbI3sK1QW=s64",
      "userId": "15768601250316805169"
     },
     "user_tz": 300
    },
    "id": "kR6PjFWnytAv",
    "outputId": "ea578905-09c6-4731-abed-b8a3468ec2d1"
   },
   "outputs": [
    {
     "data": {
      "text/plain": [
       "Number     362.81375\n",
       "HP          69.25875\n",
       "Attack      79.00125\n",
       "Defense     73.84250\n",
       "dtype: float64"
      ]
     },
     "execution_count": 7,
     "metadata": {},
     "output_type": "execute_result"
    }
   ],
   "source": [
    "### mean, then select HP\n",
    "##we can also use numpy, on the entire dataframe np.mean(df)\n",
    "pokemon.mean()"
   ]
  },
  {
   "cell_type": "code",
   "execution_count": 8,
   "metadata": {
    "colab": {
     "base_uri": "https://localhost:8080/"
    },
    "executionInfo": {
     "elapsed": 42192,
     "status": "ok",
     "timestamp": 1599837579933,
     "user": {
      "displayName": "Maria Hernandez Limon",
      "photoUrl": "https://lh3.googleusercontent.com/a-/AOh14Ghd3PTHlBML4DLlupZiaArIJ8xYakaUbI3sK1QW=s64",
      "userId": "15768601250316805169"
     },
     "user_tz": 300
    },
    "id": "mC3LAZnV1cOh",
    "outputId": "01d622ce-382e-4b38-c9c0-243ab7cc1be4"
   },
   "outputs": [
    {
     "data": {
      "text/plain": [
       "Number     362.81375\n",
       "HP          69.25875\n",
       "Attack      79.00125\n",
       "Defense     73.84250\n",
       "dtype: float64"
      ]
     },
     "execution_count": 8,
     "metadata": {},
     "output_type": "execute_result"
    }
   ],
   "source": [
    "#mean of one column df.mean[column]\n",
    "pokemon.mean()"
   ]
  },
  {
   "cell_type": "code",
   "execution_count": 9,
   "metadata": {
    "colab": {
     "base_uri": "https://localhost:8080/"
    },
    "executionInfo": {
     "elapsed": 42186,
     "status": "ok",
     "timestamp": 1599837579934,
     "user": {
      "displayName": "Maria Hernandez Limon",
      "photoUrl": "https://lh3.googleusercontent.com/a-/AOh14Ghd3PTHlBML4DLlupZiaArIJ8xYakaUbI3sK1QW=s64",
      "userId": "15768601250316805169"
     },
     "user_tz": 300
    },
    "id": "AdP7Pb1fzJb0",
    "outputId": "d9d1af5e-cf9b-4a45-dc21-a5a693e0423d"
   },
   "outputs": [
    {
     "data": {
      "text/plain": [
       "Number     208.343798\n",
       "HP          25.534669\n",
       "Attack      32.457366\n",
       "Defense     31.183501\n",
       "dtype: float64"
      ]
     },
     "execution_count": 9,
     "metadata": {},
     "output_type": "execute_result"
    }
   ],
   "source": [
    "##std or np.std(df[column])\n",
    "pokemon.std()"
   ]
  },
  {
   "cell_type": "code",
   "execution_count": 10,
   "metadata": {
    "colab": {
     "base_uri": "https://localhost:8080/"
    },
    "executionInfo": {
     "elapsed": 42179,
     "status": "ok",
     "timestamp": 1599837579934,
     "user": {
      "displayName": "Maria Hernandez Limon",
      "photoUrl": "https://lh3.googleusercontent.com/a-/AOh14Ghd3PTHlBML4DLlupZiaArIJ8xYakaUbI3sK1QW=s64",
      "userId": "15768601250316805169"
     },
     "user_tz": 300
    },
    "id": "HKTpSQENZqap",
    "outputId": "fe0d2a1d-4caa-4b9f-993d-888bbab5822c"
   },
   "outputs": [
    {
     "name": "stdout",
     "output_type": "stream",
     "text": [
      "[  1   2   3   4   5   6   7   8   9  10  11  12  13  14  15  16  17  18\n",
      "  19  20  21  22  23  24  25  26  27  28  29  30  31  32  33  34  35  36\n",
      "  37  38  39  40  41  42  43  44  45  46  47  48  49  50  51  52  53  54\n",
      "  55  56  57  58  59  60  61  62  63  64  65  66  67  68  69  70  71  72\n",
      "  73  74  75  76  77  78  79  80  81  82  83  84  85  86  87  88  89  90\n",
      "  91  92  93  94  95  96  97  98  99 100 101 102 103 104 105 106 107 108\n",
      " 109 110 111 112 113 114 115 116 117 118 119 120 121 122 123 124 125 126\n",
      " 127 128 129 130 131 132 133 134 135 136 137 138 139 140 141 142 143 144\n",
      " 145 146 147 148 149 150 151 152 153 154 155 156 157 158 159 160 161 162\n",
      " 163 164 165 166 167 168 169 170 171 172 173 174 175 176 177 178 179 180\n",
      " 181 182 183 184 185 186 187 188 189 190 191 192 193 194 195 196 197 198\n",
      " 199 200 201 202 203 204 205 206 207 208 209 210 211 212 213 214 215 216\n",
      " 217 218 219 220 221 222 223 224 225 226 227 228 229 230 231 232 233 234\n",
      " 235 236 237 238 239 240 241 242 243 244 245 246 247 248 249 250 251 252\n",
      " 253 254 255 256 257 258 259 260 261 262 263 264 265 266 267 268 269 270\n",
      " 271 272 273 274 275 276 277 278 279 280 281 282 283 284 285 286 287 288\n",
      " 289 290 291 292 293 294 295 296 297 298 299 300 301 302 303 304 305 306\n",
      " 307 308 309 310 311 312 313 314 315 316 317 318 319 320 321 322 323 324\n",
      " 325 326 327 328 329 330 331 332 333 334 335 336 337 338 339 340 341 342\n",
      " 343 344 345 346 347 348 349 350 351 352 353 354 355 356 357 358 359 360\n",
      " 361 362 363 364 365 366 367 368 369 370 371 372 373 374 375 376 377 378\n",
      " 379 380 381 382 383 384 385 386 387 388 389 390 391 392 393 394 395 396\n",
      " 397 398 399 400 401 402 403 404 405 406 407 408 409 410 411 412 413 414\n",
      " 415 416 417 418 419 420 421 422 423 424 425 426 427 428 429 430 431 432\n",
      " 433 434 435 436 437 438 439 440 441 442 443 444 445 446 447 448 449 450\n",
      " 451 452 453 454 455 456 457 458 459 460 461 462 463 464 465 466 467 468\n",
      " 469 470 471 472 473 474 475 476 477 478 479 480 481 482 483 484 485 486\n",
      " 487 488 489 490 491 492 493 494 495 496 497 498 499 500 501 502 503 504\n",
      " 505 506 507 508 509 510 511 512 513 514 515 516 517 518 519 520 521 522\n",
      " 523 524 525 526 527 528 529 530 531 532 533 534 535 536 537 538 539 540\n",
      " 541 542 543 544 545 546 547 548 549 550 551 552 553 554 555 556 557 558\n",
      " 559 560 561 562 563 564 565 566 567 568 569 570 571 572 573 574 575 576\n",
      " 577 578 579 580 581 582 583 584 585 586 587 588 589 590 591 592 593 594\n",
      " 595 596 597 598 599 600 601 602 603 604 605 606 607 608 609 610 611 612\n",
      " 613 614 615 616 617 618 619 620 621 622 623 624 625 626 627 628 629 630\n",
      " 631 632 633 634 635 636 637 638 639 640 641 642 643 644 645 646 647 648\n",
      " 649 650 651 652 653 654 655 656 657 658 659 660 661 662 663 664 665 666\n",
      " 667 668 669 670 671 672 673 674 675 676 677 678 679 680 681 682 683 684\n",
      " 685 686 687 688 689 690 691 692 693 694 695 696 697 698 699 700 701 702\n",
      " 703 704 705 706 707 708 709 710 711 712 713 714 715 716 717 718 719 720\n",
      " 721]\n",
      "721\n"
     ]
    }
   ],
   "source": [
    "## get unique values with len and numpy\n",
    "## or len(pokemon.Number.unique())\n",
    "\n",
    "print (np.unique(pokemon['Number']))\n",
    "\n",
    "print (len(np.unique(pokemon['Number'])))"
   ]
  },
  {
   "cell_type": "markdown",
   "metadata": {
    "id": "bp8I2wLX1Xaa"
   },
   "source": [
    "## 8.2 Math with entire rows or columns"
   ]
  },
  {
   "cell_type": "code",
   "execution_count": 11,
   "metadata": {
    "colab": {
     "base_uri": "https://localhost:8080/",
     "height": 204
    },
    "executionInfo": {
     "elapsed": 42175,
     "status": "ok",
     "timestamp": 1599837579936,
     "user": {
      "displayName": "Maria Hernandez Limon",
      "photoUrl": "https://lh3.googleusercontent.com/a-/AOh14Ghd3PTHlBML4DLlupZiaArIJ8xYakaUbI3sK1QW=s64",
      "userId": "15768601250316805169"
     },
     "user_tz": 300
    },
    "id": "lrOEpAZDuLMh",
    "outputId": "ae0b801c-1d2c-456c-bbcb-9177629d1357"
   },
   "outputs": [
    {
     "data": {
      "text/html": [
       "<div>\n",
       "<style scoped>\n",
       "    .dataframe tbody tr th:only-of-type {\n",
       "        vertical-align: middle;\n",
       "    }\n",
       "\n",
       "    .dataframe tbody tr th {\n",
       "        vertical-align: top;\n",
       "    }\n",
       "\n",
       "    .dataframe thead th {\n",
       "        text-align: right;\n",
       "    }\n",
       "</style>\n",
       "<table border=\"1\" class=\"dataframe\">\n",
       "  <thead>\n",
       "    <tr style=\"text-align: right;\">\n",
       "      <th></th>\n",
       "      <th>Number</th>\n",
       "      <th>Name</th>\n",
       "      <th>HP</th>\n",
       "      <th>Attack</th>\n",
       "      <th>Defense</th>\n",
       "    </tr>\n",
       "  </thead>\n",
       "  <tbody>\n",
       "    <tr>\n",
       "      <th>0</th>\n",
       "      <td>1</td>\n",
       "      <td>Bulbasaur</td>\n",
       "      <td>45</td>\n",
       "      <td>49</td>\n",
       "      <td>49</td>\n",
       "    </tr>\n",
       "    <tr>\n",
       "      <th>1</th>\n",
       "      <td>2</td>\n",
       "      <td>Ivysaur</td>\n",
       "      <td>60</td>\n",
       "      <td>62</td>\n",
       "      <td>63</td>\n",
       "    </tr>\n",
       "    <tr>\n",
       "      <th>2</th>\n",
       "      <td>3</td>\n",
       "      <td>Venusaur</td>\n",
       "      <td>80</td>\n",
       "      <td>82</td>\n",
       "      <td>83</td>\n",
       "    </tr>\n",
       "    <tr>\n",
       "      <th>3</th>\n",
       "      <td>3</td>\n",
       "      <td>VenusaurMega Venusaur</td>\n",
       "      <td>80</td>\n",
       "      <td>100</td>\n",
       "      <td>123</td>\n",
       "    </tr>\n",
       "    <tr>\n",
       "      <th>4</th>\n",
       "      <td>4</td>\n",
       "      <td>Charmander</td>\n",
       "      <td>39</td>\n",
       "      <td>52</td>\n",
       "      <td>43</td>\n",
       "    </tr>\n",
       "  </tbody>\n",
       "</table>\n",
       "</div>"
      ],
      "text/plain": [
       "   Number                   Name  HP  Attack  Defense\n",
       "0       1              Bulbasaur  45      49       49\n",
       "1       2                Ivysaur  60      62       63\n",
       "2       3               Venusaur  80      82       83\n",
       "3       3  VenusaurMega Venusaur  80     100      123\n",
       "4       4             Charmander  39      52       43"
      ]
     },
     "execution_count": 11,
     "metadata": {},
     "output_type": "execute_result"
    }
   ],
   "source": [
    "pokemon.head()"
   ]
  },
  {
   "cell_type": "code",
   "execution_count": 12,
   "metadata": {
    "colab": {
     "base_uri": "https://localhost:8080/",
     "height": 426
    },
    "executionInfo": {
     "elapsed": 42906,
     "status": "error",
     "timestamp": 1599837580674,
     "user": {
      "displayName": "Maria Hernandez Limon",
      "photoUrl": "https://lh3.googleusercontent.com/a-/AOh14Ghd3PTHlBML4DLlupZiaArIJ8xYakaUbI3sK1QW=s64",
      "userId": "15768601250316805169"
     },
     "user_tz": 300
    },
    "id": "ZzEDIou61vZF",
    "outputId": "cec5ddd9-9cff-4c6c-852d-ec212709cb92"
   },
   "outputs": [
    {
     "ename": "TypeError",
     "evalue": "can only concatenate str (not \"int\") to str",
     "output_type": "error",
     "traceback": [
      "\u001b[0;31m---------------------------------------------------------------------------\u001b[0m",
      "\u001b[0;31mTypeError\u001b[0m                                 Traceback (most recent call last)",
      "\u001b[0;32m~/opt/anaconda3/lib/python3.8/site-packages/pandas/core/ops/array_ops.py\u001b[0m in \u001b[0;36m_na_arithmetic_op\u001b[0;34m(left, right, op, is_cmp)\u001b[0m\n\u001b[1;32m    141\u001b[0m     \u001b[0;32mtry\u001b[0m\u001b[0;34m:\u001b[0m\u001b[0;34m\u001b[0m\u001b[0;34m\u001b[0m\u001b[0m\n\u001b[0;32m--> 142\u001b[0;31m         \u001b[0mresult\u001b[0m \u001b[0;34m=\u001b[0m \u001b[0mexpressions\u001b[0m\u001b[0;34m.\u001b[0m\u001b[0mevaluate\u001b[0m\u001b[0;34m(\u001b[0m\u001b[0mop\u001b[0m\u001b[0;34m,\u001b[0m \u001b[0mleft\u001b[0m\u001b[0;34m,\u001b[0m \u001b[0mright\u001b[0m\u001b[0;34m)\u001b[0m\u001b[0;34m\u001b[0m\u001b[0;34m\u001b[0m\u001b[0m\n\u001b[0m\u001b[1;32m    143\u001b[0m     \u001b[0;32mexcept\u001b[0m \u001b[0mTypeError\u001b[0m\u001b[0;34m:\u001b[0m\u001b[0;34m\u001b[0m\u001b[0;34m\u001b[0m\u001b[0m\n",
      "\u001b[0;32m~/opt/anaconda3/lib/python3.8/site-packages/pandas/core/computation/expressions.py\u001b[0m in \u001b[0;36mevaluate\u001b[0;34m(op, a, b, use_numexpr)\u001b[0m\n\u001b[1;32m    234\u001b[0m             \u001b[0;31m# error: \"None\" not callable\u001b[0m\u001b[0;34m\u001b[0m\u001b[0;34m\u001b[0m\u001b[0;34m\u001b[0m\u001b[0m\n\u001b[0;32m--> 235\u001b[0;31m             \u001b[0;32mreturn\u001b[0m \u001b[0m_evaluate\u001b[0m\u001b[0;34m(\u001b[0m\u001b[0mop\u001b[0m\u001b[0;34m,\u001b[0m \u001b[0mop_str\u001b[0m\u001b[0;34m,\u001b[0m \u001b[0ma\u001b[0m\u001b[0;34m,\u001b[0m \u001b[0mb\u001b[0m\u001b[0;34m)\u001b[0m  \u001b[0;31m# type: ignore[misc]\u001b[0m\u001b[0;34m\u001b[0m\u001b[0;34m\u001b[0m\u001b[0m\n\u001b[0m\u001b[1;32m    236\u001b[0m     \u001b[0;32mreturn\u001b[0m \u001b[0m_evaluate_standard\u001b[0m\u001b[0;34m(\u001b[0m\u001b[0mop\u001b[0m\u001b[0;34m,\u001b[0m \u001b[0mop_str\u001b[0m\u001b[0;34m,\u001b[0m \u001b[0ma\u001b[0m\u001b[0;34m,\u001b[0m \u001b[0mb\u001b[0m\u001b[0;34m)\u001b[0m\u001b[0;34m\u001b[0m\u001b[0;34m\u001b[0m\u001b[0m\n",
      "\u001b[0;32m~/opt/anaconda3/lib/python3.8/site-packages/pandas/core/computation/expressions.py\u001b[0m in \u001b[0;36m_evaluate_numexpr\u001b[0;34m(op, op_str, a, b)\u001b[0m\n\u001b[1;32m    119\u001b[0m     \u001b[0;32mif\u001b[0m \u001b[0mresult\u001b[0m \u001b[0;32mis\u001b[0m \u001b[0;32mNone\u001b[0m\u001b[0;34m:\u001b[0m\u001b[0;34m\u001b[0m\u001b[0;34m\u001b[0m\u001b[0m\n\u001b[0;32m--> 120\u001b[0;31m         \u001b[0mresult\u001b[0m \u001b[0;34m=\u001b[0m \u001b[0m_evaluate_standard\u001b[0m\u001b[0;34m(\u001b[0m\u001b[0mop\u001b[0m\u001b[0;34m,\u001b[0m \u001b[0mop_str\u001b[0m\u001b[0;34m,\u001b[0m \u001b[0ma\u001b[0m\u001b[0;34m,\u001b[0m \u001b[0mb\u001b[0m\u001b[0;34m)\u001b[0m\u001b[0;34m\u001b[0m\u001b[0;34m\u001b[0m\u001b[0m\n\u001b[0m\u001b[1;32m    121\u001b[0m \u001b[0;34m\u001b[0m\u001b[0m\n",
      "\u001b[0;32m~/opt/anaconda3/lib/python3.8/site-packages/pandas/core/computation/expressions.py\u001b[0m in \u001b[0;36m_evaluate_standard\u001b[0;34m(op, op_str, a, b)\u001b[0m\n\u001b[1;32m     68\u001b[0m     \u001b[0;32mwith\u001b[0m \u001b[0mnp\u001b[0m\u001b[0;34m.\u001b[0m\u001b[0merrstate\u001b[0m\u001b[0;34m(\u001b[0m\u001b[0mall\u001b[0m\u001b[0;34m=\u001b[0m\u001b[0;34m\"ignore\"\u001b[0m\u001b[0;34m)\u001b[0m\u001b[0;34m:\u001b[0m\u001b[0;34m\u001b[0m\u001b[0;34m\u001b[0m\u001b[0m\n\u001b[0;32m---> 69\u001b[0;31m         \u001b[0;32mreturn\u001b[0m \u001b[0mop\u001b[0m\u001b[0;34m(\u001b[0m\u001b[0ma\u001b[0m\u001b[0;34m,\u001b[0m \u001b[0mb\u001b[0m\u001b[0;34m)\u001b[0m\u001b[0;34m\u001b[0m\u001b[0;34m\u001b[0m\u001b[0m\n\u001b[0m\u001b[1;32m     70\u001b[0m \u001b[0;34m\u001b[0m\u001b[0m\n",
      "\u001b[0;31mTypeError\u001b[0m: can only concatenate str (not \"int\") to str",
      "\nDuring handling of the above exception, another exception occurred:\n",
      "\u001b[0;31mTypeError\u001b[0m                                 Traceback (most recent call last)",
      "\u001b[0;32m<ipython-input-12-1e8b7a36f184>\u001b[0m in \u001b[0;36m<module>\u001b[0;34m\u001b[0m\n\u001b[1;32m      1\u001b[0m \u001b[0;31m### make a total column by adding each column\u001b[0m\u001b[0;34m\u001b[0m\u001b[0;34m\u001b[0m\u001b[0;34m\u001b[0m\u001b[0m\n\u001b[0;32m----> 2\u001b[0;31m \u001b[0mpokemon\u001b[0m\u001b[0;34m[\u001b[0m\u001b[0;34m'total2'\u001b[0m\u001b[0;34m]\u001b[0m\u001b[0;34m=\u001b[0m\u001b[0mpokemon\u001b[0m\u001b[0;34m[\u001b[0m\u001b[0;34m'Name'\u001b[0m\u001b[0;34m]\u001b[0m\u001b[0;34m+\u001b[0m\u001b[0mpokemon\u001b[0m\u001b[0;34m[\u001b[0m\u001b[0;34m'Attack'\u001b[0m\u001b[0;34m]\u001b[0m\u001b[0;34m\u001b[0m\u001b[0;34m\u001b[0m\u001b[0m\n\u001b[0m\u001b[1;32m      3\u001b[0m \u001b[0mpokemon\u001b[0m\u001b[0;34m.\u001b[0m\u001b[0mhead\u001b[0m\u001b[0;34m(\u001b[0m\u001b[0;34m)\u001b[0m\u001b[0;34m\u001b[0m\u001b[0;34m\u001b[0m\u001b[0m\n\u001b[1;32m      4\u001b[0m \u001b[0;31m#you will encounter an error, this is because when adding columns they must have the same data type\u001b[0m\u001b[0;34m\u001b[0m\u001b[0;34m\u001b[0m\u001b[0;34m\u001b[0m\u001b[0m\n",
      "\u001b[0;32m~/opt/anaconda3/lib/python3.8/site-packages/pandas/core/ops/common.py\u001b[0m in \u001b[0;36mnew_method\u001b[0;34m(self, other)\u001b[0m\n\u001b[1;32m     63\u001b[0m         \u001b[0mother\u001b[0m \u001b[0;34m=\u001b[0m \u001b[0mitem_from_zerodim\u001b[0m\u001b[0;34m(\u001b[0m\u001b[0mother\u001b[0m\u001b[0;34m)\u001b[0m\u001b[0;34m\u001b[0m\u001b[0;34m\u001b[0m\u001b[0m\n\u001b[1;32m     64\u001b[0m \u001b[0;34m\u001b[0m\u001b[0m\n\u001b[0;32m---> 65\u001b[0;31m         \u001b[0;32mreturn\u001b[0m \u001b[0mmethod\u001b[0m\u001b[0;34m(\u001b[0m\u001b[0mself\u001b[0m\u001b[0;34m,\u001b[0m \u001b[0mother\u001b[0m\u001b[0;34m)\u001b[0m\u001b[0;34m\u001b[0m\u001b[0;34m\u001b[0m\u001b[0m\n\u001b[0m\u001b[1;32m     66\u001b[0m \u001b[0;34m\u001b[0m\u001b[0m\n\u001b[1;32m     67\u001b[0m     \u001b[0;32mreturn\u001b[0m \u001b[0mnew_method\u001b[0m\u001b[0;34m\u001b[0m\u001b[0;34m\u001b[0m\u001b[0m\n",
      "\u001b[0;32m~/opt/anaconda3/lib/python3.8/site-packages/pandas/core/arraylike.py\u001b[0m in \u001b[0;36m__add__\u001b[0;34m(self, other)\u001b[0m\n\u001b[1;32m     87\u001b[0m     \u001b[0;34m@\u001b[0m\u001b[0munpack_zerodim_and_defer\u001b[0m\u001b[0;34m(\u001b[0m\u001b[0;34m\"__add__\"\u001b[0m\u001b[0;34m)\u001b[0m\u001b[0;34m\u001b[0m\u001b[0;34m\u001b[0m\u001b[0m\n\u001b[1;32m     88\u001b[0m     \u001b[0;32mdef\u001b[0m \u001b[0m__add__\u001b[0m\u001b[0;34m(\u001b[0m\u001b[0mself\u001b[0m\u001b[0;34m,\u001b[0m \u001b[0mother\u001b[0m\u001b[0;34m)\u001b[0m\u001b[0;34m:\u001b[0m\u001b[0;34m\u001b[0m\u001b[0;34m\u001b[0m\u001b[0m\n\u001b[0;32m---> 89\u001b[0;31m         \u001b[0;32mreturn\u001b[0m \u001b[0mself\u001b[0m\u001b[0;34m.\u001b[0m\u001b[0m_arith_method\u001b[0m\u001b[0;34m(\u001b[0m\u001b[0mother\u001b[0m\u001b[0;34m,\u001b[0m \u001b[0moperator\u001b[0m\u001b[0;34m.\u001b[0m\u001b[0madd\u001b[0m\u001b[0;34m)\u001b[0m\u001b[0;34m\u001b[0m\u001b[0;34m\u001b[0m\u001b[0m\n\u001b[0m\u001b[1;32m     90\u001b[0m \u001b[0;34m\u001b[0m\u001b[0m\n\u001b[1;32m     91\u001b[0m     \u001b[0;34m@\u001b[0m\u001b[0munpack_zerodim_and_defer\u001b[0m\u001b[0;34m(\u001b[0m\u001b[0;34m\"__radd__\"\u001b[0m\u001b[0;34m)\u001b[0m\u001b[0;34m\u001b[0m\u001b[0;34m\u001b[0m\u001b[0m\n",
      "\u001b[0;32m~/opt/anaconda3/lib/python3.8/site-packages/pandas/core/series.py\u001b[0m in \u001b[0;36m_arith_method\u001b[0;34m(self, other, op)\u001b[0m\n\u001b[1;32m   4996\u001b[0m         \u001b[0mlvalues\u001b[0m \u001b[0;34m=\u001b[0m \u001b[0mextract_array\u001b[0m\u001b[0;34m(\u001b[0m\u001b[0mself\u001b[0m\u001b[0;34m,\u001b[0m \u001b[0mextract_numpy\u001b[0m\u001b[0;34m=\u001b[0m\u001b[0;32mTrue\u001b[0m\u001b[0;34m)\u001b[0m\u001b[0;34m\u001b[0m\u001b[0;34m\u001b[0m\u001b[0m\n\u001b[1;32m   4997\u001b[0m         \u001b[0mrvalues\u001b[0m \u001b[0;34m=\u001b[0m \u001b[0mextract_array\u001b[0m\u001b[0;34m(\u001b[0m\u001b[0mother\u001b[0m\u001b[0;34m,\u001b[0m \u001b[0mextract_numpy\u001b[0m\u001b[0;34m=\u001b[0m\u001b[0;32mTrue\u001b[0m\u001b[0;34m)\u001b[0m\u001b[0;34m\u001b[0m\u001b[0;34m\u001b[0m\u001b[0m\n\u001b[0;32m-> 4998\u001b[0;31m         \u001b[0mresult\u001b[0m \u001b[0;34m=\u001b[0m \u001b[0mops\u001b[0m\u001b[0;34m.\u001b[0m\u001b[0marithmetic_op\u001b[0m\u001b[0;34m(\u001b[0m\u001b[0mlvalues\u001b[0m\u001b[0;34m,\u001b[0m \u001b[0mrvalues\u001b[0m\u001b[0;34m,\u001b[0m \u001b[0mop\u001b[0m\u001b[0;34m)\u001b[0m\u001b[0;34m\u001b[0m\u001b[0;34m\u001b[0m\u001b[0m\n\u001b[0m\u001b[1;32m   4999\u001b[0m \u001b[0;34m\u001b[0m\u001b[0m\n\u001b[1;32m   5000\u001b[0m         \u001b[0;32mreturn\u001b[0m \u001b[0mself\u001b[0m\u001b[0;34m.\u001b[0m\u001b[0m_construct_result\u001b[0m\u001b[0;34m(\u001b[0m\u001b[0mresult\u001b[0m\u001b[0;34m,\u001b[0m \u001b[0mname\u001b[0m\u001b[0;34m=\u001b[0m\u001b[0mres_name\u001b[0m\u001b[0;34m)\u001b[0m\u001b[0;34m\u001b[0m\u001b[0;34m\u001b[0m\u001b[0m\n",
      "\u001b[0;32m~/opt/anaconda3/lib/python3.8/site-packages/pandas/core/ops/array_ops.py\u001b[0m in \u001b[0;36marithmetic_op\u001b[0;34m(left, right, op)\u001b[0m\n\u001b[1;32m    187\u001b[0m     \u001b[0;32melse\u001b[0m\u001b[0;34m:\u001b[0m\u001b[0;34m\u001b[0m\u001b[0;34m\u001b[0m\u001b[0m\n\u001b[1;32m    188\u001b[0m         \u001b[0;32mwith\u001b[0m \u001b[0mnp\u001b[0m\u001b[0;34m.\u001b[0m\u001b[0merrstate\u001b[0m\u001b[0;34m(\u001b[0m\u001b[0mall\u001b[0m\u001b[0;34m=\u001b[0m\u001b[0;34m\"ignore\"\u001b[0m\u001b[0;34m)\u001b[0m\u001b[0;34m:\u001b[0m\u001b[0;34m\u001b[0m\u001b[0;34m\u001b[0m\u001b[0m\n\u001b[0;32m--> 189\u001b[0;31m             \u001b[0mres_values\u001b[0m \u001b[0;34m=\u001b[0m \u001b[0m_na_arithmetic_op\u001b[0m\u001b[0;34m(\u001b[0m\u001b[0mlvalues\u001b[0m\u001b[0;34m,\u001b[0m \u001b[0mrvalues\u001b[0m\u001b[0;34m,\u001b[0m \u001b[0mop\u001b[0m\u001b[0;34m)\u001b[0m\u001b[0;34m\u001b[0m\u001b[0;34m\u001b[0m\u001b[0m\n\u001b[0m\u001b[1;32m    190\u001b[0m \u001b[0;34m\u001b[0m\u001b[0m\n\u001b[1;32m    191\u001b[0m     \u001b[0;32mreturn\u001b[0m \u001b[0mres_values\u001b[0m\u001b[0;34m\u001b[0m\u001b[0;34m\u001b[0m\u001b[0m\n",
      "\u001b[0;32m~/opt/anaconda3/lib/python3.8/site-packages/pandas/core/ops/array_ops.py\u001b[0m in \u001b[0;36m_na_arithmetic_op\u001b[0;34m(left, right, op, is_cmp)\u001b[0m\n\u001b[1;32m    147\u001b[0m             \u001b[0;31m#  will handle complex numbers incorrectly, see GH#32047\u001b[0m\u001b[0;34m\u001b[0m\u001b[0;34m\u001b[0m\u001b[0;34m\u001b[0m\u001b[0m\n\u001b[1;32m    148\u001b[0m             \u001b[0;32mraise\u001b[0m\u001b[0;34m\u001b[0m\u001b[0;34m\u001b[0m\u001b[0m\n\u001b[0;32m--> 149\u001b[0;31m         \u001b[0mresult\u001b[0m \u001b[0;34m=\u001b[0m \u001b[0m_masked_arith_op\u001b[0m\u001b[0;34m(\u001b[0m\u001b[0mleft\u001b[0m\u001b[0;34m,\u001b[0m \u001b[0mright\u001b[0m\u001b[0;34m,\u001b[0m \u001b[0mop\u001b[0m\u001b[0;34m)\u001b[0m\u001b[0;34m\u001b[0m\u001b[0;34m\u001b[0m\u001b[0m\n\u001b[0m\u001b[1;32m    150\u001b[0m \u001b[0;34m\u001b[0m\u001b[0m\n\u001b[1;32m    151\u001b[0m     \u001b[0;32mif\u001b[0m \u001b[0mis_cmp\u001b[0m \u001b[0;32mand\u001b[0m \u001b[0;34m(\u001b[0m\u001b[0mis_scalar\u001b[0m\u001b[0;34m(\u001b[0m\u001b[0mresult\u001b[0m\u001b[0;34m)\u001b[0m \u001b[0;32mor\u001b[0m \u001b[0mresult\u001b[0m \u001b[0;32mis\u001b[0m \u001b[0mNotImplemented\u001b[0m\u001b[0;34m)\u001b[0m\u001b[0;34m:\u001b[0m\u001b[0;34m\u001b[0m\u001b[0;34m\u001b[0m\u001b[0m\n",
      "\u001b[0;32m~/opt/anaconda3/lib/python3.8/site-packages/pandas/core/ops/array_ops.py\u001b[0m in \u001b[0;36m_masked_arith_op\u001b[0;34m(x, y, op)\u001b[0m\n\u001b[1;32m     89\u001b[0m         \u001b[0;32mif\u001b[0m \u001b[0mmask\u001b[0m\u001b[0;34m.\u001b[0m\u001b[0many\u001b[0m\u001b[0;34m(\u001b[0m\u001b[0;34m)\u001b[0m\u001b[0;34m:\u001b[0m\u001b[0;34m\u001b[0m\u001b[0;34m\u001b[0m\u001b[0m\n\u001b[1;32m     90\u001b[0m             \u001b[0;32mwith\u001b[0m \u001b[0mnp\u001b[0m\u001b[0;34m.\u001b[0m\u001b[0merrstate\u001b[0m\u001b[0;34m(\u001b[0m\u001b[0mall\u001b[0m\u001b[0;34m=\u001b[0m\u001b[0;34m\"ignore\"\u001b[0m\u001b[0;34m)\u001b[0m\u001b[0;34m:\u001b[0m\u001b[0;34m\u001b[0m\u001b[0;34m\u001b[0m\u001b[0m\n\u001b[0;32m---> 91\u001b[0;31m                 \u001b[0mresult\u001b[0m\u001b[0;34m[\u001b[0m\u001b[0mmask\u001b[0m\u001b[0;34m]\u001b[0m \u001b[0;34m=\u001b[0m \u001b[0mop\u001b[0m\u001b[0;34m(\u001b[0m\u001b[0mxrav\u001b[0m\u001b[0;34m[\u001b[0m\u001b[0mmask\u001b[0m\u001b[0;34m]\u001b[0m\u001b[0;34m,\u001b[0m \u001b[0myrav\u001b[0m\u001b[0;34m[\u001b[0m\u001b[0mmask\u001b[0m\u001b[0;34m]\u001b[0m\u001b[0;34m)\u001b[0m\u001b[0;34m\u001b[0m\u001b[0;34m\u001b[0m\u001b[0m\n\u001b[0m\u001b[1;32m     92\u001b[0m \u001b[0;34m\u001b[0m\u001b[0m\n\u001b[1;32m     93\u001b[0m     \u001b[0;32melse\u001b[0m\u001b[0;34m:\u001b[0m\u001b[0;34m\u001b[0m\u001b[0;34m\u001b[0m\u001b[0m\n",
      "\u001b[0;31mTypeError\u001b[0m: can only concatenate str (not \"int\") to str"
     ]
    }
   ],
   "source": [
    "### make a total column by adding each column \n",
    "pokemon['total2']=pokemon['Name']+pokemon['Attack']\n",
    "pokemon.head()\n",
    "#you will encounter an error, this is because when adding columns they must have the same data type"
   ]
  },
  {
   "cell_type": "code",
   "execution_count": 13,
   "metadata": {
    "colab": {
     "base_uri": "https://localhost:8080/",
     "height": 204
    },
    "executionInfo": {
     "elapsed": 915,
     "status": "ok",
     "timestamp": 1599837587180,
     "user": {
      "displayName": "Maria Hernandez Limon",
      "photoUrl": "https://lh3.googleusercontent.com/a-/AOh14Ghd3PTHlBML4DLlupZiaArIJ8xYakaUbI3sK1QW=s64",
      "userId": "15768601250316805169"
     },
     "user_tz": 300
    },
    "id": "gUNOSEoAmchO",
    "outputId": "58cddaca-bea0-474d-8223-765e2004adb6"
   },
   "outputs": [
    {
     "data": {
      "text/html": [
       "<div>\n",
       "<style scoped>\n",
       "    .dataframe tbody tr th:only-of-type {\n",
       "        vertical-align: middle;\n",
       "    }\n",
       "\n",
       "    .dataframe tbody tr th {\n",
       "        vertical-align: top;\n",
       "    }\n",
       "\n",
       "    .dataframe thead th {\n",
       "        text-align: right;\n",
       "    }\n",
       "</style>\n",
       "<table border=\"1\" class=\"dataframe\">\n",
       "  <thead>\n",
       "    <tr style=\"text-align: right;\">\n",
       "      <th></th>\n",
       "      <th>Number</th>\n",
       "      <th>Name</th>\n",
       "      <th>HP</th>\n",
       "      <th>Attack</th>\n",
       "      <th>Defense</th>\n",
       "      <th>total</th>\n",
       "    </tr>\n",
       "  </thead>\n",
       "  <tbody>\n",
       "    <tr>\n",
       "      <th>0</th>\n",
       "      <td>1</td>\n",
       "      <td>Bulbasaur</td>\n",
       "      <td>45</td>\n",
       "      <td>49</td>\n",
       "      <td>49</td>\n",
       "      <td>94</td>\n",
       "    </tr>\n",
       "    <tr>\n",
       "      <th>1</th>\n",
       "      <td>2</td>\n",
       "      <td>Ivysaur</td>\n",
       "      <td>60</td>\n",
       "      <td>62</td>\n",
       "      <td>63</td>\n",
       "      <td>122</td>\n",
       "    </tr>\n",
       "    <tr>\n",
       "      <th>2</th>\n",
       "      <td>3</td>\n",
       "      <td>Venusaur</td>\n",
       "      <td>80</td>\n",
       "      <td>82</td>\n",
       "      <td>83</td>\n",
       "      <td>162</td>\n",
       "    </tr>\n",
       "    <tr>\n",
       "      <th>3</th>\n",
       "      <td>3</td>\n",
       "      <td>VenusaurMega Venusaur</td>\n",
       "      <td>80</td>\n",
       "      <td>100</td>\n",
       "      <td>123</td>\n",
       "      <td>180</td>\n",
       "    </tr>\n",
       "    <tr>\n",
       "      <th>4</th>\n",
       "      <td>4</td>\n",
       "      <td>Charmander</td>\n",
       "      <td>39</td>\n",
       "      <td>52</td>\n",
       "      <td>43</td>\n",
       "      <td>91</td>\n",
       "    </tr>\n",
       "  </tbody>\n",
       "</table>\n",
       "</div>"
      ],
      "text/plain": [
       "   Number                   Name  HP  Attack  Defense  total\n",
       "0       1              Bulbasaur  45      49       49     94\n",
       "1       2                Ivysaur  60      62       63    122\n",
       "2       3               Venusaur  80      82       83    162\n",
       "3       3  VenusaurMega Venusaur  80     100      123    180\n",
       "4       4             Charmander  39      52       43     91"
      ]
     },
     "execution_count": 13,
     "metadata": {},
     "output_type": "execute_result"
    }
   ],
   "source": [
    "### make a total column by adding each column\n",
    "## both of the columns are numeric so this works \n",
    "pokemon['total']=pokemon['HP']+pokemon['Attack']\n",
    "pokemon.head()"
   ]
  },
  {
   "cell_type": "code",
   "execution_count": 14,
   "metadata": {
    "id": "sveDr1Ea2h2P"
   },
   "outputs": [],
   "source": [
    "## delete total to not complicate things\n",
    "del pokemon['total']"
   ]
  },
  {
   "cell_type": "code",
   "execution_count": 15,
   "metadata": {
    "id": "ZxbCNStounO0"
   },
   "outputs": [
    {
     "data": {
      "text/html": [
       "<div>\n",
       "<style scoped>\n",
       "    .dataframe tbody tr th:only-of-type {\n",
       "        vertical-align: middle;\n",
       "    }\n",
       "\n",
       "    .dataframe tbody tr th {\n",
       "        vertical-align: top;\n",
       "    }\n",
       "\n",
       "    .dataframe thead th {\n",
       "        text-align: right;\n",
       "    }\n",
       "</style>\n",
       "<table border=\"1\" class=\"dataframe\">\n",
       "  <thead>\n",
       "    <tr style=\"text-align: right;\">\n",
       "      <th></th>\n",
       "      <th>Number</th>\n",
       "      <th>Name</th>\n",
       "      <th>HP</th>\n",
       "      <th>Attack</th>\n",
       "      <th>Defense</th>\n",
       "    </tr>\n",
       "  </thead>\n",
       "  <tbody>\n",
       "    <tr>\n",
       "      <th>0</th>\n",
       "      <td>1</td>\n",
       "      <td>Bulbasaur</td>\n",
       "      <td>45</td>\n",
       "      <td>49</td>\n",
       "      <td>49</td>\n",
       "    </tr>\n",
       "    <tr>\n",
       "      <th>1</th>\n",
       "      <td>2</td>\n",
       "      <td>Ivysaur</td>\n",
       "      <td>60</td>\n",
       "      <td>62</td>\n",
       "      <td>63</td>\n",
       "    </tr>\n",
       "    <tr>\n",
       "      <th>2</th>\n",
       "      <td>3</td>\n",
       "      <td>Venusaur</td>\n",
       "      <td>80</td>\n",
       "      <td>82</td>\n",
       "      <td>83</td>\n",
       "    </tr>\n",
       "    <tr>\n",
       "      <th>3</th>\n",
       "      <td>3</td>\n",
       "      <td>VenusaurMega Venusaur</td>\n",
       "      <td>80</td>\n",
       "      <td>100</td>\n",
       "      <td>123</td>\n",
       "    </tr>\n",
       "    <tr>\n",
       "      <th>4</th>\n",
       "      <td>4</td>\n",
       "      <td>Charmander</td>\n",
       "      <td>39</td>\n",
       "      <td>52</td>\n",
       "      <td>43</td>\n",
       "    </tr>\n",
       "  </tbody>\n",
       "</table>\n",
       "</div>"
      ],
      "text/plain": [
       "   Number                   Name  HP  Attack  Defense\n",
       "0       1              Bulbasaur  45      49       49\n",
       "1       2                Ivysaur  60      62       63\n",
       "2       3               Venusaur  80      82       83\n",
       "3       3  VenusaurMega Venusaur  80     100      123\n",
       "4       4             Charmander  39      52       43"
      ]
     },
     "execution_count": 15,
     "metadata": {},
     "output_type": "execute_result"
    }
   ],
   "source": [
    "pokemon.head()"
   ]
  },
  {
   "cell_type": "code",
   "execution_count": 16,
   "metadata": {
    "id": "klyV7F921j9b"
   },
   "outputs": [
    {
     "data": {
      "text/html": [
       "<div>\n",
       "<style scoped>\n",
       "    .dataframe tbody tr th:only-of-type {\n",
       "        vertical-align: middle;\n",
       "    }\n",
       "\n",
       "    .dataframe tbody tr th {\n",
       "        vertical-align: top;\n",
       "    }\n",
       "\n",
       "    .dataframe thead th {\n",
       "        text-align: right;\n",
       "    }\n",
       "</style>\n",
       "<table border=\"1\" class=\"dataframe\">\n",
       "  <thead>\n",
       "    <tr style=\"text-align: right;\">\n",
       "      <th></th>\n",
       "      <th>Number</th>\n",
       "      <th>Name</th>\n",
       "      <th>HP</th>\n",
       "      <th>Attack</th>\n",
       "      <th>Defense</th>\n",
       "      <th>Total_across</th>\n",
       "    </tr>\n",
       "  </thead>\n",
       "  <tbody>\n",
       "    <tr>\n",
       "      <th>0</th>\n",
       "      <td>1</td>\n",
       "      <td>Bulbasaur</td>\n",
       "      <td>45</td>\n",
       "      <td>49</td>\n",
       "      <td>49</td>\n",
       "      <td>144</td>\n",
       "    </tr>\n",
       "    <tr>\n",
       "      <th>1</th>\n",
       "      <td>2</td>\n",
       "      <td>Ivysaur</td>\n",
       "      <td>60</td>\n",
       "      <td>62</td>\n",
       "      <td>63</td>\n",
       "      <td>187</td>\n",
       "    </tr>\n",
       "    <tr>\n",
       "      <th>2</th>\n",
       "      <td>3</td>\n",
       "      <td>Venusaur</td>\n",
       "      <td>80</td>\n",
       "      <td>82</td>\n",
       "      <td>83</td>\n",
       "      <td>248</td>\n",
       "    </tr>\n",
       "    <tr>\n",
       "      <th>3</th>\n",
       "      <td>3</td>\n",
       "      <td>VenusaurMega Venusaur</td>\n",
       "      <td>80</td>\n",
       "      <td>100</td>\n",
       "      <td>123</td>\n",
       "      <td>306</td>\n",
       "    </tr>\n",
       "    <tr>\n",
       "      <th>4</th>\n",
       "      <td>4</td>\n",
       "      <td>Charmander</td>\n",
       "      <td>39</td>\n",
       "      <td>52</td>\n",
       "      <td>43</td>\n",
       "      <td>138</td>\n",
       "    </tr>\n",
       "  </tbody>\n",
       "</table>\n",
       "</div>"
      ],
      "text/plain": [
       "   Number                   Name  HP  Attack  Defense  Total_across\n",
       "0       1              Bulbasaur  45      49       49           144\n",
       "1       2                Ivysaur  60      62       63           187\n",
       "2       3               Venusaur  80      82       83           248\n",
       "3       3  VenusaurMega Venusaur  80     100      123           306\n",
       "4       4             Charmander  39      52       43           138"
      ]
     },
     "execution_count": 16,
     "metadata": {},
     "output_type": "execute_result"
    }
   ],
   "source": [
    "# let's add a column with the total across, axis=1 means columns\n",
    "pokemon.loc[:,\"Total_across\"] = pokemon.sum(axis=1)\n",
    "pokemon.head(5)"
   ]
  },
  {
   "cell_type": "code",
   "execution_count": 17,
   "metadata": {
    "id": "kQUBpsq427it"
   },
   "outputs": [
    {
     "data": {
      "text/html": [
       "<div>\n",
       "<style scoped>\n",
       "    .dataframe tbody tr th:only-of-type {\n",
       "        vertical-align: middle;\n",
       "    }\n",
       "\n",
       "    .dataframe tbody tr th {\n",
       "        vertical-align: top;\n",
       "    }\n",
       "\n",
       "    .dataframe thead th {\n",
       "        text-align: right;\n",
       "    }\n",
       "</style>\n",
       "<table border=\"1\" class=\"dataframe\">\n",
       "  <thead>\n",
       "    <tr style=\"text-align: right;\">\n",
       "      <th></th>\n",
       "      <th>Number</th>\n",
       "      <th>Name</th>\n",
       "      <th>HP</th>\n",
       "      <th>Attack</th>\n",
       "      <th>Defense</th>\n",
       "      <th>Total_across</th>\n",
       "    </tr>\n",
       "  </thead>\n",
       "  <tbody>\n",
       "    <tr>\n",
       "      <th>796</th>\n",
       "      <td>719.0</td>\n",
       "      <td>DiancieMega Diancie</td>\n",
       "      <td>50.0</td>\n",
       "      <td>160.0</td>\n",
       "      <td>110.0</td>\n",
       "      <td>1039.0</td>\n",
       "    </tr>\n",
       "    <tr>\n",
       "      <th>797</th>\n",
       "      <td>720.0</td>\n",
       "      <td>HoopaHoopa Confined</td>\n",
       "      <td>80.0</td>\n",
       "      <td>110.0</td>\n",
       "      <td>60.0</td>\n",
       "      <td>970.0</td>\n",
       "    </tr>\n",
       "    <tr>\n",
       "      <th>798</th>\n",
       "      <td>720.0</td>\n",
       "      <td>HoopaHoopa Unbound</td>\n",
       "      <td>80.0</td>\n",
       "      <td>160.0</td>\n",
       "      <td>60.0</td>\n",
       "      <td>1020.0</td>\n",
       "    </tr>\n",
       "    <tr>\n",
       "      <th>799</th>\n",
       "      <td>721.0</td>\n",
       "      <td>Volcanion</td>\n",
       "      <td>80.0</td>\n",
       "      <td>110.0</td>\n",
       "      <td>120.0</td>\n",
       "      <td>1031.0</td>\n",
       "    </tr>\n",
       "    <tr>\n",
       "      <th>Total_down</th>\n",
       "      <td>290251.0</td>\n",
       "      <td>BulbasaurIvysaurVenusaurVenusaurMega VenusaurC...</td>\n",
       "      <td>55407.0</td>\n",
       "      <td>63201.0</td>\n",
       "      <td>59074.0</td>\n",
       "      <td>467933.0</td>\n",
       "    </tr>\n",
       "  </tbody>\n",
       "</table>\n",
       "</div>"
      ],
      "text/plain": [
       "              Number                                               Name  \\\n",
       "796            719.0                                DiancieMega Diancie   \n",
       "797            720.0                                HoopaHoopa Confined   \n",
       "798            720.0                                 HoopaHoopa Unbound   \n",
       "799            721.0                                          Volcanion   \n",
       "Total_down  290251.0  BulbasaurIvysaurVenusaurVenusaurMega VenusaurC...   \n",
       "\n",
       "                 HP   Attack  Defense  Total_across  \n",
       "796            50.0    160.0    110.0        1039.0  \n",
       "797            80.0    110.0     60.0         970.0  \n",
       "798            80.0    160.0     60.0        1020.0  \n",
       "799            80.0    110.0    120.0        1031.0  \n",
       "Total_down  55407.0  63201.0  59074.0      467933.0  "
      ]
     },
     "execution_count": 17,
     "metadata": {},
     "output_type": "execute_result"
    }
   ],
   "source": [
    "#let's add a row with the total down each column\n",
    "## if we don't specify axis then pandas will do rows automatically\n",
    "pokemon.loc[\"Total_down\",:] = pokemon.sum()\n",
    "pokemon.tail(5)"
   ]
  },
  {
   "cell_type": "code",
   "execution_count": 18,
   "metadata": {
    "id": "WqPK5yq6msTq"
   },
   "outputs": [
    {
     "data": {
      "text/html": [
       "<div>\n",
       "<style scoped>\n",
       "    .dataframe tbody tr th:only-of-type {\n",
       "        vertical-align: middle;\n",
       "    }\n",
       "\n",
       "    .dataframe tbody tr th {\n",
       "        vertical-align: top;\n",
       "    }\n",
       "\n",
       "    .dataframe thead th {\n",
       "        text-align: right;\n",
       "    }\n",
       "</style>\n",
       "<table border=\"1\" class=\"dataframe\">\n",
       "  <thead>\n",
       "    <tr style=\"text-align: right;\">\n",
       "      <th></th>\n",
       "      <th>Number</th>\n",
       "      <th>Name</th>\n",
       "      <th>HP</th>\n",
       "      <th>Attack</th>\n",
       "      <th>Defense</th>\n",
       "      <th>Total_across</th>\n",
       "      <th>total_iloc</th>\n",
       "    </tr>\n",
       "  </thead>\n",
       "  <tbody>\n",
       "    <tr>\n",
       "      <th>0</th>\n",
       "      <td>1.0</td>\n",
       "      <td>Bulbasaur</td>\n",
       "      <td>45.0</td>\n",
       "      <td>49.0</td>\n",
       "      <td>49.0</td>\n",
       "      <td>144.0</td>\n",
       "      <td>98.0</td>\n",
       "    </tr>\n",
       "    <tr>\n",
       "      <th>1</th>\n",
       "      <td>2.0</td>\n",
       "      <td>Ivysaur</td>\n",
       "      <td>60.0</td>\n",
       "      <td>62.0</td>\n",
       "      <td>63.0</td>\n",
       "      <td>187.0</td>\n",
       "      <td>125.0</td>\n",
       "    </tr>\n",
       "    <tr>\n",
       "      <th>2</th>\n",
       "      <td>3.0</td>\n",
       "      <td>Venusaur</td>\n",
       "      <td>80.0</td>\n",
       "      <td>82.0</td>\n",
       "      <td>83.0</td>\n",
       "      <td>248.0</td>\n",
       "      <td>165.0</td>\n",
       "    </tr>\n",
       "    <tr>\n",
       "      <th>3</th>\n",
       "      <td>3.0</td>\n",
       "      <td>VenusaurMega Venusaur</td>\n",
       "      <td>80.0</td>\n",
       "      <td>100.0</td>\n",
       "      <td>123.0</td>\n",
       "      <td>306.0</td>\n",
       "      <td>223.0</td>\n",
       "    </tr>\n",
       "    <tr>\n",
       "      <th>4</th>\n",
       "      <td>4.0</td>\n",
       "      <td>Charmander</td>\n",
       "      <td>39.0</td>\n",
       "      <td>52.0</td>\n",
       "      <td>43.0</td>\n",
       "      <td>138.0</td>\n",
       "      <td>95.0</td>\n",
       "    </tr>\n",
       "  </tbody>\n",
       "</table>\n",
       "</div>"
      ],
      "text/plain": [
       "   Number                   Name    HP  Attack  Defense  Total_across  \\\n",
       "0     1.0              Bulbasaur  45.0    49.0     49.0         144.0   \n",
       "1     2.0                Ivysaur  60.0    62.0     63.0         187.0   \n",
       "2     3.0               Venusaur  80.0    82.0     83.0         248.0   \n",
       "3     3.0  VenusaurMega Venusaur  80.0   100.0    123.0         306.0   \n",
       "4     4.0             Charmander  39.0    52.0     43.0         138.0   \n",
       "\n",
       "   total_iloc  \n",
       "0        98.0  \n",
       "1       125.0  \n",
       "2       165.0  \n",
       "3       223.0  \n",
       "4        95.0  "
      ]
     },
     "execution_count": 18,
     "metadata": {},
     "output_type": "execute_result"
    }
   ],
   "source": [
    "## to select specif rows and columns we can combine math and .iloc or loc\n",
    "pokemon['total_iloc']=pokemon.iloc[:,[3,4]].sum(axis=1)\n",
    "pokemon.head()"
   ]
  },
  {
   "cell_type": "code",
   "execution_count": 19,
   "metadata": {
    "id": "zL5woDuiNRe3"
   },
   "outputs": [
    {
     "data": {
      "text/html": [
       "<div>\n",
       "<style scoped>\n",
       "    .dataframe tbody tr th:only-of-type {\n",
       "        vertical-align: middle;\n",
       "    }\n",
       "\n",
       "    .dataframe tbody tr th {\n",
       "        vertical-align: top;\n",
       "    }\n",
       "\n",
       "    .dataframe thead th {\n",
       "        text-align: right;\n",
       "    }\n",
       "</style>\n",
       "<table border=\"1\" class=\"dataframe\">\n",
       "  <thead>\n",
       "    <tr style=\"text-align: right;\">\n",
       "      <th></th>\n",
       "      <th>Number</th>\n",
       "      <th>Name</th>\n",
       "      <th>HP</th>\n",
       "      <th>Attack</th>\n",
       "      <th>Defense</th>\n",
       "    </tr>\n",
       "  </thead>\n",
       "  <tbody>\n",
       "    <tr>\n",
       "      <th>0</th>\n",
       "      <td>1.0</td>\n",
       "      <td>Bulbasaur</td>\n",
       "      <td>45.0</td>\n",
       "      <td>49.0</td>\n",
       "      <td>49.0</td>\n",
       "    </tr>\n",
       "    <tr>\n",
       "      <th>1</th>\n",
       "      <td>2.0</td>\n",
       "      <td>Ivysaur</td>\n",
       "      <td>60.0</td>\n",
       "      <td>62.0</td>\n",
       "      <td>63.0</td>\n",
       "    </tr>\n",
       "    <tr>\n",
       "      <th>2</th>\n",
       "      <td>3.0</td>\n",
       "      <td>Venusaur</td>\n",
       "      <td>80.0</td>\n",
       "      <td>82.0</td>\n",
       "      <td>83.0</td>\n",
       "    </tr>\n",
       "    <tr>\n",
       "      <th>3</th>\n",
       "      <td>3.0</td>\n",
       "      <td>VenusaurMega Venusaur</td>\n",
       "      <td>80.0</td>\n",
       "      <td>100.0</td>\n",
       "      <td>123.0</td>\n",
       "    </tr>\n",
       "    <tr>\n",
       "      <th>4</th>\n",
       "      <td>4.0</td>\n",
       "      <td>Charmander</td>\n",
       "      <td>39.0</td>\n",
       "      <td>52.0</td>\n",
       "      <td>43.0</td>\n",
       "    </tr>\n",
       "  </tbody>\n",
       "</table>\n",
       "</div>"
      ],
      "text/plain": [
       "   Number                   Name    HP  Attack  Defense\n",
       "0     1.0              Bulbasaur  45.0    49.0     49.0\n",
       "1     2.0                Ivysaur  60.0    62.0     63.0\n",
       "2     3.0               Venusaur  80.0    82.0     83.0\n",
       "3     3.0  VenusaurMega Venusaur  80.0   100.0    123.0\n",
       "4     4.0             Charmander  39.0    52.0     43.0"
      ]
     },
     "execution_count": 19,
     "metadata": {},
     "output_type": "execute_result"
    }
   ],
   "source": [
    "#let's remove the new column so it doesn't confuse us later\n",
    "pokemon.drop(columns=['Total_across','total_iloc'],inplace=True)\n",
    "pokemon.head()"
   ]
  },
  {
   "cell_type": "markdown",
   "metadata": {
    "id": "aF6WOzjhFN7j"
   },
   "source": [
    "## Skill Check\n",
    "\n",
    "Print the mean and standard deviation of the 'Attack' for only the first 5 rows of the dataframe"
   ]
  },
  {
   "cell_type": "code",
   "execution_count": null,
   "metadata": {
    "id": "aFSjy3FCFZ7j"
   },
   "outputs": [],
   "source": [
    "### Your work here\n",
    "\n",
    "###mean\n",
    "\n",
    "\n",
    "\n",
    "###std\n",
    "\n"
   ]
  },
  {
   "cell_type": "markdown",
   "metadata": {
    "id": "ija_F-TMFb6n"
   },
   "source": [
    "### Answer"
   ]
  },
  {
   "cell_type": "code",
   "execution_count": 20,
   "metadata": {
    "colab": {
     "base_uri": "https://localhost:8080/",
     "height": 198
    },
    "executionInfo": {
     "elapsed": 275,
     "status": "error",
     "timestamp": 1625275824370,
     "user": {
      "displayName": "Katerina Levi",
      "photoUrl": "",
      "userId": "14790590329608039426"
     },
     "user_tz": 240
    },
    "id": "8p4am8YcFaEx",
    "outputId": "77c826e7-b3d9-4ab8-b7fc-797ec44c1ac0"
   },
   "outputs": [
    {
     "name": "stdout",
     "output_type": "stream",
     "text": [
      "Attack    68.166667\n",
      "dtype: float64\n",
      "Attack    19.43622\n",
      "dtype: float64\n"
     ]
    }
   ],
   "source": [
    "### use iloc to select the rows and column you want then call mean and std\n",
    "print (pokemon.iloc[0:6,[3]].mean())\n",
    "print (pokemon.iloc[0:6,[3]].std())"
   ]
  },
  {
   "cell_type": "markdown",
   "metadata": {
    "id": "0ndoXvSXEhmJ"
   },
   "source": [
    "## 9. Math discaimer\n"
   ]
  },
  {
   "cell_type": "markdown",
   "metadata": {
    "id": "kCmq0NtnEvpr"
   },
   "source": [
    "If you want to do full on calculation with dataframes then use numpy. Pandas is best suited for analyzing dataframes with some categorical column. You can create functions to analyze your df and there are some cool tricks that I will mention below but again if you want to do mathematical analyses on your tables then numpy is your go to."
   ]
  },
  {
   "cell_type": "markdown",
   "metadata": {
    "id": "Er0goAHm-xlY"
   },
   "source": [
    "## 10. String manipulation with columns\n",
    "We are going to use one of my old datasets to better understand the power of pandas and string manipulations"
   ]
  },
  {
   "cell_type": "code",
   "execution_count": 22,
   "metadata": {
    "colab": {
     "base_uri": "https://localhost:8080/",
     "height": 391
    },
    "executionInfo": {
     "elapsed": 540,
     "status": "ok",
     "timestamp": 1599837969118,
     "user": {
      "displayName": "Maria Hernandez Limon",
      "photoUrl": "https://lh3.googleusercontent.com/a-/AOh14Ghd3PTHlBML4DLlupZiaArIJ8xYakaUbI3sK1QW=s64",
      "userId": "15768601250316805169"
     },
     "user_tz": 300
    },
    "id": "h3tQGJP-99gO",
    "outputId": "cb2a34e8-bb6f-41fe-8ba5-7ce16587d9e6"
   },
   "outputs": [
    {
     "name": "stdout",
     "output_type": "stream",
     "text": [
      "<class 'pandas.core.frame.DataFrame'>\n",
      "RangeIndex: 17034 entries, 0 to 17033\n",
      "Data columns (total 4 columns):\n",
      " #   Column             Non-Null Count  Dtype \n",
      "---  ------             --------------  ----- \n",
      " 0   CAMNT_ID           17034 non-null  object\n",
      " 1   WGCNA_Module_Num   17034 non-null  int64 \n",
      " 2   RAIN_diel_Results  17034 non-null  bool  \n",
      " 3   KEGG_Annotations   11231 non-null  object\n",
      "dtypes: bool(1), int64(1), object(2)\n",
      "memory usage: 416.0+ KB\n"
     ]
    },
    {
     "data": {
      "text/html": [
       "<div>\n",
       "<style scoped>\n",
       "    .dataframe tbody tr th:only-of-type {\n",
       "        vertical-align: middle;\n",
       "    }\n",
       "\n",
       "    .dataframe tbody tr th {\n",
       "        vertical-align: top;\n",
       "    }\n",
       "\n",
       "    .dataframe thead th {\n",
       "        text-align: right;\n",
       "    }\n",
       "</style>\n",
       "<table border=\"1\" class=\"dataframe\">\n",
       "  <thead>\n",
       "    <tr style=\"text-align: right;\">\n",
       "      <th></th>\n",
       "      <th>CAMNT_ID</th>\n",
       "      <th>WGCNA_Module_Num</th>\n",
       "      <th>RAIN_diel_Results</th>\n",
       "      <th>KEGG_Annotations</th>\n",
       "    </tr>\n",
       "  </thead>\n",
       "  <tbody>\n",
       "    <tr>\n",
       "      <th>0</th>\n",
       "      <td>CAMNT_0024302971</td>\n",
       "      <td>7</td>\n",
       "      <td>False</td>\n",
       "      <td>00910 Nitrogen metabolism [PATH:ko00910]</td>\n",
       "    </tr>\n",
       "    <tr>\n",
       "      <th>1</th>\n",
       "      <td>CAMNT_0024014877</td>\n",
       "      <td>4</td>\n",
       "      <td>False</td>\n",
       "      <td>00030 Pentose phosphate pathway [PATH:ko00030]</td>\n",
       "    </tr>\n",
       "    <tr>\n",
       "      <th>2</th>\n",
       "      <td>CAMNT_0024014645</td>\n",
       "      <td>9</td>\n",
       "      <td>True</td>\n",
       "      <td>00190 Oxidative phosphorylation [PATH:ko00190]</td>\n",
       "    </tr>\n",
       "    <tr>\n",
       "      <th>3</th>\n",
       "      <td>CAMNT_0023937169</td>\n",
       "      <td>9</td>\n",
       "      <td>True</td>\n",
       "      <td>00190 Oxidative phosphorylation [PATH:ko00190]</td>\n",
       "    </tr>\n",
       "    <tr>\n",
       "      <th>4</th>\n",
       "      <td>CAMNT_0024335527</td>\n",
       "      <td>9</td>\n",
       "      <td>True</td>\n",
       "      <td>00190 Oxidative phosphorylation [PATH:ko00190]</td>\n",
       "    </tr>\n",
       "  </tbody>\n",
       "</table>\n",
       "</div>"
      ],
      "text/plain": [
       "           CAMNT_ID  WGCNA_Module_Num  RAIN_diel_Results  \\\n",
       "0  CAMNT_0024302971                 7              False   \n",
       "1  CAMNT_0024014877                 4              False   \n",
       "2  CAMNT_0024014645                 9               True   \n",
       "3  CAMNT_0023937169                 9               True   \n",
       "4  CAMNT_0024335527                 9               True   \n",
       "\n",
       "                                 KEGG_Annotations  \n",
       "0        00910 Nitrogen metabolism [PATH:ko00910]  \n",
       "1  00030 Pentose phosphate pathway [PATH:ko00030]  \n",
       "2  00190 Oxidative phosphorylation [PATH:ko00190]  \n",
       "3  00190 Oxidative phosphorylation [PATH:ko00190]  \n",
       "4  00190 Oxidative phosphorylation [PATH:ko00190]  "
      ]
     },
     "execution_count": 22,
     "metadata": {},
     "output_type": "execute_result"
    }
   ],
   "source": [
    "### let's open up a genetics dataset\n",
    "gene_info=pd.read_csv(datadirectory+'contig_information.csv')\n",
    "## info to see count \n",
    "gene_info.info()\n",
    "gene_info.head()"
   ]
  },
  {
   "cell_type": "code",
   "execution_count": 24,
   "metadata": {
    "colab": {
     "base_uri": "https://localhost:8080/",
     "height": 391
    },
    "executionInfo": {
     "elapsed": 1845,
     "status": "ok",
     "timestamp": 1599837619869,
     "user": {
      "displayName": "Maria Hernandez Limon",
      "photoUrl": "https://lh3.googleusercontent.com/a-/AOh14Ghd3PTHlBML4DLlupZiaArIJ8xYakaUbI3sK1QW=s64",
      "userId": "15768601250316805169"
     },
     "user_tz": 300
    },
    "id": "T_ntRc3jJzX6",
    "outputId": "88aebc26-4ece-48ff-b57d-6f7701e84058"
   },
   "outputs": [
    {
     "name": "stdout",
     "output_type": "stream",
     "text": [
      "<class 'pandas.core.frame.DataFrame'>\n",
      "Int64Index: 11231 entries, 0 to 11881\n",
      "Data columns (total 4 columns):\n",
      " #   Column             Non-Null Count  Dtype \n",
      "---  ------             --------------  ----- \n",
      " 0   CAMNT_ID           11231 non-null  object\n",
      " 1   WGCNA_Module_Num   11231 non-null  int64 \n",
      " 2   RAIN_diel_Results  11231 non-null  bool  \n",
      " 3   KEGG_Annotations   11231 non-null  object\n",
      "dtypes: bool(1), int64(1), object(2)\n",
      "memory usage: 361.9+ KB\n"
     ]
    },
    {
     "data": {
      "text/html": [
       "<div>\n",
       "<style scoped>\n",
       "    .dataframe tbody tr th:only-of-type {\n",
       "        vertical-align: middle;\n",
       "    }\n",
       "\n",
       "    .dataframe tbody tr th {\n",
       "        vertical-align: top;\n",
       "    }\n",
       "\n",
       "    .dataframe thead th {\n",
       "        text-align: right;\n",
       "    }\n",
       "</style>\n",
       "<table border=\"1\" class=\"dataframe\">\n",
       "  <thead>\n",
       "    <tr style=\"text-align: right;\">\n",
       "      <th></th>\n",
       "      <th>CAMNT_ID</th>\n",
       "      <th>WGCNA_Module_Num</th>\n",
       "      <th>RAIN_diel_Results</th>\n",
       "      <th>KEGG_Annotations</th>\n",
       "    </tr>\n",
       "  </thead>\n",
       "  <tbody>\n",
       "    <tr>\n",
       "      <th>0</th>\n",
       "      <td>CAMNT_0024302971</td>\n",
       "      <td>7</td>\n",
       "      <td>False</td>\n",
       "      <td>00910 Nitrogen metabolism [PATH:ko00910]</td>\n",
       "    </tr>\n",
       "    <tr>\n",
       "      <th>1</th>\n",
       "      <td>CAMNT_0024014877</td>\n",
       "      <td>4</td>\n",
       "      <td>False</td>\n",
       "      <td>00030 Pentose phosphate pathway [PATH:ko00030]</td>\n",
       "    </tr>\n",
       "    <tr>\n",
       "      <th>2</th>\n",
       "      <td>CAMNT_0024014645</td>\n",
       "      <td>9</td>\n",
       "      <td>True</td>\n",
       "      <td>00190 Oxidative phosphorylation [PATH:ko00190]</td>\n",
       "    </tr>\n",
       "    <tr>\n",
       "      <th>3</th>\n",
       "      <td>CAMNT_0023937169</td>\n",
       "      <td>9</td>\n",
       "      <td>True</td>\n",
       "      <td>00190 Oxidative phosphorylation [PATH:ko00190]</td>\n",
       "    </tr>\n",
       "    <tr>\n",
       "      <th>4</th>\n",
       "      <td>CAMNT_0024335527</td>\n",
       "      <td>9</td>\n",
       "      <td>True</td>\n",
       "      <td>00190 Oxidative phosphorylation [PATH:ko00190]</td>\n",
       "    </tr>\n",
       "  </tbody>\n",
       "</table>\n",
       "</div>"
      ],
      "text/plain": [
       "           CAMNT_ID  WGCNA_Module_Num  RAIN_diel_Results  \\\n",
       "0  CAMNT_0024302971                 7              False   \n",
       "1  CAMNT_0024014877                 4              False   \n",
       "2  CAMNT_0024014645                 9               True   \n",
       "3  CAMNT_0023937169                 9               True   \n",
       "4  CAMNT_0024335527                 9               True   \n",
       "\n",
       "                                 KEGG_Annotations  \n",
       "0        00910 Nitrogen metabolism [PATH:ko00910]  \n",
       "1  00030 Pentose phosphate pathway [PATH:ko00030]  \n",
       "2  00190 Oxidative phosphorylation [PATH:ko00190]  \n",
       "3  00190 Oxidative phosphorylation [PATH:ko00190]  \n",
       "4  00190 Oxidative phosphorylation [PATH:ko00190]  "
      ]
     },
     "execution_count": 24,
     "metadata": {},
     "output_type": "execute_result"
    }
   ],
   "source": [
    "### let's drop the rows without values since I can't do anything with them\n",
    "gene_info_clean=gene_info.dropna()\n",
    "gene_info_clean.info()\n",
    "gene_info_clean.head()"
   ]
  },
  {
   "cell_type": "markdown",
   "metadata": {
    "id": "i8gLmn0h-5X2"
   },
   "source": [
    "A challenge that I often have in my data is messy names annotation names"
   ]
  },
  {
   "cell_type": "markdown",
   "metadata": {
    "id": "EgSfiLLZAed_"
   },
   "source": [
    "-Let's clean up the Kegg annotations so I only have the actual annotation"
   ]
  },
  {
   "cell_type": "code",
   "execution_count": null,
   "metadata": {
    "colab": {
     "base_uri": "https://localhost:8080/",
     "height": 374
    },
    "executionInfo": {
     "elapsed": 684,
     "status": "ok",
     "timestamp": 1599837973218,
     "user": {
      "displayName": "Maria Hernandez Limon",
      "photoUrl": "https://lh3.googleusercontent.com/a-/AOh14Ghd3PTHlBML4DLlupZiaArIJ8xYakaUbI3sK1QW=s64",
      "userId": "15768601250316805169"
     },
     "user_tz": 300
    },
    "id": "XIqU7HOHM6tq",
    "outputId": "aed823bc-b7d2-46ba-9bd2-4a74c18280f9"
   },
   "outputs": [
    {
     "data": {
      "text/html": [
       "<div>\n",
       "<style scoped>\n",
       "    .dataframe tbody tr th:only-of-type {\n",
       "        vertical-align: middle;\n",
       "    }\n",
       "\n",
       "    .dataframe tbody tr th {\n",
       "        vertical-align: top;\n",
       "    }\n",
       "\n",
       "    .dataframe thead th {\n",
       "        text-align: right;\n",
       "    }\n",
       "</style>\n",
       "<table border=\"1\" class=\"dataframe\">\n",
       "  <thead>\n",
       "    <tr style=\"text-align: right;\">\n",
       "      <th></th>\n",
       "      <th>CAMNT</th>\n",
       "      <th>WGCNA_Module_Num</th>\n",
       "      <th>RAIN_diel_Results</th>\n",
       "      <th>KEGG_Annotations</th>\n",
       "      <th>KEGG_clean</th>\n",
       "      <th>KEGG_clean1</th>\n",
       "    </tr>\n",
       "  </thead>\n",
       "  <tbody>\n",
       "    <tr>\n",
       "      <th>0</th>\n",
       "      <td>CAMNT_0024302971</td>\n",
       "      <td>7</td>\n",
       "      <td>False</td>\n",
       "      <td>00910 Nitrogen metabolism [PATH:ko00910]</td>\n",
       "      <td>(00910,  , Nitrogen metabolism [PATH:ko00910])</td>\n",
       "      <td>Nitrogen metabolism [PATH:ko00910]</td>\n",
       "    </tr>\n",
       "    <tr>\n",
       "      <th>1</th>\n",
       "      <td>CAMNT_0024014877</td>\n",
       "      <td>4</td>\n",
       "      <td>False</td>\n",
       "      <td>00030 Pentose phosphate pathway [PATH:ko00030]</td>\n",
       "      <td>(00030,  , Pentose phosphate pathway [PATH:ko0...</td>\n",
       "      <td>Pentose phosphate pathway [PATH:ko00030]</td>\n",
       "    </tr>\n",
       "    <tr>\n",
       "      <th>2</th>\n",
       "      <td>CAMNT_0024014645</td>\n",
       "      <td>9</td>\n",
       "      <td>True</td>\n",
       "      <td>00190 Oxidative phosphorylation [PATH:ko00190]</td>\n",
       "      <td>(00190,  , Oxidative phosphorylation [PATH:ko0...</td>\n",
       "      <td>Oxidative phosphorylation [PATH:ko00190]</td>\n",
       "    </tr>\n",
       "    <tr>\n",
       "      <th>3</th>\n",
       "      <td>CAMNT_0023937169</td>\n",
       "      <td>9</td>\n",
       "      <td>True</td>\n",
       "      <td>00190 Oxidative phosphorylation [PATH:ko00190]</td>\n",
       "      <td>(00190,  , Oxidative phosphorylation [PATH:ko0...</td>\n",
       "      <td>Oxidative phosphorylation [PATH:ko00190]</td>\n",
       "    </tr>\n",
       "    <tr>\n",
       "      <th>4</th>\n",
       "      <td>CAMNT_0024335527</td>\n",
       "      <td>9</td>\n",
       "      <td>True</td>\n",
       "      <td>00190 Oxidative phosphorylation [PATH:ko00190]</td>\n",
       "      <td>(00190,  , Oxidative phosphorylation [PATH:ko0...</td>\n",
       "      <td>Oxidative phosphorylation [PATH:ko00190]</td>\n",
       "    </tr>\n",
       "  </tbody>\n",
       "</table>\n",
       "</div>"
      ],
      "text/plain": [
       "              CAMNT  ...                               KEGG_clean1\n",
       "0  CAMNT_0024302971  ...        Nitrogen metabolism [PATH:ko00910]\n",
       "1  CAMNT_0024014877  ...  Pentose phosphate pathway [PATH:ko00030]\n",
       "2  CAMNT_0024014645  ...  Oxidative phosphorylation [PATH:ko00190]\n",
       "3  CAMNT_0023937169  ...  Oxidative phosphorylation [PATH:ko00190]\n",
       "4  CAMNT_0024335527  ...  Oxidative phosphorylation [PATH:ko00190]\n",
       "\n",
       "[5 rows x 6 columns]"
      ]
     },
     "execution_count": 89,
     "metadata": {
      "tags": []
     },
     "output_type": "execute_result"
    }
   ],
   "source": [
    "#partition my string based on the delimter, in this case the space\n",
    "gene_info_clean['KEGG_clean']=[i.partition(' ') for i in gene_info_clean['KEGG_Annotations']].copy()\n",
    "gene_info_clean.head()"
   ]
  },
  {
   "cell_type": "code",
   "execution_count": null,
   "metadata": {
    "colab": {
     "base_uri": "https://localhost:8080/",
     "height": 374
    },
    "executionInfo": {
     "elapsed": 658,
     "status": "ok",
     "timestamp": 1599837976111,
     "user": {
      "displayName": "Maria Hernandez Limon",
      "photoUrl": "https://lh3.googleusercontent.com/a-/AOh14Ghd3PTHlBML4DLlupZiaArIJ8xYakaUbI3sK1QW=s64",
      "userId": "15768601250316805169"
     },
     "user_tz": 300
    },
    "id": "Ika43oYBOj_0",
    "outputId": "f28bee8e-f100-45e3-c1e4-dffd58f3e8da"
   },
   "outputs": [
    {
     "data": {
      "text/html": [
       "<div>\n",
       "<style scoped>\n",
       "    .dataframe tbody tr th:only-of-type {\n",
       "        vertical-align: middle;\n",
       "    }\n",
       "\n",
       "    .dataframe tbody tr th {\n",
       "        vertical-align: top;\n",
       "    }\n",
       "\n",
       "    .dataframe thead th {\n",
       "        text-align: right;\n",
       "    }\n",
       "</style>\n",
       "<table border=\"1\" class=\"dataframe\">\n",
       "  <thead>\n",
       "    <tr style=\"text-align: right;\">\n",
       "      <th></th>\n",
       "      <th>CAMNT</th>\n",
       "      <th>WGCNA_Module_Num</th>\n",
       "      <th>RAIN_diel_Results</th>\n",
       "      <th>KEGG_Annotations</th>\n",
       "      <th>KEGG_clean</th>\n",
       "      <th>KEGG_clean1</th>\n",
       "    </tr>\n",
       "  </thead>\n",
       "  <tbody>\n",
       "    <tr>\n",
       "      <th>0</th>\n",
       "      <td>CAMNT_0024302971</td>\n",
       "      <td>7</td>\n",
       "      <td>False</td>\n",
       "      <td>00910 Nitrogen metabolism [PATH:ko00910]</td>\n",
       "      <td>(00910,  , Nitrogen metabolism [PATH:ko00910])</td>\n",
       "      <td>Nitrogen metabolism [PATH:ko00910]</td>\n",
       "    </tr>\n",
       "    <tr>\n",
       "      <th>1</th>\n",
       "      <td>CAMNT_0024014877</td>\n",
       "      <td>4</td>\n",
       "      <td>False</td>\n",
       "      <td>00030 Pentose phosphate pathway [PATH:ko00030]</td>\n",
       "      <td>(00030,  , Pentose phosphate pathway [PATH:ko0...</td>\n",
       "      <td>Pentose phosphate pathway [PATH:ko00030]</td>\n",
       "    </tr>\n",
       "    <tr>\n",
       "      <th>2</th>\n",
       "      <td>CAMNT_0024014645</td>\n",
       "      <td>9</td>\n",
       "      <td>True</td>\n",
       "      <td>00190 Oxidative phosphorylation [PATH:ko00190]</td>\n",
       "      <td>(00190,  , Oxidative phosphorylation [PATH:ko0...</td>\n",
       "      <td>Oxidative phosphorylation [PATH:ko00190]</td>\n",
       "    </tr>\n",
       "    <tr>\n",
       "      <th>3</th>\n",
       "      <td>CAMNT_0023937169</td>\n",
       "      <td>9</td>\n",
       "      <td>True</td>\n",
       "      <td>00190 Oxidative phosphorylation [PATH:ko00190]</td>\n",
       "      <td>(00190,  , Oxidative phosphorylation [PATH:ko0...</td>\n",
       "      <td>Oxidative phosphorylation [PATH:ko00190]</td>\n",
       "    </tr>\n",
       "    <tr>\n",
       "      <th>4</th>\n",
       "      <td>CAMNT_0024335527</td>\n",
       "      <td>9</td>\n",
       "      <td>True</td>\n",
       "      <td>00190 Oxidative phosphorylation [PATH:ko00190]</td>\n",
       "      <td>(00190,  , Oxidative phosphorylation [PATH:ko0...</td>\n",
       "      <td>Oxidative phosphorylation [PATH:ko00190]</td>\n",
       "    </tr>\n",
       "  </tbody>\n",
       "</table>\n",
       "</div>"
      ],
      "text/plain": [
       "              CAMNT  ...                               KEGG_clean1\n",
       "0  CAMNT_0024302971  ...        Nitrogen metabolism [PATH:ko00910]\n",
       "1  CAMNT_0024014877  ...  Pentose phosphate pathway [PATH:ko00030]\n",
       "2  CAMNT_0024014645  ...  Oxidative phosphorylation [PATH:ko00190]\n",
       "3  CAMNT_0023937169  ...  Oxidative phosphorylation [PATH:ko00190]\n",
       "4  CAMNT_0024335527  ...  Oxidative phosphorylation [PATH:ko00190]\n",
       "\n",
       "[5 rows x 6 columns]"
      ]
     },
     "execution_count": 90,
     "metadata": {
      "tags": []
     },
     "output_type": "execute_result"
    }
   ],
   "source": [
    "# then I select the values I want from the list \n",
    "gene_info_clean['KEGG_clean1']=[i.partition(' ')[2] for i in gene_info_clean['KEGG_Annotations']].copy()\n",
    "gene_info_clean.head()"
   ]
  },
  {
   "cell_type": "code",
   "execution_count": null,
   "metadata": {
    "colab": {
     "base_uri": "https://localhost:8080/",
     "height": 306
    },
    "executionInfo": {
     "elapsed": 540,
     "status": "ok",
     "timestamp": 1599837978612,
     "user": {
      "displayName": "Maria Hernandez Limon",
      "photoUrl": "https://lh3.googleusercontent.com/a-/AOh14Ghd3PTHlBML4DLlupZiaArIJ8xYakaUbI3sK1QW=s64",
      "userId": "15768601250316805169"
     },
     "user_tz": 300
    },
    "id": "bxT_juMlLOUo",
    "outputId": "d56fb211-701f-4ddd-f7d8-8cdbbcb96d6e"
   },
   "outputs": [
    {
     "data": {
      "text/html": [
       "<div>\n",
       "<style scoped>\n",
       "    .dataframe tbody tr th:only-of-type {\n",
       "        vertical-align: middle;\n",
       "    }\n",
       "\n",
       "    .dataframe tbody tr th {\n",
       "        vertical-align: top;\n",
       "    }\n",
       "\n",
       "    .dataframe thead th {\n",
       "        text-align: right;\n",
       "    }\n",
       "</style>\n",
       "<table border=\"1\" class=\"dataframe\">\n",
       "  <thead>\n",
       "    <tr style=\"text-align: right;\">\n",
       "      <th></th>\n",
       "      <th>CAMNT</th>\n",
       "      <th>WGCNA_Module_Num</th>\n",
       "      <th>RAIN_diel_Results</th>\n",
       "      <th>KEGG_Annotations</th>\n",
       "      <th>KEGG_clean</th>\n",
       "      <th>KEGG_clean1</th>\n",
       "    </tr>\n",
       "  </thead>\n",
       "  <tbody>\n",
       "    <tr>\n",
       "      <th>0</th>\n",
       "      <td>CAMNT_0024302971</td>\n",
       "      <td>7</td>\n",
       "      <td>False</td>\n",
       "      <td>00910 Nitrogen metabolism [PATH:ko00910]</td>\n",
       "      <td>Nitrogen metabolism</td>\n",
       "      <td>Nitrogen metabolism [PATH:ko00910]</td>\n",
       "    </tr>\n",
       "    <tr>\n",
       "      <th>1</th>\n",
       "      <td>CAMNT_0024014877</td>\n",
       "      <td>4</td>\n",
       "      <td>False</td>\n",
       "      <td>00030 Pentose phosphate pathway [PATH:ko00030]</td>\n",
       "      <td>Pentose phosphate pathway</td>\n",
       "      <td>Pentose phosphate pathway [PATH:ko00030]</td>\n",
       "    </tr>\n",
       "    <tr>\n",
       "      <th>2</th>\n",
       "      <td>CAMNT_0024014645</td>\n",
       "      <td>9</td>\n",
       "      <td>True</td>\n",
       "      <td>00190 Oxidative phosphorylation [PATH:ko00190]</td>\n",
       "      <td>Oxidative phosphorylation</td>\n",
       "      <td>Oxidative phosphorylation [PATH:ko00190]</td>\n",
       "    </tr>\n",
       "    <tr>\n",
       "      <th>3</th>\n",
       "      <td>CAMNT_0023937169</td>\n",
       "      <td>9</td>\n",
       "      <td>True</td>\n",
       "      <td>00190 Oxidative phosphorylation [PATH:ko00190]</td>\n",
       "      <td>Oxidative phosphorylation</td>\n",
       "      <td>Oxidative phosphorylation [PATH:ko00190]</td>\n",
       "    </tr>\n",
       "    <tr>\n",
       "      <th>4</th>\n",
       "      <td>CAMNT_0024335527</td>\n",
       "      <td>9</td>\n",
       "      <td>True</td>\n",
       "      <td>00190 Oxidative phosphorylation [PATH:ko00190]</td>\n",
       "      <td>Oxidative phosphorylation</td>\n",
       "      <td>Oxidative phosphorylation [PATH:ko00190]</td>\n",
       "    </tr>\n",
       "  </tbody>\n",
       "</table>\n",
       "</div>"
      ],
      "text/plain": [
       "              CAMNT  ...                               KEGG_clean1\n",
       "0  CAMNT_0024302971  ...        Nitrogen metabolism [PATH:ko00910]\n",
       "1  CAMNT_0024014877  ...  Pentose phosphate pathway [PATH:ko00030]\n",
       "2  CAMNT_0024014645  ...  Oxidative phosphorylation [PATH:ko00190]\n",
       "3  CAMNT_0023937169  ...  Oxidative phosphorylation [PATH:ko00190]\n",
       "4  CAMNT_0024335527  ...  Oxidative phosphorylation [PATH:ko00190]\n",
       "\n",
       "[5 rows x 6 columns]"
      ]
     },
     "execution_count": 91,
     "metadata": {
      "tags": []
     },
     "output_type": "execute_result"
    }
   ],
   "source": [
    "#step 1, let's remove the last part of the name \n",
    "gene_info_clean['KEGG_clean']=[i.split('[')[0] for i in gene_info_clean['KEGG_clean1']]\n",
    "gene_info_clean.head()"
   ]
  },
  {
   "cell_type": "markdown",
   "metadata": {
    "id": "CFiqViyQPUz9"
   },
   "source": [
    "When cleaning up strings it is really usuful to know all the tricks there are. Here is [one website](https://www.programiz.com/python-programming/methods/string/partition) I use for my string tricks. "
   ]
  },
  {
   "cell_type": "markdown",
   "metadata": {
    "id": "IqpnRs3nqO_W"
   },
   "source": [
    "Let's open up another dataset I need to work with"
   ]
  },
  {
   "cell_type": "code",
   "execution_count": null,
   "metadata": {
    "colab": {
     "base_uri": "https://localhost:8080/",
     "height": 224
    },
    "executionInfo": {
     "elapsed": 545,
     "status": "ok",
     "timestamp": 1599837980789,
     "user": {
      "displayName": "Maria Hernandez Limon",
      "photoUrl": "https://lh3.googleusercontent.com/a-/AOh14Ghd3PTHlBML4DLlupZiaArIJ8xYakaUbI3sK1QW=s64",
      "userId": "15768601250316805169"
     },
     "user_tz": 300
    },
    "id": "qu8oD3_g41P7",
    "outputId": "94e72afa-2a17-49b2-e438-401d13d01108"
   },
   "outputs": [
    {
     "data": {
      "text/html": [
       "<div>\n",
       "<style scoped>\n",
       "    .dataframe tbody tr th:only-of-type {\n",
       "        vertical-align: middle;\n",
       "    }\n",
       "\n",
       "    .dataframe tbody tr th {\n",
       "        vertical-align: top;\n",
       "    }\n",
       "\n",
       "    .dataframe thead th {\n",
       "        text-align: right;\n",
       "    }\n",
       "</style>\n",
       "<table border=\"1\" class=\"dataframe\">\n",
       "  <thead>\n",
       "    <tr style=\"text-align: right;\">\n",
       "      <th></th>\n",
       "      <th>CAMNT</th>\n",
       "      <th>sm001</th>\n",
       "      <th>sm002</th>\n",
       "      <th>sm003</th>\n",
       "      <th>sm004</th>\n",
       "      <th>sm005</th>\n",
       "      <th>sm008</th>\n",
       "      <th>sm009</th>\n",
       "      <th>sm010</th>\n",
       "      <th>sm011</th>\n",
       "      <th>sm012</th>\n",
       "      <th>sm013</th>\n",
       "      <th>sm016</th>\n",
       "      <th>sm017</th>\n",
       "      <th>sm018</th>\n",
       "      <th>sm019</th>\n",
       "      <th>sm020</th>\n",
       "      <th>sm024</th>\n",
       "      <th>sm025</th>\n",
       "      <th>sm026</th>\n",
       "      <th>sm027</th>\n",
       "    </tr>\n",
       "  </thead>\n",
       "  <tbody>\n",
       "    <tr>\n",
       "      <th>0</th>\n",
       "      <td>CAMNT_0023928115</td>\n",
       "      <td>214</td>\n",
       "      <td>376</td>\n",
       "      <td>204</td>\n",
       "      <td>347</td>\n",
       "      <td>411</td>\n",
       "      <td>237</td>\n",
       "      <td>262</td>\n",
       "      <td>198</td>\n",
       "      <td>199</td>\n",
       "      <td>229</td>\n",
       "      <td>411</td>\n",
       "      <td>394</td>\n",
       "      <td>299</td>\n",
       "      <td>277</td>\n",
       "      <td>251</td>\n",
       "      <td>411</td>\n",
       "      <td>288</td>\n",
       "      <td>221</td>\n",
       "      <td>256</td>\n",
       "      <td>230</td>\n",
       "    </tr>\n",
       "    <tr>\n",
       "      <th>1</th>\n",
       "      <td>CAMNT_0023928149</td>\n",
       "      <td>56</td>\n",
       "      <td>40</td>\n",
       "      <td>28</td>\n",
       "      <td>37</td>\n",
       "      <td>27</td>\n",
       "      <td>112</td>\n",
       "      <td>76</td>\n",
       "      <td>50</td>\n",
       "      <td>26</td>\n",
       "      <td>23</td>\n",
       "      <td>27</td>\n",
       "      <td>169</td>\n",
       "      <td>76</td>\n",
       "      <td>45</td>\n",
       "      <td>35</td>\n",
       "      <td>27</td>\n",
       "      <td>61</td>\n",
       "      <td>73</td>\n",
       "      <td>66</td>\n",
       "      <td>29</td>\n",
       "    </tr>\n",
       "    <tr>\n",
       "      <th>2</th>\n",
       "      <td>CAMNT_0023928253</td>\n",
       "      <td>30</td>\n",
       "      <td>45</td>\n",
       "      <td>11</td>\n",
       "      <td>38</td>\n",
       "      <td>38</td>\n",
       "      <td>28</td>\n",
       "      <td>16</td>\n",
       "      <td>29</td>\n",
       "      <td>23</td>\n",
       "      <td>19</td>\n",
       "      <td>38</td>\n",
       "      <td>15</td>\n",
       "      <td>9</td>\n",
       "      <td>31</td>\n",
       "      <td>16</td>\n",
       "      <td>38</td>\n",
       "      <td>21</td>\n",
       "      <td>28</td>\n",
       "      <td>11</td>\n",
       "      <td>10</td>\n",
       "    </tr>\n",
       "    <tr>\n",
       "      <th>3</th>\n",
       "      <td>CAMNT_0023928285</td>\n",
       "      <td>12</td>\n",
       "      <td>12</td>\n",
       "      <td>11</td>\n",
       "      <td>11</td>\n",
       "      <td>15</td>\n",
       "      <td>13</td>\n",
       "      <td>3</td>\n",
       "      <td>13</td>\n",
       "      <td>9</td>\n",
       "      <td>14</td>\n",
       "      <td>15</td>\n",
       "      <td>7</td>\n",
       "      <td>8</td>\n",
       "      <td>7</td>\n",
       "      <td>23</td>\n",
       "      <td>15</td>\n",
       "      <td>16</td>\n",
       "      <td>11</td>\n",
       "      <td>6</td>\n",
       "      <td>11</td>\n",
       "    </tr>\n",
       "    <tr>\n",
       "      <th>4</th>\n",
       "      <td>CAMNT_0023928443</td>\n",
       "      <td>210</td>\n",
       "      <td>215</td>\n",
       "      <td>216</td>\n",
       "      <td>266</td>\n",
       "      <td>338</td>\n",
       "      <td>286</td>\n",
       "      <td>225</td>\n",
       "      <td>231</td>\n",
       "      <td>174</td>\n",
       "      <td>186</td>\n",
       "      <td>338</td>\n",
       "      <td>523</td>\n",
       "      <td>897</td>\n",
       "      <td>316</td>\n",
       "      <td>246</td>\n",
       "      <td>338</td>\n",
       "      <td>243</td>\n",
       "      <td>263</td>\n",
       "      <td>235</td>\n",
       "      <td>134</td>\n",
       "    </tr>\n",
       "  </tbody>\n",
       "</table>\n",
       "</div>"
      ],
      "text/plain": [
       "              CAMNT  sm001  sm002  sm003  ...  sm024  sm025  sm026  sm027\n",
       "0  CAMNT_0023928115    214    376    204  ...    288    221    256    230\n",
       "1  CAMNT_0023928149     56     40     28  ...     61     73     66     29\n",
       "2  CAMNT_0023928253     30     45     11  ...     21     28     11     10\n",
       "3  CAMNT_0023928285     12     12     11  ...     16     11      6     11\n",
       "4  CAMNT_0023928443    210    215    216  ...    243    263    235    134\n",
       "\n",
       "[5 rows x 21 columns]"
      ]
     },
     "execution_count": 92,
     "metadata": {
      "tags": []
     },
     "output_type": "execute_result"
    }
   ],
   "source": [
    "###read the contig data\n",
    "gene_counts=pd.read_csv(datadirectory+'contig_counts.csv')\n",
    "gene_counts.head()"
   ]
  },
  {
   "cell_type": "code",
   "execution_count": null,
   "metadata": {
    "colab": {
     "base_uri": "https://localhost:8080/",
     "height": 700
    },
    "executionInfo": {
     "elapsed": 671,
     "status": "ok",
     "timestamp": 1599837983184,
     "user": {
      "displayName": "Maria Hernandez Limon",
      "photoUrl": "https://lh3.googleusercontent.com/a-/AOh14Ghd3PTHlBML4DLlupZiaArIJ8xYakaUbI3sK1QW=s64",
      "userId": "15768601250316805169"
     },
     "user_tz": 300
    },
    "id": "ztF9C4kUaCNe",
    "outputId": "3f2f7e5e-4804-4436-d69c-30f0c4ab60e7"
   },
   "outputs": [
    {
     "data": {
      "text/html": [
       "<div>\n",
       "<style scoped>\n",
       "    .dataframe tbody tr th:only-of-type {\n",
       "        vertical-align: middle;\n",
       "    }\n",
       "\n",
       "    .dataframe tbody tr th {\n",
       "        vertical-align: top;\n",
       "    }\n",
       "\n",
       "    .dataframe thead th {\n",
       "        text-align: right;\n",
       "    }\n",
       "</style>\n",
       "<table border=\"1\" class=\"dataframe\">\n",
       "  <thead>\n",
       "    <tr style=\"text-align: right;\">\n",
       "      <th></th>\n",
       "      <th>TD</th>\n",
       "      <th>Sample</th>\n",
       "      <th>Sample2</th>\n",
       "      <th>Hours</th>\n",
       "      <th>Dark</th>\n",
       "      <th>R</th>\n",
       "      <th>R2</th>\n",
       "      <th>times</th>\n",
       "    </tr>\n",
       "  </thead>\n",
       "  <tbody>\n",
       "    <tr>\n",
       "      <th>0</th>\n",
       "      <td>10pm</td>\n",
       "      <td>SM001</td>\n",
       "      <td>sm001</td>\n",
       "      <td>0</td>\n",
       "      <td>0</td>\n",
       "      <td>R1</td>\n",
       "      <td>1</td>\n",
       "      <td>2015-07-26 2200</td>\n",
       "    </tr>\n",
       "    <tr>\n",
       "      <th>1</th>\n",
       "      <td>2am</td>\n",
       "      <td>SM002</td>\n",
       "      <td>sm002</td>\n",
       "      <td>4</td>\n",
       "      <td>1</td>\n",
       "      <td>R2</td>\n",
       "      <td>2</td>\n",
       "      <td>2015-07-27 0200</td>\n",
       "    </tr>\n",
       "    <tr>\n",
       "      <th>2</th>\n",
       "      <td>6am</td>\n",
       "      <td>SM003</td>\n",
       "      <td>sm003</td>\n",
       "      <td>8</td>\n",
       "      <td>2</td>\n",
       "      <td>R3</td>\n",
       "      <td>3</td>\n",
       "      <td>2015-07-27 0600</td>\n",
       "    </tr>\n",
       "    <tr>\n",
       "      <th>3</th>\n",
       "      <td>10am</td>\n",
       "      <td>SM004</td>\n",
       "      <td>sm004</td>\n",
       "      <td>12</td>\n",
       "      <td>3</td>\n",
       "      <td>R4</td>\n",
       "      <td>4</td>\n",
       "      <td>2015-07-27 1000</td>\n",
       "    </tr>\n",
       "    <tr>\n",
       "      <th>4</th>\n",
       "      <td>2pm</td>\n",
       "      <td>SM005</td>\n",
       "      <td>sm005</td>\n",
       "      <td>16</td>\n",
       "      <td>4</td>\n",
       "      <td>R5</td>\n",
       "      <td>5</td>\n",
       "      <td>2015-07-27 1400</td>\n",
       "    </tr>\n",
       "    <tr>\n",
       "      <th>5</th>\n",
       "      <td>6pm</td>\n",
       "      <td>SM008</td>\n",
       "      <td>sm008</td>\n",
       "      <td>20</td>\n",
       "      <td>5</td>\n",
       "      <td>R6</td>\n",
       "      <td>6</td>\n",
       "      <td>2015-07-27 1800</td>\n",
       "    </tr>\n",
       "    <tr>\n",
       "      <th>6</th>\n",
       "      <td>10pm</td>\n",
       "      <td>SM009</td>\n",
       "      <td>sm009</td>\n",
       "      <td>24</td>\n",
       "      <td>6</td>\n",
       "      <td>R7</td>\n",
       "      <td>7</td>\n",
       "      <td>2015-07-27 2200</td>\n",
       "    </tr>\n",
       "    <tr>\n",
       "      <th>7</th>\n",
       "      <td>2am</td>\n",
       "      <td>SM010</td>\n",
       "      <td>sm010</td>\n",
       "      <td>28</td>\n",
       "      <td>7</td>\n",
       "      <td>R8</td>\n",
       "      <td>8</td>\n",
       "      <td>2015-07-28 0200</td>\n",
       "    </tr>\n",
       "    <tr>\n",
       "      <th>8</th>\n",
       "      <td>6am</td>\n",
       "      <td>SM011</td>\n",
       "      <td>sm011</td>\n",
       "      <td>32</td>\n",
       "      <td>8</td>\n",
       "      <td>R9</td>\n",
       "      <td>9</td>\n",
       "      <td>2015-07-28 0600</td>\n",
       "    </tr>\n",
       "    <tr>\n",
       "      <th>9</th>\n",
       "      <td>10am</td>\n",
       "      <td>SM012</td>\n",
       "      <td>sm012</td>\n",
       "      <td>36</td>\n",
       "      <td>9</td>\n",
       "      <td>R10</td>\n",
       "      <td>10</td>\n",
       "      <td>2015-07-28 1000</td>\n",
       "    </tr>\n",
       "    <tr>\n",
       "      <th>10</th>\n",
       "      <td>2pm</td>\n",
       "      <td>SM013</td>\n",
       "      <td>sm013</td>\n",
       "      <td>40</td>\n",
       "      <td>10</td>\n",
       "      <td>R11</td>\n",
       "      <td>11</td>\n",
       "      <td>2015-07-28 1400</td>\n",
       "    </tr>\n",
       "    <tr>\n",
       "      <th>11</th>\n",
       "      <td>6pm</td>\n",
       "      <td>SM016</td>\n",
       "      <td>sm016</td>\n",
       "      <td>44</td>\n",
       "      <td>11</td>\n",
       "      <td>R12</td>\n",
       "      <td>12</td>\n",
       "      <td>2015-07-28 1800</td>\n",
       "    </tr>\n",
       "    <tr>\n",
       "      <th>12</th>\n",
       "      <td>10pm</td>\n",
       "      <td>SM017</td>\n",
       "      <td>sm017</td>\n",
       "      <td>48</td>\n",
       "      <td>12</td>\n",
       "      <td>R13</td>\n",
       "      <td>13</td>\n",
       "      <td>2015-07-28 2200</td>\n",
       "    </tr>\n",
       "    <tr>\n",
       "      <th>13</th>\n",
       "      <td>2am</td>\n",
       "      <td>SM018</td>\n",
       "      <td>sm018</td>\n",
       "      <td>52</td>\n",
       "      <td>13</td>\n",
       "      <td>R14</td>\n",
       "      <td>14</td>\n",
       "      <td>2015-07-29 0200</td>\n",
       "    </tr>\n",
       "    <tr>\n",
       "      <th>14</th>\n",
       "      <td>6am</td>\n",
       "      <td>SM019</td>\n",
       "      <td>sm019</td>\n",
       "      <td>56</td>\n",
       "      <td>14</td>\n",
       "      <td>R15</td>\n",
       "      <td>15</td>\n",
       "      <td>2015-07-29 0600</td>\n",
       "    </tr>\n",
       "    <tr>\n",
       "      <th>15</th>\n",
       "      <td>10am</td>\n",
       "      <td>SM020</td>\n",
       "      <td>sm020</td>\n",
       "      <td>60</td>\n",
       "      <td>15</td>\n",
       "      <td>R16</td>\n",
       "      <td>16</td>\n",
       "      <td>2015-07-29 1000</td>\n",
       "    </tr>\n",
       "    <tr>\n",
       "      <th>16</th>\n",
       "      <td>2pm</td>\n",
       "      <td>SM021</td>\n",
       "      <td>sm021</td>\n",
       "      <td>64</td>\n",
       "      <td>16</td>\n",
       "      <td>R17</td>\n",
       "      <td>17</td>\n",
       "      <td>2015-07-29 1400</td>\n",
       "    </tr>\n",
       "    <tr>\n",
       "      <th>17</th>\n",
       "      <td>6pm</td>\n",
       "      <td>SM024</td>\n",
       "      <td>sm024</td>\n",
       "      <td>68</td>\n",
       "      <td>17</td>\n",
       "      <td>R18</td>\n",
       "      <td>18</td>\n",
       "      <td>2015-07-29 1800</td>\n",
       "    </tr>\n",
       "    <tr>\n",
       "      <th>18</th>\n",
       "      <td>10pm</td>\n",
       "      <td>SM025</td>\n",
       "      <td>sm025</td>\n",
       "      <td>72</td>\n",
       "      <td>18</td>\n",
       "      <td>R19</td>\n",
       "      <td>19</td>\n",
       "      <td>2015-07-29 2200</td>\n",
       "    </tr>\n",
       "    <tr>\n",
       "      <th>19</th>\n",
       "      <td>2am</td>\n",
       "      <td>SM026</td>\n",
       "      <td>sm026</td>\n",
       "      <td>76</td>\n",
       "      <td>19</td>\n",
       "      <td>R20</td>\n",
       "      <td>20</td>\n",
       "      <td>2015-07-30 0200</td>\n",
       "    </tr>\n",
       "    <tr>\n",
       "      <th>20</th>\n",
       "      <td>6am</td>\n",
       "      <td>SM027</td>\n",
       "      <td>sm027</td>\n",
       "      <td>80</td>\n",
       "      <td>20</td>\n",
       "      <td>R21</td>\n",
       "      <td>21</td>\n",
       "      <td>2015-07-30 0600</td>\n",
       "    </tr>\n",
       "  </tbody>\n",
       "</table>\n",
       "</div>"
      ],
      "text/plain": [
       "      TD Sample Sample2  Hours  Dark    R  R2            times\n",
       "0   10pm  SM001   sm001      0     0   R1   1  2015-07-26 2200\n",
       "1    2am  SM002   sm002      4     1   R2   2  2015-07-27 0200\n",
       "2    6am  SM003   sm003      8     2   R3   3  2015-07-27 0600\n",
       "3   10am  SM004   sm004     12     3   R4   4  2015-07-27 1000\n",
       "4    2pm  SM005   sm005     16     4   R5   5  2015-07-27 1400\n",
       "5    6pm  SM008   sm008     20     5   R6   6  2015-07-27 1800\n",
       "6   10pm  SM009   sm009     24     6   R7   7  2015-07-27 2200\n",
       "7    2am  SM010   sm010     28     7   R8   8  2015-07-28 0200\n",
       "8    6am  SM011   sm011     32     8   R9   9  2015-07-28 0600\n",
       "9   10am  SM012   sm012     36     9  R10  10  2015-07-28 1000\n",
       "10   2pm  SM013   sm013     40    10  R11  11  2015-07-28 1400\n",
       "11   6pm  SM016   sm016     44    11  R12  12  2015-07-28 1800\n",
       "12  10pm  SM017   sm017     48    12  R13  13  2015-07-28 2200\n",
       "13   2am  SM018   sm018     52    13  R14  14  2015-07-29 0200\n",
       "14   6am  SM019   sm019     56    14  R15  15  2015-07-29 0600\n",
       "15  10am  SM020   sm020     60    15  R16  16  2015-07-29 1000\n",
       "16   2pm  SM021   sm021     64    16  R17  17  2015-07-29 1400\n",
       "17   6pm  SM024   sm024     68    17  R18  18  2015-07-29 1800\n",
       "18  10pm  SM025   sm025     72    18  R19  19  2015-07-29 2200\n",
       "19   2am  SM026   sm026     76    19  R20  20  2015-07-30 0200\n",
       "20   6am  SM027   sm027     80    20  R21  21  2015-07-30 0600"
      ]
     },
     "execution_count": 93,
     "metadata": {
      "tags": []
     },
     "output_type": "execute_result"
    }
   ],
   "source": [
    "### read in my data_dictionary\n",
    "data_dict=pd.read_csv(datadirectory+'time_dict.csv')\n",
    "data_dict"
   ]
  },
  {
   "cell_type": "code",
   "execution_count": null,
   "metadata": {
    "colab": {
     "base_uri": "https://localhost:8080/",
     "height": 374
    },
    "executionInfo": {
     "elapsed": 530,
     "status": "ok",
     "timestamp": 1599837986156,
     "user": {
      "displayName": "Maria Hernandez Limon",
      "photoUrl": "https://lh3.googleusercontent.com/a-/AOh14Ghd3PTHlBML4DLlupZiaArIJ8xYakaUbI3sK1QW=s64",
      "userId": "15768601250316805169"
     },
     "user_tz": 300
    },
    "id": "gMLPaoO-aR2J",
    "outputId": "1519fde6-6284-41cd-900d-cc840722ba27"
   },
   "outputs": [
    {
     "data": {
      "text/plain": [
       "{'sm001': 0,\n",
       " 'sm002': 4,\n",
       " 'sm003': 8,\n",
       " 'sm004': 12,\n",
       " 'sm005': 16,\n",
       " 'sm008': 20,\n",
       " 'sm009': 24,\n",
       " 'sm010': 28,\n",
       " 'sm011': 32,\n",
       " 'sm012': 36,\n",
       " 'sm013': 40,\n",
       " 'sm016': 44,\n",
       " 'sm017': 48,\n",
       " 'sm018': 52,\n",
       " 'sm019': 56,\n",
       " 'sm020': 60,\n",
       " 'sm021': 64,\n",
       " 'sm024': 68,\n",
       " 'sm025': 72,\n",
       " 'sm026': 76,\n",
       " 'sm027': 80}"
      ]
     },
     "execution_count": 94,
     "metadata": {
      "tags": []
     },
     "output_type": "execute_result"
    }
   ],
   "source": [
    "## make_dict\n",
    "sample2_Hours_dict=dict(zip(data_dict.iloc[:,2],data_dict.iloc[:,3]))\n",
    "sample2_Hours_dict"
   ]
  },
  {
   "cell_type": "code",
   "execution_count": null,
   "metadata": {
    "colab": {
     "base_uri": "https://localhost:8080/",
     "height": 204
    },
    "executionInfo": {
     "elapsed": 559,
     "status": "ok",
     "timestamp": 1599837988471,
     "user": {
      "displayName": "Maria Hernandez Limon",
      "photoUrl": "https://lh3.googleusercontent.com/a-/AOh14Ghd3PTHlBML4DLlupZiaArIJ8xYakaUbI3sK1QW=s64",
      "userId": "15768601250316805169"
     },
     "user_tz": 300
    },
    "id": "V6-AM1kKaUIZ",
    "outputId": "1ffc757d-b56f-4a1c-dc4f-74b168aa0120"
   },
   "outputs": [
    {
     "data": {
      "text/html": [
       "<div>\n",
       "<style scoped>\n",
       "    .dataframe tbody tr th:only-of-type {\n",
       "        vertical-align: middle;\n",
       "    }\n",
       "\n",
       "    .dataframe tbody tr th {\n",
       "        vertical-align: top;\n",
       "    }\n",
       "\n",
       "    .dataframe thead th {\n",
       "        text-align: right;\n",
       "    }\n",
       "</style>\n",
       "<table border=\"1\" class=\"dataframe\">\n",
       "  <thead>\n",
       "    <tr style=\"text-align: right;\">\n",
       "      <th></th>\n",
       "      <th>CAMNT</th>\n",
       "      <th>0</th>\n",
       "      <th>4</th>\n",
       "      <th>8</th>\n",
       "      <th>12</th>\n",
       "      <th>16</th>\n",
       "      <th>20</th>\n",
       "      <th>24</th>\n",
       "      <th>28</th>\n",
       "      <th>32</th>\n",
       "      <th>36</th>\n",
       "      <th>40</th>\n",
       "      <th>44</th>\n",
       "      <th>48</th>\n",
       "      <th>52</th>\n",
       "      <th>56</th>\n",
       "      <th>60</th>\n",
       "      <th>68</th>\n",
       "      <th>72</th>\n",
       "      <th>76</th>\n",
       "      <th>80</th>\n",
       "    </tr>\n",
       "  </thead>\n",
       "  <tbody>\n",
       "    <tr>\n",
       "      <th>0</th>\n",
       "      <td>CAMNT_0023928115</td>\n",
       "      <td>214</td>\n",
       "      <td>376</td>\n",
       "      <td>204</td>\n",
       "      <td>347</td>\n",
       "      <td>411</td>\n",
       "      <td>237</td>\n",
       "      <td>262</td>\n",
       "      <td>198</td>\n",
       "      <td>199</td>\n",
       "      <td>229</td>\n",
       "      <td>411</td>\n",
       "      <td>394</td>\n",
       "      <td>299</td>\n",
       "      <td>277</td>\n",
       "      <td>251</td>\n",
       "      <td>411</td>\n",
       "      <td>288</td>\n",
       "      <td>221</td>\n",
       "      <td>256</td>\n",
       "      <td>230</td>\n",
       "    </tr>\n",
       "    <tr>\n",
       "      <th>1</th>\n",
       "      <td>CAMNT_0023928149</td>\n",
       "      <td>56</td>\n",
       "      <td>40</td>\n",
       "      <td>28</td>\n",
       "      <td>37</td>\n",
       "      <td>27</td>\n",
       "      <td>112</td>\n",
       "      <td>76</td>\n",
       "      <td>50</td>\n",
       "      <td>26</td>\n",
       "      <td>23</td>\n",
       "      <td>27</td>\n",
       "      <td>169</td>\n",
       "      <td>76</td>\n",
       "      <td>45</td>\n",
       "      <td>35</td>\n",
       "      <td>27</td>\n",
       "      <td>61</td>\n",
       "      <td>73</td>\n",
       "      <td>66</td>\n",
       "      <td>29</td>\n",
       "    </tr>\n",
       "    <tr>\n",
       "      <th>2</th>\n",
       "      <td>CAMNT_0023928253</td>\n",
       "      <td>30</td>\n",
       "      <td>45</td>\n",
       "      <td>11</td>\n",
       "      <td>38</td>\n",
       "      <td>38</td>\n",
       "      <td>28</td>\n",
       "      <td>16</td>\n",
       "      <td>29</td>\n",
       "      <td>23</td>\n",
       "      <td>19</td>\n",
       "      <td>38</td>\n",
       "      <td>15</td>\n",
       "      <td>9</td>\n",
       "      <td>31</td>\n",
       "      <td>16</td>\n",
       "      <td>38</td>\n",
       "      <td>21</td>\n",
       "      <td>28</td>\n",
       "      <td>11</td>\n",
       "      <td>10</td>\n",
       "    </tr>\n",
       "    <tr>\n",
       "      <th>3</th>\n",
       "      <td>CAMNT_0023928285</td>\n",
       "      <td>12</td>\n",
       "      <td>12</td>\n",
       "      <td>11</td>\n",
       "      <td>11</td>\n",
       "      <td>15</td>\n",
       "      <td>13</td>\n",
       "      <td>3</td>\n",
       "      <td>13</td>\n",
       "      <td>9</td>\n",
       "      <td>14</td>\n",
       "      <td>15</td>\n",
       "      <td>7</td>\n",
       "      <td>8</td>\n",
       "      <td>7</td>\n",
       "      <td>23</td>\n",
       "      <td>15</td>\n",
       "      <td>16</td>\n",
       "      <td>11</td>\n",
       "      <td>6</td>\n",
       "      <td>11</td>\n",
       "    </tr>\n",
       "    <tr>\n",
       "      <th>4</th>\n",
       "      <td>CAMNT_0023928443</td>\n",
       "      <td>210</td>\n",
       "      <td>215</td>\n",
       "      <td>216</td>\n",
       "      <td>266</td>\n",
       "      <td>338</td>\n",
       "      <td>286</td>\n",
       "      <td>225</td>\n",
       "      <td>231</td>\n",
       "      <td>174</td>\n",
       "      <td>186</td>\n",
       "      <td>338</td>\n",
       "      <td>523</td>\n",
       "      <td>897</td>\n",
       "      <td>316</td>\n",
       "      <td>246</td>\n",
       "      <td>338</td>\n",
       "      <td>243</td>\n",
       "      <td>263</td>\n",
       "      <td>235</td>\n",
       "      <td>134</td>\n",
       "    </tr>\n",
       "  </tbody>\n",
       "</table>\n",
       "</div>"
      ],
      "text/plain": [
       "              CAMNT    0    4    8   12   16  ...   56   60   68   72   76   80\n",
       "0  CAMNT_0023928115  214  376  204  347  411  ...  251  411  288  221  256  230\n",
       "1  CAMNT_0023928149   56   40   28   37   27  ...   35   27   61   73   66   29\n",
       "2  CAMNT_0023928253   30   45   11   38   38  ...   16   38   21   28   11   10\n",
       "3  CAMNT_0023928285   12   12   11   11   15  ...   23   15   16   11    6   11\n",
       "4  CAMNT_0023928443  210  215  216  266  338  ...  246  338  243  263  235  134\n",
       "\n",
       "[5 rows x 21 columns]"
      ]
     },
     "execution_count": 95,
     "metadata": {
      "tags": []
     },
     "output_type": "execute_result"
    }
   ],
   "source": [
    "### let's rename the columns in gene_counts\n",
    "gene_counts.set_index('CAMNT',inplace=True)\n",
    "gene_counts.rename(columns=sample2_Hours_dict,inplace=True)\n",
    "gene_counts.reset_index(inplace=True)\n",
    "gene_counts.head()\n"
   ]
  },
  {
   "cell_type": "markdown",
   "metadata": {
    "id": "5Li0pgA-G2b0"
   },
   "source": [
    "## Skill check\n",
    "\n",
    "Make a new variable called 'my_new_genes_df' that hold the gene_count table, but this time I want the columns to have the numbers in the 'Dark' column as column labels.\n",
    "Hint: you need to make a new dictionary first."
   ]
  },
  {
   "cell_type": "code",
   "execution_count": null,
   "metadata": {
    "id": "Fhzc7oN0HQRo"
   },
   "outputs": [],
   "source": [
    "##### your code\n",
    "\n",
    "###make new dictionary\n",
    "from_hour_dark_dict=dict(zip(data_dict.Hours,data_dict.Dark))\n",
    "\n",
    "###make new df with new column names\n",
    "#gene_counts.set_index('CAMNT',inplace=True)\n",
    "my_new_genes_df=gene_counts.rename(columns=from_hour_dark_dict)\n",
    "my_new_genes_df.reset_index(inplace=True)\n",
    "my_new_genes_df\n",
    "\n",
    "gene_counts.reset_index(inplace=True)"
   ]
  },
  {
   "cell_type": "markdown",
   "metadata": {
    "id": "SsrgyQHMHSDZ"
   },
   "source": [
    "### Answer"
   ]
  },
  {
   "cell_type": "code",
   "execution_count": null,
   "metadata": {
    "colab": {
     "base_uri": "https://localhost:8080/",
     "height": 204
    },
    "executionInfo": {
     "elapsed": 483,
     "status": "ok",
     "timestamp": 1599837996870,
     "user": {
      "displayName": "Maria Hernandez Limon",
      "photoUrl": "https://lh3.googleusercontent.com/a-/AOh14Ghd3PTHlBML4DLlupZiaArIJ8xYakaUbI3sK1QW=s64",
      "userId": "15768601250316805169"
     },
     "user_tz": 300
    },
    "id": "PSAlL-NMHTtk",
    "outputId": "38f91451-cea9-4c94-f638-8ba439ae3d97"
   },
   "outputs": [
    {
     "data": {
      "text/html": [
       "<div>\n",
       "<style scoped>\n",
       "    .dataframe tbody tr th:only-of-type {\n",
       "        vertical-align: middle;\n",
       "    }\n",
       "\n",
       "    .dataframe tbody tr th {\n",
       "        vertical-align: top;\n",
       "    }\n",
       "\n",
       "    .dataframe thead th {\n",
       "        text-align: right;\n",
       "    }\n",
       "</style>\n",
       "<table border=\"1\" class=\"dataframe\">\n",
       "  <thead>\n",
       "    <tr style=\"text-align: right;\">\n",
       "      <th></th>\n",
       "      <th>CAMNT</th>\n",
       "      <th>0</th>\n",
       "      <th>1</th>\n",
       "      <th>2</th>\n",
       "      <th>3</th>\n",
       "      <th>4</th>\n",
       "      <th>5</th>\n",
       "      <th>6</th>\n",
       "      <th>7</th>\n",
       "      <th>8</th>\n",
       "      <th>9</th>\n",
       "      <th>10</th>\n",
       "      <th>11</th>\n",
       "      <th>12</th>\n",
       "      <th>13</th>\n",
       "      <th>14</th>\n",
       "      <th>15</th>\n",
       "      <th>17</th>\n",
       "      <th>18</th>\n",
       "      <th>19</th>\n",
       "      <th>20</th>\n",
       "    </tr>\n",
       "  </thead>\n",
       "  <tbody>\n",
       "    <tr>\n",
       "      <th>0</th>\n",
       "      <td>CAMNT_0023928115</td>\n",
       "      <td>214</td>\n",
       "      <td>376</td>\n",
       "      <td>204</td>\n",
       "      <td>347</td>\n",
       "      <td>411</td>\n",
       "      <td>237</td>\n",
       "      <td>262</td>\n",
       "      <td>198</td>\n",
       "      <td>199</td>\n",
       "      <td>229</td>\n",
       "      <td>411</td>\n",
       "      <td>394</td>\n",
       "      <td>299</td>\n",
       "      <td>277</td>\n",
       "      <td>251</td>\n",
       "      <td>411</td>\n",
       "      <td>288</td>\n",
       "      <td>221</td>\n",
       "      <td>256</td>\n",
       "      <td>230</td>\n",
       "    </tr>\n",
       "    <tr>\n",
       "      <th>1</th>\n",
       "      <td>CAMNT_0023928149</td>\n",
       "      <td>56</td>\n",
       "      <td>40</td>\n",
       "      <td>28</td>\n",
       "      <td>37</td>\n",
       "      <td>27</td>\n",
       "      <td>112</td>\n",
       "      <td>76</td>\n",
       "      <td>50</td>\n",
       "      <td>26</td>\n",
       "      <td>23</td>\n",
       "      <td>27</td>\n",
       "      <td>169</td>\n",
       "      <td>76</td>\n",
       "      <td>45</td>\n",
       "      <td>35</td>\n",
       "      <td>27</td>\n",
       "      <td>61</td>\n",
       "      <td>73</td>\n",
       "      <td>66</td>\n",
       "      <td>29</td>\n",
       "    </tr>\n",
       "    <tr>\n",
       "      <th>2</th>\n",
       "      <td>CAMNT_0023928253</td>\n",
       "      <td>30</td>\n",
       "      <td>45</td>\n",
       "      <td>11</td>\n",
       "      <td>38</td>\n",
       "      <td>38</td>\n",
       "      <td>28</td>\n",
       "      <td>16</td>\n",
       "      <td>29</td>\n",
       "      <td>23</td>\n",
       "      <td>19</td>\n",
       "      <td>38</td>\n",
       "      <td>15</td>\n",
       "      <td>9</td>\n",
       "      <td>31</td>\n",
       "      <td>16</td>\n",
       "      <td>38</td>\n",
       "      <td>21</td>\n",
       "      <td>28</td>\n",
       "      <td>11</td>\n",
       "      <td>10</td>\n",
       "    </tr>\n",
       "    <tr>\n",
       "      <th>3</th>\n",
       "      <td>CAMNT_0023928285</td>\n",
       "      <td>12</td>\n",
       "      <td>12</td>\n",
       "      <td>11</td>\n",
       "      <td>11</td>\n",
       "      <td>15</td>\n",
       "      <td>13</td>\n",
       "      <td>3</td>\n",
       "      <td>13</td>\n",
       "      <td>9</td>\n",
       "      <td>14</td>\n",
       "      <td>15</td>\n",
       "      <td>7</td>\n",
       "      <td>8</td>\n",
       "      <td>7</td>\n",
       "      <td>23</td>\n",
       "      <td>15</td>\n",
       "      <td>16</td>\n",
       "      <td>11</td>\n",
       "      <td>6</td>\n",
       "      <td>11</td>\n",
       "    </tr>\n",
       "    <tr>\n",
       "      <th>4</th>\n",
       "      <td>CAMNT_0023928443</td>\n",
       "      <td>210</td>\n",
       "      <td>215</td>\n",
       "      <td>216</td>\n",
       "      <td>266</td>\n",
       "      <td>338</td>\n",
       "      <td>286</td>\n",
       "      <td>225</td>\n",
       "      <td>231</td>\n",
       "      <td>174</td>\n",
       "      <td>186</td>\n",
       "      <td>338</td>\n",
       "      <td>523</td>\n",
       "      <td>897</td>\n",
       "      <td>316</td>\n",
       "      <td>246</td>\n",
       "      <td>338</td>\n",
       "      <td>243</td>\n",
       "      <td>263</td>\n",
       "      <td>235</td>\n",
       "      <td>134</td>\n",
       "    </tr>\n",
       "  </tbody>\n",
       "</table>\n",
       "</div>"
      ],
      "text/plain": [
       "              CAMNT    0    1    2    3    4  ...   14   15   17   18   19   20\n",
       "0  CAMNT_0023928115  214  376  204  347  411  ...  251  411  288  221  256  230\n",
       "1  CAMNT_0023928149   56   40   28   37   27  ...   35   27   61   73   66   29\n",
       "2  CAMNT_0023928253   30   45   11   38   38  ...   16   38   21   28   11   10\n",
       "3  CAMNT_0023928285   12   12   11   11   15  ...   23   15   16   11    6   11\n",
       "4  CAMNT_0023928443  210  215  216  266  338  ...  246  338  243  263  235  134\n",
       "\n",
       "[5 rows x 21 columns]"
      ]
     },
     "execution_count": 96,
     "metadata": {
      "tags": []
     },
     "output_type": "execute_result"
    }
   ],
   "source": [
    "## make new dictionary\n",
    "hour_dark_dict=dict(zip(data_dict.Hours,data_dict.Dark))\n",
    "\n",
    "#make new table, we don't need inplace=True since we are making a new variable\n",
    "my_new_genes_df=gene_counts.rename(columns=hour_dark_dict)\n",
    "my_new_genes_df.head()"
   ]
  },
  {
   "cell_type": "markdown",
   "metadata": {
    "id": "tewKH94dIeBF"
   },
   "source": [
    "## 10.1 Pro-tip: String manipulation with column names"
   ]
  },
  {
   "cell_type": "code",
   "execution_count": null,
   "metadata": {
    "colab": {
     "base_uri": "https://localhost:8080/"
    },
    "executionInfo": {
     "elapsed": 3845,
     "status": "ok",
     "timestamp": 1599837621939,
     "user": {
      "displayName": "Maria Hernandez Limon",
      "photoUrl": "https://lh3.googleusercontent.com/a-/AOh14Ghd3PTHlBML4DLlupZiaArIJ8xYakaUbI3sK1QW=s64",
      "userId": "15768601250316805169"
     },
     "user_tz": 300
    },
    "id": "9VHB56kFIpJw",
    "outputId": "ffa0b212-716f-4b04-9428-6f27e1f7dcde"
   },
   "outputs": [
    {
     "data": {
      "text/html": [
       "<div>\n",
       "<style scoped>\n",
       "    .dataframe tbody tr th:only-of-type {\n",
       "        vertical-align: middle;\n",
       "    }\n",
       "\n",
       "    .dataframe tbody tr th {\n",
       "        vertical-align: top;\n",
       "    }\n",
       "\n",
       "    .dataframe thead th {\n",
       "        text-align: right;\n",
       "    }\n",
       "</style>\n",
       "<table border=\"1\" class=\"dataframe\">\n",
       "  <thead>\n",
       "    <tr style=\"text-align: right;\">\n",
       "      <th></th>\n",
       "      <th>Number</th>\n",
       "      <th>Name</th>\n",
       "      <th>Type 1</th>\n",
       "      <th>Type 2</th>\n",
       "      <th>Total</th>\n",
       "      <th>HP</th>\n",
       "      <th>Attack</th>\n",
       "      <th>Defense</th>\n",
       "      <th>Sp. Atk</th>\n",
       "      <th>Sp. Def</th>\n",
       "      <th>Speed</th>\n",
       "      <th>Generation</th>\n",
       "      <th>Legendary</th>\n",
       "    </tr>\n",
       "  </thead>\n",
       "  <tbody>\n",
       "    <tr>\n",
       "      <th>0</th>\n",
       "      <td>1</td>\n",
       "      <td>Bulbasaur</td>\n",
       "      <td>Grass</td>\n",
       "      <td>Poison</td>\n",
       "      <td>318</td>\n",
       "      <td>45</td>\n",
       "      <td>49</td>\n",
       "      <td>49</td>\n",
       "      <td>65</td>\n",
       "      <td>65</td>\n",
       "      <td>45</td>\n",
       "      <td>1</td>\n",
       "      <td>False</td>\n",
       "    </tr>\n",
       "    <tr>\n",
       "      <th>1</th>\n",
       "      <td>2</td>\n",
       "      <td>Ivysaur</td>\n",
       "      <td>Grass</td>\n",
       "      <td>Poison</td>\n",
       "      <td>405</td>\n",
       "      <td>60</td>\n",
       "      <td>62</td>\n",
       "      <td>63</td>\n",
       "      <td>80</td>\n",
       "      <td>80</td>\n",
       "      <td>60</td>\n",
       "      <td>1</td>\n",
       "      <td>False</td>\n",
       "    </tr>\n",
       "    <tr>\n",
       "      <th>2</th>\n",
       "      <td>3</td>\n",
       "      <td>Venusaur</td>\n",
       "      <td>Grass</td>\n",
       "      <td>Poison</td>\n",
       "      <td>525</td>\n",
       "      <td>80</td>\n",
       "      <td>82</td>\n",
       "      <td>83</td>\n",
       "      <td>100</td>\n",
       "      <td>100</td>\n",
       "      <td>80</td>\n",
       "      <td>1</td>\n",
       "      <td>False</td>\n",
       "    </tr>\n",
       "    <tr>\n",
       "      <th>3</th>\n",
       "      <td>3</td>\n",
       "      <td>VenusaurMega Venusaur</td>\n",
       "      <td>Grass</td>\n",
       "      <td>Poison</td>\n",
       "      <td>625</td>\n",
       "      <td>80</td>\n",
       "      <td>100</td>\n",
       "      <td>123</td>\n",
       "      <td>122</td>\n",
       "      <td>120</td>\n",
       "      <td>80</td>\n",
       "      <td>1</td>\n",
       "      <td>False</td>\n",
       "    </tr>\n",
       "    <tr>\n",
       "      <th>4</th>\n",
       "      <td>4</td>\n",
       "      <td>Charmander</td>\n",
       "      <td>Fire</td>\n",
       "      <td>NaN</td>\n",
       "      <td>309</td>\n",
       "      <td>39</td>\n",
       "      <td>52</td>\n",
       "      <td>43</td>\n",
       "      <td>60</td>\n",
       "      <td>50</td>\n",
       "      <td>65</td>\n",
       "      <td>1</td>\n",
       "      <td>False</td>\n",
       "    </tr>\n",
       "  </tbody>\n",
       "</table>\n",
       "</div>"
      ],
      "text/plain": [
       "   Number                   Name Type 1  ... Speed  Generation  Legendary\n",
       "0       1              Bulbasaur  Grass  ...    45           1      False\n",
       "1       2                Ivysaur  Grass  ...    60           1      False\n",
       "2       3               Venusaur  Grass  ...    80           1      False\n",
       "3       3  VenusaurMega Venusaur  Grass  ...    80           1      False\n",
       "4       4             Charmander   Fire  ...    65           1      False\n",
       "\n",
       "[5 rows x 13 columns]"
      ]
     },
     "execution_count": 27,
     "metadata": {
      "tags": []
     },
     "output_type": "execute_result"
    }
   ],
   "source": [
    "## let use the pokemon data for this\n",
    "\n",
    "pokemon_full=pd.read_csv(datadirectory+'Pokemon.csv')\n",
    "pokemon_full.head()"
   ]
  },
  {
   "cell_type": "code",
   "execution_count": null,
   "metadata": {
    "colab": {
     "base_uri": "https://localhost:8080/"
    },
    "executionInfo": {
     "elapsed": 3839,
     "status": "ok",
     "timestamp": 1599837621940,
     "user": {
      "displayName": "Maria Hernandez Limon",
      "photoUrl": "https://lh3.googleusercontent.com/a-/AOh14Ghd3PTHlBML4DLlupZiaArIJ8xYakaUbI3sK1QW=s64",
      "userId": "15768601250316805169"
     },
     "user_tz": 300
    },
    "id": "BDv8WsOBbQMj",
    "outputId": "7157ef9b-7406-4cc3-fb6e-60eba83cf440"
   },
   "outputs": [
    {
     "data": {
      "text/html": [
       "<div>\n",
       "<style scoped>\n",
       "    .dataframe tbody tr th:only-of-type {\n",
       "        vertical-align: middle;\n",
       "    }\n",
       "\n",
       "    .dataframe tbody tr th {\n",
       "        vertical-align: top;\n",
       "    }\n",
       "\n",
       "    .dataframe thead th {\n",
       "        text-align: right;\n",
       "    }\n",
       "</style>\n",
       "<table border=\"1\" class=\"dataframe\">\n",
       "  <thead>\n",
       "    <tr style=\"text-align: right;\">\n",
       "      <th></th>\n",
       "      <th>x_Number</th>\n",
       "      <th>x_Name</th>\n",
       "      <th>x_Type 1</th>\n",
       "      <th>x_Type 2</th>\n",
       "      <th>x_Total</th>\n",
       "      <th>x_HP</th>\n",
       "      <th>x_Attack</th>\n",
       "      <th>x_Defense</th>\n",
       "      <th>x_Sp. Atk</th>\n",
       "      <th>x_Sp. Def</th>\n",
       "      <th>x_Speed</th>\n",
       "      <th>x_Generation</th>\n",
       "      <th>x_Legendary</th>\n",
       "    </tr>\n",
       "  </thead>\n",
       "  <tbody>\n",
       "    <tr>\n",
       "      <th>0</th>\n",
       "      <td>1</td>\n",
       "      <td>Bulbasaur</td>\n",
       "      <td>Grass</td>\n",
       "      <td>Poison</td>\n",
       "      <td>318</td>\n",
       "      <td>45</td>\n",
       "      <td>49</td>\n",
       "      <td>49</td>\n",
       "      <td>65</td>\n",
       "      <td>65</td>\n",
       "      <td>45</td>\n",
       "      <td>1</td>\n",
       "      <td>False</td>\n",
       "    </tr>\n",
       "    <tr>\n",
       "      <th>1</th>\n",
       "      <td>2</td>\n",
       "      <td>Ivysaur</td>\n",
       "      <td>Grass</td>\n",
       "      <td>Poison</td>\n",
       "      <td>405</td>\n",
       "      <td>60</td>\n",
       "      <td>62</td>\n",
       "      <td>63</td>\n",
       "      <td>80</td>\n",
       "      <td>80</td>\n",
       "      <td>60</td>\n",
       "      <td>1</td>\n",
       "      <td>False</td>\n",
       "    </tr>\n",
       "    <tr>\n",
       "      <th>2</th>\n",
       "      <td>3</td>\n",
       "      <td>Venusaur</td>\n",
       "      <td>Grass</td>\n",
       "      <td>Poison</td>\n",
       "      <td>525</td>\n",
       "      <td>80</td>\n",
       "      <td>82</td>\n",
       "      <td>83</td>\n",
       "      <td>100</td>\n",
       "      <td>100</td>\n",
       "      <td>80</td>\n",
       "      <td>1</td>\n",
       "      <td>False</td>\n",
       "    </tr>\n",
       "    <tr>\n",
       "      <th>3</th>\n",
       "      <td>3</td>\n",
       "      <td>VenusaurMega Venusaur</td>\n",
       "      <td>Grass</td>\n",
       "      <td>Poison</td>\n",
       "      <td>625</td>\n",
       "      <td>80</td>\n",
       "      <td>100</td>\n",
       "      <td>123</td>\n",
       "      <td>122</td>\n",
       "      <td>120</td>\n",
       "      <td>80</td>\n",
       "      <td>1</td>\n",
       "      <td>False</td>\n",
       "    </tr>\n",
       "    <tr>\n",
       "      <th>4</th>\n",
       "      <td>4</td>\n",
       "      <td>Charmander</td>\n",
       "      <td>Fire</td>\n",
       "      <td>NaN</td>\n",
       "      <td>309</td>\n",
       "      <td>39</td>\n",
       "      <td>52</td>\n",
       "      <td>43</td>\n",
       "      <td>60</td>\n",
       "      <td>50</td>\n",
       "      <td>65</td>\n",
       "      <td>1</td>\n",
       "      <td>False</td>\n",
       "    </tr>\n",
       "  </tbody>\n",
       "</table>\n",
       "</div>"
      ],
      "text/plain": [
       "   x_Number                 x_Name x_Type 1  ... x_Speed  x_Generation  x_Legendary\n",
       "0         1              Bulbasaur    Grass  ...      45             1        False\n",
       "1         2                Ivysaur    Grass  ...      60             1        False\n",
       "2         3               Venusaur    Grass  ...      80             1        False\n",
       "3         3  VenusaurMega Venusaur    Grass  ...      80             1        False\n",
       "4         4             Charmander     Fire  ...      65             1        False\n",
       "\n",
       "[5 rows x 13 columns]"
      ]
     },
     "execution_count": 28,
     "metadata": {
      "tags": []
     },
     "output_type": "execute_result"
    }
   ],
   "source": [
    "## let's add a prefix to the column names\n",
    "pokemon_full=pokemon_full.add_prefix('{}_'.format(\"x\"))\n",
    "pokemon_full.head()"
   ]
  },
  {
   "cell_type": "code",
   "execution_count": null,
   "metadata": {
    "colab": {
     "base_uri": "https://localhost:8080/"
    },
    "executionInfo": {
     "elapsed": 3832,
     "status": "ok",
     "timestamp": 1599837621940,
     "user": {
      "displayName": "Maria Hernandez Limon",
      "photoUrl": "https://lh3.googleusercontent.com/a-/AOh14Ghd3PTHlBML4DLlupZiaArIJ8xYakaUbI3sK1QW=s64",
      "userId": "15768601250316805169"
     },
     "user_tz": 300
    },
    "id": "t9eVJmulbuB-",
    "outputId": "698f979a-1616-4673-aac3-786d7ca65fa4"
   },
   "outputs": [
    {
     "data": {
      "text/html": [
       "<div>\n",
       "<style scoped>\n",
       "    .dataframe tbody tr th:only-of-type {\n",
       "        vertical-align: middle;\n",
       "    }\n",
       "\n",
       "    .dataframe tbody tr th {\n",
       "        vertical-align: top;\n",
       "    }\n",
       "\n",
       "    .dataframe thead th {\n",
       "        text-align: right;\n",
       "    }\n",
       "</style>\n",
       "<table border=\"1\" class=\"dataframe\">\n",
       "  <thead>\n",
       "    <tr style=\"text-align: right;\">\n",
       "      <th></th>\n",
       "      <th>x_Number_y</th>\n",
       "      <th>x_Name_y</th>\n",
       "      <th>x_Type 1_y</th>\n",
       "      <th>x_Type 2_y</th>\n",
       "      <th>x_Total_y</th>\n",
       "      <th>x_HP_y</th>\n",
       "      <th>x_Attack_y</th>\n",
       "      <th>x_Defense_y</th>\n",
       "      <th>x_Sp. Atk_y</th>\n",
       "      <th>x_Sp. Def_y</th>\n",
       "      <th>x_Speed_y</th>\n",
       "      <th>x_Generation_y</th>\n",
       "      <th>x_Legendary_y</th>\n",
       "    </tr>\n",
       "  </thead>\n",
       "  <tbody>\n",
       "    <tr>\n",
       "      <th>0</th>\n",
       "      <td>1</td>\n",
       "      <td>Bulbasaur</td>\n",
       "      <td>Grass</td>\n",
       "      <td>Poison</td>\n",
       "      <td>318</td>\n",
       "      <td>45</td>\n",
       "      <td>49</td>\n",
       "      <td>49</td>\n",
       "      <td>65</td>\n",
       "      <td>65</td>\n",
       "      <td>45</td>\n",
       "      <td>1</td>\n",
       "      <td>False</td>\n",
       "    </tr>\n",
       "    <tr>\n",
       "      <th>1</th>\n",
       "      <td>2</td>\n",
       "      <td>Ivysaur</td>\n",
       "      <td>Grass</td>\n",
       "      <td>Poison</td>\n",
       "      <td>405</td>\n",
       "      <td>60</td>\n",
       "      <td>62</td>\n",
       "      <td>63</td>\n",
       "      <td>80</td>\n",
       "      <td>80</td>\n",
       "      <td>60</td>\n",
       "      <td>1</td>\n",
       "      <td>False</td>\n",
       "    </tr>\n",
       "    <tr>\n",
       "      <th>2</th>\n",
       "      <td>3</td>\n",
       "      <td>Venusaur</td>\n",
       "      <td>Grass</td>\n",
       "      <td>Poison</td>\n",
       "      <td>525</td>\n",
       "      <td>80</td>\n",
       "      <td>82</td>\n",
       "      <td>83</td>\n",
       "      <td>100</td>\n",
       "      <td>100</td>\n",
       "      <td>80</td>\n",
       "      <td>1</td>\n",
       "      <td>False</td>\n",
       "    </tr>\n",
       "    <tr>\n",
       "      <th>3</th>\n",
       "      <td>3</td>\n",
       "      <td>VenusaurMega Venusaur</td>\n",
       "      <td>Grass</td>\n",
       "      <td>Poison</td>\n",
       "      <td>625</td>\n",
       "      <td>80</td>\n",
       "      <td>100</td>\n",
       "      <td>123</td>\n",
       "      <td>122</td>\n",
       "      <td>120</td>\n",
       "      <td>80</td>\n",
       "      <td>1</td>\n",
       "      <td>False</td>\n",
       "    </tr>\n",
       "    <tr>\n",
       "      <th>4</th>\n",
       "      <td>4</td>\n",
       "      <td>Charmander</td>\n",
       "      <td>Fire</td>\n",
       "      <td>NaN</td>\n",
       "      <td>309</td>\n",
       "      <td>39</td>\n",
       "      <td>52</td>\n",
       "      <td>43</td>\n",
       "      <td>60</td>\n",
       "      <td>50</td>\n",
       "      <td>65</td>\n",
       "      <td>1</td>\n",
       "      <td>False</td>\n",
       "    </tr>\n",
       "  </tbody>\n",
       "</table>\n",
       "</div>"
      ],
      "text/plain": [
       "   x_Number_y               x_Name_y  ... x_Generation_y x_Legendary_y\n",
       "0           1              Bulbasaur  ...              1         False\n",
       "1           2                Ivysaur  ...              1         False\n",
       "2           3               Venusaur  ...              1         False\n",
       "3           3  VenusaurMega Venusaur  ...              1         False\n",
       "4           4             Charmander  ...              1         False\n",
       "\n",
       "[5 rows x 13 columns]"
      ]
     },
     "execution_count": 29,
     "metadata": {
      "tags": []
     },
     "output_type": "execute_result"
    }
   ],
   "source": [
    "## let's add a suffix to the column names\n",
    "pokemon_full=pokemon_full.add_suffix('_{}'.format(\"y\"))\n",
    "pokemon_full.head()"
   ]
  },
  {
   "cell_type": "code",
   "execution_count": null,
   "metadata": {
    "colab": {
     "base_uri": "https://localhost:8080/"
    },
    "executionInfo": {
     "elapsed": 4137,
     "status": "ok",
     "timestamp": 1599837622252,
     "user": {
      "displayName": "Maria Hernandez Limon",
      "photoUrl": "https://lh3.googleusercontent.com/a-/AOh14Ghd3PTHlBML4DLlupZiaArIJ8xYakaUbI3sK1QW=s64",
      "userId": "15768601250316805169"
     },
     "user_tz": 300
    },
    "id": "imHPWYFtA1WK",
    "outputId": "3e2a96a7-7e29-4e23-81a0-1de824c7817d"
   },
   "outputs": [
    {
     "data": {
      "text/html": [
       "<div>\n",
       "<style scoped>\n",
       "    .dataframe tbody tr th:only-of-type {\n",
       "        vertical-align: middle;\n",
       "    }\n",
       "\n",
       "    .dataframe tbody tr th {\n",
       "        vertical-align: top;\n",
       "    }\n",
       "\n",
       "    .dataframe thead th {\n",
       "        text-align: right;\n",
       "    }\n",
       "</style>\n",
       "<table border=\"1\" class=\"dataframe\">\n",
       "  <thead>\n",
       "    <tr style=\"text-align: right;\">\n",
       "      <th></th>\n",
       "      <th>x/Number/y</th>\n",
       "      <th>x/Name/y</th>\n",
       "      <th>x/Type 1/y</th>\n",
       "      <th>x/Type 2/y</th>\n",
       "      <th>x/Total/y</th>\n",
       "      <th>x/HP/y</th>\n",
       "      <th>x/Attack/y</th>\n",
       "      <th>x/Defense/y</th>\n",
       "      <th>x/Sp. Atk/y</th>\n",
       "      <th>x/Sp. Def/y</th>\n",
       "      <th>x/Speed/y</th>\n",
       "      <th>x/Generation/y</th>\n",
       "      <th>x/Legendary/y</th>\n",
       "    </tr>\n",
       "  </thead>\n",
       "  <tbody>\n",
       "    <tr>\n",
       "      <th>0</th>\n",
       "      <td>1</td>\n",
       "      <td>Bulbasaur</td>\n",
       "      <td>Grass</td>\n",
       "      <td>Poison</td>\n",
       "      <td>318</td>\n",
       "      <td>45</td>\n",
       "      <td>49</td>\n",
       "      <td>49</td>\n",
       "      <td>65</td>\n",
       "      <td>65</td>\n",
       "      <td>45</td>\n",
       "      <td>1</td>\n",
       "      <td>False</td>\n",
       "    </tr>\n",
       "    <tr>\n",
       "      <th>1</th>\n",
       "      <td>2</td>\n",
       "      <td>Ivysaur</td>\n",
       "      <td>Grass</td>\n",
       "      <td>Poison</td>\n",
       "      <td>405</td>\n",
       "      <td>60</td>\n",
       "      <td>62</td>\n",
       "      <td>63</td>\n",
       "      <td>80</td>\n",
       "      <td>80</td>\n",
       "      <td>60</td>\n",
       "      <td>1</td>\n",
       "      <td>False</td>\n",
       "    </tr>\n",
       "    <tr>\n",
       "      <th>2</th>\n",
       "      <td>3</td>\n",
       "      <td>Venusaur</td>\n",
       "      <td>Grass</td>\n",
       "      <td>Poison</td>\n",
       "      <td>525</td>\n",
       "      <td>80</td>\n",
       "      <td>82</td>\n",
       "      <td>83</td>\n",
       "      <td>100</td>\n",
       "      <td>100</td>\n",
       "      <td>80</td>\n",
       "      <td>1</td>\n",
       "      <td>False</td>\n",
       "    </tr>\n",
       "    <tr>\n",
       "      <th>3</th>\n",
       "      <td>3</td>\n",
       "      <td>VenusaurMega Venusaur</td>\n",
       "      <td>Grass</td>\n",
       "      <td>Poison</td>\n",
       "      <td>625</td>\n",
       "      <td>80</td>\n",
       "      <td>100</td>\n",
       "      <td>123</td>\n",
       "      <td>122</td>\n",
       "      <td>120</td>\n",
       "      <td>80</td>\n",
       "      <td>1</td>\n",
       "      <td>False</td>\n",
       "    </tr>\n",
       "    <tr>\n",
       "      <th>4</th>\n",
       "      <td>4</td>\n",
       "      <td>Charmander</td>\n",
       "      <td>Fire</td>\n",
       "      <td>NaN</td>\n",
       "      <td>309</td>\n",
       "      <td>39</td>\n",
       "      <td>52</td>\n",
       "      <td>43</td>\n",
       "      <td>60</td>\n",
       "      <td>50</td>\n",
       "      <td>65</td>\n",
       "      <td>1</td>\n",
       "      <td>False</td>\n",
       "    </tr>\n",
       "  </tbody>\n",
       "</table>\n",
       "</div>"
      ],
      "text/plain": [
       "   x/Number/y               x/Name/y  ... x/Generation/y x/Legendary/y\n",
       "0           1              Bulbasaur  ...              1         False\n",
       "1           2                Ivysaur  ...              1         False\n",
       "2           3               Venusaur  ...              1         False\n",
       "3           3  VenusaurMega Venusaur  ...              1         False\n",
       "4           4             Charmander  ...              1         False\n",
       "\n",
       "[5 rows x 13 columns]"
      ]
     },
     "execution_count": 30,
     "metadata": {
      "tags": []
     },
     "output_type": "execute_result"
    }
   ],
   "source": [
    "##let's change the symbol in all the column names\n",
    "pokemon_full.columns=pokemon_full.columns.str.replace('_','/')\n",
    "pokemon_full.head()"
   ]
  },
  {
   "cell_type": "markdown",
   "metadata": {
    "id": "tVF-VEE2Bj2Q"
   },
   "source": [
    "Any string manipulation you can do on a list, you can do on a str column. More info here [link text](https://docs.python.org/2/library/string.html)"
   ]
  },
  {
   "cell_type": "markdown",
   "metadata": {
    "id": "Ha0rbdiwPDq6"
   },
   "source": [
    "## 11. Map, Apply, Applymap --- Skip during class--But please review"
   ]
  },
  {
   "cell_type": "markdown",
   "metadata": {
    "id": "B3saiwPIPIzl"
   },
   "source": [
    "You can make dictionaries by combining the infor in two columns."
   ]
  },
  {
   "cell_type": "code",
   "execution_count": null,
   "metadata": {
    "id": "r1VQ3QlX-_uP"
   },
   "outputs": [],
   "source": [
    "## open the dataset again\n",
    "pokemon_full2=pd.read_csv(datadirectory+'Pokemon.csv')"
   ]
  },
  {
   "cell_type": "markdown",
   "metadata": {
    "id": "RgY7xjXdQiK9"
   },
   "source": [
    "## 11.1 map"
   ]
  },
  {
   "cell_type": "markdown",
   "metadata": {
    "id": "yuNqoguIQjjh"
   },
   "source": [
    "map is a series method, works on columns, allows us to translate or map values to other values using dictionaries"
   ]
  },
  {
   "cell_type": "code",
   "execution_count": null,
   "metadata": {
    "colab": {
     "base_uri": "https://localhost:8080/"
    },
    "executionInfo": {
     "elapsed": 4125,
     "status": "ok",
     "timestamp": 1599837622254,
     "user": {
      "displayName": "Maria Hernandez Limon",
      "photoUrl": "https://lh3.googleusercontent.com/a-/AOh14Ghd3PTHlBML4DLlupZiaArIJ8xYakaUbI3sK1QW=s64",
      "userId": "15768601250316805169"
     },
     "user_tz": 300
    },
    "id": "UFH5rvvcP31Z",
    "outputId": "faace1fa-040f-4c55-9c6c-a71222872e23"
   },
   "outputs": [
    {
     "data": {
      "text/html": [
       "<div>\n",
       "<style scoped>\n",
       "    .dataframe tbody tr th:only-of-type {\n",
       "        vertical-align: middle;\n",
       "    }\n",
       "\n",
       "    .dataframe tbody tr th {\n",
       "        vertical-align: top;\n",
       "    }\n",
       "\n",
       "    .dataframe thead th {\n",
       "        text-align: right;\n",
       "    }\n",
       "</style>\n",
       "<table border=\"1\" class=\"dataframe\">\n",
       "  <thead>\n",
       "    <tr style=\"text-align: right;\">\n",
       "      <th></th>\n",
       "      <th>Number</th>\n",
       "      <th>Name</th>\n",
       "      <th>Type 1</th>\n",
       "      <th>Type 2</th>\n",
       "      <th>Total</th>\n",
       "      <th>HP</th>\n",
       "      <th>Attack</th>\n",
       "      <th>Defense</th>\n",
       "      <th>Sp. Atk</th>\n",
       "      <th>Sp. Def</th>\n",
       "      <th>Speed</th>\n",
       "      <th>Generation</th>\n",
       "      <th>Legendary</th>\n",
       "      <th>Legend_bool</th>\n",
       "    </tr>\n",
       "  </thead>\n",
       "  <tbody>\n",
       "    <tr>\n",
       "      <th>0</th>\n",
       "      <td>1</td>\n",
       "      <td>Bulbasaur</td>\n",
       "      <td>Grass</td>\n",
       "      <td>Poison</td>\n",
       "      <td>318</td>\n",
       "      <td>45</td>\n",
       "      <td>49</td>\n",
       "      <td>49</td>\n",
       "      <td>65</td>\n",
       "      <td>65</td>\n",
       "      <td>45</td>\n",
       "      <td>1</td>\n",
       "      <td>False</td>\n",
       "      <td>0</td>\n",
       "    </tr>\n",
       "    <tr>\n",
       "      <th>1</th>\n",
       "      <td>2</td>\n",
       "      <td>Ivysaur</td>\n",
       "      <td>Grass</td>\n",
       "      <td>Poison</td>\n",
       "      <td>405</td>\n",
       "      <td>60</td>\n",
       "      <td>62</td>\n",
       "      <td>63</td>\n",
       "      <td>80</td>\n",
       "      <td>80</td>\n",
       "      <td>60</td>\n",
       "      <td>1</td>\n",
       "      <td>False</td>\n",
       "      <td>0</td>\n",
       "    </tr>\n",
       "    <tr>\n",
       "      <th>2</th>\n",
       "      <td>3</td>\n",
       "      <td>Venusaur</td>\n",
       "      <td>Grass</td>\n",
       "      <td>Poison</td>\n",
       "      <td>525</td>\n",
       "      <td>80</td>\n",
       "      <td>82</td>\n",
       "      <td>83</td>\n",
       "      <td>100</td>\n",
       "      <td>100</td>\n",
       "      <td>80</td>\n",
       "      <td>1</td>\n",
       "      <td>False</td>\n",
       "      <td>0</td>\n",
       "    </tr>\n",
       "    <tr>\n",
       "      <th>3</th>\n",
       "      <td>3</td>\n",
       "      <td>VenusaurMega Venusaur</td>\n",
       "      <td>Grass</td>\n",
       "      <td>Poison</td>\n",
       "      <td>625</td>\n",
       "      <td>80</td>\n",
       "      <td>100</td>\n",
       "      <td>123</td>\n",
       "      <td>122</td>\n",
       "      <td>120</td>\n",
       "      <td>80</td>\n",
       "      <td>1</td>\n",
       "      <td>False</td>\n",
       "      <td>0</td>\n",
       "    </tr>\n",
       "    <tr>\n",
       "      <th>4</th>\n",
       "      <td>4</td>\n",
       "      <td>Charmander</td>\n",
       "      <td>Fire</td>\n",
       "      <td>NaN</td>\n",
       "      <td>309</td>\n",
       "      <td>39</td>\n",
       "      <td>52</td>\n",
       "      <td>43</td>\n",
       "      <td>60</td>\n",
       "      <td>50</td>\n",
       "      <td>65</td>\n",
       "      <td>1</td>\n",
       "      <td>False</td>\n",
       "      <td>0</td>\n",
       "    </tr>\n",
       "  </tbody>\n",
       "</table>\n",
       "</div>"
      ],
      "text/plain": [
       "   Number                   Name Type 1  ... Generation  Legendary  Legend_bool\n",
       "0       1              Bulbasaur  Grass  ...          1      False            0\n",
       "1       2                Ivysaur  Grass  ...          1      False            0\n",
       "2       3               Venusaur  Grass  ...          1      False            0\n",
       "3       3  VenusaurMega Venusaur  Grass  ...          1      False            0\n",
       "4       4             Charmander   Fire  ...          1      False            0\n",
       "\n",
       "[5 rows x 14 columns]"
      ]
     },
     "execution_count": 32,
     "metadata": {
      "tags": []
     },
     "output_type": "execute_result"
    }
   ],
   "source": [
    "#let's pretend our data doesn't already have type and make a column with type based on the name\n",
    "\n",
    "pokemon_full2['Legend_bool']=pokemon_full2['Legendary'].map({False:0,True:1})\n",
    "pokemon_full2.head()"
   ]
  },
  {
   "cell_type": "markdown",
   "metadata": {
    "id": "hkjMbPKmQzB1"
   },
   "source": [
    "## 11.2 apply"
   ]
  },
  {
   "cell_type": "markdown",
   "metadata": {
    "id": "T0-ot_5iQ82Q"
   },
   "source": [
    "apply is both a series and a dataframe method, we can use it to apply a function on a series or a dataframe"
   ]
  },
  {
   "cell_type": "code",
   "execution_count": null,
   "metadata": {
    "colab": {
     "base_uri": "https://localhost:8080/"
    },
    "executionInfo": {
     "elapsed": 4118,
     "status": "ok",
     "timestamp": 1599837622254,
     "user": {
      "displayName": "Maria Hernandez Limon",
      "photoUrl": "https://lh3.googleusercontent.com/a-/AOh14Ghd3PTHlBML4DLlupZiaArIJ8xYakaUbI3sK1QW=s64",
      "userId": "15768601250316805169"
     },
     "user_tz": 300
    },
    "id": "iKkmlHqsRLJL",
    "outputId": "f6538158-70bd-48dd-a8cc-ebec038555e9"
   },
   "outputs": [
    {
     "data": {
      "text/html": [
       "<div>\n",
       "<style scoped>\n",
       "    .dataframe tbody tr th:only-of-type {\n",
       "        vertical-align: middle;\n",
       "    }\n",
       "\n",
       "    .dataframe tbody tr th {\n",
       "        vertical-align: top;\n",
       "    }\n",
       "\n",
       "    .dataframe thead th {\n",
       "        text-align: right;\n",
       "    }\n",
       "</style>\n",
       "<table border=\"1\" class=\"dataframe\">\n",
       "  <thead>\n",
       "    <tr style=\"text-align: right;\">\n",
       "      <th></th>\n",
       "      <th>Number</th>\n",
       "      <th>Name</th>\n",
       "      <th>Type 1</th>\n",
       "      <th>Type 2</th>\n",
       "      <th>Total</th>\n",
       "      <th>HP</th>\n",
       "      <th>Attack</th>\n",
       "      <th>Defense</th>\n",
       "      <th>Sp. Atk</th>\n",
       "      <th>Sp. Def</th>\n",
       "      <th>Speed</th>\n",
       "      <th>Generation</th>\n",
       "      <th>Legendary</th>\n",
       "      <th>Legend_bool</th>\n",
       "      <th>name_length</th>\n",
       "    </tr>\n",
       "  </thead>\n",
       "  <tbody>\n",
       "    <tr>\n",
       "      <th>0</th>\n",
       "      <td>1</td>\n",
       "      <td>Bulbasaur</td>\n",
       "      <td>Grass</td>\n",
       "      <td>Poison</td>\n",
       "      <td>318</td>\n",
       "      <td>45</td>\n",
       "      <td>49</td>\n",
       "      <td>49</td>\n",
       "      <td>65</td>\n",
       "      <td>65</td>\n",
       "      <td>45</td>\n",
       "      <td>1</td>\n",
       "      <td>False</td>\n",
       "      <td>0</td>\n",
       "      <td>9</td>\n",
       "    </tr>\n",
       "    <tr>\n",
       "      <th>1</th>\n",
       "      <td>2</td>\n",
       "      <td>Ivysaur</td>\n",
       "      <td>Grass</td>\n",
       "      <td>Poison</td>\n",
       "      <td>405</td>\n",
       "      <td>60</td>\n",
       "      <td>62</td>\n",
       "      <td>63</td>\n",
       "      <td>80</td>\n",
       "      <td>80</td>\n",
       "      <td>60</td>\n",
       "      <td>1</td>\n",
       "      <td>False</td>\n",
       "      <td>0</td>\n",
       "      <td>7</td>\n",
       "    </tr>\n",
       "    <tr>\n",
       "      <th>2</th>\n",
       "      <td>3</td>\n",
       "      <td>Venusaur</td>\n",
       "      <td>Grass</td>\n",
       "      <td>Poison</td>\n",
       "      <td>525</td>\n",
       "      <td>80</td>\n",
       "      <td>82</td>\n",
       "      <td>83</td>\n",
       "      <td>100</td>\n",
       "      <td>100</td>\n",
       "      <td>80</td>\n",
       "      <td>1</td>\n",
       "      <td>False</td>\n",
       "      <td>0</td>\n",
       "      <td>8</td>\n",
       "    </tr>\n",
       "    <tr>\n",
       "      <th>3</th>\n",
       "      <td>3</td>\n",
       "      <td>VenusaurMega Venusaur</td>\n",
       "      <td>Grass</td>\n",
       "      <td>Poison</td>\n",
       "      <td>625</td>\n",
       "      <td>80</td>\n",
       "      <td>100</td>\n",
       "      <td>123</td>\n",
       "      <td>122</td>\n",
       "      <td>120</td>\n",
       "      <td>80</td>\n",
       "      <td>1</td>\n",
       "      <td>False</td>\n",
       "      <td>0</td>\n",
       "      <td>21</td>\n",
       "    </tr>\n",
       "    <tr>\n",
       "      <th>4</th>\n",
       "      <td>4</td>\n",
       "      <td>Charmander</td>\n",
       "      <td>Fire</td>\n",
       "      <td>NaN</td>\n",
       "      <td>309</td>\n",
       "      <td>39</td>\n",
       "      <td>52</td>\n",
       "      <td>43</td>\n",
       "      <td>60</td>\n",
       "      <td>50</td>\n",
       "      <td>65</td>\n",
       "      <td>1</td>\n",
       "      <td>False</td>\n",
       "      <td>0</td>\n",
       "      <td>10</td>\n",
       "    </tr>\n",
       "  </tbody>\n",
       "</table>\n",
       "</div>"
      ],
      "text/plain": [
       "   Number                   Name Type 1  ... Legendary  Legend_bool  name_length\n",
       "0       1              Bulbasaur  Grass  ...     False            0            9\n",
       "1       2                Ivysaur  Grass  ...     False            0            7\n",
       "2       3               Venusaur  Grass  ...     False            0            8\n",
       "3       3  VenusaurMega Venusaur  Grass  ...     False            0           21\n",
       "4       4             Charmander   Fire  ...     False            0           10\n",
       "\n",
       "[5 rows x 15 columns]"
      ]
     },
     "execution_count": 33,
     "metadata": {
      "tags": []
     },
     "output_type": "execute_result"
    }
   ],
   "source": [
    "## pass apply to a str series\n",
    "pokemon_full2['name_length']=pokemon_full2['Name'].apply(len)\n",
    "pokemon_full2.head()"
   ]
  },
  {
   "cell_type": "code",
   "execution_count": null,
   "metadata": {
    "colab": {
     "base_uri": "https://localhost:8080/"
    },
    "executionInfo": {
     "elapsed": 4112,
     "status": "ok",
     "timestamp": 1599837622255,
     "user": {
      "displayName": "Maria Hernandez Limon",
      "photoUrl": "https://lh3.googleusercontent.com/a-/AOh14Ghd3PTHlBML4DLlupZiaArIJ8xYakaUbI3sK1QW=s64",
      "userId": "15768601250316805169"
     },
     "user_tz": 300
    },
    "id": "rWHSFBomRjDh",
    "outputId": "1ccef244-40a9-4f93-9d3f-04cd84677468"
   },
   "outputs": [
    {
     "data": {
      "text/html": [
       "<div>\n",
       "<style scoped>\n",
       "    .dataframe tbody tr th:only-of-type {\n",
       "        vertical-align: middle;\n",
       "    }\n",
       "\n",
       "    .dataframe tbody tr th {\n",
       "        vertical-align: top;\n",
       "    }\n",
       "\n",
       "    .dataframe thead th {\n",
       "        text-align: right;\n",
       "    }\n",
       "</style>\n",
       "<table border=\"1\" class=\"dataframe\">\n",
       "  <thead>\n",
       "    <tr style=\"text-align: right;\">\n",
       "      <th></th>\n",
       "      <th>Number</th>\n",
       "      <th>Name</th>\n",
       "      <th>Type 1</th>\n",
       "      <th>Type 2</th>\n",
       "      <th>Total</th>\n",
       "      <th>HP</th>\n",
       "      <th>Attack</th>\n",
       "      <th>Defense</th>\n",
       "      <th>Sp. Atk</th>\n",
       "      <th>Sp. Def</th>\n",
       "      <th>Speed</th>\n",
       "      <th>Generation</th>\n",
       "      <th>Legendary</th>\n",
       "      <th>Legend_bool</th>\n",
       "      <th>name_length</th>\n",
       "      <th>total_bad</th>\n",
       "      <th>total_rounded</th>\n",
       "    </tr>\n",
       "  </thead>\n",
       "  <tbody>\n",
       "    <tr>\n",
       "      <th>0</th>\n",
       "      <td>1</td>\n",
       "      <td>Bulbasaur</td>\n",
       "      <td>Grass</td>\n",
       "      <td>Poison</td>\n",
       "      <td>318</td>\n",
       "      <td>45</td>\n",
       "      <td>49</td>\n",
       "      <td>49</td>\n",
       "      <td>65</td>\n",
       "      <td>65</td>\n",
       "      <td>45</td>\n",
       "      <td>1</td>\n",
       "      <td>False</td>\n",
       "      <td>0</td>\n",
       "      <td>9</td>\n",
       "      <td>318.7</td>\n",
       "      <td>319.0</td>\n",
       "    </tr>\n",
       "    <tr>\n",
       "      <th>1</th>\n",
       "      <td>2</td>\n",
       "      <td>Ivysaur</td>\n",
       "      <td>Grass</td>\n",
       "      <td>Poison</td>\n",
       "      <td>405</td>\n",
       "      <td>60</td>\n",
       "      <td>62</td>\n",
       "      <td>63</td>\n",
       "      <td>80</td>\n",
       "      <td>80</td>\n",
       "      <td>60</td>\n",
       "      <td>1</td>\n",
       "      <td>False</td>\n",
       "      <td>0</td>\n",
       "      <td>7</td>\n",
       "      <td>405.7</td>\n",
       "      <td>406.0</td>\n",
       "    </tr>\n",
       "    <tr>\n",
       "      <th>2</th>\n",
       "      <td>3</td>\n",
       "      <td>Venusaur</td>\n",
       "      <td>Grass</td>\n",
       "      <td>Poison</td>\n",
       "      <td>525</td>\n",
       "      <td>80</td>\n",
       "      <td>82</td>\n",
       "      <td>83</td>\n",
       "      <td>100</td>\n",
       "      <td>100</td>\n",
       "      <td>80</td>\n",
       "      <td>1</td>\n",
       "      <td>False</td>\n",
       "      <td>0</td>\n",
       "      <td>8</td>\n",
       "      <td>525.7</td>\n",
       "      <td>526.0</td>\n",
       "    </tr>\n",
       "    <tr>\n",
       "      <th>3</th>\n",
       "      <td>3</td>\n",
       "      <td>VenusaurMega Venusaur</td>\n",
       "      <td>Grass</td>\n",
       "      <td>Poison</td>\n",
       "      <td>625</td>\n",
       "      <td>80</td>\n",
       "      <td>100</td>\n",
       "      <td>123</td>\n",
       "      <td>122</td>\n",
       "      <td>120</td>\n",
       "      <td>80</td>\n",
       "      <td>1</td>\n",
       "      <td>False</td>\n",
       "      <td>0</td>\n",
       "      <td>21</td>\n",
       "      <td>625.7</td>\n",
       "      <td>626.0</td>\n",
       "    </tr>\n",
       "    <tr>\n",
       "      <th>4</th>\n",
       "      <td>4</td>\n",
       "      <td>Charmander</td>\n",
       "      <td>Fire</td>\n",
       "      <td>NaN</td>\n",
       "      <td>309</td>\n",
       "      <td>39</td>\n",
       "      <td>52</td>\n",
       "      <td>43</td>\n",
       "      <td>60</td>\n",
       "      <td>50</td>\n",
       "      <td>65</td>\n",
       "      <td>1</td>\n",
       "      <td>False</td>\n",
       "      <td>0</td>\n",
       "      <td>10</td>\n",
       "      <td>309.7</td>\n",
       "      <td>310.0</td>\n",
       "    </tr>\n",
       "  </tbody>\n",
       "</table>\n",
       "</div>"
      ],
      "text/plain": [
       "   Number                   Name Type 1  ... name_length  total_bad  total_rounded\n",
       "0       1              Bulbasaur  Grass  ...           9      318.7          319.0\n",
       "1       2                Ivysaur  Grass  ...           7      405.7          406.0\n",
       "2       3               Venusaur  Grass  ...           8      525.7          526.0\n",
       "3       3  VenusaurMega Venusaur  Grass  ...          21      625.7          626.0\n",
       "4       4             Charmander   Fire  ...          10      309.7          310.0\n",
       "\n",
       "[5 rows x 17 columns]"
      ]
     },
     "execution_count": 34,
     "metadata": {
      "tags": []
     },
     "output_type": "execute_result"
    }
   ],
   "source": [
    "## pass apply to a numerical series\n",
    "#let's make a bad column for our example\n",
    "pokemon_full2['total_bad']=pokemon_full2['Total']+0.7\n",
    "#let's fix it uring np.round\n",
    "pokemon_full2['total_rounded']=pokemon_full2['total_bad'].apply(np.around)\n",
    "pokemon_full2.head()\n",
    "## you can pass any function to apply"
   ]
  },
  {
   "cell_type": "code",
   "execution_count": null,
   "metadata": {
    "colab": {
     "base_uri": "https://localhost:8080/"
    },
    "executionInfo": {
     "elapsed": 4105,
     "status": "ok",
     "timestamp": 1599837622255,
     "user": {
      "displayName": "Maria Hernandez Limon",
      "photoUrl": "https://lh3.googleusercontent.com/a-/AOh14Ghd3PTHlBML4DLlupZiaArIJ8xYakaUbI3sK1QW=s64",
      "userId": "15768601250316805169"
     },
     "user_tz": 300
    },
    "id": "HC8yIbYTYwEM",
    "outputId": "8cc3526e-3957-466a-81fb-c6aeccc82e54"
   },
   "outputs": [
    {
     "data": {
      "text/plain": [
       "Total      780\n",
       "HP         255\n",
       "Attack     190\n",
       "Defense    230\n",
       "dtype: int64"
      ]
     },
     "execution_count": 35,
     "metadata": {
      "tags": []
     },
     "output_type": "execute_result"
    }
   ],
   "source": [
    "### let's use apply on the dataframe\n",
    "\n",
    "#this will run the function in apply, (in this case max), along the specified axis (in this case rows) and \n",
    "#give us the max value for each column we selected \n",
    "pokemon_full2.loc[:,'Total':'Defense'].apply(max,axis=0)"
   ]
  },
  {
   "cell_type": "markdown",
   "metadata": {
    "id": "nFYXWWcBZ6_I"
   },
   "source": [
    "## 11.3 applymap"
   ]
  },
  {
   "cell_type": "markdown",
   "metadata": {
    "id": "IvoLyieaaB5w"
   },
   "source": [
    "applymap applies a function to all the elements in a dataframe, (all the cells)"
   ]
  },
  {
   "cell_type": "code",
   "execution_count": null,
   "metadata": {
    "colab": {
     "base_uri": "https://localhost:8080/"
    },
    "executionInfo": {
     "elapsed": 4099,
     "status": "ok",
     "timestamp": 1599837622256,
     "user": {
      "displayName": "Maria Hernandez Limon",
      "photoUrl": "https://lh3.googleusercontent.com/a-/AOh14Ghd3PTHlBML4DLlupZiaArIJ8xYakaUbI3sK1QW=s64",
      "userId": "15768601250316805169"
     },
     "user_tz": 300
    },
    "id": "bA16sBD_IR-p",
    "outputId": "1363d4bd-649e-4e4f-cab4-083a20ef6d15"
   },
   "outputs": [
    {
     "data": {
      "application/vnd.google.colaboratory.intrinsic+json": {
       "type": "string"
      },
      "text/plain": [
       "'chicken'"
      ]
     },
     "execution_count": 36,
     "metadata": {
      "tags": []
     },
     "output_type": "execute_result"
    }
   ],
   "source": [
    "def check_data_type(some_cell):\n",
    "  if type(some_cell)==str:\n",
    "    return 'chicken'\n",
    "  else:\n",
    "    return 'beef'\n",
    "\n",
    "check_data_type('Y')\n"
   ]
  },
  {
   "cell_type": "code",
   "execution_count": null,
   "metadata": {
    "colab": {
     "base_uri": "https://localhost:8080/"
    },
    "executionInfo": {
     "elapsed": 4093,
     "status": "ok",
     "timestamp": 1599837622257,
     "user": {
      "displayName": "Maria Hernandez Limon",
      "photoUrl": "https://lh3.googleusercontent.com/a-/AOh14Ghd3PTHlBML4DLlupZiaArIJ8xYakaUbI3sK1QW=s64",
      "userId": "15768601250316805169"
     },
     "user_tz": 300
    },
    "id": "QbCS_tzpI0tl",
    "outputId": "79a66159-3b41-4c77-9ac3-bbb9c3a94be3"
   },
   "outputs": [
    {
     "data": {
      "text/html": [
       "<div>\n",
       "<style scoped>\n",
       "    .dataframe tbody tr th:only-of-type {\n",
       "        vertical-align: middle;\n",
       "    }\n",
       "\n",
       "    .dataframe tbody tr th {\n",
       "        vertical-align: top;\n",
       "    }\n",
       "\n",
       "    .dataframe thead th {\n",
       "        text-align: right;\n",
       "    }\n",
       "</style>\n",
       "<table border=\"1\" class=\"dataframe\">\n",
       "  <thead>\n",
       "    <tr style=\"text-align: right;\">\n",
       "      <th></th>\n",
       "      <th>Number</th>\n",
       "      <th>Name</th>\n",
       "      <th>Type 1</th>\n",
       "      <th>Type 2</th>\n",
       "      <th>Total</th>\n",
       "      <th>HP</th>\n",
       "      <th>Attack</th>\n",
       "      <th>Defense</th>\n",
       "      <th>Sp. Atk</th>\n",
       "      <th>Sp. Def</th>\n",
       "      <th>Speed</th>\n",
       "      <th>Generation</th>\n",
       "      <th>Legendary</th>\n",
       "      <th>Legend_bool</th>\n",
       "      <th>name_length</th>\n",
       "      <th>total_bad</th>\n",
       "      <th>total_rounded</th>\n",
       "    </tr>\n",
       "  </thead>\n",
       "  <tbody>\n",
       "    <tr>\n",
       "      <th>0</th>\n",
       "      <td>beef</td>\n",
       "      <td>chicken</td>\n",
       "      <td>chicken</td>\n",
       "      <td>chicken</td>\n",
       "      <td>beef</td>\n",
       "      <td>beef</td>\n",
       "      <td>beef</td>\n",
       "      <td>beef</td>\n",
       "      <td>beef</td>\n",
       "      <td>beef</td>\n",
       "      <td>beef</td>\n",
       "      <td>beef</td>\n",
       "      <td>beef</td>\n",
       "      <td>beef</td>\n",
       "      <td>beef</td>\n",
       "      <td>beef</td>\n",
       "      <td>beef</td>\n",
       "    </tr>\n",
       "    <tr>\n",
       "      <th>1</th>\n",
       "      <td>beef</td>\n",
       "      <td>chicken</td>\n",
       "      <td>chicken</td>\n",
       "      <td>chicken</td>\n",
       "      <td>beef</td>\n",
       "      <td>beef</td>\n",
       "      <td>beef</td>\n",
       "      <td>beef</td>\n",
       "      <td>beef</td>\n",
       "      <td>beef</td>\n",
       "      <td>beef</td>\n",
       "      <td>beef</td>\n",
       "      <td>beef</td>\n",
       "      <td>beef</td>\n",
       "      <td>beef</td>\n",
       "      <td>beef</td>\n",
       "      <td>beef</td>\n",
       "    </tr>\n",
       "    <tr>\n",
       "      <th>2</th>\n",
       "      <td>beef</td>\n",
       "      <td>chicken</td>\n",
       "      <td>chicken</td>\n",
       "      <td>chicken</td>\n",
       "      <td>beef</td>\n",
       "      <td>beef</td>\n",
       "      <td>beef</td>\n",
       "      <td>beef</td>\n",
       "      <td>beef</td>\n",
       "      <td>beef</td>\n",
       "      <td>beef</td>\n",
       "      <td>beef</td>\n",
       "      <td>beef</td>\n",
       "      <td>beef</td>\n",
       "      <td>beef</td>\n",
       "      <td>beef</td>\n",
       "      <td>beef</td>\n",
       "    </tr>\n",
       "    <tr>\n",
       "      <th>3</th>\n",
       "      <td>beef</td>\n",
       "      <td>chicken</td>\n",
       "      <td>chicken</td>\n",
       "      <td>chicken</td>\n",
       "      <td>beef</td>\n",
       "      <td>beef</td>\n",
       "      <td>beef</td>\n",
       "      <td>beef</td>\n",
       "      <td>beef</td>\n",
       "      <td>beef</td>\n",
       "      <td>beef</td>\n",
       "      <td>beef</td>\n",
       "      <td>beef</td>\n",
       "      <td>beef</td>\n",
       "      <td>beef</td>\n",
       "      <td>beef</td>\n",
       "      <td>beef</td>\n",
       "    </tr>\n",
       "    <tr>\n",
       "      <th>4</th>\n",
       "      <td>beef</td>\n",
       "      <td>chicken</td>\n",
       "      <td>chicken</td>\n",
       "      <td>beef</td>\n",
       "      <td>beef</td>\n",
       "      <td>beef</td>\n",
       "      <td>beef</td>\n",
       "      <td>beef</td>\n",
       "      <td>beef</td>\n",
       "      <td>beef</td>\n",
       "      <td>beef</td>\n",
       "      <td>beef</td>\n",
       "      <td>beef</td>\n",
       "      <td>beef</td>\n",
       "      <td>beef</td>\n",
       "      <td>beef</td>\n",
       "      <td>beef</td>\n",
       "    </tr>\n",
       "    <tr>\n",
       "      <th>...</th>\n",
       "      <td>...</td>\n",
       "      <td>...</td>\n",
       "      <td>...</td>\n",
       "      <td>...</td>\n",
       "      <td>...</td>\n",
       "      <td>...</td>\n",
       "      <td>...</td>\n",
       "      <td>...</td>\n",
       "      <td>...</td>\n",
       "      <td>...</td>\n",
       "      <td>...</td>\n",
       "      <td>...</td>\n",
       "      <td>...</td>\n",
       "      <td>...</td>\n",
       "      <td>...</td>\n",
       "      <td>...</td>\n",
       "      <td>...</td>\n",
       "    </tr>\n",
       "    <tr>\n",
       "      <th>795</th>\n",
       "      <td>beef</td>\n",
       "      <td>chicken</td>\n",
       "      <td>chicken</td>\n",
       "      <td>chicken</td>\n",
       "      <td>beef</td>\n",
       "      <td>beef</td>\n",
       "      <td>beef</td>\n",
       "      <td>beef</td>\n",
       "      <td>beef</td>\n",
       "      <td>beef</td>\n",
       "      <td>beef</td>\n",
       "      <td>beef</td>\n",
       "      <td>beef</td>\n",
       "      <td>beef</td>\n",
       "      <td>beef</td>\n",
       "      <td>beef</td>\n",
       "      <td>beef</td>\n",
       "    </tr>\n",
       "    <tr>\n",
       "      <th>796</th>\n",
       "      <td>beef</td>\n",
       "      <td>chicken</td>\n",
       "      <td>chicken</td>\n",
       "      <td>chicken</td>\n",
       "      <td>beef</td>\n",
       "      <td>beef</td>\n",
       "      <td>beef</td>\n",
       "      <td>beef</td>\n",
       "      <td>beef</td>\n",
       "      <td>beef</td>\n",
       "      <td>beef</td>\n",
       "      <td>beef</td>\n",
       "      <td>beef</td>\n",
       "      <td>beef</td>\n",
       "      <td>beef</td>\n",
       "      <td>beef</td>\n",
       "      <td>beef</td>\n",
       "    </tr>\n",
       "    <tr>\n",
       "      <th>797</th>\n",
       "      <td>beef</td>\n",
       "      <td>chicken</td>\n",
       "      <td>chicken</td>\n",
       "      <td>chicken</td>\n",
       "      <td>beef</td>\n",
       "      <td>beef</td>\n",
       "      <td>beef</td>\n",
       "      <td>beef</td>\n",
       "      <td>beef</td>\n",
       "      <td>beef</td>\n",
       "      <td>beef</td>\n",
       "      <td>beef</td>\n",
       "      <td>beef</td>\n",
       "      <td>beef</td>\n",
       "      <td>beef</td>\n",
       "      <td>beef</td>\n",
       "      <td>beef</td>\n",
       "    </tr>\n",
       "    <tr>\n",
       "      <th>798</th>\n",
       "      <td>beef</td>\n",
       "      <td>chicken</td>\n",
       "      <td>chicken</td>\n",
       "      <td>chicken</td>\n",
       "      <td>beef</td>\n",
       "      <td>beef</td>\n",
       "      <td>beef</td>\n",
       "      <td>beef</td>\n",
       "      <td>beef</td>\n",
       "      <td>beef</td>\n",
       "      <td>beef</td>\n",
       "      <td>beef</td>\n",
       "      <td>beef</td>\n",
       "      <td>beef</td>\n",
       "      <td>beef</td>\n",
       "      <td>beef</td>\n",
       "      <td>beef</td>\n",
       "    </tr>\n",
       "    <tr>\n",
       "      <th>799</th>\n",
       "      <td>beef</td>\n",
       "      <td>chicken</td>\n",
       "      <td>chicken</td>\n",
       "      <td>chicken</td>\n",
       "      <td>beef</td>\n",
       "      <td>beef</td>\n",
       "      <td>beef</td>\n",
       "      <td>beef</td>\n",
       "      <td>beef</td>\n",
       "      <td>beef</td>\n",
       "      <td>beef</td>\n",
       "      <td>beef</td>\n",
       "      <td>beef</td>\n",
       "      <td>beef</td>\n",
       "      <td>beef</td>\n",
       "      <td>beef</td>\n",
       "      <td>beef</td>\n",
       "    </tr>\n",
       "  </tbody>\n",
       "</table>\n",
       "<p>800 rows × 17 columns</p>\n",
       "</div>"
      ],
      "text/plain": [
       "    Number     Name   Type 1  ... name_length total_bad total_rounded\n",
       "0     beef  chicken  chicken  ...        beef      beef          beef\n",
       "1     beef  chicken  chicken  ...        beef      beef          beef\n",
       "2     beef  chicken  chicken  ...        beef      beef          beef\n",
       "3     beef  chicken  chicken  ...        beef      beef          beef\n",
       "4     beef  chicken  chicken  ...        beef      beef          beef\n",
       "..     ...      ...      ...  ...         ...       ...           ...\n",
       "795   beef  chicken  chicken  ...        beef      beef          beef\n",
       "796   beef  chicken  chicken  ...        beef      beef          beef\n",
       "797   beef  chicken  chicken  ...        beef      beef          beef\n",
       "798   beef  chicken  chicken  ...        beef      beef          beef\n",
       "799   beef  chicken  chicken  ...        beef      beef          beef\n",
       "\n",
       "[800 rows x 17 columns]"
      ]
     },
     "execution_count": 37,
     "metadata": {
      "tags": []
     },
     "output_type": "execute_result"
    }
   ],
   "source": [
    "pokemon_full2.applymap(check_data_type)"
   ]
  },
  {
   "cell_type": "markdown",
   "metadata": {
    "id": "P9SwkEDaxDap"
   },
   "source": [
    "## 12. Working with multiple tables"
   ]
  },
  {
   "cell_type": "markdown",
   "metadata": {
    "id": "biEQlLefDOkV"
   },
   "source": [
    "## 12.1 Merge"
   ]
  },
  {
   "cell_type": "markdown",
   "metadata": {
    "id": "lLbXe5JBDRxS"
   },
   "source": [
    "Imagine working with multiple datasets and having to combine tables.  Let's merge table 1 and 2. Merge requires that our dataframes have a column that is the same. More details on merge [here](https://https://pandas.pydata.org/pandas-docs/stable/reference/api/pandas.DataFrame.merge.html). "
   ]
  },
  {
   "cell_type": "code",
   "execution_count": null,
   "metadata": {
    "colab": {
     "base_uri": "https://localhost:8080/"
    },
    "executionInfo": {
     "elapsed": 4399,
     "status": "ok",
     "timestamp": 1599837622570,
     "user": {
      "displayName": "Maria Hernandez Limon",
      "photoUrl": "https://lh3.googleusercontent.com/a-/AOh14Ghd3PTHlBML4DLlupZiaArIJ8xYakaUbI3sK1QW=s64",
      "userId": "15768601250316805169"
     },
     "user_tz": 300
    },
    "id": "o7DV_IM0DK6M",
    "outputId": "3960c154-9062-4c16-f522-58ff6bf0b6c1"
   },
   "outputs": [
    {
     "name": "stdout",
     "output_type": "stream",
     "text": [
      "(17031, 28)\n"
     ]
    },
    {
     "data": {
      "text/html": [
       "<div>\n",
       "<style scoped>\n",
       "    .dataframe tbody tr th:only-of-type {\n",
       "        vertical-align: middle;\n",
       "    }\n",
       "\n",
       "    .dataframe tbody tr th {\n",
       "        vertical-align: top;\n",
       "    }\n",
       "\n",
       "    .dataframe thead th {\n",
       "        text-align: right;\n",
       "    }\n",
       "</style>\n",
       "<table border=\"1\" class=\"dataframe\">\n",
       "  <thead>\n",
       "    <tr style=\"text-align: right;\">\n",
       "      <th></th>\n",
       "      <th>CAMNT_ID</th>\n",
       "      <th>WGCNA_Module_Num</th>\n",
       "      <th>RAIN_diel_Results</th>\n",
       "      <th>KEGG_Annotations</th>\n",
       "      <th>KEGG_clean</th>\n",
       "      <th>KEGG_clean1</th>\n",
       "      <th>index</th>\n",
       "      <th>CAMNT</th>\n",
       "      <th>0</th>\n",
       "      <th>4</th>\n",
       "      <th>8</th>\n",
       "      <th>12</th>\n",
       "      <th>16</th>\n",
       "      <th>20</th>\n",
       "      <th>24</th>\n",
       "      <th>28</th>\n",
       "      <th>32</th>\n",
       "      <th>36</th>\n",
       "      <th>40</th>\n",
       "      <th>44</th>\n",
       "      <th>48</th>\n",
       "      <th>52</th>\n",
       "      <th>56</th>\n",
       "      <th>60</th>\n",
       "      <th>68</th>\n",
       "      <th>72</th>\n",
       "      <th>76</th>\n",
       "      <th>80</th>\n",
       "    </tr>\n",
       "  </thead>\n",
       "  <tbody>\n",
       "    <tr>\n",
       "      <th>0</th>\n",
       "      <td>CAMNT_0024302971</td>\n",
       "      <td>7.0</td>\n",
       "      <td>False</td>\n",
       "      <td>00910 Nitrogen metabolism [PATH:ko00910]</td>\n",
       "      <td>Nitrogen metabolism</td>\n",
       "      <td>Nitrogen metabolism [PATH:ko00910]</td>\n",
       "      <td>3621</td>\n",
       "      <td>CAMNT_0024302971</td>\n",
       "      <td>19</td>\n",
       "      <td>36</td>\n",
       "      <td>14</td>\n",
       "      <td>34</td>\n",
       "      <td>14</td>\n",
       "      <td>17</td>\n",
       "      <td>24</td>\n",
       "      <td>35</td>\n",
       "      <td>14</td>\n",
       "      <td>28</td>\n",
       "      <td>14</td>\n",
       "      <td>34</td>\n",
       "      <td>23</td>\n",
       "      <td>15</td>\n",
       "      <td>11</td>\n",
       "      <td>14</td>\n",
       "      <td>10</td>\n",
       "      <td>20</td>\n",
       "      <td>14</td>\n",
       "      <td>13</td>\n",
       "    </tr>\n",
       "    <tr>\n",
       "      <th>1</th>\n",
       "      <td>CAMNT_0024014877</td>\n",
       "      <td>4.0</td>\n",
       "      <td>False</td>\n",
       "      <td>00030 Pentose phosphate pathway [PATH:ko00030]</td>\n",
       "      <td>Pentose phosphate pathway</td>\n",
       "      <td>Pentose phosphate pathway [PATH:ko00030]</td>\n",
       "      <td>857</td>\n",
       "      <td>CAMNT_0024014877</td>\n",
       "      <td>26</td>\n",
       "      <td>48</td>\n",
       "      <td>46</td>\n",
       "      <td>40</td>\n",
       "      <td>35</td>\n",
       "      <td>29</td>\n",
       "      <td>25</td>\n",
       "      <td>38</td>\n",
       "      <td>29</td>\n",
       "      <td>42</td>\n",
       "      <td>35</td>\n",
       "      <td>30</td>\n",
       "      <td>10</td>\n",
       "      <td>26</td>\n",
       "      <td>42</td>\n",
       "      <td>35</td>\n",
       "      <td>34</td>\n",
       "      <td>45</td>\n",
       "      <td>19</td>\n",
       "      <td>26</td>\n",
       "    </tr>\n",
       "    <tr>\n",
       "      <th>2</th>\n",
       "      <td>CAMNT_0024014877</td>\n",
       "      <td>4.0</td>\n",
       "      <td>False</td>\n",
       "      <td>00710 Carbon fixation in photosynthetic organi...</td>\n",
       "      <td>Carbon fixation in photosynthetic organisms</td>\n",
       "      <td>Carbon fixation in photosynthetic organisms [P...</td>\n",
       "      <td>857</td>\n",
       "      <td>CAMNT_0024014877</td>\n",
       "      <td>26</td>\n",
       "      <td>48</td>\n",
       "      <td>46</td>\n",
       "      <td>40</td>\n",
       "      <td>35</td>\n",
       "      <td>29</td>\n",
       "      <td>25</td>\n",
       "      <td>38</td>\n",
       "      <td>29</td>\n",
       "      <td>42</td>\n",
       "      <td>35</td>\n",
       "      <td>30</td>\n",
       "      <td>10</td>\n",
       "      <td>26</td>\n",
       "      <td>42</td>\n",
       "      <td>35</td>\n",
       "      <td>34</td>\n",
       "      <td>45</td>\n",
       "      <td>19</td>\n",
       "      <td>26</td>\n",
       "    </tr>\n",
       "    <tr>\n",
       "      <th>3</th>\n",
       "      <td>CAMNT_0024014877</td>\n",
       "      <td>4.0</td>\n",
       "      <td>False</td>\n",
       "      <td>01051 Biosynthesis of ansamycins [PATH:ko01051]</td>\n",
       "      <td>Biosynthesis of ansamycins</td>\n",
       "      <td>Biosynthesis of ansamycins [PATH:ko01051]</td>\n",
       "      <td>857</td>\n",
       "      <td>CAMNT_0024014877</td>\n",
       "      <td>26</td>\n",
       "      <td>48</td>\n",
       "      <td>46</td>\n",
       "      <td>40</td>\n",
       "      <td>35</td>\n",
       "      <td>29</td>\n",
       "      <td>25</td>\n",
       "      <td>38</td>\n",
       "      <td>29</td>\n",
       "      <td>42</td>\n",
       "      <td>35</td>\n",
       "      <td>30</td>\n",
       "      <td>10</td>\n",
       "      <td>26</td>\n",
       "      <td>42</td>\n",
       "      <td>35</td>\n",
       "      <td>34</td>\n",
       "      <td>45</td>\n",
       "      <td>19</td>\n",
       "      <td>26</td>\n",
       "    </tr>\n",
       "    <tr>\n",
       "      <th>4</th>\n",
       "      <td>CAMNT_0024014877</td>\n",
       "      <td>4.0</td>\n",
       "      <td>False</td>\n",
       "      <td>01200 Carbon metabolism [PATH:ko01200]</td>\n",
       "      <td>Carbon metabolism</td>\n",
       "      <td>Carbon metabolism [PATH:ko01200]</td>\n",
       "      <td>857</td>\n",
       "      <td>CAMNT_0024014877</td>\n",
       "      <td>26</td>\n",
       "      <td>48</td>\n",
       "      <td>46</td>\n",
       "      <td>40</td>\n",
       "      <td>35</td>\n",
       "      <td>29</td>\n",
       "      <td>25</td>\n",
       "      <td>38</td>\n",
       "      <td>29</td>\n",
       "      <td>42</td>\n",
       "      <td>35</td>\n",
       "      <td>30</td>\n",
       "      <td>10</td>\n",
       "      <td>26</td>\n",
       "      <td>42</td>\n",
       "      <td>35</td>\n",
       "      <td>34</td>\n",
       "      <td>45</td>\n",
       "      <td>19</td>\n",
       "      <td>26</td>\n",
       "    </tr>\n",
       "  </tbody>\n",
       "</table>\n",
       "</div>"
      ],
      "text/plain": [
       "           CAMNT_ID  WGCNA_Module_Num RAIN_diel_Results  ...  72  76  80\n",
       "0  CAMNT_0024302971               7.0             False  ...  20  14  13\n",
       "1  CAMNT_0024014877               4.0             False  ...  45  19  26\n",
       "2  CAMNT_0024014877               4.0             False  ...  45  19  26\n",
       "3  CAMNT_0024014877               4.0             False  ...  45  19  26\n",
       "4  CAMNT_0024014877               4.0             False  ...  45  19  26\n",
       "\n",
       "[5 rows x 28 columns]"
      ]
     },
     "execution_count": 38,
     "metadata": {
      "tags": []
     },
     "output_type": "execute_result"
    }
   ],
   "source": [
    "#pd.merge(left,right,on,how)\n",
    "contig_full=pd.merge(gene_info_clean,gene_counts,left_on='CAMNT_ID',right_on='CAMNT',how='outer')\n",
    "print (contig_full.shape)\n",
    "contig_full.head()"
   ]
  },
  {
   "cell_type": "markdown",
   "metadata": {
    "id": "Pv6FeUtGROnn"
   },
   "source": [
    "Convinently, our dataframes had the 'Name' column but you can imagine the case where Name might be the index, not a column. Sure, I can reset the index to have the same name, but that's too much work."
   ]
  },
  {
   "cell_type": "code",
   "execution_count": null,
   "metadata": {
    "colab": {
     "base_uri": "https://localhost:8080/"
    },
    "executionInfo": {
     "elapsed": 4392,
     "status": "ok",
     "timestamp": 1599837622571,
     "user": {
      "displayName": "Maria Hernandez Limon",
      "photoUrl": "https://lh3.googleusercontent.com/a-/AOh14Ghd3PTHlBML4DLlupZiaArIJ8xYakaUbI3sK1QW=s64",
      "userId": "15768601250316805169"
     },
     "user_tz": 300
    },
    "id": "rlbZLwrlSRio",
    "outputId": "2b0ab4e2-81c9-4e1f-9479-79540e093c9d"
   },
   "outputs": [
    {
     "name": "stdout",
     "output_type": "stream",
     "text": [
      "Index(['CAMNT_ID', 'WGCNA_Module_Num', 'RAIN_diel_Results', 'KEGG_Annotations',\n",
      "       'KEGG_clean', 'KEGG_clean1'],\n",
      "      dtype='object')\n",
      "Index(['CAMNT', 'WGCNA_Module_Num', 'RAIN_diel_Results', 'KEGG_Annotations',\n",
      "       'KEGG_clean', 'KEGG_clean1'],\n",
      "      dtype='object')\n"
     ]
    },
    {
     "name": "stderr",
     "output_type": "stream",
     "text": [
      "/usr/local/lib/python3.6/dist-packages/pandas/core/frame.py:4133: SettingWithCopyWarning: \n",
      "A value is trying to be set on a copy of a slice from a DataFrame\n",
      "\n",
      "See the caveats in the documentation: https://pandas.pydata.org/pandas-docs/stable/user_guide/indexing.html#returning-a-view-versus-a-copy\n",
      "  errors=errors,\n"
     ]
    }
   ],
   "source": [
    "#let's chage the CAMNT column in the gene_info and try again\n",
    "print(gene_info_clean.columns)\n",
    "gene_info_clean.rename(columns={'CAMNT_ID':'CAMNT'},inplace=True)\n",
    "print(gene_info_clean.columns)"
   ]
  },
  {
   "cell_type": "code",
   "execution_count": null,
   "metadata": {
    "colab": {
     "base_uri": "https://localhost:8080/"
    },
    "executionInfo": {
     "elapsed": 4385,
     "status": "ok",
     "timestamp": 1599837622571,
     "user": {
      "displayName": "Maria Hernandez Limon",
      "photoUrl": "https://lh3.googleusercontent.com/a-/AOh14Ghd3PTHlBML4DLlupZiaArIJ8xYakaUbI3sK1QW=s64",
      "userId": "15768601250316805169"
     },
     "user_tz": 300
    },
    "id": "4jWt3Ji0Sfe9",
    "outputId": "51d19e68-1130-4415-d64e-0c4971040ed6"
   },
   "outputs": [
    {
     "name": "stdout",
     "output_type": "stream",
     "text": [
      "(17031, 27)\n"
     ]
    },
    {
     "data": {
      "text/html": [
       "<div>\n",
       "<style scoped>\n",
       "    .dataframe tbody tr th:only-of-type {\n",
       "        vertical-align: middle;\n",
       "    }\n",
       "\n",
       "    .dataframe tbody tr th {\n",
       "        vertical-align: top;\n",
       "    }\n",
       "\n",
       "    .dataframe thead th {\n",
       "        text-align: right;\n",
       "    }\n",
       "</style>\n",
       "<table border=\"1\" class=\"dataframe\">\n",
       "  <thead>\n",
       "    <tr style=\"text-align: right;\">\n",
       "      <th></th>\n",
       "      <th>CAMNT</th>\n",
       "      <th>WGCNA_Module_Num</th>\n",
       "      <th>RAIN_diel_Results</th>\n",
       "      <th>KEGG_Annotations</th>\n",
       "      <th>KEGG_clean</th>\n",
       "      <th>KEGG_clean1</th>\n",
       "      <th>index</th>\n",
       "      <th>0</th>\n",
       "      <th>4</th>\n",
       "      <th>8</th>\n",
       "      <th>12</th>\n",
       "      <th>16</th>\n",
       "      <th>20</th>\n",
       "      <th>24</th>\n",
       "      <th>28</th>\n",
       "      <th>32</th>\n",
       "      <th>36</th>\n",
       "      <th>40</th>\n",
       "      <th>44</th>\n",
       "      <th>48</th>\n",
       "      <th>52</th>\n",
       "      <th>56</th>\n",
       "      <th>60</th>\n",
       "      <th>68</th>\n",
       "      <th>72</th>\n",
       "      <th>76</th>\n",
       "      <th>80</th>\n",
       "    </tr>\n",
       "  </thead>\n",
       "  <tbody>\n",
       "    <tr>\n",
       "      <th>0</th>\n",
       "      <td>CAMNT_0024302971</td>\n",
       "      <td>7.0</td>\n",
       "      <td>False</td>\n",
       "      <td>00910 Nitrogen metabolism [PATH:ko00910]</td>\n",
       "      <td>Nitrogen metabolism</td>\n",
       "      <td>Nitrogen metabolism [PATH:ko00910]</td>\n",
       "      <td>3621</td>\n",
       "      <td>19</td>\n",
       "      <td>36</td>\n",
       "      <td>14</td>\n",
       "      <td>34</td>\n",
       "      <td>14</td>\n",
       "      <td>17</td>\n",
       "      <td>24</td>\n",
       "      <td>35</td>\n",
       "      <td>14</td>\n",
       "      <td>28</td>\n",
       "      <td>14</td>\n",
       "      <td>34</td>\n",
       "      <td>23</td>\n",
       "      <td>15</td>\n",
       "      <td>11</td>\n",
       "      <td>14</td>\n",
       "      <td>10</td>\n",
       "      <td>20</td>\n",
       "      <td>14</td>\n",
       "      <td>13</td>\n",
       "    </tr>\n",
       "    <tr>\n",
       "      <th>1</th>\n",
       "      <td>CAMNT_0024014877</td>\n",
       "      <td>4.0</td>\n",
       "      <td>False</td>\n",
       "      <td>00030 Pentose phosphate pathway [PATH:ko00030]</td>\n",
       "      <td>Pentose phosphate pathway</td>\n",
       "      <td>Pentose phosphate pathway [PATH:ko00030]</td>\n",
       "      <td>857</td>\n",
       "      <td>26</td>\n",
       "      <td>48</td>\n",
       "      <td>46</td>\n",
       "      <td>40</td>\n",
       "      <td>35</td>\n",
       "      <td>29</td>\n",
       "      <td>25</td>\n",
       "      <td>38</td>\n",
       "      <td>29</td>\n",
       "      <td>42</td>\n",
       "      <td>35</td>\n",
       "      <td>30</td>\n",
       "      <td>10</td>\n",
       "      <td>26</td>\n",
       "      <td>42</td>\n",
       "      <td>35</td>\n",
       "      <td>34</td>\n",
       "      <td>45</td>\n",
       "      <td>19</td>\n",
       "      <td>26</td>\n",
       "    </tr>\n",
       "    <tr>\n",
       "      <th>2</th>\n",
       "      <td>CAMNT_0024014877</td>\n",
       "      <td>4.0</td>\n",
       "      <td>False</td>\n",
       "      <td>00710 Carbon fixation in photosynthetic organi...</td>\n",
       "      <td>Carbon fixation in photosynthetic organisms</td>\n",
       "      <td>Carbon fixation in photosynthetic organisms [P...</td>\n",
       "      <td>857</td>\n",
       "      <td>26</td>\n",
       "      <td>48</td>\n",
       "      <td>46</td>\n",
       "      <td>40</td>\n",
       "      <td>35</td>\n",
       "      <td>29</td>\n",
       "      <td>25</td>\n",
       "      <td>38</td>\n",
       "      <td>29</td>\n",
       "      <td>42</td>\n",
       "      <td>35</td>\n",
       "      <td>30</td>\n",
       "      <td>10</td>\n",
       "      <td>26</td>\n",
       "      <td>42</td>\n",
       "      <td>35</td>\n",
       "      <td>34</td>\n",
       "      <td>45</td>\n",
       "      <td>19</td>\n",
       "      <td>26</td>\n",
       "    </tr>\n",
       "    <tr>\n",
       "      <th>3</th>\n",
       "      <td>CAMNT_0024014877</td>\n",
       "      <td>4.0</td>\n",
       "      <td>False</td>\n",
       "      <td>01051 Biosynthesis of ansamycins [PATH:ko01051]</td>\n",
       "      <td>Biosynthesis of ansamycins</td>\n",
       "      <td>Biosynthesis of ansamycins [PATH:ko01051]</td>\n",
       "      <td>857</td>\n",
       "      <td>26</td>\n",
       "      <td>48</td>\n",
       "      <td>46</td>\n",
       "      <td>40</td>\n",
       "      <td>35</td>\n",
       "      <td>29</td>\n",
       "      <td>25</td>\n",
       "      <td>38</td>\n",
       "      <td>29</td>\n",
       "      <td>42</td>\n",
       "      <td>35</td>\n",
       "      <td>30</td>\n",
       "      <td>10</td>\n",
       "      <td>26</td>\n",
       "      <td>42</td>\n",
       "      <td>35</td>\n",
       "      <td>34</td>\n",
       "      <td>45</td>\n",
       "      <td>19</td>\n",
       "      <td>26</td>\n",
       "    </tr>\n",
       "    <tr>\n",
       "      <th>4</th>\n",
       "      <td>CAMNT_0024014877</td>\n",
       "      <td>4.0</td>\n",
       "      <td>False</td>\n",
       "      <td>01200 Carbon metabolism [PATH:ko01200]</td>\n",
       "      <td>Carbon metabolism</td>\n",
       "      <td>Carbon metabolism [PATH:ko01200]</td>\n",
       "      <td>857</td>\n",
       "      <td>26</td>\n",
       "      <td>48</td>\n",
       "      <td>46</td>\n",
       "      <td>40</td>\n",
       "      <td>35</td>\n",
       "      <td>29</td>\n",
       "      <td>25</td>\n",
       "      <td>38</td>\n",
       "      <td>29</td>\n",
       "      <td>42</td>\n",
       "      <td>35</td>\n",
       "      <td>30</td>\n",
       "      <td>10</td>\n",
       "      <td>26</td>\n",
       "      <td>42</td>\n",
       "      <td>35</td>\n",
       "      <td>34</td>\n",
       "      <td>45</td>\n",
       "      <td>19</td>\n",
       "      <td>26</td>\n",
       "    </tr>\n",
       "  </tbody>\n",
       "</table>\n",
       "</div>"
      ],
      "text/plain": [
       "              CAMNT  WGCNA_Module_Num RAIN_diel_Results  ...  72  76  80\n",
       "0  CAMNT_0024302971               7.0             False  ...  20  14  13\n",
       "1  CAMNT_0024014877               4.0             False  ...  45  19  26\n",
       "2  CAMNT_0024014877               4.0             False  ...  45  19  26\n",
       "3  CAMNT_0024014877               4.0             False  ...  45  19  26\n",
       "4  CAMNT_0024014877               4.0             False  ...  45  19  26\n",
       "\n",
       "[5 rows x 27 columns]"
      ]
     },
     "execution_count": 40,
     "metadata": {
      "tags": []
     },
     "output_type": "execute_result"
    }
   ],
   "source": [
    "# let's try out merge again\n",
    "contig_full=pd.merge(gene_info_clean,gene_counts,on='CAMNT',how='outer')\n",
    "print (contig_full.shape)\n",
    "contig_full.head()"
   ]
  },
  {
   "cell_type": "markdown",
   "metadata": {
    "id": "CkQUjHL3SPgd"
   },
   "source": [
    "## Merge more than two dataframes"
   ]
  },
  {
   "cell_type": "code",
   "execution_count": null,
   "metadata": {
    "colab": {
     "base_uri": "https://localhost:8080/"
    },
    "executionInfo": {
     "elapsed": 4379,
     "status": "ok",
     "timestamp": 1599837622572,
     "user": {
      "displayName": "Maria Hernandez Limon",
      "photoUrl": "https://lh3.googleusercontent.com/a-/AOh14Ghd3PTHlBML4DLlupZiaArIJ8xYakaUbI3sK1QW=s64",
      "userId": "15768601250316805169"
     },
     "user_tz": 300
    },
    "id": "lj24OaNsTTpu",
    "outputId": "73a9c601-efda-4d63-ca38-c5ccdde0ae94"
   },
   "outputs": [
    {
     "data": {
      "text/html": [
       "<div>\n",
       "<style scoped>\n",
       "    .dataframe tbody tr th:only-of-type {\n",
       "        vertical-align: middle;\n",
       "    }\n",
       "\n",
       "    .dataframe tbody tr th {\n",
       "        vertical-align: top;\n",
       "    }\n",
       "\n",
       "    .dataframe thead th {\n",
       "        text-align: right;\n",
       "    }\n",
       "</style>\n",
       "<table border=\"1\" class=\"dataframe\">\n",
       "  <thead>\n",
       "    <tr style=\"text-align: right;\">\n",
       "      <th></th>\n",
       "      <th>Number</th>\n",
       "      <th>Name</th>\n",
       "      <th>Type 1</th>\n",
       "      <th>Type 2</th>\n",
       "      <th>Total</th>\n",
       "      <th>HP</th>\n",
       "      <th>Attack</th>\n",
       "      <th>Defense</th>\n",
       "      <th>Sp. Atk</th>\n",
       "      <th>Sp. Def</th>\n",
       "      <th>Speed</th>\n",
       "      <th>Generation</th>\n",
       "      <th>Legendary</th>\n",
       "    </tr>\n",
       "  </thead>\n",
       "  <tbody>\n",
       "    <tr>\n",
       "      <th>0</th>\n",
       "      <td>1</td>\n",
       "      <td>Bulbasaur</td>\n",
       "      <td>Grass</td>\n",
       "      <td>Poison</td>\n",
       "      <td>318</td>\n",
       "      <td>45</td>\n",
       "      <td>49</td>\n",
       "      <td>49</td>\n",
       "      <td>65</td>\n",
       "      <td>65</td>\n",
       "      <td>45</td>\n",
       "      <td>1</td>\n",
       "      <td>False</td>\n",
       "    </tr>\n",
       "    <tr>\n",
       "      <th>1</th>\n",
       "      <td>2</td>\n",
       "      <td>Ivysaur</td>\n",
       "      <td>Grass</td>\n",
       "      <td>Poison</td>\n",
       "      <td>405</td>\n",
       "      <td>60</td>\n",
       "      <td>62</td>\n",
       "      <td>63</td>\n",
       "      <td>80</td>\n",
       "      <td>80</td>\n",
       "      <td>60</td>\n",
       "      <td>1</td>\n",
       "      <td>False</td>\n",
       "    </tr>\n",
       "    <tr>\n",
       "      <th>2</th>\n",
       "      <td>3</td>\n",
       "      <td>Venusaur</td>\n",
       "      <td>Grass</td>\n",
       "      <td>Poison</td>\n",
       "      <td>525</td>\n",
       "      <td>80</td>\n",
       "      <td>82</td>\n",
       "      <td>83</td>\n",
       "      <td>100</td>\n",
       "      <td>100</td>\n",
       "      <td>80</td>\n",
       "      <td>1</td>\n",
       "      <td>False</td>\n",
       "    </tr>\n",
       "    <tr>\n",
       "      <th>3</th>\n",
       "      <td>3</td>\n",
       "      <td>VenusaurMega Venusaur</td>\n",
       "      <td>Grass</td>\n",
       "      <td>Poison</td>\n",
       "      <td>625</td>\n",
       "      <td>80</td>\n",
       "      <td>100</td>\n",
       "      <td>123</td>\n",
       "      <td>122</td>\n",
       "      <td>120</td>\n",
       "      <td>80</td>\n",
       "      <td>1</td>\n",
       "      <td>False</td>\n",
       "    </tr>\n",
       "    <tr>\n",
       "      <th>4</th>\n",
       "      <td>4</td>\n",
       "      <td>Charmander</td>\n",
       "      <td>Fire</td>\n",
       "      <td>NaN</td>\n",
       "      <td>309</td>\n",
       "      <td>39</td>\n",
       "      <td>52</td>\n",
       "      <td>43</td>\n",
       "      <td>60</td>\n",
       "      <td>50</td>\n",
       "      <td>65</td>\n",
       "      <td>1</td>\n",
       "      <td>False</td>\n",
       "    </tr>\n",
       "  </tbody>\n",
       "</table>\n",
       "</div>"
      ],
      "text/plain": [
       "   Number                   Name Type 1  ... Speed  Generation  Legendary\n",
       "0       1              Bulbasaur  Grass  ...    45           1      False\n",
       "1       2                Ivysaur  Grass  ...    60           1      False\n",
       "2       3               Venusaur  Grass  ...    80           1      False\n",
       "3       3  VenusaurMega Venusaur  Grass  ...    80           1      False\n",
       "4       4             Charmander   Fire  ...    65           1      False\n",
       "\n",
       "[5 rows x 13 columns]"
      ]
     },
     "execution_count": 41,
     "metadata": {
      "tags": []
     },
     "output_type": "execute_result"
    }
   ],
   "source": [
    "## let use the pokemon data for this\n",
    "\n",
    "pokemon_full=pd.read_csv(datadirectory+'Pokemon.csv')\n",
    "pokemon_full.head()"
   ]
  },
  {
   "cell_type": "markdown",
   "metadata": {
    "id": "-WJD_C9HEOWN"
   },
   "source": [
    "At some point I'm going to have more than 2 tables that I need to combine and so there has to be a better way to merge than doing two at a time. There is this is a little advanced but I'm sharing with you because it will save you time."
   ]
  },
  {
   "cell_type": "code",
   "execution_count": null,
   "metadata": {
    "id": "IIMLxmHHSvdc"
   },
   "outputs": [],
   "source": [
    "## let's make three tables that all have one column in common that we will use to join our tables\n",
    "table1=pokemon_full[['Name','Total','HP']].copy()\n",
    "table2=pokemon_full[['Name','Attack','Defense']].copy()\n",
    "table3=pokemon_full[['Name','Generation','Legendary']].copy()"
   ]
  },
  {
   "cell_type": "code",
   "execution_count": null,
   "metadata": {
    "colab": {
     "base_uri": "https://localhost:8080/"
    },
    "executionInfo": {
     "elapsed": 4366,
     "status": "ok",
     "timestamp": 1599837622573,
     "user": {
      "displayName": "Maria Hernandez Limon",
      "photoUrl": "https://lh3.googleusercontent.com/a-/AOh14Ghd3PTHlBML4DLlupZiaArIJ8xYakaUbI3sK1QW=s64",
      "userId": "15768601250316805169"
     },
     "user_tz": 300
    },
    "id": "MC7hcQKbEE0j",
    "outputId": "6aa2ca1c-35db-4c02-8a47-ad8d91bed70c"
   },
   "outputs": [
    {
     "data": {
      "text/html": [
       "<div>\n",
       "<style scoped>\n",
       "    .dataframe tbody tr th:only-of-type {\n",
       "        vertical-align: middle;\n",
       "    }\n",
       "\n",
       "    .dataframe tbody tr th {\n",
       "        vertical-align: top;\n",
       "    }\n",
       "\n",
       "    .dataframe thead th {\n",
       "        text-align: right;\n",
       "    }\n",
       "</style>\n",
       "<table border=\"1\" class=\"dataframe\">\n",
       "  <thead>\n",
       "    <tr style=\"text-align: right;\">\n",
       "      <th></th>\n",
       "      <th>Name</th>\n",
       "      <th>Total</th>\n",
       "      <th>HP</th>\n",
       "      <th>Attack</th>\n",
       "      <th>Defense</th>\n",
       "      <th>Generation</th>\n",
       "      <th>Legendary</th>\n",
       "    </tr>\n",
       "  </thead>\n",
       "  <tbody>\n",
       "    <tr>\n",
       "      <th>0</th>\n",
       "      <td>Bulbasaur</td>\n",
       "      <td>318</td>\n",
       "      <td>45</td>\n",
       "      <td>49</td>\n",
       "      <td>49</td>\n",
       "      <td>1</td>\n",
       "      <td>False</td>\n",
       "    </tr>\n",
       "    <tr>\n",
       "      <th>1</th>\n",
       "      <td>Ivysaur</td>\n",
       "      <td>405</td>\n",
       "      <td>60</td>\n",
       "      <td>62</td>\n",
       "      <td>63</td>\n",
       "      <td>1</td>\n",
       "      <td>False</td>\n",
       "    </tr>\n",
       "    <tr>\n",
       "      <th>2</th>\n",
       "      <td>Venusaur</td>\n",
       "      <td>525</td>\n",
       "      <td>80</td>\n",
       "      <td>82</td>\n",
       "      <td>83</td>\n",
       "      <td>1</td>\n",
       "      <td>False</td>\n",
       "    </tr>\n",
       "    <tr>\n",
       "      <th>3</th>\n",
       "      <td>VenusaurMega Venusaur</td>\n",
       "      <td>625</td>\n",
       "      <td>80</td>\n",
       "      <td>100</td>\n",
       "      <td>123</td>\n",
       "      <td>1</td>\n",
       "      <td>False</td>\n",
       "    </tr>\n",
       "    <tr>\n",
       "      <th>4</th>\n",
       "      <td>Charmander</td>\n",
       "      <td>309</td>\n",
       "      <td>39</td>\n",
       "      <td>52</td>\n",
       "      <td>43</td>\n",
       "      <td>1</td>\n",
       "      <td>False</td>\n",
       "    </tr>\n",
       "  </tbody>\n",
       "</table>\n",
       "</div>"
      ],
      "text/plain": [
       "                    Name  Total  HP  Attack  Defense  Generation  Legendary\n",
       "0              Bulbasaur    318  45      49       49           1      False\n",
       "1                Ivysaur    405  60      62       63           1      False\n",
       "2               Venusaur    525  80      82       83           1      False\n",
       "3  VenusaurMega Venusaur    625  80     100      123           1      False\n",
       "4             Charmander    309  39      52       43           1      False"
      ]
     },
     "execution_count": 43,
     "metadata": {
      "tags": []
     },
     "output_type": "execute_result"
    }
   ],
   "source": [
    "#import this cool library that allows you to reduce dataframes to list and combine them\n",
    "# again this is advanced but it will save you time\n",
    "from functools import reduce\n",
    "\n",
    "# create a list of the tables yoou want to combine \n",
    "my_dataframes=[table1, table2, table3]\n",
    "\n",
    "#make a variable that will hold the new combined dataframe\n",
    "#reduce(lambda df_left,df_right: pd.merge(df_left,df_right), on=[on what column to mege], the list of the columns to merge)\n",
    "combined_frame=reduce(lambda df_left,df_right: pd.merge(df_left, df_right, on=['Name']), my_dataframes)\n",
    "\n",
    "combined_frame.head()"
   ]
  },
  {
   "cell_type": "markdown",
   "metadata": {
    "id": "wthO_5s8F6LH"
   },
   "source": [
    "## 12.2 Concatenate "
   ]
  },
  {
   "cell_type": "markdown",
   "metadata": {
    "id": "P1rZ2ovNGTo0"
   },
   "source": [
    "[Concatenate ](https://pandas.pydata.org/pandas-docs/stable/reference/api/pandas.concat.html) allows you to combine dataframes that have columns with the same names but no data similarity."
   ]
  },
  {
   "cell_type": "code",
   "execution_count": null,
   "metadata": {
    "colab": {
     "base_uri": "https://localhost:8080/"
    },
    "executionInfo": {
     "elapsed": 4360,
     "status": "ok",
     "timestamp": 1599837622574,
     "user": {
      "displayName": "Maria Hernandez Limon",
      "photoUrl": "https://lh3.googleusercontent.com/a-/AOh14Ghd3PTHlBML4DLlupZiaArIJ8xYakaUbI3sK1QW=s64",
      "userId": "15768601250316805169"
     },
     "user_tz": 300
    },
    "id": "LB_0BviwGj_L",
    "outputId": "10cd7afb-dfd2-40fb-8190-d68cda74bb59"
   },
   "outputs": [
    {
     "name": "stdout",
     "output_type": "stream",
     "text": [
      "                    Name  Total  HP\n",
      "0              Bulbasaur    318  45\n",
      "1                Ivysaur    405  60\n",
      "2               Venusaur    525  80\n",
      "3  VenusaurMega Venusaur    625  80\n",
      "         Name  Total  HP\n",
      "4  Charmander    309  39\n",
      "5  Charmeleon    405  58\n",
      "6   Charizard    534  78\n"
     ]
    }
   ],
   "source": [
    "## let's make tabl4 be a subset of table 1 that only has the top3 rows, \n",
    "##and table5 will have the next 3 rows of table 1, so that both table 4 and 4 have the same columns but no values in common\n",
    "\n",
    "table4=table1.loc[0:3,]\n",
    "print (table4.head())\n",
    "table5=table1.loc[4:6,]\n",
    "print (table5.head())\n"
   ]
  },
  {
   "cell_type": "code",
   "execution_count": null,
   "metadata": {
    "colab": {
     "base_uri": "https://localhost:8080/"
    },
    "executionInfo": {
     "elapsed": 4353,
     "status": "ok",
     "timestamp": 1599837622574,
     "user": {
      "displayName": "Maria Hernandez Limon",
      "photoUrl": "https://lh3.googleusercontent.com/a-/AOh14Ghd3PTHlBML4DLlupZiaArIJ8xYakaUbI3sK1QW=s64",
      "userId": "15768601250316805169"
     },
     "user_tz": 300
    },
    "id": "Yt2hnel9FkEf",
    "outputId": "7025ab2d-2573-438d-96ac-f52901d8a8c6"
   },
   "outputs": [
    {
     "data": {
      "text/html": [
       "<div>\n",
       "<style scoped>\n",
       "    .dataframe tbody tr th:only-of-type {\n",
       "        vertical-align: middle;\n",
       "    }\n",
       "\n",
       "    .dataframe tbody tr th {\n",
       "        vertical-align: top;\n",
       "    }\n",
       "\n",
       "    .dataframe thead th {\n",
       "        text-align: right;\n",
       "    }\n",
       "</style>\n",
       "<table border=\"1\" class=\"dataframe\">\n",
       "  <thead>\n",
       "    <tr style=\"text-align: right;\">\n",
       "      <th></th>\n",
       "      <th>Name</th>\n",
       "      <th>Total</th>\n",
       "      <th>HP</th>\n",
       "    </tr>\n",
       "  </thead>\n",
       "  <tbody>\n",
       "    <tr>\n",
       "      <th>0</th>\n",
       "      <td>Bulbasaur</td>\n",
       "      <td>318</td>\n",
       "      <td>45</td>\n",
       "    </tr>\n",
       "    <tr>\n",
       "      <th>1</th>\n",
       "      <td>Ivysaur</td>\n",
       "      <td>405</td>\n",
       "      <td>60</td>\n",
       "    </tr>\n",
       "    <tr>\n",
       "      <th>2</th>\n",
       "      <td>Venusaur</td>\n",
       "      <td>525</td>\n",
       "      <td>80</td>\n",
       "    </tr>\n",
       "    <tr>\n",
       "      <th>3</th>\n",
       "      <td>VenusaurMega Venusaur</td>\n",
       "      <td>625</td>\n",
       "      <td>80</td>\n",
       "    </tr>\n",
       "    <tr>\n",
       "      <th>4</th>\n",
       "      <td>Charmander</td>\n",
       "      <td>309</td>\n",
       "      <td>39</td>\n",
       "    </tr>\n",
       "    <tr>\n",
       "      <th>5</th>\n",
       "      <td>Charmeleon</td>\n",
       "      <td>405</td>\n",
       "      <td>58</td>\n",
       "    </tr>\n",
       "    <tr>\n",
       "      <th>6</th>\n",
       "      <td>Charizard</td>\n",
       "      <td>534</td>\n",
       "      <td>78</td>\n",
       "    </tr>\n",
       "  </tbody>\n",
       "</table>\n",
       "</div>"
      ],
      "text/plain": [
       "                    Name  Total  HP\n",
       "0              Bulbasaur    318  45\n",
       "1                Ivysaur    405  60\n",
       "2               Venusaur    525  80\n",
       "3  VenusaurMega Venusaur    625  80\n",
       "4             Charmander    309  39\n",
       "5             Charmeleon    405  58\n",
       "6              Charizard    534  78"
      ]
     },
     "execution_count": 45,
     "metadata": {
      "tags": []
     },
     "output_type": "execute_result"
    }
   ],
   "source": [
    "## lets concat our tables so that all the rows are in one place\n",
    "my_tables45=[table4,table5]\n",
    "\n",
    "table4n5=pd.concat(my_tables45,axis=0)\n",
    "table4n5"
   ]
  },
  {
   "cell_type": "code",
   "execution_count": null,
   "metadata": {
    "colab": {
     "base_uri": "https://localhost:8080/"
    },
    "executionInfo": {
     "elapsed": 4621,
     "status": "ok",
     "timestamp": 1599837622849,
     "user": {
      "displayName": "Maria Hernandez Limon",
      "photoUrl": "https://lh3.googleusercontent.com/a-/AOh14Ghd3PTHlBML4DLlupZiaArIJ8xYakaUbI3sK1QW=s64",
      "userId": "15768601250316805169"
     },
     "user_tz": 300
    },
    "id": "LmwOZdT7II_3",
    "outputId": "125a66ea-5496-48cf-daf6-4ce3f2903979"
   },
   "outputs": [
    {
     "data": {
      "text/html": [
       "<div>\n",
       "<style scoped>\n",
       "    .dataframe tbody tr th:only-of-type {\n",
       "        vertical-align: middle;\n",
       "    }\n",
       "\n",
       "    .dataframe tbody tr th {\n",
       "        vertical-align: top;\n",
       "    }\n",
       "\n",
       "    .dataframe thead th {\n",
       "        text-align: right;\n",
       "    }\n",
       "</style>\n",
       "<table border=\"1\" class=\"dataframe\">\n",
       "  <thead>\n",
       "    <tr style=\"text-align: right;\">\n",
       "      <th></th>\n",
       "      <th>Total</th>\n",
       "      <th>HP</th>\n",
       "      <th>Attack</th>\n",
       "      <th>Defense</th>\n",
       "      <th>Generation</th>\n",
       "      <th>Legendary</th>\n",
       "    </tr>\n",
       "  </thead>\n",
       "  <tbody>\n",
       "    <tr>\n",
       "      <th>0</th>\n",
       "      <td>318</td>\n",
       "      <td>45</td>\n",
       "      <td>49</td>\n",
       "      <td>49</td>\n",
       "      <td>1</td>\n",
       "      <td>False</td>\n",
       "    </tr>\n",
       "    <tr>\n",
       "      <th>1</th>\n",
       "      <td>405</td>\n",
       "      <td>60</td>\n",
       "      <td>62</td>\n",
       "      <td>63</td>\n",
       "      <td>1</td>\n",
       "      <td>False</td>\n",
       "    </tr>\n",
       "    <tr>\n",
       "      <th>2</th>\n",
       "      <td>525</td>\n",
       "      <td>80</td>\n",
       "      <td>82</td>\n",
       "      <td>83</td>\n",
       "      <td>1</td>\n",
       "      <td>False</td>\n",
       "    </tr>\n",
       "    <tr>\n",
       "      <th>3</th>\n",
       "      <td>625</td>\n",
       "      <td>80</td>\n",
       "      <td>100</td>\n",
       "      <td>123</td>\n",
       "      <td>1</td>\n",
       "      <td>False</td>\n",
       "    </tr>\n",
       "    <tr>\n",
       "      <th>4</th>\n",
       "      <td>309</td>\n",
       "      <td>39</td>\n",
       "      <td>52</td>\n",
       "      <td>43</td>\n",
       "      <td>1</td>\n",
       "      <td>False</td>\n",
       "    </tr>\n",
       "    <tr>\n",
       "      <th>...</th>\n",
       "      <td>...</td>\n",
       "      <td>...</td>\n",
       "      <td>...</td>\n",
       "      <td>...</td>\n",
       "      <td>...</td>\n",
       "      <td>...</td>\n",
       "    </tr>\n",
       "    <tr>\n",
       "      <th>795</th>\n",
       "      <td>600</td>\n",
       "      <td>50</td>\n",
       "      <td>100</td>\n",
       "      <td>150</td>\n",
       "      <td>6</td>\n",
       "      <td>True</td>\n",
       "    </tr>\n",
       "    <tr>\n",
       "      <th>796</th>\n",
       "      <td>700</td>\n",
       "      <td>50</td>\n",
       "      <td>160</td>\n",
       "      <td>110</td>\n",
       "      <td>6</td>\n",
       "      <td>True</td>\n",
       "    </tr>\n",
       "    <tr>\n",
       "      <th>797</th>\n",
       "      <td>600</td>\n",
       "      <td>80</td>\n",
       "      <td>110</td>\n",
       "      <td>60</td>\n",
       "      <td>6</td>\n",
       "      <td>True</td>\n",
       "    </tr>\n",
       "    <tr>\n",
       "      <th>798</th>\n",
       "      <td>680</td>\n",
       "      <td>80</td>\n",
       "      <td>160</td>\n",
       "      <td>60</td>\n",
       "      <td>6</td>\n",
       "      <td>True</td>\n",
       "    </tr>\n",
       "    <tr>\n",
       "      <th>799</th>\n",
       "      <td>600</td>\n",
       "      <td>80</td>\n",
       "      <td>110</td>\n",
       "      <td>120</td>\n",
       "      <td>6</td>\n",
       "      <td>True</td>\n",
       "    </tr>\n",
       "  </tbody>\n",
       "</table>\n",
       "<p>800 rows × 6 columns</p>\n",
       "</div>"
      ],
      "text/plain": [
       "     Total  HP  Attack  Defense  Generation  Legendary\n",
       "0      318  45      49       49           1      False\n",
       "1      405  60      62       63           1      False\n",
       "2      525  80      82       83           1      False\n",
       "3      625  80     100      123           1      False\n",
       "4      309  39      52       43           1      False\n",
       "..     ...  ..     ...      ...         ...        ...\n",
       "795    600  50     100      150           6       True\n",
       "796    700  50     160      110           6       True\n",
       "797    600  80     110       60           6       True\n",
       "798    680  80     160       60           6       True\n",
       "799    600  80     110      120           6       True\n",
       "\n",
       "[800 rows x 6 columns]"
      ]
     },
     "execution_count": 46,
     "metadata": {
      "tags": []
     },
     "output_type": "execute_result"
    }
   ],
   "source": [
    "## let's go back to tables 1,2,3 and remove name the concat them together \n",
    "mytables123=[table1.drop(['Name'],axis=1),table2.drop(['Name'],axis=1),table3.drop(['Name'],axis=1)]\n",
    "\n",
    "tables_all=pd.concat(mytables123,axis=1)\n",
    "tables_all"
   ]
  },
  {
   "cell_type": "markdown",
   "metadata": {
    "id": "qL2EviKhMMRq"
   },
   "source": [
    "## 12.3 Append"
   ]
  },
  {
   "cell_type": "markdown",
   "metadata": {
    "id": "z38r69kSMkgW"
   },
   "source": [
    "we can also append dataframes to a dataframe as long as the columns are the same"
   ]
  },
  {
   "cell_type": "code",
   "execution_count": null,
   "metadata": {
    "colab": {
     "base_uri": "https://localhost:8080/"
    },
    "executionInfo": {
     "elapsed": 4614,
     "status": "ok",
     "timestamp": 1599837622849,
     "user": {
      "displayName": "Maria Hernandez Limon",
      "photoUrl": "https://lh3.googleusercontent.com/a-/AOh14Ghd3PTHlBML4DLlupZiaArIJ8xYakaUbI3sK1QW=s64",
      "userId": "15768601250316805169"
     },
     "user_tz": 300
    },
    "id": "w5iVDGD0MLrW",
    "outputId": "dfeb7678-577a-4fc9-d73d-25398ead796d"
   },
   "outputs": [
    {
     "data": {
      "text/html": [
       "<div>\n",
       "<style scoped>\n",
       "    .dataframe tbody tr th:only-of-type {\n",
       "        vertical-align: middle;\n",
       "    }\n",
       "\n",
       "    .dataframe tbody tr th {\n",
       "        vertical-align: top;\n",
       "    }\n",
       "\n",
       "    .dataframe thead th {\n",
       "        text-align: right;\n",
       "    }\n",
       "</style>\n",
       "<table border=\"1\" class=\"dataframe\">\n",
       "  <thead>\n",
       "    <tr style=\"text-align: right;\">\n",
       "      <th></th>\n",
       "      <th>Number</th>\n",
       "      <th>Name</th>\n",
       "      <th>HP</th>\n",
       "      <th>Attack</th>\n",
       "      <th>Defense</th>\n",
       "      <th>total</th>\n",
       "    </tr>\n",
       "  </thead>\n",
       "  <tbody>\n",
       "    <tr>\n",
       "      <th>0</th>\n",
       "      <td>1</td>\n",
       "      <td>Bulbasaur</td>\n",
       "      <td>45</td>\n",
       "      <td>49</td>\n",
       "      <td>49</td>\n",
       "      <td>94</td>\n",
       "    </tr>\n",
       "    <tr>\n",
       "      <th>4</th>\n",
       "      <td>4</td>\n",
       "      <td>Charmander</td>\n",
       "      <td>39</td>\n",
       "      <td>52</td>\n",
       "      <td>43</td>\n",
       "      <td>91</td>\n",
       "    </tr>\n",
       "    <tr>\n",
       "      <th>162</th>\n",
       "      <td>150</td>\n",
       "      <td>Mewtwo</td>\n",
       "      <td>106</td>\n",
       "      <td>110</td>\n",
       "      <td>90</td>\n",
       "      <td>216</td>\n",
       "    </tr>\n",
       "    <tr>\n",
       "      <th>163</th>\n",
       "      <td>150</td>\n",
       "      <td>MewtwoMega Mewtwo X</td>\n",
       "      <td>106</td>\n",
       "      <td>190</td>\n",
       "      <td>100</td>\n",
       "      <td>296</td>\n",
       "    </tr>\n",
       "    <tr>\n",
       "      <th>164</th>\n",
       "      <td>150</td>\n",
       "      <td>MewtwoMega Mewtwo Y</td>\n",
       "      <td>106</td>\n",
       "      <td>150</td>\n",
       "      <td>70</td>\n",
       "      <td>256</td>\n",
       "    </tr>\n",
       "  </tbody>\n",
       "</table>\n",
       "</div>"
      ],
      "text/plain": [
       "     Number                 Name   HP  Attack  Defense  total\n",
       "0         1            Bulbasaur   45      49       49     94\n",
       "4         4           Charmander   39      52       43     91\n",
       "162     150               Mewtwo  106     110       90    216\n",
       "163     150  MewtwoMega Mewtwo X  106     190      100    296\n",
       "164     150  MewtwoMega Mewtwo Y  106     150       70    256"
      ]
     },
     "execution_count": 47,
     "metadata": {
      "tags": []
     },
     "output_type": "execute_result"
    }
   ],
   "source": [
    "## make a variable for an empty frame\n",
    "hold_wanted=pd.DataFrame()\n",
    "\n",
    "#make a list of the pokemon numbers you want\n",
    "pokemon_numbers=[1,4,150]\n",
    "\n",
    "###quick function to make a a new df from the data\n",
    "def make_df(num):\n",
    "  data_out=pokemon.loc[pokemon['Number']==num]\n",
    "  return data_out\n",
    "\n",
    "#make a for loop that makes a df for each pokemon in the list you make\n",
    "# then append each new df to the empty df \n",
    "for i in pokemon_numbers:\n",
    "  a=make_df(i)\n",
    "  hold_wanted=hold_wanted.append(a)\n",
    "\n",
    "#print the df that is not populated\n",
    "hold_wanted"
   ]
  },
  {
   "cell_type": "markdown",
   "metadata": {
    "id": "MPxtqCqnKVKY"
   },
   "source": [
    "## 12.4 Pro-tip: glob ---Skip in class ----"
   ]
  },
  {
   "cell_type": "markdown",
   "metadata": {
    "id": "5du1lH3nKesg"
   },
   "source": [
    "glob allows you to read in all the files in a directory and append them together without having to read in each file"
   ]
  },
  {
   "cell_type": "code",
   "execution_count": null,
   "metadata": {
    "id": "8Tf8BP7LKoAD"
   },
   "outputs": [],
   "source": [
    "#import the glob library\n",
    "from glob import glob"
   ]
  },
  {
   "cell_type": "code",
   "execution_count": null,
   "metadata": {
    "colab": {
     "base_uri": "https://localhost:8080/"
    },
    "executionInfo": {
     "elapsed": 4603,
     "status": "ok",
     "timestamp": 1599837622852,
     "user": {
      "displayName": "Maria Hernandez Limon",
      "photoUrl": "https://lh3.googleusercontent.com/a-/AOh14Ghd3PTHlBML4DLlupZiaArIJ8xYakaUbI3sK1QW=s64",
      "userId": "15768601250316805169"
     },
     "user_tz": 300
    },
    "id": "Me-GTyLRLyE9",
    "outputId": "f901d4bf-c761-49e2-ad20-64f442a1c3c2"
   },
   "outputs": [
    {
     "data": {
      "text/plain": [
       "['/content/drive/Shared drives/Coding_Bootcamps_2020/intro_programming/data/Pokemon_sub1.csv',\n",
       " '/content/drive/Shared drives/Coding_Bootcamps_2020/intro_programming/data/Pokemon_sub2.csv',\n",
       " '/content/drive/Shared drives/Coding_Bootcamps_2020/intro_programming/data/Pokemon_sub3.csv']"
      ]
     },
     "execution_count": 49,
     "metadata": {
      "tags": []
     },
     "output_type": "execute_result"
    }
   ],
   "source": [
    "## tell glob to read all the files in the directory that match the names specified and \n",
    "##store all the names in one variable \n",
    "pokemon_subset=glob(datadirectory+'Pokemon_sub*.csv')\n",
    "pokemon_subset"
   ]
  },
  {
   "cell_type": "code",
   "execution_count": null,
   "metadata": {
    "colab": {
     "base_uri": "https://localhost:8080/"
    },
    "executionInfo": {
     "elapsed": 7202,
     "status": "ok",
     "timestamp": 1599837625458,
     "user": {
      "displayName": "Maria Hernandez Limon",
      "photoUrl": "https://lh3.googleusercontent.com/a-/AOh14Ghd3PTHlBML4DLlupZiaArIJ8xYakaUbI3sK1QW=s64",
      "userId": "15768601250316805169"
     },
     "user_tz": 300
    },
    "id": "NWE3lvXaMLu9",
    "outputId": "10e26cae-e97b-4526-f516-6fc7ca9f4020"
   },
   "outputs": [
    {
     "data": {
      "text/html": [
       "<div>\n",
       "<style scoped>\n",
       "    .dataframe tbody tr th:only-of-type {\n",
       "        vertical-align: middle;\n",
       "    }\n",
       "\n",
       "    .dataframe tbody tr th {\n",
       "        vertical-align: top;\n",
       "    }\n",
       "\n",
       "    .dataframe thead th {\n",
       "        text-align: right;\n",
       "    }\n",
       "</style>\n",
       "<table border=\"1\" class=\"dataframe\">\n",
       "  <thead>\n",
       "    <tr style=\"text-align: right;\">\n",
       "      <th></th>\n",
       "      <th>Number</th>\n",
       "      <th>Name</th>\n",
       "      <th>Type 1</th>\n",
       "      <th>Type 2</th>\n",
       "      <th>Total</th>\n",
       "      <th>HP</th>\n",
       "      <th>Attack</th>\n",
       "      <th>Defense</th>\n",
       "      <th>Sp. Atk</th>\n",
       "      <th>Sp. Def</th>\n",
       "      <th>Speed</th>\n",
       "      <th>Generation</th>\n",
       "      <th>Legendary</th>\n",
       "    </tr>\n",
       "  </thead>\n",
       "  <tbody>\n",
       "    <tr>\n",
       "      <th>0</th>\n",
       "      <td>1</td>\n",
       "      <td>Bulbasaur</td>\n",
       "      <td>Grass</td>\n",
       "      <td>Poison</td>\n",
       "      <td>318</td>\n",
       "      <td>45</td>\n",
       "      <td>49</td>\n",
       "      <td>49</td>\n",
       "      <td>65</td>\n",
       "      <td>65</td>\n",
       "      <td>45</td>\n",
       "      <td>1</td>\n",
       "      <td>False</td>\n",
       "    </tr>\n",
       "    <tr>\n",
       "      <th>1</th>\n",
       "      <td>2</td>\n",
       "      <td>Ivysaur</td>\n",
       "      <td>Grass</td>\n",
       "      <td>Poison</td>\n",
       "      <td>405</td>\n",
       "      <td>60</td>\n",
       "      <td>62</td>\n",
       "      <td>63</td>\n",
       "      <td>80</td>\n",
       "      <td>80</td>\n",
       "      <td>60</td>\n",
       "      <td>1</td>\n",
       "      <td>False</td>\n",
       "    </tr>\n",
       "    <tr>\n",
       "      <th>2</th>\n",
       "      <td>3</td>\n",
       "      <td>Venusaur</td>\n",
       "      <td>Grass</td>\n",
       "      <td>Poison</td>\n",
       "      <td>525</td>\n",
       "      <td>80</td>\n",
       "      <td>82</td>\n",
       "      <td>83</td>\n",
       "      <td>100</td>\n",
       "      <td>100</td>\n",
       "      <td>80</td>\n",
       "      <td>1</td>\n",
       "      <td>False</td>\n",
       "    </tr>\n",
       "    <tr>\n",
       "      <th>0</th>\n",
       "      <td>4</td>\n",
       "      <td>Charmander</td>\n",
       "      <td>Fire</td>\n",
       "      <td>NaN</td>\n",
       "      <td>309</td>\n",
       "      <td>39</td>\n",
       "      <td>52</td>\n",
       "      <td>43</td>\n",
       "      <td>60</td>\n",
       "      <td>50</td>\n",
       "      <td>65</td>\n",
       "      <td>1</td>\n",
       "      <td>False</td>\n",
       "    </tr>\n",
       "    <tr>\n",
       "      <th>1</th>\n",
       "      <td>5</td>\n",
       "      <td>Charmeleon</td>\n",
       "      <td>Fire</td>\n",
       "      <td>NaN</td>\n",
       "      <td>405</td>\n",
       "      <td>58</td>\n",
       "      <td>64</td>\n",
       "      <td>58</td>\n",
       "      <td>80</td>\n",
       "      <td>65</td>\n",
       "      <td>80</td>\n",
       "      <td>1</td>\n",
       "      <td>False</td>\n",
       "    </tr>\n",
       "    <tr>\n",
       "      <th>2</th>\n",
       "      <td>6</td>\n",
       "      <td>Charizard</td>\n",
       "      <td>Fire</td>\n",
       "      <td>Flying</td>\n",
       "      <td>534</td>\n",
       "      <td>78</td>\n",
       "      <td>84</td>\n",
       "      <td>78</td>\n",
       "      <td>109</td>\n",
       "      <td>85</td>\n",
       "      <td>100</td>\n",
       "      <td>1</td>\n",
       "      <td>False</td>\n",
       "    </tr>\n",
       "    <tr>\n",
       "      <th>3</th>\n",
       "      <td>6</td>\n",
       "      <td>CharizardMega Charizard X</td>\n",
       "      <td>Fire</td>\n",
       "      <td>Dragon</td>\n",
       "      <td>634</td>\n",
       "      <td>78</td>\n",
       "      <td>130</td>\n",
       "      <td>111</td>\n",
       "      <td>130</td>\n",
       "      <td>85</td>\n",
       "      <td>100</td>\n",
       "      <td>1</td>\n",
       "      <td>False</td>\n",
       "    </tr>\n",
       "    <tr>\n",
       "      <th>4</th>\n",
       "      <td>6</td>\n",
       "      <td>CharizardMega Charizard Y</td>\n",
       "      <td>Fire</td>\n",
       "      <td>Flying</td>\n",
       "      <td>634</td>\n",
       "      <td>78</td>\n",
       "      <td>104</td>\n",
       "      <td>78</td>\n",
       "      <td>159</td>\n",
       "      <td>115</td>\n",
       "      <td>100</td>\n",
       "      <td>1</td>\n",
       "      <td>False</td>\n",
       "    </tr>\n",
       "    <tr>\n",
       "      <th>0</th>\n",
       "      <td>7</td>\n",
       "      <td>Squirtle</td>\n",
       "      <td>Water</td>\n",
       "      <td>NaN</td>\n",
       "      <td>314</td>\n",
       "      <td>44</td>\n",
       "      <td>48</td>\n",
       "      <td>65</td>\n",
       "      <td>50</td>\n",
       "      <td>64</td>\n",
       "      <td>43</td>\n",
       "      <td>1</td>\n",
       "      <td>False</td>\n",
       "    </tr>\n",
       "    <tr>\n",
       "      <th>1</th>\n",
       "      <td>8</td>\n",
       "      <td>Wartortle</td>\n",
       "      <td>Water</td>\n",
       "      <td>NaN</td>\n",
       "      <td>405</td>\n",
       "      <td>59</td>\n",
       "      <td>63</td>\n",
       "      <td>80</td>\n",
       "      <td>65</td>\n",
       "      <td>80</td>\n",
       "      <td>58</td>\n",
       "      <td>1</td>\n",
       "      <td>False</td>\n",
       "    </tr>\n",
       "    <tr>\n",
       "      <th>2</th>\n",
       "      <td>9</td>\n",
       "      <td>Blastoise</td>\n",
       "      <td>Water</td>\n",
       "      <td>NaN</td>\n",
       "      <td>530</td>\n",
       "      <td>79</td>\n",
       "      <td>83</td>\n",
       "      <td>100</td>\n",
       "      <td>85</td>\n",
       "      <td>105</td>\n",
       "      <td>78</td>\n",
       "      <td>1</td>\n",
       "      <td>False</td>\n",
       "    </tr>\n",
       "    <tr>\n",
       "      <th>3</th>\n",
       "      <td>9</td>\n",
       "      <td>BlastoiseMega Blastoise</td>\n",
       "      <td>Water</td>\n",
       "      <td>NaN</td>\n",
       "      <td>630</td>\n",
       "      <td>79</td>\n",
       "      <td>103</td>\n",
       "      <td>120</td>\n",
       "      <td>135</td>\n",
       "      <td>115</td>\n",
       "      <td>78</td>\n",
       "      <td>1</td>\n",
       "      <td>False</td>\n",
       "    </tr>\n",
       "  </tbody>\n",
       "</table>\n",
       "</div>"
      ],
      "text/plain": [
       "   Number                       Name Type 1  ... Speed  Generation  Legendary\n",
       "0       1                  Bulbasaur  Grass  ...    45           1      False\n",
       "1       2                    Ivysaur  Grass  ...    60           1      False\n",
       "2       3                   Venusaur  Grass  ...    80           1      False\n",
       "0       4                 Charmander   Fire  ...    65           1      False\n",
       "1       5                 Charmeleon   Fire  ...    80           1      False\n",
       "2       6                  Charizard   Fire  ...   100           1      False\n",
       "3       6  CharizardMega Charizard X   Fire  ...   100           1      False\n",
       "4       6  CharizardMega Charizard Y   Fire  ...   100           1      False\n",
       "0       7                   Squirtle  Water  ...    43           1      False\n",
       "1       8                  Wartortle  Water  ...    58           1      False\n",
       "2       9                  Blastoise  Water  ...    78           1      False\n",
       "3       9    BlastoiseMega Blastoise  Water  ...    78           1      False\n",
       "\n",
       "[12 rows x 13 columns]"
      ]
     },
     "execution_count": 50,
     "metadata": {
      "tags": []
     },
     "output_type": "execute_result"
    }
   ],
   "source": [
    "## using concat call in all the files in glob \n",
    "## since we are concateing our file based on the rows we call axis=rows\n",
    "## if instead you wnated to concat your files with columns you could call axis='columns'\n",
    "## notice the index has repeated values\n",
    "subset_together=pd.concat((pd.read_csv(file) for file in pokemon_subset),axis='rows')\n",
    "subset_together"
   ]
  },
  {
   "cell_type": "code",
   "execution_count": null,
   "metadata": {
    "colab": {
     "base_uri": "https://localhost:8080/"
    },
    "executionInfo": {
     "elapsed": 7196,
     "status": "ok",
     "timestamp": 1599837625459,
     "user": {
      "displayName": "Maria Hernandez Limon",
      "photoUrl": "https://lh3.googleusercontent.com/a-/AOh14Ghd3PTHlBML4DLlupZiaArIJ8xYakaUbI3sK1QW=s64",
      "userId": "15768601250316805169"
     },
     "user_tz": 300
    },
    "id": "2LDOIiIlNWwT",
    "outputId": "499c2710-129c-46e2-9225-780f39d77aa4"
   },
   "outputs": [
    {
     "data": {
      "text/html": [
       "<div>\n",
       "<style scoped>\n",
       "    .dataframe tbody tr th:only-of-type {\n",
       "        vertical-align: middle;\n",
       "    }\n",
       "\n",
       "    .dataframe tbody tr th {\n",
       "        vertical-align: top;\n",
       "    }\n",
       "\n",
       "    .dataframe thead th {\n",
       "        text-align: right;\n",
       "    }\n",
       "</style>\n",
       "<table border=\"1\" class=\"dataframe\">\n",
       "  <thead>\n",
       "    <tr style=\"text-align: right;\">\n",
       "      <th></th>\n",
       "      <th>Number</th>\n",
       "      <th>Name</th>\n",
       "      <th>Type 1</th>\n",
       "      <th>Type 2</th>\n",
       "      <th>Total</th>\n",
       "      <th>HP</th>\n",
       "      <th>Attack</th>\n",
       "      <th>Defense</th>\n",
       "      <th>Sp. Atk</th>\n",
       "      <th>Sp. Def</th>\n",
       "      <th>Speed</th>\n",
       "      <th>Generation</th>\n",
       "      <th>Legendary</th>\n",
       "    </tr>\n",
       "  </thead>\n",
       "  <tbody>\n",
       "    <tr>\n",
       "      <th>0</th>\n",
       "      <td>1</td>\n",
       "      <td>Bulbasaur</td>\n",
       "      <td>Grass</td>\n",
       "      <td>Poison</td>\n",
       "      <td>318</td>\n",
       "      <td>45</td>\n",
       "      <td>49</td>\n",
       "      <td>49</td>\n",
       "      <td>65</td>\n",
       "      <td>65</td>\n",
       "      <td>45</td>\n",
       "      <td>1</td>\n",
       "      <td>False</td>\n",
       "    </tr>\n",
       "    <tr>\n",
       "      <th>1</th>\n",
       "      <td>2</td>\n",
       "      <td>Ivysaur</td>\n",
       "      <td>Grass</td>\n",
       "      <td>Poison</td>\n",
       "      <td>405</td>\n",
       "      <td>60</td>\n",
       "      <td>62</td>\n",
       "      <td>63</td>\n",
       "      <td>80</td>\n",
       "      <td>80</td>\n",
       "      <td>60</td>\n",
       "      <td>1</td>\n",
       "      <td>False</td>\n",
       "    </tr>\n",
       "    <tr>\n",
       "      <th>2</th>\n",
       "      <td>3</td>\n",
       "      <td>Venusaur</td>\n",
       "      <td>Grass</td>\n",
       "      <td>Poison</td>\n",
       "      <td>525</td>\n",
       "      <td>80</td>\n",
       "      <td>82</td>\n",
       "      <td>83</td>\n",
       "      <td>100</td>\n",
       "      <td>100</td>\n",
       "      <td>80</td>\n",
       "      <td>1</td>\n",
       "      <td>False</td>\n",
       "    </tr>\n",
       "    <tr>\n",
       "      <th>3</th>\n",
       "      <td>4</td>\n",
       "      <td>Charmander</td>\n",
       "      <td>Fire</td>\n",
       "      <td>NaN</td>\n",
       "      <td>309</td>\n",
       "      <td>39</td>\n",
       "      <td>52</td>\n",
       "      <td>43</td>\n",
       "      <td>60</td>\n",
       "      <td>50</td>\n",
       "      <td>65</td>\n",
       "      <td>1</td>\n",
       "      <td>False</td>\n",
       "    </tr>\n",
       "    <tr>\n",
       "      <th>4</th>\n",
       "      <td>5</td>\n",
       "      <td>Charmeleon</td>\n",
       "      <td>Fire</td>\n",
       "      <td>NaN</td>\n",
       "      <td>405</td>\n",
       "      <td>58</td>\n",
       "      <td>64</td>\n",
       "      <td>58</td>\n",
       "      <td>80</td>\n",
       "      <td>65</td>\n",
       "      <td>80</td>\n",
       "      <td>1</td>\n",
       "      <td>False</td>\n",
       "    </tr>\n",
       "    <tr>\n",
       "      <th>5</th>\n",
       "      <td>6</td>\n",
       "      <td>Charizard</td>\n",
       "      <td>Fire</td>\n",
       "      <td>Flying</td>\n",
       "      <td>534</td>\n",
       "      <td>78</td>\n",
       "      <td>84</td>\n",
       "      <td>78</td>\n",
       "      <td>109</td>\n",
       "      <td>85</td>\n",
       "      <td>100</td>\n",
       "      <td>1</td>\n",
       "      <td>False</td>\n",
       "    </tr>\n",
       "    <tr>\n",
       "      <th>6</th>\n",
       "      <td>6</td>\n",
       "      <td>CharizardMega Charizard X</td>\n",
       "      <td>Fire</td>\n",
       "      <td>Dragon</td>\n",
       "      <td>634</td>\n",
       "      <td>78</td>\n",
       "      <td>130</td>\n",
       "      <td>111</td>\n",
       "      <td>130</td>\n",
       "      <td>85</td>\n",
       "      <td>100</td>\n",
       "      <td>1</td>\n",
       "      <td>False</td>\n",
       "    </tr>\n",
       "    <tr>\n",
       "      <th>7</th>\n",
       "      <td>6</td>\n",
       "      <td>CharizardMega Charizard Y</td>\n",
       "      <td>Fire</td>\n",
       "      <td>Flying</td>\n",
       "      <td>634</td>\n",
       "      <td>78</td>\n",
       "      <td>104</td>\n",
       "      <td>78</td>\n",
       "      <td>159</td>\n",
       "      <td>115</td>\n",
       "      <td>100</td>\n",
       "      <td>1</td>\n",
       "      <td>False</td>\n",
       "    </tr>\n",
       "    <tr>\n",
       "      <th>8</th>\n",
       "      <td>7</td>\n",
       "      <td>Squirtle</td>\n",
       "      <td>Water</td>\n",
       "      <td>NaN</td>\n",
       "      <td>314</td>\n",
       "      <td>44</td>\n",
       "      <td>48</td>\n",
       "      <td>65</td>\n",
       "      <td>50</td>\n",
       "      <td>64</td>\n",
       "      <td>43</td>\n",
       "      <td>1</td>\n",
       "      <td>False</td>\n",
       "    </tr>\n",
       "    <tr>\n",
       "      <th>9</th>\n",
       "      <td>8</td>\n",
       "      <td>Wartortle</td>\n",
       "      <td>Water</td>\n",
       "      <td>NaN</td>\n",
       "      <td>405</td>\n",
       "      <td>59</td>\n",
       "      <td>63</td>\n",
       "      <td>80</td>\n",
       "      <td>65</td>\n",
       "      <td>80</td>\n",
       "      <td>58</td>\n",
       "      <td>1</td>\n",
       "      <td>False</td>\n",
       "    </tr>\n",
       "    <tr>\n",
       "      <th>10</th>\n",
       "      <td>9</td>\n",
       "      <td>Blastoise</td>\n",
       "      <td>Water</td>\n",
       "      <td>NaN</td>\n",
       "      <td>530</td>\n",
       "      <td>79</td>\n",
       "      <td>83</td>\n",
       "      <td>100</td>\n",
       "      <td>85</td>\n",
       "      <td>105</td>\n",
       "      <td>78</td>\n",
       "      <td>1</td>\n",
       "      <td>False</td>\n",
       "    </tr>\n",
       "    <tr>\n",
       "      <th>11</th>\n",
       "      <td>9</td>\n",
       "      <td>BlastoiseMega Blastoise</td>\n",
       "      <td>Water</td>\n",
       "      <td>NaN</td>\n",
       "      <td>630</td>\n",
       "      <td>79</td>\n",
       "      <td>103</td>\n",
       "      <td>120</td>\n",
       "      <td>135</td>\n",
       "      <td>115</td>\n",
       "      <td>78</td>\n",
       "      <td>1</td>\n",
       "      <td>False</td>\n",
       "    </tr>\n",
       "  </tbody>\n",
       "</table>\n",
       "</div>"
      ],
      "text/plain": [
       "    Number                       Name Type 1  ... Speed  Generation  Legendary\n",
       "0        1                  Bulbasaur  Grass  ...    45           1      False\n",
       "1        2                    Ivysaur  Grass  ...    60           1      False\n",
       "2        3                   Venusaur  Grass  ...    80           1      False\n",
       "3        4                 Charmander   Fire  ...    65           1      False\n",
       "4        5                 Charmeleon   Fire  ...    80           1      False\n",
       "5        6                  Charizard   Fire  ...   100           1      False\n",
       "6        6  CharizardMega Charizard X   Fire  ...   100           1      False\n",
       "7        6  CharizardMega Charizard Y   Fire  ...   100           1      False\n",
       "8        7                   Squirtle  Water  ...    43           1      False\n",
       "9        8                  Wartortle  Water  ...    58           1      False\n",
       "10       9                  Blastoise  Water  ...    78           1      False\n",
       "11       9    BlastoiseMega Blastoise  Water  ...    78           1      False\n",
       "\n",
       "[12 rows x 13 columns]"
      ]
     },
     "execution_count": 51,
     "metadata": {
      "tags": []
     },
     "output_type": "execute_result"
    }
   ],
   "source": [
    "## using concat call in all the files in glob \n",
    "## pass in ignore_index so the index values are unique\n",
    "subset_together=pd.concat((pd.read_csv(file) for file in pokemon_subset),ignore_index=True)\n",
    "subset_together"
   ]
  },
  {
   "cell_type": "markdown",
   "metadata": {
    "id": "4gY8jImEKKeH"
   },
   "source": [
    "## Skill check"
   ]
  },
  {
   "cell_type": "code",
   "execution_count": null,
   "metadata": {
    "id": "bXC2kQH5KqWU"
   },
   "outputs": [],
   "source": [
    "my_df1=pd.DataFrame({'names':['Gohan','Naruto','Luffy'],'color':['blue','orange','red']})\n",
    "my_df2=pd.DataFrame({'names':['Gohan','Naruto','Luffy'],'power':[9000,8000,7000]})\n",
    "my_df3=pd.DataFrame({'power':[9000,8000,7000],'enemy':['Cell','Sasuke','Kaido']})"
   ]
  },
  {
   "cell_type": "markdown",
   "metadata": {
    "id": "XsVsn9eLOZJF"
   },
   "source": [
    "combine the three tables using the method you think is best"
   ]
  },
  {
   "cell_type": "code",
   "execution_count": null,
   "metadata": {
    "id": "9PRCNFFOOcj8"
   },
   "outputs": [],
   "source": [
    "#### your code\n"
   ]
  },
  {
   "cell_type": "markdown",
   "metadata": {
    "id": "fN9U5TI5OgCT"
   },
   "source": [
    "### Answer"
   ]
  },
  {
   "cell_type": "code",
   "execution_count": null,
   "metadata": {
    "id": "X04-8whG_jBM"
   },
   "outputs": [],
   "source": [
    "###combine df1_df2\n",
    "my_df12=pd.merge(my_df1,my_df2,on='names',how='outer')\n",
    "\n",
    "## combine df12_3\n",
    "\n",
    "my_df123=pd.merge(my_df12,my_df3,on='power',how='outer')\n",
    "\n",
    "my_df123"
   ]
  },
  {
   "cell_type": "code",
   "execution_count": null,
   "metadata": {
    "colab": {
     "base_uri": "https://localhost:8080/"
    },
    "executionInfo": {
     "elapsed": 7177,
     "status": "ok",
     "timestamp": 1599837625461,
     "user": {
      "displayName": "Maria Hernandez Limon",
      "photoUrl": "https://lh3.googleusercontent.com/a-/AOh14Ghd3PTHlBML4DLlupZiaArIJ8xYakaUbI3sK1QW=s64",
      "userId": "15768601250316805169"
     },
     "user_tz": 300
    },
    "id": "X7pLoQW_Knq4",
    "outputId": "41e6eb4a-4ce5-4a76-8441-04977205da83"
   },
   "outputs": [
    {
     "data": {
      "text/html": [
       "<div>\n",
       "<style scoped>\n",
       "    .dataframe tbody tr th:only-of-type {\n",
       "        vertical-align: middle;\n",
       "    }\n",
       "\n",
       "    .dataframe tbody tr th {\n",
       "        vertical-align: top;\n",
       "    }\n",
       "\n",
       "    .dataframe thead th {\n",
       "        text-align: right;\n",
       "    }\n",
       "</style>\n",
       "<table border=\"1\" class=\"dataframe\">\n",
       "  <thead>\n",
       "    <tr style=\"text-align: right;\">\n",
       "      <th></th>\n",
       "      <th>names</th>\n",
       "      <th>color</th>\n",
       "      <th>power</th>\n",
       "      <th>enemy</th>\n",
       "    </tr>\n",
       "  </thead>\n",
       "  <tbody>\n",
       "    <tr>\n",
       "      <th>0</th>\n",
       "      <td>Gohan</td>\n",
       "      <td>blue</td>\n",
       "      <td>9000</td>\n",
       "      <td>Cell</td>\n",
       "    </tr>\n",
       "    <tr>\n",
       "      <th>1</th>\n",
       "      <td>Naruto</td>\n",
       "      <td>orange</td>\n",
       "      <td>8000</td>\n",
       "      <td>Sasuke</td>\n",
       "    </tr>\n",
       "    <tr>\n",
       "      <th>2</th>\n",
       "      <td>Luffy</td>\n",
       "      <td>red</td>\n",
       "      <td>7000</td>\n",
       "      <td>Kaido</td>\n",
       "    </tr>\n",
       "  </tbody>\n",
       "</table>\n",
       "</div>"
      ],
      "text/plain": [
       "    names   color  power   enemy\n",
       "0   Gohan    blue   9000    Cell\n",
       "1  Naruto  orange   8000  Sasuke\n",
       "2   Luffy     red   7000   Kaido"
      ]
     },
     "execution_count": 54,
     "metadata": {
      "tags": []
     },
     "output_type": "execute_result"
    }
   ],
   "source": [
    "my_combined_df=pd.merge(my_df1,my_df2,on='names')\n",
    "my_combined_df_out=pd.merge(my_combined_df,my_df3,on=['power'])\n",
    "my_combined_df_out"
   ]
  },
  {
   "cell_type": "markdown",
   "metadata": {
    "id": "LHDjbIKW9vnA"
   },
   "source": [
    "## 13. Data Analysis "
   ]
  },
  {
   "cell_type": "markdown",
   "metadata": {
    "id": "Yzn1OJdzJ7WN"
   },
   "source": [
    "There are many ways to organize the data you have and more often than not you will have to create your own functions to see the data as you want it. However there are some built in fucntions like [pd.pivot_table ](https://pandas.pydata.org/pandas-docs/stable/reference/api/pandas.pivot_table.html)and [groupby](https://pandas.pydata.org/pandas-docs/stable/reference/api/pandas.DataFrame.groupby.html) that you can use to organize your data. These are both complicated tools and I am only going to introduce the basics here. \n",
    "This [stackoverflow](https://stackoverflow.com/questions/34702815/pandas-group-by-and-pivot-table-difference) response has a wonder explanation of how these two are different. "
   ]
  },
  {
   "cell_type": "markdown",
   "metadata": {
    "id": "unbvuBHlPzRI"
   },
   "source": [
    "To explore data analysis and the process of data analysis I am going to walk you through a set of questions I answered for my first manuscript. This data explores gene expression patterns of a biochemically important phytoplankton called Emiliania huxleyi (Ehux). This organism makes calcium carbonate shells and so it is a key player in the global carbon cycle. Ehux is a phytoplankton meaning it uses photosynthesis for energy. For my research question I wanted to confirm that gene expression patterns of genes involved in processes related to light like photosynthesis followed the daily light cycles (diel cycles- light:dark). \n",
    "\n",
    "Reference: Hernández Limón, María D., Gwenn MM Hennon, Matthew J. Harke, Kyle R. Frischkorn, Sheean T. Haley, and Sonya T. Dyhrman. \"Transcriptional patterns of Emiliania huxleyi in the North Pacific Subtropical Gyre reveal the daily rhythms of its metabolic potential.\" Environmental microbiology 22, no. 1 (2020): 381-396."
   ]
  },
  {
   "cell_type": "code",
   "execution_count": 25,
   "metadata": {
    "colab": {
     "base_uri": "https://localhost:8080/",
     "height": 306
    },
    "executionInfo": {
     "elapsed": 580,
     "status": "ok",
     "timestamp": 1599838019895,
     "user": {
      "displayName": "Maria Hernandez Limon",
      "photoUrl": "https://lh3.googleusercontent.com/a-/AOh14Ghd3PTHlBML4DLlupZiaArIJ8xYakaUbI3sK1QW=s64",
      "userId": "15768601250316805169"
     },
     "user_tz": 300
    },
    "id": "aiHUjetXVopf",
    "outputId": "80963a62-26be-49d4-e1cd-a54d96c442e8"
   },
   "outputs": [
    {
     "data": {
      "text/html": [
       "<div>\n",
       "<style scoped>\n",
       "    .dataframe tbody tr th:only-of-type {\n",
       "        vertical-align: middle;\n",
       "    }\n",
       "\n",
       "    .dataframe tbody tr th {\n",
       "        vertical-align: top;\n",
       "    }\n",
       "\n",
       "    .dataframe thead th {\n",
       "        text-align: right;\n",
       "    }\n",
       "</style>\n",
       "<table border=\"1\" class=\"dataframe\">\n",
       "  <thead>\n",
       "    <tr style=\"text-align: right;\">\n",
       "      <th></th>\n",
       "      <th>CAMNT_ID</th>\n",
       "      <th>WGCNA_Module_Num</th>\n",
       "      <th>RAIN_diel_Results</th>\n",
       "      <th>KEGG_Annotations</th>\n",
       "    </tr>\n",
       "  </thead>\n",
       "  <tbody>\n",
       "    <tr>\n",
       "      <th>0</th>\n",
       "      <td>CAMNT_0024302971</td>\n",
       "      <td>7</td>\n",
       "      <td>False</td>\n",
       "      <td>00910 Nitrogen metabolism [PATH:ko00910]</td>\n",
       "    </tr>\n",
       "    <tr>\n",
       "      <th>1</th>\n",
       "      <td>CAMNT_0024014877</td>\n",
       "      <td>4</td>\n",
       "      <td>False</td>\n",
       "      <td>00030 Pentose phosphate pathway [PATH:ko00030]</td>\n",
       "    </tr>\n",
       "    <tr>\n",
       "      <th>2</th>\n",
       "      <td>CAMNT_0024014645</td>\n",
       "      <td>9</td>\n",
       "      <td>True</td>\n",
       "      <td>00190 Oxidative phosphorylation [PATH:ko00190]</td>\n",
       "    </tr>\n",
       "    <tr>\n",
       "      <th>3</th>\n",
       "      <td>CAMNT_0023937169</td>\n",
       "      <td>9</td>\n",
       "      <td>True</td>\n",
       "      <td>00190 Oxidative phosphorylation [PATH:ko00190]</td>\n",
       "    </tr>\n",
       "    <tr>\n",
       "      <th>4</th>\n",
       "      <td>CAMNT_0024335527</td>\n",
       "      <td>9</td>\n",
       "      <td>True</td>\n",
       "      <td>00190 Oxidative phosphorylation [PATH:ko00190]</td>\n",
       "    </tr>\n",
       "  </tbody>\n",
       "</table>\n",
       "</div>"
      ],
      "text/plain": [
       "           CAMNT_ID  WGCNA_Module_Num  RAIN_diel_Results  \\\n",
       "0  CAMNT_0024302971                 7              False   \n",
       "1  CAMNT_0024014877                 4              False   \n",
       "2  CAMNT_0024014645                 9               True   \n",
       "3  CAMNT_0023937169                 9               True   \n",
       "4  CAMNT_0024335527                 9               True   \n",
       "\n",
       "                                 KEGG_Annotations  \n",
       "0        00910 Nitrogen metabolism [PATH:ko00910]  \n",
       "1  00030 Pentose phosphate pathway [PATH:ko00030]  \n",
       "2  00190 Oxidative phosphorylation [PATH:ko00190]  \n",
       "3  00190 Oxidative phosphorylation [PATH:ko00190]  \n",
       "4  00190 Oxidative phosphorylation [PATH:ko00190]  "
      ]
     },
     "execution_count": 25,
     "metadata": {},
     "output_type": "execute_result"
    }
   ],
   "source": [
    "### recall gene_info_clean\n",
    "## CAMNT is an ID for nucleotides-->gene\n",
    "## WGCNA_Module_Num is the module/cluster from a clustering analysis\n",
    "## RAIN_diel_Results is the output from an analysis on periodicty, so True mean a 12hr period or diel, and False means no periodicty\n",
    "## KEGG_annotation are genea annotations from another analysis\n",
    "\n",
    "gene_info_clean.head()"
   ]
  },
  {
   "cell_type": "markdown",
   "metadata": {
    "id": "WIq97xCqSsdh"
   },
   "source": [
    "![image.png](data:image/png;base64,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)"
   ]
  },
  {
   "cell_type": "code",
   "execution_count": null,
   "metadata": {
    "colab": {
     "base_uri": "https://localhost:8080/",
     "height": 204
    },
    "executionInfo": {
     "elapsed": 621,
     "status": "ok",
     "timestamp": 1599838022867,
     "user": {
      "displayName": "Maria Hernandez Limon",
      "photoUrl": "https://lh3.googleusercontent.com/a-/AOh14Ghd3PTHlBML4DLlupZiaArIJ8xYakaUbI3sK1QW=s64",
      "userId": "15768601250316805169"
     },
     "user_tz": 300
    },
    "id": "7_n5rV2zr_Sb",
    "outputId": "d2b8d9e2-6d06-4086-a289-f63696dc503f"
   },
   "outputs": [
    {
     "data": {
      "text/html": [
       "<div>\n",
       "<style scoped>\n",
       "    .dataframe tbody tr th:only-of-type {\n",
       "        vertical-align: middle;\n",
       "    }\n",
       "\n",
       "    .dataframe tbody tr th {\n",
       "        vertical-align: top;\n",
       "    }\n",
       "\n",
       "    .dataframe thead th {\n",
       "        text-align: right;\n",
       "    }\n",
       "</style>\n",
       "<table border=\"1\" class=\"dataframe\">\n",
       "  <thead>\n",
       "    <tr style=\"text-align: right;\">\n",
       "      <th></th>\n",
       "      <th>CAMNT</th>\n",
       "      <th>0</th>\n",
       "      <th>4</th>\n",
       "      <th>8</th>\n",
       "      <th>12</th>\n",
       "      <th>16</th>\n",
       "      <th>20</th>\n",
       "      <th>24</th>\n",
       "      <th>28</th>\n",
       "      <th>32</th>\n",
       "      <th>36</th>\n",
       "      <th>40</th>\n",
       "      <th>44</th>\n",
       "      <th>48</th>\n",
       "      <th>52</th>\n",
       "      <th>56</th>\n",
       "      <th>60</th>\n",
       "      <th>68</th>\n",
       "      <th>72</th>\n",
       "      <th>76</th>\n",
       "      <th>80</th>\n",
       "    </tr>\n",
       "  </thead>\n",
       "  <tbody>\n",
       "    <tr>\n",
       "      <th>0</th>\n",
       "      <td>CAMNT_0023928115</td>\n",
       "      <td>214</td>\n",
       "      <td>376</td>\n",
       "      <td>204</td>\n",
       "      <td>347</td>\n",
       "      <td>411</td>\n",
       "      <td>237</td>\n",
       "      <td>262</td>\n",
       "      <td>198</td>\n",
       "      <td>199</td>\n",
       "      <td>229</td>\n",
       "      <td>411</td>\n",
       "      <td>394</td>\n",
       "      <td>299</td>\n",
       "      <td>277</td>\n",
       "      <td>251</td>\n",
       "      <td>411</td>\n",
       "      <td>288</td>\n",
       "      <td>221</td>\n",
       "      <td>256</td>\n",
       "      <td>230</td>\n",
       "    </tr>\n",
       "    <tr>\n",
       "      <th>1</th>\n",
       "      <td>CAMNT_0023928149</td>\n",
       "      <td>56</td>\n",
       "      <td>40</td>\n",
       "      <td>28</td>\n",
       "      <td>37</td>\n",
       "      <td>27</td>\n",
       "      <td>112</td>\n",
       "      <td>76</td>\n",
       "      <td>50</td>\n",
       "      <td>26</td>\n",
       "      <td>23</td>\n",
       "      <td>27</td>\n",
       "      <td>169</td>\n",
       "      <td>76</td>\n",
       "      <td>45</td>\n",
       "      <td>35</td>\n",
       "      <td>27</td>\n",
       "      <td>61</td>\n",
       "      <td>73</td>\n",
       "      <td>66</td>\n",
       "      <td>29</td>\n",
       "    </tr>\n",
       "    <tr>\n",
       "      <th>2</th>\n",
       "      <td>CAMNT_0023928253</td>\n",
       "      <td>30</td>\n",
       "      <td>45</td>\n",
       "      <td>11</td>\n",
       "      <td>38</td>\n",
       "      <td>38</td>\n",
       "      <td>28</td>\n",
       "      <td>16</td>\n",
       "      <td>29</td>\n",
       "      <td>23</td>\n",
       "      <td>19</td>\n",
       "      <td>38</td>\n",
       "      <td>15</td>\n",
       "      <td>9</td>\n",
       "      <td>31</td>\n",
       "      <td>16</td>\n",
       "      <td>38</td>\n",
       "      <td>21</td>\n",
       "      <td>28</td>\n",
       "      <td>11</td>\n",
       "      <td>10</td>\n",
       "    </tr>\n",
       "    <tr>\n",
       "      <th>3</th>\n",
       "      <td>CAMNT_0023928285</td>\n",
       "      <td>12</td>\n",
       "      <td>12</td>\n",
       "      <td>11</td>\n",
       "      <td>11</td>\n",
       "      <td>15</td>\n",
       "      <td>13</td>\n",
       "      <td>3</td>\n",
       "      <td>13</td>\n",
       "      <td>9</td>\n",
       "      <td>14</td>\n",
       "      <td>15</td>\n",
       "      <td>7</td>\n",
       "      <td>8</td>\n",
       "      <td>7</td>\n",
       "      <td>23</td>\n",
       "      <td>15</td>\n",
       "      <td>16</td>\n",
       "      <td>11</td>\n",
       "      <td>6</td>\n",
       "      <td>11</td>\n",
       "    </tr>\n",
       "    <tr>\n",
       "      <th>4</th>\n",
       "      <td>CAMNT_0023928443</td>\n",
       "      <td>210</td>\n",
       "      <td>215</td>\n",
       "      <td>216</td>\n",
       "      <td>266</td>\n",
       "      <td>338</td>\n",
       "      <td>286</td>\n",
       "      <td>225</td>\n",
       "      <td>231</td>\n",
       "      <td>174</td>\n",
       "      <td>186</td>\n",
       "      <td>338</td>\n",
       "      <td>523</td>\n",
       "      <td>897</td>\n",
       "      <td>316</td>\n",
       "      <td>246</td>\n",
       "      <td>338</td>\n",
       "      <td>243</td>\n",
       "      <td>263</td>\n",
       "      <td>235</td>\n",
       "      <td>134</td>\n",
       "    </tr>\n",
       "  </tbody>\n",
       "</table>\n",
       "</div>"
      ],
      "text/plain": [
       "              CAMNT    0    4    8   12   16  ...   56   60   68   72   76   80\n",
       "0  CAMNT_0023928115  214  376  204  347  411  ...  251  411  288  221  256  230\n",
       "1  CAMNT_0023928149   56   40   28   37   27  ...   35   27   61   73   66   29\n",
       "2  CAMNT_0023928253   30   45   11   38   38  ...   16   38   21   28   11   10\n",
       "3  CAMNT_0023928285   12   12   11   11   15  ...   23   15   16   11    6   11\n",
       "4  CAMNT_0023928443  210  215  216  266  338  ...  246  338  243  263  235  134\n",
       "\n",
       "[5 rows x 21 columns]"
      ]
     },
     "execution_count": 98,
     "metadata": {
      "tags": []
     },
     "output_type": "execute_result"
    }
   ],
   "source": [
    "### counts info\n",
    "## the data we are looking at was collected in the North Pacific Subtropical Gyre over a week and time samples were \n",
    "## collected every 4hrs. This was A LOT of work!!!\n",
    "\n",
    "#so we have 21 time points over a few days\n",
    "\n",
    "gene_counts.head()"
   ]
  },
  {
   "cell_type": "markdown",
   "metadata": {
    "id": "uTvXDEJkLosH"
   },
   "source": [
    "## 13.1 coming up with questions"
   ]
  },
  {
   "cell_type": "markdown",
   "metadata": {
    "id": "FER_Iqu9sC48"
   },
   "source": [
    "Possible questions:\n",
    "\n",
    "1. What are the top 10 most abundant gene types (from the annotations) we find? How many photosynthesis genes do we find?\n",
    "\n",
    "2. How many diel genes are there for each of these top 10 gene types?\n",
    "\n",
    "4. Do the clusters/modules have the same type of genes in them? Are all the genes in a cluster either diel or not diel?\n",
    "\n",
    "3. Do genes with annotations of interest show periodic patterns? even if we include the False diel? [annotations of interes: 'Photosynthesis', 'Nitrogen metabolism', 'Carbon Metabolism']"
   ]
  },
  {
   "cell_type": "markdown",
   "metadata": {
    "id": "Xs-3DqjGLxjO"
   },
   "source": [
    "## Introduction to groupby"
   ]
  },
  {
   "cell_type": "markdown",
   "metadata": {
    "id": "68e5HS-ML6UD"
   },
   "source": [
    "## Q1.\n",
    "What are the top 10 most abundant gene types we find? How many photosynthesis genes do we find?"
   ]
  },
  {
   "cell_type": "code",
   "execution_count": null,
   "metadata": {
    "cellView": "form",
    "colab": {
     "base_uri": "https://localhost:8080/"
    },
    "executionInfo": {
     "elapsed": 7149,
     "status": "ok",
     "timestamp": 1599837625464,
     "user": {
      "displayName": "Maria Hernandez Limon",
      "photoUrl": "https://lh3.googleusercontent.com/a-/AOh14Ghd3PTHlBML4DLlupZiaArIJ8xYakaUbI3sK1QW=s64",
      "userId": "15768601250316805169"
     },
     "user_tz": 300
    },
    "id": "v2TQy6Hk3LoB",
    "outputId": "02243425-a9d7-45d8-aa3d-b48cff15cd37"
   },
   "outputs": [
    {
     "data": {
      "text/html": [
       "<div>\n",
       "<style scoped>\n",
       "    .dataframe tbody tr th:only-of-type {\n",
       "        vertical-align: middle;\n",
       "    }\n",
       "\n",
       "    .dataframe tbody tr th {\n",
       "        vertical-align: top;\n",
       "    }\n",
       "\n",
       "    .dataframe thead th {\n",
       "        text-align: right;\n",
       "    }\n",
       "</style>\n",
       "<table border=\"1\" class=\"dataframe\">\n",
       "  <thead>\n",
       "    <tr style=\"text-align: right;\">\n",
       "      <th></th>\n",
       "      <th>CAMNT</th>\n",
       "      <th>WGCNA_Module_Num</th>\n",
       "      <th>RAIN_diel_Results</th>\n",
       "      <th>KEGG_Annotations</th>\n",
       "      <th>KEGG_clean1</th>\n",
       "    </tr>\n",
       "    <tr>\n",
       "      <th>KEGG_clean</th>\n",
       "      <th></th>\n",
       "      <th></th>\n",
       "      <th></th>\n",
       "      <th></th>\n",
       "      <th></th>\n",
       "    </tr>\n",
       "  </thead>\n",
       "  <tbody>\n",
       "    <tr>\n",
       "      <th>2-Oxocarboxylic acid metabolism</th>\n",
       "      <td>58</td>\n",
       "      <td>58</td>\n",
       "      <td>58</td>\n",
       "      <td>58</td>\n",
       "      <td>58</td>\n",
       "    </tr>\n",
       "    <tr>\n",
       "      <th>ABC transporters</th>\n",
       "      <td>47</td>\n",
       "      <td>47</td>\n",
       "      <td>47</td>\n",
       "      <td>47</td>\n",
       "      <td>47</td>\n",
       "    </tr>\n",
       "    <tr>\n",
       "      <th>AMPK signaling pathway</th>\n",
       "      <td>42</td>\n",
       "      <td>42</td>\n",
       "      <td>42</td>\n",
       "      <td>42</td>\n",
       "      <td>42</td>\n",
       "    </tr>\n",
       "    <tr>\n",
       "      <th>Acute myeloid leukemia</th>\n",
       "      <td>2</td>\n",
       "      <td>2</td>\n",
       "      <td>2</td>\n",
       "      <td>2</td>\n",
       "      <td>2</td>\n",
       "    </tr>\n",
       "    <tr>\n",
       "      <th>Adherens junction</th>\n",
       "      <td>85</td>\n",
       "      <td>85</td>\n",
       "      <td>85</td>\n",
       "      <td>85</td>\n",
       "      <td>85</td>\n",
       "    </tr>\n",
       "    <tr>\n",
       "      <th>...</th>\n",
       "      <td>...</td>\n",
       "      <td>...</td>\n",
       "      <td>...</td>\n",
       "      <td>...</td>\n",
       "      <td>...</td>\n",
       "    </tr>\n",
       "    <tr>\n",
       "      <th>beta-Alanine metabolism</th>\n",
       "      <td>5</td>\n",
       "      <td>5</td>\n",
       "      <td>5</td>\n",
       "      <td>5</td>\n",
       "      <td>5</td>\n",
       "    </tr>\n",
       "    <tr>\n",
       "      <th>cGMP - PKG signaling pathway</th>\n",
       "      <td>62</td>\n",
       "      <td>62</td>\n",
       "      <td>62</td>\n",
       "      <td>62</td>\n",
       "      <td>62</td>\n",
       "    </tr>\n",
       "    <tr>\n",
       "      <th>mRNA surveillance pathway</th>\n",
       "      <td>55</td>\n",
       "      <td>55</td>\n",
       "      <td>55</td>\n",
       "      <td>55</td>\n",
       "      <td>55</td>\n",
       "    </tr>\n",
       "    <tr>\n",
       "      <th>mTOR signaling pathway</th>\n",
       "      <td>18</td>\n",
       "      <td>18</td>\n",
       "      <td>18</td>\n",
       "      <td>18</td>\n",
       "      <td>18</td>\n",
       "    </tr>\n",
       "    <tr>\n",
       "      <th>p53 signaling pathway</th>\n",
       "      <td>28</td>\n",
       "      <td>28</td>\n",
       "      <td>28</td>\n",
       "      <td>28</td>\n",
       "      <td>28</td>\n",
       "    </tr>\n",
       "  </tbody>\n",
       "</table>\n",
       "<p>290 rows × 5 columns</p>\n",
       "</div>"
      ],
      "text/plain": [
       "                                  CAMNT  ...  KEGG_clean1\n",
       "KEGG_clean                               ...             \n",
       "2-Oxocarboxylic acid metabolism      58  ...           58\n",
       "ABC transporters                     47  ...           47\n",
       "AMPK signaling pathway               42  ...           42\n",
       "Acute myeloid leukemia                2  ...            2\n",
       "Adherens junction                    85  ...           85\n",
       "...                                 ...  ...          ...\n",
       "beta-Alanine metabolism               5  ...            5\n",
       "cGMP - PKG signaling pathway         62  ...           62\n",
       "mRNA surveillance pathway            55  ...           55\n",
       "mTOR signaling pathway               18  ...           18\n",
       "p53 signaling pathway                28  ...           28\n",
       "\n",
       "[290 rows x 5 columns]"
      ]
     },
     "execution_count": 57,
     "metadata": {
      "tags": []
     },
     "output_type": "execute_result"
    }
   ],
   "source": [
    "#@title\n",
    "## how many genes per pathway\n",
    "## we can use groupby to group our rows based on the KEGG_clean pathway, by how many there are\n",
    "## this produces a table where all the columns have the same count\n",
    "gene_info_clean.groupby('KEGG_clean').count()"
   ]
  },
  {
   "cell_type": "code",
   "execution_count": null,
   "metadata": {
    "colab": {
     "base_uri": "https://localhost:8080/",
     "height": 450
    },
    "executionInfo": {
     "elapsed": 631,
     "status": "ok",
     "timestamp": 1599838032299,
     "user": {
      "displayName": "Maria Hernandez Limon",
      "photoUrl": "https://lh3.googleusercontent.com/a-/AOh14Ghd3PTHlBML4DLlupZiaArIJ8xYakaUbI3sK1QW=s64",
      "userId": "15768601250316805169"
     },
     "user_tz": 300
    },
    "id": "qVYmLMud3no4",
    "outputId": "f4d2764f-3e85-4f1f-f289-e0cf3386e0a6"
   },
   "outputs": [
    {
     "data": {
      "text/html": [
       "<div>\n",
       "<style scoped>\n",
       "    .dataframe tbody tr th:only-of-type {\n",
       "        vertical-align: middle;\n",
       "    }\n",
       "\n",
       "    .dataframe tbody tr th {\n",
       "        vertical-align: top;\n",
       "    }\n",
       "\n",
       "    .dataframe thead th {\n",
       "        text-align: right;\n",
       "    }\n",
       "</style>\n",
       "<table border=\"1\" class=\"dataframe\">\n",
       "  <thead>\n",
       "    <tr style=\"text-align: right;\">\n",
       "      <th></th>\n",
       "      <th>CAMNT</th>\n",
       "      <th>WGCNA_Module_Num</th>\n",
       "      <th>RAIN_diel_Results</th>\n",
       "      <th>KEGG_Annotations</th>\n",
       "      <th>KEGG_clean1</th>\n",
       "    </tr>\n",
       "    <tr>\n",
       "      <th>KEGG_clean</th>\n",
       "      <th></th>\n",
       "      <th></th>\n",
       "      <th></th>\n",
       "      <th></th>\n",
       "      <th></th>\n",
       "    </tr>\n",
       "  </thead>\n",
       "  <tbody>\n",
       "    <tr>\n",
       "      <th>2-Oxocarboxylic acid metabolism</th>\n",
       "      <td>58</td>\n",
       "      <td>58</td>\n",
       "      <td>58</td>\n",
       "      <td>58</td>\n",
       "      <td>58</td>\n",
       "    </tr>\n",
       "    <tr>\n",
       "      <th>ABC transporters</th>\n",
       "      <td>47</td>\n",
       "      <td>47</td>\n",
       "      <td>47</td>\n",
       "      <td>47</td>\n",
       "      <td>47</td>\n",
       "    </tr>\n",
       "    <tr>\n",
       "      <th>AMPK signaling pathway</th>\n",
       "      <td>42</td>\n",
       "      <td>42</td>\n",
       "      <td>42</td>\n",
       "      <td>42</td>\n",
       "      <td>42</td>\n",
       "    </tr>\n",
       "    <tr>\n",
       "      <th>Acute myeloid leukemia</th>\n",
       "      <td>2</td>\n",
       "      <td>2</td>\n",
       "      <td>2</td>\n",
       "      <td>2</td>\n",
       "      <td>2</td>\n",
       "    </tr>\n",
       "    <tr>\n",
       "      <th>Adherens junction</th>\n",
       "      <td>85</td>\n",
       "      <td>85</td>\n",
       "      <td>85</td>\n",
       "      <td>85</td>\n",
       "      <td>85</td>\n",
       "    </tr>\n",
       "    <tr>\n",
       "      <th>...</th>\n",
       "      <td>...</td>\n",
       "      <td>...</td>\n",
       "      <td>...</td>\n",
       "      <td>...</td>\n",
       "      <td>...</td>\n",
       "    </tr>\n",
       "    <tr>\n",
       "      <th>beta-Alanine metabolism</th>\n",
       "      <td>5</td>\n",
       "      <td>5</td>\n",
       "      <td>5</td>\n",
       "      <td>5</td>\n",
       "      <td>5</td>\n",
       "    </tr>\n",
       "    <tr>\n",
       "      <th>cGMP - PKG signaling pathway</th>\n",
       "      <td>62</td>\n",
       "      <td>62</td>\n",
       "      <td>62</td>\n",
       "      <td>62</td>\n",
       "      <td>62</td>\n",
       "    </tr>\n",
       "    <tr>\n",
       "      <th>mRNA surveillance pathway</th>\n",
       "      <td>55</td>\n",
       "      <td>55</td>\n",
       "      <td>55</td>\n",
       "      <td>55</td>\n",
       "      <td>55</td>\n",
       "    </tr>\n",
       "    <tr>\n",
       "      <th>mTOR signaling pathway</th>\n",
       "      <td>18</td>\n",
       "      <td>18</td>\n",
       "      <td>18</td>\n",
       "      <td>18</td>\n",
       "      <td>18</td>\n",
       "    </tr>\n",
       "    <tr>\n",
       "      <th>p53 signaling pathway</th>\n",
       "      <td>28</td>\n",
       "      <td>28</td>\n",
       "      <td>28</td>\n",
       "      <td>28</td>\n",
       "      <td>28</td>\n",
       "    </tr>\n",
       "  </tbody>\n",
       "</table>\n",
       "<p>290 rows × 5 columns</p>\n",
       "</div>"
      ],
      "text/plain": [
       "                                  CAMNT  ...  KEGG_clean1\n",
       "KEGG_clean                               ...             \n",
       "2-Oxocarboxylic acid metabolism      58  ...           58\n",
       "ABC transporters                     47  ...           47\n",
       "AMPK signaling pathway               42  ...           42\n",
       "Acute myeloid leukemia                2  ...            2\n",
       "Adherens junction                    85  ...           85\n",
       "...                                 ...  ...          ...\n",
       "beta-Alanine metabolism               5  ...            5\n",
       "cGMP - PKG signaling pathway         62  ...           62\n",
       "mRNA surveillance pathway            55  ...           55\n",
       "mTOR signaling pathway               18  ...           18\n",
       "p53 signaling pathway                28  ...           28\n",
       "\n",
       "[290 rows x 5 columns]"
      ]
     },
     "execution_count": 99,
     "metadata": {
      "tags": []
     },
     "output_type": "execute_result"
    }
   ],
   "source": [
    "## how many genes per pathway\n",
    "## to only see one column we can specify what we want, in this case I want CAMNT, but any column would work\n",
    "gene_info_clean.groupby('KEGG_clean').count()"
   ]
  },
  {
   "cell_type": "code",
   "execution_count": null,
   "metadata": {
    "colab": {
     "base_uri": "https://localhost:8080/",
     "height": 238
    },
    "executionInfo": {
     "elapsed": 588,
     "status": "ok",
     "timestamp": 1599838034775,
     "user": {
      "displayName": "Maria Hernandez Limon",
      "photoUrl": "https://lh3.googleusercontent.com/a-/AOh14Ghd3PTHlBML4DLlupZiaArIJ8xYakaUbI3sK1QW=s64",
      "userId": "15768601250316805169"
     },
     "user_tz": 300
    },
    "id": "7kT6NEyH3s8G",
    "outputId": "081227c0-25f9-4eb4-833b-06441d87cff1"
   },
   "outputs": [
    {
     "data": {
      "text/plain": [
       "KEGG_clean\n",
       "Ribosome                                                                    452\n",
       "Carbon metabolism                                                           313\n",
       "Biosynthesis of amino acids                                                 297\n",
       "Protein processing in endoplasmic reticulum                                 217\n",
       "Huntington's disease                                                        163\n",
       "                                                                           ... \n",
       "Peptidoglycan biosynthesis                                                    1\n",
       "Basal transcription factors                                                   1\n",
       "Glycosaminoglycan biosynthesis - chondroitin sulfate / dermatan sulfate       1\n",
       "Phosphonate and phosphinate metabolism                                        1\n",
       "Leishmaniasis                                                                 1\n",
       "Name: CAMNT, Length: 290, dtype: int64"
      ]
     },
     "execution_count": 100,
     "metadata": {
      "tags": []
     },
     "output_type": "execute_result"
    }
   ],
   "source": [
    "## how many genes per pathway\n",
    "## to see which gene type is the most abundant we can sort our values\n",
    "gene_info_clean.groupby('KEGG_clean').CAMNT.count().sort_values(ascending=False)"
   ]
  },
  {
   "cell_type": "code",
   "execution_count": null,
   "metadata": {
    "colab": {
     "base_uri": "https://localhost:8080/",
     "height": 221
    },
    "executionInfo": {
     "elapsed": 502,
     "status": "ok",
     "timestamp": 1599838037575,
     "user": {
      "displayName": "Maria Hernandez Limon",
      "photoUrl": "https://lh3.googleusercontent.com/a-/AOh14Ghd3PTHlBML4DLlupZiaArIJ8xYakaUbI3sK1QW=s64",
      "userId": "15768601250316805169"
     },
     "user_tz": 300
    },
    "id": "UM2_lBPc4BWR",
    "outputId": "50c603e9-6494-4186-90e3-061ad624ab07"
   },
   "outputs": [
    {
     "data": {
      "text/plain": [
       "KEGG_clean\n",
       "Ribosome                                        452\n",
       "Carbon metabolism                               313\n",
       "Biosynthesis of amino acids                     297\n",
       "Protein processing in endoplasmic reticulum     217\n",
       "Huntington's disease                            163\n",
       "Epstein-Barr virus infection                    162\n",
       "Oxidative phosphorylation                       160\n",
       "Phagosome                                       155\n",
       "Glycolysis / Gluconeogenesis                    151\n",
       "Spliceosome                                     145\n",
       "Name: CAMNT, dtype: int64"
      ]
     },
     "execution_count": 101,
     "metadata": {
      "tags": []
     },
     "output_type": "execute_result"
    }
   ],
   "source": [
    "## let's make it a table so we can find things more easily\n",
    "## we can create a new variable that holds the table we just made\n",
    "annotation_counts=gene_info_clean.groupby('KEGG_clean').CAMNT.count().sort_values(ascending=False)\n",
    "annotation_counts.head(10)"
   ]
  },
  {
   "cell_type": "code",
   "execution_count": null,
   "metadata": {
    "colab": {
     "base_uri": "https://localhost:8080/",
     "height": 359
    },
    "executionInfo": {
     "elapsed": 531,
     "status": "ok",
     "timestamp": 1599838039842,
     "user": {
      "displayName": "Maria Hernandez Limon",
      "photoUrl": "https://lh3.googleusercontent.com/a-/AOh14Ghd3PTHlBML4DLlupZiaArIJ8xYakaUbI3sK1QW=s64",
      "userId": "15768601250316805169"
     },
     "user_tz": 300
    },
    "id": "uCfMSjUv9jzm",
    "outputId": "f5217b4d-00ce-4ced-808e-b8347ffcb8b0"
   },
   "outputs": [
    {
     "data": {
      "text/html": [
       "<div>\n",
       "<style scoped>\n",
       "    .dataframe tbody tr th:only-of-type {\n",
       "        vertical-align: middle;\n",
       "    }\n",
       "\n",
       "    .dataframe tbody tr th {\n",
       "        vertical-align: top;\n",
       "    }\n",
       "\n",
       "    .dataframe thead th {\n",
       "        text-align: right;\n",
       "    }\n",
       "</style>\n",
       "<table border=\"1\" class=\"dataframe\">\n",
       "  <thead>\n",
       "    <tr style=\"text-align: right;\">\n",
       "      <th></th>\n",
       "      <th>KEGG_clean</th>\n",
       "      <th>CAMNT</th>\n",
       "    </tr>\n",
       "  </thead>\n",
       "  <tbody>\n",
       "    <tr>\n",
       "      <th>0</th>\n",
       "      <td>Ribosome</td>\n",
       "      <td>452</td>\n",
       "    </tr>\n",
       "    <tr>\n",
       "      <th>1</th>\n",
       "      <td>Carbon metabolism</td>\n",
       "      <td>313</td>\n",
       "    </tr>\n",
       "    <tr>\n",
       "      <th>2</th>\n",
       "      <td>Biosynthesis of amino acids</td>\n",
       "      <td>297</td>\n",
       "    </tr>\n",
       "    <tr>\n",
       "      <th>3</th>\n",
       "      <td>Protein processing in endoplasmic reticulum</td>\n",
       "      <td>217</td>\n",
       "    </tr>\n",
       "    <tr>\n",
       "      <th>4</th>\n",
       "      <td>Huntington's disease</td>\n",
       "      <td>163</td>\n",
       "    </tr>\n",
       "    <tr>\n",
       "      <th>5</th>\n",
       "      <td>Epstein-Barr virus infection</td>\n",
       "      <td>162</td>\n",
       "    </tr>\n",
       "    <tr>\n",
       "      <th>6</th>\n",
       "      <td>Oxidative phosphorylation</td>\n",
       "      <td>160</td>\n",
       "    </tr>\n",
       "    <tr>\n",
       "      <th>7</th>\n",
       "      <td>Phagosome</td>\n",
       "      <td>155</td>\n",
       "    </tr>\n",
       "    <tr>\n",
       "      <th>8</th>\n",
       "      <td>Glycolysis / Gluconeogenesis</td>\n",
       "      <td>151</td>\n",
       "    </tr>\n",
       "    <tr>\n",
       "      <th>9</th>\n",
       "      <td>Spliceosome</td>\n",
       "      <td>145</td>\n",
       "    </tr>\n",
       "  </tbody>\n",
       "</table>\n",
       "</div>"
      ],
      "text/plain": [
       "                                     KEGG_clean  CAMNT\n",
       "0                                     Ribosome     452\n",
       "1                            Carbon metabolism     313\n",
       "2                  Biosynthesis of amino acids     297\n",
       "3  Protein processing in endoplasmic reticulum     217\n",
       "4                         Huntington's disease     163\n",
       "5                 Epstein-Barr virus infection     162\n",
       "6                    Oxidative phosphorylation     160\n",
       "7                                    Phagosome     155\n",
       "8                 Glycolysis / Gluconeogenesis     151\n",
       "9                                  Spliceosome     145"
      ]
     },
     "execution_count": 102,
     "metadata": {
      "tags": []
     },
     "output_type": "execute_result"
    }
   ],
   "source": [
    "## let's make it a table so we can find things more easily\n",
    "annotation_counts_pretty=gene_info_clean.groupby('KEGG_clean').CAMNT.count().sort_values(ascending=False).reset_index()\n",
    "annotation_counts_pretty.head(10)"
   ]
  },
  {
   "cell_type": "markdown",
   "metadata": {
    "id": "fmFOuxov5tTS"
   },
   "source": [
    "1. What are the top 10 most abundant genes we find? How many photosynthesis genes do we find?\n",
    "\n"
   ]
  },
  {
   "cell_type": "code",
   "execution_count": null,
   "metadata": {
    "colab": {
     "base_uri": "https://localhost:8080/"
    },
    "executionInfo": {
     "elapsed": 7435,
     "status": "ok",
     "timestamp": 1599837625785,
     "user": {
      "displayName": "Maria Hernandez Limon",
      "photoUrl": "https://lh3.googleusercontent.com/a-/AOh14Ghd3PTHlBML4DLlupZiaArIJ8xYakaUbI3sK1QW=s64",
      "userId": "15768601250316805169"
     },
     "user_tz": 300
    },
    "id": "Oavuub4p5Zkc",
    "outputId": "2b0276e5-fb11-4b4b-c2a5-7bb48efb8de7"
   },
   "outputs": [
    {
     "data": {
      "text/plain": [
       "['Ribosome ',\n",
       " 'Carbon metabolism ',\n",
       " 'Biosynthesis of amino acids ',\n",
       " 'Protein processing in endoplasmic reticulum ',\n",
       " \"Huntington's disease \",\n",
       " 'Epstein-Barr virus infection ',\n",
       " 'Oxidative phosphorylation ',\n",
       " 'Phagosome ',\n",
       " 'Glycolysis / Gluconeogenesis ',\n",
       " 'Spliceosome ']"
      ]
     },
     "execution_count": 62,
     "metadata": {
      "tags": []
     },
     "output_type": "execute_result"
    }
   ],
   "source": [
    "## make a list with the top 10 genes types\n",
    "## since our annotations_counts table was sorted by the number of genes\n",
    "## we just have to select the first 10 rows to get our answer\n",
    "top10=list(annotation_counts.index[0:10])\n",
    "top10"
   ]
  },
  {
   "cell_type": "markdown",
   "metadata": {
    "id": "EHypFShAO3p3"
   },
   "source": [
    "## Skill check\n",
    "Find how many photosynthesis genes there are, then add the name 'Photosynthesis ' to the top10 list"
   ]
  },
  {
   "cell_type": "code",
   "execution_count": null,
   "metadata": {
    "id": "Yw7oq2XiO_Nh"
   },
   "outputs": [],
   "source": [
    "#### your code\n",
    "\n"
   ]
  },
  {
   "cell_type": "markdown",
   "metadata": {
    "id": "z9tn80Y6PDVU"
   },
   "source": [
    "### Answer"
   ]
  },
  {
   "cell_type": "code",
   "execution_count": null,
   "metadata": {
    "colab": {
     "base_uri": "https://localhost:8080/"
    },
    "executionInfo": {
     "elapsed": 7416,
     "status": "ok",
     "timestamp": 1599837625787,
     "user": {
      "displayName": "Maria Hernandez Limon",
      "photoUrl": "https://lh3.googleusercontent.com/a-/AOh14Ghd3PTHlBML4DLlupZiaArIJ8xYakaUbI3sK1QW=s64",
      "userId": "15768601250316805169"
     },
     "user_tz": 300
    },
    "id": "WRh_odHi753v",
    "outputId": "412f1063-c211-433a-a532-bfc9b8ae607d"
   },
   "outputs": [
    {
     "name": "stdout",
     "output_type": "stream",
     "text": [
      "['Ribosome ', 'Carbon metabolism ', 'Biosynthesis of amino acids ', 'Protein processing in endoplasmic reticulum ', \"Huntington's disease \", 'Epstein-Barr virus infection ', 'Oxidative phosphorylation ', 'Phagosome ', 'Glycolysis / Gluconeogenesis ', 'Spliceosome ', 'Photosynthesis', 'Photosynthesis ']\n"
     ]
    }
   ],
   "source": [
    "# let's add photosynthesis because we really care about it\n",
    "top10.append('Photosynthesis ')\n",
    "print (top10)"
   ]
  },
  {
   "cell_type": "code",
   "execution_count": null,
   "metadata": {
    "colab": {
     "base_uri": "https://localhost:8080/"
    },
    "executionInfo": {
     "elapsed": 7423,
     "status": "ok",
     "timestamp": 1599837625787,
     "user": {
      "displayName": "Maria Hernandez Limon",
      "photoUrl": "https://lh3.googleusercontent.com/a-/AOh14Ghd3PTHlBML4DLlupZiaArIJ8xYakaUbI3sK1QW=s64",
      "userId": "15768601250316805169"
     },
     "user_tz": 300
    },
    "id": "wHKOtDxL4d1H",
    "outputId": "41534a26-e163-4e70-e936-96f60e2712c6"
   },
   "outputs": [
    {
     "data": {
      "text/plain": [
       "KEGG_clean\n",
       "Photosynthesis     71\n",
       "Name: CAMNT, dtype: int64"
      ]
     },
     "execution_count": 64,
     "metadata": {
      "tags": []
     },
     "output_type": "execute_result"
    }
   ],
   "source": [
    "## but we still care about photosynthesis\n",
    "##how many photosythesis genes\n",
    "## we can use indexing to find this value\n",
    "annotation_counts.loc[annotation_counts.index =='Photosynthesis ',]"
   ]
  },
  {
   "cell_type": "markdown",
   "metadata": {
    "id": "sZkINKDqM5xx"
   },
   "source": [
    "Sweet!! we were able to leverage groupby to answer our question!"
   ]
  },
  {
   "cell_type": "markdown",
   "metadata": {
    "id": "uGY7Yb4ANJlI"
   },
   "source": [
    "## 13.2 Introduction to pivot tables"
   ]
  },
  {
   "cell_type": "markdown",
   "metadata": {
    "id": "9lusQAsQ6NGv"
   },
   "source": [
    "## Q2. \n",
    "\n",
    "How many diel genes are there for each of these top 10 gene types?\n",
    "We can use pivot table to answer this."
   ]
  },
  {
   "cell_type": "code",
   "execution_count": null,
   "metadata": {
    "colab": {
     "base_uri": "https://localhost:8080/",
     "height": 306
    },
    "executionInfo": {
     "elapsed": 634,
     "status": "ok",
     "timestamp": 1599838047229,
     "user": {
      "displayName": "Maria Hernandez Limon",
      "photoUrl": "https://lh3.googleusercontent.com/a-/AOh14Ghd3PTHlBML4DLlupZiaArIJ8xYakaUbI3sK1QW=s64",
      "userId": "15768601250316805169"
     },
     "user_tz": 300
    },
    "id": "U9srxm28-CLq",
    "outputId": "3d0966c1-9009-476b-b355-41df8af18c5a"
   },
   "outputs": [
    {
     "data": {
      "text/html": [
       "<div>\n",
       "<style scoped>\n",
       "    .dataframe tbody tr th:only-of-type {\n",
       "        vertical-align: middle;\n",
       "    }\n",
       "\n",
       "    .dataframe tbody tr th {\n",
       "        vertical-align: top;\n",
       "    }\n",
       "\n",
       "    .dataframe thead th {\n",
       "        text-align: right;\n",
       "    }\n",
       "</style>\n",
       "<table border=\"1\" class=\"dataframe\">\n",
       "  <thead>\n",
       "    <tr style=\"text-align: right;\">\n",
       "      <th></th>\n",
       "      <th>CAMNT</th>\n",
       "      <th>WGCNA_Module_Num</th>\n",
       "      <th>RAIN_diel_Results</th>\n",
       "      <th>KEGG_Annotations</th>\n",
       "      <th>KEGG_clean</th>\n",
       "      <th>KEGG_clean1</th>\n",
       "    </tr>\n",
       "  </thead>\n",
       "  <tbody>\n",
       "    <tr>\n",
       "      <th>0</th>\n",
       "      <td>CAMNT_0024302971</td>\n",
       "      <td>7</td>\n",
       "      <td>False</td>\n",
       "      <td>00910 Nitrogen metabolism [PATH:ko00910]</td>\n",
       "      <td>Nitrogen metabolism</td>\n",
       "      <td>Nitrogen metabolism [PATH:ko00910]</td>\n",
       "    </tr>\n",
       "    <tr>\n",
       "      <th>1</th>\n",
       "      <td>CAMNT_0024014877</td>\n",
       "      <td>4</td>\n",
       "      <td>False</td>\n",
       "      <td>00030 Pentose phosphate pathway [PATH:ko00030]</td>\n",
       "      <td>Pentose phosphate pathway</td>\n",
       "      <td>Pentose phosphate pathway [PATH:ko00030]</td>\n",
       "    </tr>\n",
       "    <tr>\n",
       "      <th>2</th>\n",
       "      <td>CAMNT_0024014645</td>\n",
       "      <td>9</td>\n",
       "      <td>True</td>\n",
       "      <td>00190 Oxidative phosphorylation [PATH:ko00190]</td>\n",
       "      <td>Oxidative phosphorylation</td>\n",
       "      <td>Oxidative phosphorylation [PATH:ko00190]</td>\n",
       "    </tr>\n",
       "    <tr>\n",
       "      <th>3</th>\n",
       "      <td>CAMNT_0023937169</td>\n",
       "      <td>9</td>\n",
       "      <td>True</td>\n",
       "      <td>00190 Oxidative phosphorylation [PATH:ko00190]</td>\n",
       "      <td>Oxidative phosphorylation</td>\n",
       "      <td>Oxidative phosphorylation [PATH:ko00190]</td>\n",
       "    </tr>\n",
       "    <tr>\n",
       "      <th>4</th>\n",
       "      <td>CAMNT_0024335527</td>\n",
       "      <td>9</td>\n",
       "      <td>True</td>\n",
       "      <td>00190 Oxidative phosphorylation [PATH:ko00190]</td>\n",
       "      <td>Oxidative phosphorylation</td>\n",
       "      <td>Oxidative phosphorylation [PATH:ko00190]</td>\n",
       "    </tr>\n",
       "  </tbody>\n",
       "</table>\n",
       "</div>"
      ],
      "text/plain": [
       "              CAMNT  ...                               KEGG_clean1\n",
       "0  CAMNT_0024302971  ...        Nitrogen metabolism [PATH:ko00910]\n",
       "1  CAMNT_0024014877  ...  Pentose phosphate pathway [PATH:ko00030]\n",
       "2  CAMNT_0024014645  ...  Oxidative phosphorylation [PATH:ko00190]\n",
       "3  CAMNT_0023937169  ...  Oxidative phosphorylation [PATH:ko00190]\n",
       "4  CAMNT_0024335527  ...  Oxidative phosphorylation [PATH:ko00190]\n",
       "\n",
       "[5 rows x 6 columns]"
      ]
     },
     "execution_count": 103,
     "metadata": {
      "tags": []
     },
     "output_type": "execute_result"
    }
   ],
   "source": [
    "## let's see that table once again\n",
    "gene_info_clean.head()"
   ]
  },
  {
   "cell_type": "code",
   "execution_count": null,
   "metadata": {
    "colab": {
     "base_uri": "https://localhost:8080/",
     "height": 450
    },
    "executionInfo": {
     "elapsed": 517,
     "status": "ok",
     "timestamp": 1599838049461,
     "user": {
      "displayName": "Maria Hernandez Limon",
      "photoUrl": "https://lh3.googleusercontent.com/a-/AOh14Ghd3PTHlBML4DLlupZiaArIJ8xYakaUbI3sK1QW=s64",
      "userId": "15768601250316805169"
     },
     "user_tz": 300
    },
    "id": "FZU8DE9M6Oca",
    "outputId": "ad108964-5265-4d6d-ac67-12b8d713d453"
   },
   "outputs": [
    {
     "data": {
      "text/html": [
       "<div>\n",
       "<style scoped>\n",
       "    .dataframe tbody tr th:only-of-type {\n",
       "        vertical-align: middle;\n",
       "    }\n",
       "\n",
       "    .dataframe tbody tr th {\n",
       "        vertical-align: top;\n",
       "    }\n",
       "\n",
       "    .dataframe thead th {\n",
       "        text-align: right;\n",
       "    }\n",
       "</style>\n",
       "<table border=\"1\" class=\"dataframe\">\n",
       "  <thead>\n",
       "    <tr style=\"text-align: right;\">\n",
       "      <th>RAIN_diel_Results</th>\n",
       "      <th>False</th>\n",
       "      <th>True</th>\n",
       "    </tr>\n",
       "    <tr>\n",
       "      <th>KEGG_clean</th>\n",
       "      <th></th>\n",
       "      <th></th>\n",
       "    </tr>\n",
       "  </thead>\n",
       "  <tbody>\n",
       "    <tr>\n",
       "      <th>2-Oxocarboxylic acid metabolism</th>\n",
       "      <td>40.0</td>\n",
       "      <td>18.0</td>\n",
       "    </tr>\n",
       "    <tr>\n",
       "      <th>ABC transporters</th>\n",
       "      <td>43.0</td>\n",
       "      <td>4.0</td>\n",
       "    </tr>\n",
       "    <tr>\n",
       "      <th>AMPK signaling pathway</th>\n",
       "      <td>34.0</td>\n",
       "      <td>8.0</td>\n",
       "    </tr>\n",
       "    <tr>\n",
       "      <th>Acute myeloid leukemia</th>\n",
       "      <td>2.0</td>\n",
       "      <td>NaN</td>\n",
       "    </tr>\n",
       "    <tr>\n",
       "      <th>Adherens junction</th>\n",
       "      <td>65.0</td>\n",
       "      <td>20.0</td>\n",
       "    </tr>\n",
       "    <tr>\n",
       "      <th>...</th>\n",
       "      <td>...</td>\n",
       "      <td>...</td>\n",
       "    </tr>\n",
       "    <tr>\n",
       "      <th>beta-Alanine metabolism</th>\n",
       "      <td>4.0</td>\n",
       "      <td>1.0</td>\n",
       "    </tr>\n",
       "    <tr>\n",
       "      <th>cGMP - PKG signaling pathway</th>\n",
       "      <td>49.0</td>\n",
       "      <td>13.0</td>\n",
       "    </tr>\n",
       "    <tr>\n",
       "      <th>mRNA surveillance pathway</th>\n",
       "      <td>39.0</td>\n",
       "      <td>16.0</td>\n",
       "    </tr>\n",
       "    <tr>\n",
       "      <th>mTOR signaling pathway</th>\n",
       "      <td>16.0</td>\n",
       "      <td>2.0</td>\n",
       "    </tr>\n",
       "    <tr>\n",
       "      <th>p53 signaling pathway</th>\n",
       "      <td>21.0</td>\n",
       "      <td>7.0</td>\n",
       "    </tr>\n",
       "  </tbody>\n",
       "</table>\n",
       "<p>290 rows × 2 columns</p>\n",
       "</div>"
      ],
      "text/plain": [
       "RAIN_diel_Results                 False  True \n",
       "KEGG_clean                                    \n",
       "2-Oxocarboxylic acid metabolism    40.0   18.0\n",
       "ABC transporters                   43.0    4.0\n",
       "AMPK signaling pathway             34.0    8.0\n",
       "Acute myeloid leukemia              2.0    NaN\n",
       "Adherens junction                  65.0   20.0\n",
       "...                                 ...    ...\n",
       "beta-Alanine metabolism             4.0    1.0\n",
       "cGMP - PKG signaling pathway       49.0   13.0\n",
       "mRNA surveillance pathway          39.0   16.0\n",
       "mTOR signaling pathway             16.0    2.0\n",
       "p53 signaling pathway              21.0    7.0\n",
       "\n",
       "[290 rows x 2 columns]"
      ]
     },
     "execution_count": 104,
     "metadata": {
      "tags": []
     },
     "output_type": "execute_result"
    }
   ],
   "source": [
    "## let's make a pivot table with the summary\n",
    "## to make a pivot table you need to specify what you want in the index and columns and how you want to aggregare your values\n",
    "## I am telling pivot_table to make me a table where my annotations ('KEGG_clean') are the index, \n",
    "## my columns are the values in RAIN_diel_Results (True or False)\n",
    "## and I want the values to be aggregated by count\n",
    "diel_count_genetype=gene_info_clean.pivot_table(values='CAMNT',index='KEGG_clean',columns='RAIN_diel_Results',aggfunc='count')\n",
    "diel_count_genetype"
   ]
  },
  {
   "cell_type": "code",
   "execution_count": null,
   "metadata": {
    "colab": {
     "base_uri": "https://localhost:8080/",
     "height": 421
    },
    "executionInfo": {
     "elapsed": 642,
     "status": "ok",
     "timestamp": 1599838053429,
     "user": {
      "displayName": "Maria Hernandez Limon",
      "photoUrl": "https://lh3.googleusercontent.com/a-/AOh14Ghd3PTHlBML4DLlupZiaArIJ8xYakaUbI3sK1QW=s64",
      "userId": "15768601250316805169"
     },
     "user_tz": 300
    },
    "id": "y5KTkUN27myG",
    "outputId": "2f6692ef-a9dd-4127-828e-e665b92319aa"
   },
   "outputs": [
    {
     "data": {
      "text/html": [
       "<div>\n",
       "<style scoped>\n",
       "    .dataframe tbody tr th:only-of-type {\n",
       "        vertical-align: middle;\n",
       "    }\n",
       "\n",
       "    .dataframe tbody tr th {\n",
       "        vertical-align: top;\n",
       "    }\n",
       "\n",
       "    .dataframe thead th {\n",
       "        text-align: right;\n",
       "    }\n",
       "</style>\n",
       "<table border=\"1\" class=\"dataframe\">\n",
       "  <thead>\n",
       "    <tr style=\"text-align: right;\">\n",
       "      <th>RAIN_diel_Results</th>\n",
       "      <th>False</th>\n",
       "      <th>True</th>\n",
       "    </tr>\n",
       "    <tr>\n",
       "      <th>KEGG_clean</th>\n",
       "      <th></th>\n",
       "      <th></th>\n",
       "    </tr>\n",
       "  </thead>\n",
       "  <tbody>\n",
       "    <tr>\n",
       "      <th>Biosynthesis of amino acids</th>\n",
       "      <td>191.0</td>\n",
       "      <td>106.0</td>\n",
       "    </tr>\n",
       "    <tr>\n",
       "      <th>Carbon metabolism</th>\n",
       "      <td>157.0</td>\n",
       "      <td>156.0</td>\n",
       "    </tr>\n",
       "    <tr>\n",
       "      <th>Epstein-Barr virus infection</th>\n",
       "      <td>118.0</td>\n",
       "      <td>44.0</td>\n",
       "    </tr>\n",
       "    <tr>\n",
       "      <th>Glycolysis / Gluconeogenesis</th>\n",
       "      <td>83.0</td>\n",
       "      <td>68.0</td>\n",
       "    </tr>\n",
       "    <tr>\n",
       "      <th>Huntington's disease</th>\n",
       "      <td>121.0</td>\n",
       "      <td>42.0</td>\n",
       "    </tr>\n",
       "    <tr>\n",
       "      <th>Oxidative phosphorylation</th>\n",
       "      <td>96.0</td>\n",
       "      <td>64.0</td>\n",
       "    </tr>\n",
       "    <tr>\n",
       "      <th>Phagosome</th>\n",
       "      <td>99.0</td>\n",
       "      <td>56.0</td>\n",
       "    </tr>\n",
       "    <tr>\n",
       "      <th>Photosynthesis</th>\n",
       "      <td>10.0</td>\n",
       "      <td>61.0</td>\n",
       "    </tr>\n",
       "    <tr>\n",
       "      <th>Protein processing in endoplasmic reticulum</th>\n",
       "      <td>139.0</td>\n",
       "      <td>78.0</td>\n",
       "    </tr>\n",
       "    <tr>\n",
       "      <th>Ribosome</th>\n",
       "      <td>353.0</td>\n",
       "      <td>99.0</td>\n",
       "    </tr>\n",
       "    <tr>\n",
       "      <th>Spliceosome</th>\n",
       "      <td>126.0</td>\n",
       "      <td>19.0</td>\n",
       "    </tr>\n",
       "  </tbody>\n",
       "</table>\n",
       "</div>"
      ],
      "text/plain": [
       "RAIN_diel_Results                             False  True \n",
       "KEGG_clean                                                \n",
       "Biosynthesis of amino acids                   191.0  106.0\n",
       "Carbon metabolism                             157.0  156.0\n",
       "Epstein-Barr virus infection                  118.0   44.0\n",
       "Glycolysis / Gluconeogenesis                   83.0   68.0\n",
       "Huntington's disease                          121.0   42.0\n",
       "Oxidative phosphorylation                      96.0   64.0\n",
       "Phagosome                                      99.0   56.0\n",
       "Photosynthesis                                 10.0   61.0\n",
       "Protein processing in endoplasmic reticulum   139.0   78.0\n",
       "Ribosome                                      353.0   99.0\n",
       "Spliceosome                                   126.0   19.0"
      ]
     },
     "execution_count": 105,
     "metadata": {
      "tags": []
     },
     "output_type": "execute_result"
    }
   ],
   "source": [
    "#to select the genes types in our top10 list we can use indexing again\n",
    "diel_count_genetype.loc[diel_count_genetype.index.isin(top10),]"
   ]
  },
  {
   "cell_type": "markdown",
   "metadata": {
    "id": "mJBW9aHRN5RB"
   },
   "source": [
    "## Q3. \n",
    "Do the clusters/modules have the same type of genes in them? Are all the genes in a cluster either diel or not diel?\n",
    "\n",
    "I made clusters for my genes using a program called WGCNA, you don't need to know what it is. The program gathers genes into clusters based on their expression patterns. I want to know if each cluster (called module by the program) has the same kind of genes in it? or if the clusters are a mixed of genes? But I only care about the clusters with a lot of diel genes."
   ]
  },
  {
   "cell_type": "markdown",
   "metadata": {
    "id": "GN1G0zg9PhXv"
   },
   "source": [
    "## Skill check\n",
    "Make a new pivot table called modules_diel that has the counts of the CAMNT. I want 'WGCNA_Module_Num' as the index and on the columns I want 'RAIN_diel_Results'"
   ]
  },
  {
   "cell_type": "code",
   "execution_count": null,
   "metadata": {
    "colab": {
     "base_uri": "https://localhost:8080/",
     "height": 130
    },
    "executionInfo": {
     "elapsed": 7885,
     "status": "error",
     "timestamp": 1599837626285,
     "user": {
      "displayName": "Maria Hernandez Limon",
      "photoUrl": "https://lh3.googleusercontent.com/a-/AOh14Ghd3PTHlBML4DLlupZiaArIJ8xYakaUbI3sK1QW=s64",
      "userId": "15768601250316805169"
     },
     "user_tz": 300
    },
    "id": "pad2uxm2P4op",
    "outputId": "1d5303ea-35d3-449e-bcee-a69bf8c781b8"
   },
   "outputs": [
    {
     "ename": "SyntaxError",
     "evalue": "ignored",
     "output_type": "error",
     "traceback": [
      "\u001b[0;36m  File \u001b[0;32m\"<ipython-input-69-7b1d1419e2d9>\"\u001b[0;36m, line \u001b[0;32m3\u001b[0m\n\u001b[0;31m    modules_diel=\u001b[0m\n\u001b[0m                 ^\u001b[0m\n\u001b[0;31mSyntaxError\u001b[0m\u001b[0;31m:\u001b[0m invalid syntax\n"
     ]
    }
   ],
   "source": [
    "#### your code here\n",
    "\n",
    "modules_diel=\n",
    "\n",
    "\n"
   ]
  },
  {
   "cell_type": "markdown",
   "metadata": {
    "id": "x0fwgVOfP72Q"
   },
   "source": [
    "### Answer"
   ]
  },
  {
   "cell_type": "code",
   "execution_count": 26,
   "metadata": {
    "id": "q5c2jIn4-jyM"
   },
   "outputs": [
    {
     "ename": "KeyError",
     "evalue": "'CAMNT'",
     "output_type": "error",
     "traceback": [
      "\u001b[0;31m---------------------------------------------------------------------------\u001b[0m",
      "\u001b[0;31mKeyError\u001b[0m                                  Traceback (most recent call last)",
      "\u001b[0;32m<ipython-input-26-eab133b87989>\u001b[0m in \u001b[0;36m<module>\u001b[0;34m\u001b[0m\n\u001b[1;32m      1\u001b[0m \u001b[0;31m## which modules have the most diel genes\u001b[0m\u001b[0;34m\u001b[0m\u001b[0;34m\u001b[0m\u001b[0;34m\u001b[0m\u001b[0m\n\u001b[1;32m      2\u001b[0m \u001b[0;31m## make a new pivot tables, this time the index is the WGCNA_modules and my columns is the diel results\u001b[0m\u001b[0;34m\u001b[0m\u001b[0;34m\u001b[0m\u001b[0;34m\u001b[0m\u001b[0m\n\u001b[0;32m----> 3\u001b[0;31m \u001b[0mmodules_diel\u001b[0m\u001b[0;34m=\u001b[0m\u001b[0mgene_info_clean\u001b[0m\u001b[0;34m.\u001b[0m\u001b[0mpivot_table\u001b[0m\u001b[0;34m(\u001b[0m\u001b[0mvalues\u001b[0m\u001b[0;34m=\u001b[0m\u001b[0;34m'CAMNT'\u001b[0m\u001b[0;34m,\u001b[0m\u001b[0mindex\u001b[0m\u001b[0;34m=\u001b[0m\u001b[0;34m'WGCNA_Module_Num'\u001b[0m\u001b[0;34m,\u001b[0m\u001b[0mcolumns\u001b[0m\u001b[0;34m=\u001b[0m\u001b[0;34m[\u001b[0m\u001b[0;34m'RAIN_diel_Results'\u001b[0m\u001b[0;34m]\u001b[0m\u001b[0;34m,\u001b[0m\u001b[0maggfunc\u001b[0m\u001b[0;34m=\u001b[0m\u001b[0;34m'count'\u001b[0m\u001b[0;34m)\u001b[0m\u001b[0;34m\u001b[0m\u001b[0;34m\u001b[0m\u001b[0m\n\u001b[0m\u001b[1;32m      4\u001b[0m \u001b[0mmodules_diel\u001b[0m\u001b[0;34m\u001b[0m\u001b[0;34m\u001b[0m\u001b[0m\n",
      "\u001b[0;32m~/opt/anaconda3/lib/python3.8/site-packages/pandas/core/frame.py\u001b[0m in \u001b[0;36mpivot_table\u001b[0;34m(self, values, index, columns, aggfunc, fill_value, margins, dropna, margins_name, observed)\u001b[0m\n\u001b[1;32m   7029\u001b[0m         \u001b[0;32mfrom\u001b[0m \u001b[0mpandas\u001b[0m\u001b[0;34m.\u001b[0m\u001b[0mcore\u001b[0m\u001b[0;34m.\u001b[0m\u001b[0mreshape\u001b[0m\u001b[0;34m.\u001b[0m\u001b[0mpivot\u001b[0m \u001b[0;32mimport\u001b[0m \u001b[0mpivot_table\u001b[0m\u001b[0;34m\u001b[0m\u001b[0;34m\u001b[0m\u001b[0m\n\u001b[1;32m   7030\u001b[0m \u001b[0;34m\u001b[0m\u001b[0m\n\u001b[0;32m-> 7031\u001b[0;31m         return pivot_table(\n\u001b[0m\u001b[1;32m   7032\u001b[0m             \u001b[0mself\u001b[0m\u001b[0;34m,\u001b[0m\u001b[0;34m\u001b[0m\u001b[0;34m\u001b[0m\u001b[0m\n\u001b[1;32m   7033\u001b[0m             \u001b[0mvalues\u001b[0m\u001b[0;34m=\u001b[0m\u001b[0mvalues\u001b[0m\u001b[0;34m,\u001b[0m\u001b[0;34m\u001b[0m\u001b[0;34m\u001b[0m\u001b[0m\n",
      "\u001b[0;32m~/opt/anaconda3/lib/python3.8/site-packages/pandas/core/reshape/pivot.py\u001b[0m in \u001b[0;36mpivot_table\u001b[0;34m(data, values, index, columns, aggfunc, fill_value, margins, dropna, margins_name, observed)\u001b[0m\n\u001b[1;32m     87\u001b[0m         \u001b[0;32mfor\u001b[0m \u001b[0mi\u001b[0m \u001b[0;32min\u001b[0m \u001b[0mvalues\u001b[0m\u001b[0;34m:\u001b[0m\u001b[0;34m\u001b[0m\u001b[0;34m\u001b[0m\u001b[0m\n\u001b[1;32m     88\u001b[0m             \u001b[0;32mif\u001b[0m \u001b[0mi\u001b[0m \u001b[0;32mnot\u001b[0m \u001b[0;32min\u001b[0m \u001b[0mdata\u001b[0m\u001b[0;34m:\u001b[0m\u001b[0;34m\u001b[0m\u001b[0;34m\u001b[0m\u001b[0m\n\u001b[0;32m---> 89\u001b[0;31m                 \u001b[0;32mraise\u001b[0m \u001b[0mKeyError\u001b[0m\u001b[0;34m(\u001b[0m\u001b[0mi\u001b[0m\u001b[0;34m)\u001b[0m\u001b[0;34m\u001b[0m\u001b[0;34m\u001b[0m\u001b[0m\n\u001b[0m\u001b[1;32m     90\u001b[0m \u001b[0;34m\u001b[0m\u001b[0m\n\u001b[1;32m     91\u001b[0m         \u001b[0mto_filter\u001b[0m \u001b[0;34m=\u001b[0m \u001b[0;34m[\u001b[0m\u001b[0;34m]\u001b[0m\u001b[0;34m\u001b[0m\u001b[0;34m\u001b[0m\u001b[0m\n",
      "\u001b[0;31mKeyError\u001b[0m: 'CAMNT'"
     ]
    }
   ],
   "source": [
    "## which modules have the most diel genes \n",
    "## make a new pivot tables, this time the index is the WGCNA_modules and my columns is the diel results\n",
    "modules_diel=gene_info_clean.pivot_table(values='CAMNT',index='WGCNA_Module_Num',columns=['RAIN_diel_Results'],aggfunc='count')\n",
    "modules_diel"
   ]
  },
  {
   "cell_type": "markdown",
   "metadata": {
    "id": "T_qrqygUQK6v"
   },
   "source": [
    "## Continue"
   ]
  },
  {
   "cell_type": "code",
   "execution_count": 27,
   "metadata": {
    "id": "JzQjulDQASab"
   },
   "outputs": [
    {
     "ename": "NameError",
     "evalue": "name 'modules_diel' is not defined",
     "output_type": "error",
     "traceback": [
      "\u001b[0;31m---------------------------------------------------------------------------\u001b[0m",
      "\u001b[0;31mNameError\u001b[0m                                 Traceback (most recent call last)",
      "\u001b[0;32m<ipython-input-27-9d07d38a5bb5>\u001b[0m in \u001b[0;36m<module>\u001b[0;34m\u001b[0m\n\u001b[1;32m      1\u001b[0m \u001b[0;31m## I only care about the modules with a lot of diel genes,\u001b[0m\u001b[0;34m\u001b[0m\u001b[0;34m\u001b[0m\u001b[0;34m\u001b[0m\u001b[0m\n\u001b[1;32m      2\u001b[0m \u001b[0;31m## for this case let's say more than 250 diel is of interest to us\u001b[0m\u001b[0;34m\u001b[0m\u001b[0;34m\u001b[0m\u001b[0;34m\u001b[0m\u001b[0m\n\u001b[0;32m----> 3\u001b[0;31m \u001b[0mmodules_diel_clean\u001b[0m\u001b[0;34m=\u001b[0m\u001b[0mmodules_diel\u001b[0m\u001b[0;34m.\u001b[0m\u001b[0mloc\u001b[0m\u001b[0;34m[\u001b[0m\u001b[0mmodules_diel\u001b[0m\u001b[0;34m[\u001b[0m\u001b[0;32mTrue\u001b[0m\u001b[0;34m]\u001b[0m\u001b[0;34m>\u001b[0m\u001b[0;36m250\u001b[0m\u001b[0;34m,\u001b[0m\u001b[0;34m]\u001b[0m\u001b[0;34m\u001b[0m\u001b[0;34m\u001b[0m\u001b[0m\n\u001b[0m\u001b[1;32m      4\u001b[0m \u001b[0mmodules_diel_clean\u001b[0m\u001b[0;34m\u001b[0m\u001b[0;34m\u001b[0m\u001b[0m\n",
      "\u001b[0;31mNameError\u001b[0m: name 'modules_diel' is not defined"
     ]
    }
   ],
   "source": [
    "## I only care about the modules with a lot of diel genes,\n",
    "## for this case let's say more than 250 diel is of interest to us\n",
    "modules_diel_clean=modules_diel.loc[modules_diel[True]>250,]\n",
    "modules_diel_clean"
   ]
  },
  {
   "cell_type": "markdown",
   "metadata": {
    "id": "Yc5Z6M2VOw9S"
   },
   "source": [
    "okay so there are 5 modules with more than 250 diel==True gens, they also have a lot that are not diel but that's ok"
   ]
  },
  {
   "cell_type": "code",
   "execution_count": null,
   "metadata": {
    "id": "GtyQiNGJAvGH"
   },
   "outputs": [],
   "source": [
    "##What pathways are on these modules and how many are diel\n",
    "\n",
    "##this is a complicated run but really useufl\n",
    "## I am telling pivot table to separate True/False diel, then give me how much of each annotation of each, and tell \n",
    "## me the distribution per module\n",
    "\n",
    "modules_diel_genes=gene_info_clean.loc[((gene_info_clean['WGCNA_Module_Num'].isin(modules_diel_clean.index)) &\n",
    "                                         (gene_info_clean['KEGG_clean'].isin(top10))) ,]\n",
    "modules_diel_genes.pivot_table(values='CAMNT',columns='WGCNA_Module_Num',index=['RAIN_diel_Results','KEGG_clean'],aggfunc='count')"
   ]
  },
  {
   "cell_type": "markdown",
   "metadata": {
    "id": "bB9rt5RpPR8Y"
   },
   "source": [
    "My question: I want to know if each cluster (called module by the program) has the same kind of genes in it? or if the clusters are a mixed of genes? what are the bilogical implications?\n",
    "\n",
    "Answer: The clusters have a mixed of gene types in them both in terms of diel type (true or false) and gene annotations (multiple pathways). The biological explanation for this is that cells are doing a little bit of the same processes throughout the day. That is they don't stop and do one process at a time.\n",
    "\n",
    "However there are some processes that see time dependant perhaps because of their requiremnt for light. Based on these observations we can hypothesise that processes like photosynthesis and carbon metabolism are dependent on light because these pathways have more true diel than non diel genes. The majority of these genes are in module 2 which has a peak in the middle of the day. (See WGCNA_clusters.tiff in data folder) These hypotheses conincide with what we know about photosynthesis in plants. \n",
    "\n",
    "The fact that we observe the patterns we expected for photosynthesis and carbon metabolism validates our analysis methods. We can now explore genes whose behavior we don't know and trust what we find. "
   ]
  },
  {
   "cell_type": "markdown",
   "metadata": {
    "id": "kg6Ttcg1U5xl"
   },
   "source": [
    "# 13.3 Combining our skills"
   ]
  },
  {
   "cell_type": "markdown",
   "metadata": {
    "id": "MTSXmUWp50uS"
   },
   "source": [
    "## Q4.\n",
    "\n",
    "Do genes with annotations of interest show periodic patterns? even if we include the False diel? [annotations of interest: 'Photosynthesis', 'Carbon Metabolism']"
   ]
  },
  {
   "cell_type": "code",
   "execution_count": null,
   "metadata": {
    "colab": {
     "base_uri": "https://localhost:8080/",
     "height": 657
    },
    "executionInfo": {
     "elapsed": 633,
     "status": "ok",
     "timestamp": 1599838067835,
     "user": {
      "displayName": "Maria Hernandez Limon",
      "photoUrl": "https://lh3.googleusercontent.com/a-/AOh14Ghd3PTHlBML4DLlupZiaArIJ8xYakaUbI3sK1QW=s64",
      "userId": "15768601250316805169"
     },
     "user_tz": 300
    },
    "id": "7h0j-RpdQb1-",
    "outputId": "70b4cfb3-2681-47ce-a2b7-7cbfba3d976a"
   },
   "outputs": [
    {
     "name": "stdout",
     "output_type": "stream",
     "text": [
      "                 CAMNT  ...                         KEGG_clean1\n",
      "0     CAMNT_0024302971  ...  Nitrogen metabolism [PATH:ko00910]\n",
      "294   CAMNT_0041672563  ...  Nitrogen metabolism [PATH:ko00910]\n",
      "295   CAMNT_0041652847  ...  Nitrogen metabolism [PATH:ko00910]\n",
      "296   CAMNT_0041714545  ...  Nitrogen metabolism [PATH:ko00910]\n",
      "1242  CAMNT_0041766699  ...  Nitrogen metabolism [PATH:ko00910]\n",
      "...                ...  ...                                 ...\n",
      "4525  CAMNT_0041672429  ...  Nitrogen metabolism [PATH:ko00910]\n",
      "4526  CAMNT_0041713339  ...  Nitrogen metabolism [PATH:ko00910]\n",
      "4527  CAMNT_0041714151  ...  Nitrogen metabolism [PATH:ko00910]\n",
      "4528  CAMNT_0041792197  ...  Nitrogen metabolism [PATH:ko00910]\n",
      "4529  CAMNT_0041886015  ...  Nitrogen metabolism [PATH:ko00910]\n",
      "\n",
      "[124 rows x 6 columns]\n"
     ]
    },
    {
     "data": {
      "text/html": [
       "<div>\n",
       "<style scoped>\n",
       "    .dataframe tbody tr th:only-of-type {\n",
       "        vertical-align: middle;\n",
       "    }\n",
       "\n",
       "    .dataframe tbody tr th {\n",
       "        vertical-align: top;\n",
       "    }\n",
       "\n",
       "    .dataframe thead th {\n",
       "        text-align: right;\n",
       "    }\n",
       "</style>\n",
       "<table border=\"1\" class=\"dataframe\">\n",
       "  <thead>\n",
       "    <tr style=\"text-align: right;\">\n",
       "      <th></th>\n",
       "      <th>CAMNT</th>\n",
       "      <th>0</th>\n",
       "      <th>4</th>\n",
       "      <th>8</th>\n",
       "      <th>12</th>\n",
       "      <th>16</th>\n",
       "      <th>20</th>\n",
       "      <th>24</th>\n",
       "      <th>28</th>\n",
       "      <th>32</th>\n",
       "      <th>36</th>\n",
       "      <th>40</th>\n",
       "      <th>44</th>\n",
       "      <th>48</th>\n",
       "      <th>52</th>\n",
       "      <th>56</th>\n",
       "      <th>60</th>\n",
       "      <th>68</th>\n",
       "      <th>72</th>\n",
       "      <th>76</th>\n",
       "      <th>80</th>\n",
       "    </tr>\n",
       "  </thead>\n",
       "  <tbody>\n",
       "    <tr>\n",
       "      <th>113</th>\n",
       "      <td>CAMNT_0023937163</td>\n",
       "      <td>52</td>\n",
       "      <td>37</td>\n",
       "      <td>20</td>\n",
       "      <td>38</td>\n",
       "      <td>51</td>\n",
       "      <td>62</td>\n",
       "      <td>23</td>\n",
       "      <td>36</td>\n",
       "      <td>33</td>\n",
       "      <td>29</td>\n",
       "      <td>51</td>\n",
       "      <td>35</td>\n",
       "      <td>22</td>\n",
       "      <td>36</td>\n",
       "      <td>21</td>\n",
       "      <td>51</td>\n",
       "      <td>32</td>\n",
       "      <td>31</td>\n",
       "      <td>30</td>\n",
       "      <td>17</td>\n",
       "    </tr>\n",
       "    <tr>\n",
       "      <th>136</th>\n",
       "      <td>CAMNT_0023937581</td>\n",
       "      <td>47</td>\n",
       "      <td>38</td>\n",
       "      <td>23</td>\n",
       "      <td>30</td>\n",
       "      <td>27</td>\n",
       "      <td>9</td>\n",
       "      <td>16</td>\n",
       "      <td>17</td>\n",
       "      <td>24</td>\n",
       "      <td>22</td>\n",
       "      <td>27</td>\n",
       "      <td>19</td>\n",
       "      <td>20</td>\n",
       "      <td>21</td>\n",
       "      <td>27</td>\n",
       "      <td>27</td>\n",
       "      <td>14</td>\n",
       "      <td>26</td>\n",
       "      <td>23</td>\n",
       "      <td>14</td>\n",
       "    </tr>\n",
       "    <tr>\n",
       "      <th>210</th>\n",
       "      <td>CAMNT_0023939041</td>\n",
       "      <td>32</td>\n",
       "      <td>59</td>\n",
       "      <td>38</td>\n",
       "      <td>28</td>\n",
       "      <td>31</td>\n",
       "      <td>36</td>\n",
       "      <td>35</td>\n",
       "      <td>69</td>\n",
       "      <td>16</td>\n",
       "      <td>49</td>\n",
       "      <td>31</td>\n",
       "      <td>54</td>\n",
       "      <td>29</td>\n",
       "      <td>26</td>\n",
       "      <td>31</td>\n",
       "      <td>31</td>\n",
       "      <td>44</td>\n",
       "      <td>44</td>\n",
       "      <td>31</td>\n",
       "      <td>11</td>\n",
       "    </tr>\n",
       "    <tr>\n",
       "      <th>260</th>\n",
       "      <td>CAMNT_0023940979</td>\n",
       "      <td>115</td>\n",
       "      <td>275</td>\n",
       "      <td>107</td>\n",
       "      <td>117</td>\n",
       "      <td>76</td>\n",
       "      <td>118</td>\n",
       "      <td>146</td>\n",
       "      <td>175</td>\n",
       "      <td>46</td>\n",
       "      <td>131</td>\n",
       "      <td>76</td>\n",
       "      <td>101</td>\n",
       "      <td>122</td>\n",
       "      <td>110</td>\n",
       "      <td>102</td>\n",
       "      <td>76</td>\n",
       "      <td>133</td>\n",
       "      <td>120</td>\n",
       "      <td>71</td>\n",
       "      <td>76</td>\n",
       "    </tr>\n",
       "    <tr>\n",
       "      <th>309</th>\n",
       "      <td>CAMNT_0023943767</td>\n",
       "      <td>94</td>\n",
       "      <td>98</td>\n",
       "      <td>45</td>\n",
       "      <td>63</td>\n",
       "      <td>69</td>\n",
       "      <td>73</td>\n",
       "      <td>31</td>\n",
       "      <td>76</td>\n",
       "      <td>52</td>\n",
       "      <td>70</td>\n",
       "      <td>69</td>\n",
       "      <td>103</td>\n",
       "      <td>74</td>\n",
       "      <td>74</td>\n",
       "      <td>89</td>\n",
       "      <td>69</td>\n",
       "      <td>67</td>\n",
       "      <td>65</td>\n",
       "      <td>56</td>\n",
       "      <td>46</td>\n",
       "    </tr>\n",
       "    <tr>\n",
       "      <th>...</th>\n",
       "      <td>...</td>\n",
       "      <td>...</td>\n",
       "      <td>...</td>\n",
       "      <td>...</td>\n",
       "      <td>...</td>\n",
       "      <td>...</td>\n",
       "      <td>...</td>\n",
       "      <td>...</td>\n",
       "      <td>...</td>\n",
       "      <td>...</td>\n",
       "      <td>...</td>\n",
       "      <td>...</td>\n",
       "      <td>...</td>\n",
       "      <td>...</td>\n",
       "      <td>...</td>\n",
       "      <td>...</td>\n",
       "      <td>...</td>\n",
       "      <td>...</td>\n",
       "      <td>...</td>\n",
       "      <td>...</td>\n",
       "      <td>...</td>\n",
       "    </tr>\n",
       "    <tr>\n",
       "      <th>8722</th>\n",
       "      <td>CAMNT_0041857789</td>\n",
       "      <td>141</td>\n",
       "      <td>259</td>\n",
       "      <td>102</td>\n",
       "      <td>110</td>\n",
       "      <td>84</td>\n",
       "      <td>114</td>\n",
       "      <td>128</td>\n",
       "      <td>185</td>\n",
       "      <td>49</td>\n",
       "      <td>112</td>\n",
       "      <td>84</td>\n",
       "      <td>107</td>\n",
       "      <td>77</td>\n",
       "      <td>114</td>\n",
       "      <td>104</td>\n",
       "      <td>84</td>\n",
       "      <td>128</td>\n",
       "      <td>116</td>\n",
       "      <td>70</td>\n",
       "      <td>62</td>\n",
       "    </tr>\n",
       "    <tr>\n",
       "      <th>8778</th>\n",
       "      <td>CAMNT_0041860069</td>\n",
       "      <td>117</td>\n",
       "      <td>140</td>\n",
       "      <td>99</td>\n",
       "      <td>134</td>\n",
       "      <td>115</td>\n",
       "      <td>180</td>\n",
       "      <td>98</td>\n",
       "      <td>122</td>\n",
       "      <td>71</td>\n",
       "      <td>87</td>\n",
       "      <td>115</td>\n",
       "      <td>135</td>\n",
       "      <td>101</td>\n",
       "      <td>91</td>\n",
       "      <td>105</td>\n",
       "      <td>115</td>\n",
       "      <td>116</td>\n",
       "      <td>101</td>\n",
       "      <td>97</td>\n",
       "      <td>74</td>\n",
       "    </tr>\n",
       "    <tr>\n",
       "      <th>8914</th>\n",
       "      <td>CAMNT_0041884157</td>\n",
       "      <td>42</td>\n",
       "      <td>79</td>\n",
       "      <td>37</td>\n",
       "      <td>32</td>\n",
       "      <td>20</td>\n",
       "      <td>40</td>\n",
       "      <td>27</td>\n",
       "      <td>33</td>\n",
       "      <td>14</td>\n",
       "      <td>28</td>\n",
       "      <td>20</td>\n",
       "      <td>21</td>\n",
       "      <td>18</td>\n",
       "      <td>21</td>\n",
       "      <td>24</td>\n",
       "      <td>20</td>\n",
       "      <td>27</td>\n",
       "      <td>30</td>\n",
       "      <td>18</td>\n",
       "      <td>13</td>\n",
       "    </tr>\n",
       "    <tr>\n",
       "      <th>9005</th>\n",
       "      <td>CAMNT_0041885089</td>\n",
       "      <td>47</td>\n",
       "      <td>36</td>\n",
       "      <td>25</td>\n",
       "      <td>36</td>\n",
       "      <td>21</td>\n",
       "      <td>14</td>\n",
       "      <td>17</td>\n",
       "      <td>35</td>\n",
       "      <td>17</td>\n",
       "      <td>15</td>\n",
       "      <td>21</td>\n",
       "      <td>12</td>\n",
       "      <td>27</td>\n",
       "      <td>28</td>\n",
       "      <td>24</td>\n",
       "      <td>21</td>\n",
       "      <td>15</td>\n",
       "      <td>19</td>\n",
       "      <td>20</td>\n",
       "      <td>14</td>\n",
       "    </tr>\n",
       "    <tr>\n",
       "      <th>9055</th>\n",
       "      <td>CAMNT_0041886015</td>\n",
       "      <td>24</td>\n",
       "      <td>24</td>\n",
       "      <td>10</td>\n",
       "      <td>28</td>\n",
       "      <td>27</td>\n",
       "      <td>19</td>\n",
       "      <td>22</td>\n",
       "      <td>28</td>\n",
       "      <td>2</td>\n",
       "      <td>16</td>\n",
       "      <td>27</td>\n",
       "      <td>21</td>\n",
       "      <td>17</td>\n",
       "      <td>20</td>\n",
       "      <td>11</td>\n",
       "      <td>27</td>\n",
       "      <td>18</td>\n",
       "      <td>27</td>\n",
       "      <td>5</td>\n",
       "      <td>13</td>\n",
       "    </tr>\n",
       "  </tbody>\n",
       "</table>\n",
       "<p>124 rows × 21 columns</p>\n",
       "</div>"
      ],
      "text/plain": [
       "                 CAMNT    0    4    8   12   16  ...   56   60   68   72  76  80\n",
       "113   CAMNT_0023937163   52   37   20   38   51  ...   21   51   32   31  30  17\n",
       "136   CAMNT_0023937581   47   38   23   30   27  ...   27   27   14   26  23  14\n",
       "210   CAMNT_0023939041   32   59   38   28   31  ...   31   31   44   44  31  11\n",
       "260   CAMNT_0023940979  115  275  107  117   76  ...  102   76  133  120  71  76\n",
       "309   CAMNT_0023943767   94   98   45   63   69  ...   89   69   67   65  56  46\n",
       "...                ...  ...  ...  ...  ...  ...  ...  ...  ...  ...  ...  ..  ..\n",
       "8722  CAMNT_0041857789  141  259  102  110   84  ...  104   84  128  116  70  62\n",
       "8778  CAMNT_0041860069  117  140   99  134  115  ...  105  115  116  101  97  74\n",
       "8914  CAMNT_0041884157   42   79   37   32   20  ...   24   20   27   30  18  13\n",
       "9005  CAMNT_0041885089   47   36   25   36   21  ...   24   21   15   19  20  14\n",
       "9055  CAMNT_0041886015   24   24   10   28   27  ...   11   27   18   27   5  13\n",
       "\n",
       "[124 rows x 21 columns]"
      ]
     },
     "execution_count": 106,
     "metadata": {
      "tags": []
     },
     "output_type": "execute_result"
    }
   ],
   "source": [
    "def get_gene_wanted(some_pathway):\n",
    "  \"\"\"This fucntion makes a plot of the pathway we choose\"\"\"\n",
    "\n",
    "  ### find contigs with these annotations\n",
    "  genes_wanted=gene_info_clean.loc[gene_info_clean['KEGG_clean']==some_pathway,].copy()\n",
    "  print (genes_wanted)\n",
    "\n",
    "  #find the counts for the genes with the annotations we want\n",
    "  counts_wanted=gene_counts.loc[gene_counts['CAMNT'].isin(genes_wanted.CAMNT)].copy()\n",
    "  return (counts_wanted)\n",
    "\n",
    "get_gene_wanted('Nitrogen metabolism ')"
   ]
  },
  {
   "cell_type": "code",
   "execution_count": null,
   "metadata": {
    "colab": {
     "base_uri": "https://localhost:8080/",
     "height": 419
    },
    "executionInfo": {
     "elapsed": 811,
     "status": "ok",
     "timestamp": 1599838071773,
     "user": {
      "displayName": "Maria Hernandez Limon",
      "photoUrl": "https://lh3.googleusercontent.com/a-/AOh14Ghd3PTHlBML4DLlupZiaArIJ8xYakaUbI3sK1QW=s64",
      "userId": "15768601250316805169"
     },
     "user_tz": 300
    },
    "id": "QagqZYb7QpVq",
    "outputId": "df8dc967-1886-4705-fc61-4fb4d531f2fd"
   },
   "outputs": [
    {
     "data": {
      "text/html": [
       "<div>\n",
       "<style scoped>\n",
       "    .dataframe tbody tr th:only-of-type {\n",
       "        vertical-align: middle;\n",
       "    }\n",
       "\n",
       "    .dataframe tbody tr th {\n",
       "        vertical-align: top;\n",
       "    }\n",
       "\n",
       "    .dataframe thead th {\n",
       "        text-align: right;\n",
       "    }\n",
       "</style>\n",
       "<table border=\"1\" class=\"dataframe\">\n",
       "  <thead>\n",
       "    <tr style=\"text-align: right;\">\n",
       "      <th></th>\n",
       "      <th>0</th>\n",
       "      <th>4</th>\n",
       "      <th>8</th>\n",
       "      <th>12</th>\n",
       "      <th>16</th>\n",
       "      <th>20</th>\n",
       "      <th>24</th>\n",
       "      <th>28</th>\n",
       "      <th>32</th>\n",
       "      <th>36</th>\n",
       "      <th>40</th>\n",
       "      <th>44</th>\n",
       "      <th>48</th>\n",
       "      <th>52</th>\n",
       "      <th>56</th>\n",
       "      <th>60</th>\n",
       "      <th>68</th>\n",
       "      <th>72</th>\n",
       "      <th>76</th>\n",
       "      <th>80</th>\n",
       "      <th>pathway</th>\n",
       "    </tr>\n",
       "  </thead>\n",
       "  <tbody>\n",
       "    <tr>\n",
       "      <th>113</th>\n",
       "      <td>52</td>\n",
       "      <td>37</td>\n",
       "      <td>20</td>\n",
       "      <td>38</td>\n",
       "      <td>51</td>\n",
       "      <td>62</td>\n",
       "      <td>23</td>\n",
       "      <td>36</td>\n",
       "      <td>33</td>\n",
       "      <td>29</td>\n",
       "      <td>51</td>\n",
       "      <td>35</td>\n",
       "      <td>22</td>\n",
       "      <td>36</td>\n",
       "      <td>21</td>\n",
       "      <td>51</td>\n",
       "      <td>32</td>\n",
       "      <td>31</td>\n",
       "      <td>30</td>\n",
       "      <td>17</td>\n",
       "      <td>Nitrogen metabolism</td>\n",
       "    </tr>\n",
       "    <tr>\n",
       "      <th>136</th>\n",
       "      <td>47</td>\n",
       "      <td>38</td>\n",
       "      <td>23</td>\n",
       "      <td>30</td>\n",
       "      <td>27</td>\n",
       "      <td>9</td>\n",
       "      <td>16</td>\n",
       "      <td>17</td>\n",
       "      <td>24</td>\n",
       "      <td>22</td>\n",
       "      <td>27</td>\n",
       "      <td>19</td>\n",
       "      <td>20</td>\n",
       "      <td>21</td>\n",
       "      <td>27</td>\n",
       "      <td>27</td>\n",
       "      <td>14</td>\n",
       "      <td>26</td>\n",
       "      <td>23</td>\n",
       "      <td>14</td>\n",
       "      <td>Nitrogen metabolism</td>\n",
       "    </tr>\n",
       "    <tr>\n",
       "      <th>210</th>\n",
       "      <td>32</td>\n",
       "      <td>59</td>\n",
       "      <td>38</td>\n",
       "      <td>28</td>\n",
       "      <td>31</td>\n",
       "      <td>36</td>\n",
       "      <td>35</td>\n",
       "      <td>69</td>\n",
       "      <td>16</td>\n",
       "      <td>49</td>\n",
       "      <td>31</td>\n",
       "      <td>54</td>\n",
       "      <td>29</td>\n",
       "      <td>26</td>\n",
       "      <td>31</td>\n",
       "      <td>31</td>\n",
       "      <td>44</td>\n",
       "      <td>44</td>\n",
       "      <td>31</td>\n",
       "      <td>11</td>\n",
       "      <td>Nitrogen metabolism</td>\n",
       "    </tr>\n",
       "    <tr>\n",
       "      <th>260</th>\n",
       "      <td>115</td>\n",
       "      <td>275</td>\n",
       "      <td>107</td>\n",
       "      <td>117</td>\n",
       "      <td>76</td>\n",
       "      <td>118</td>\n",
       "      <td>146</td>\n",
       "      <td>175</td>\n",
       "      <td>46</td>\n",
       "      <td>131</td>\n",
       "      <td>76</td>\n",
       "      <td>101</td>\n",
       "      <td>122</td>\n",
       "      <td>110</td>\n",
       "      <td>102</td>\n",
       "      <td>76</td>\n",
       "      <td>133</td>\n",
       "      <td>120</td>\n",
       "      <td>71</td>\n",
       "      <td>76</td>\n",
       "      <td>Nitrogen metabolism</td>\n",
       "    </tr>\n",
       "    <tr>\n",
       "      <th>309</th>\n",
       "      <td>94</td>\n",
       "      <td>98</td>\n",
       "      <td>45</td>\n",
       "      <td>63</td>\n",
       "      <td>69</td>\n",
       "      <td>73</td>\n",
       "      <td>31</td>\n",
       "      <td>76</td>\n",
       "      <td>52</td>\n",
       "      <td>70</td>\n",
       "      <td>69</td>\n",
       "      <td>103</td>\n",
       "      <td>74</td>\n",
       "      <td>74</td>\n",
       "      <td>89</td>\n",
       "      <td>69</td>\n",
       "      <td>67</td>\n",
       "      <td>65</td>\n",
       "      <td>56</td>\n",
       "      <td>46</td>\n",
       "      <td>Nitrogen metabolism</td>\n",
       "    </tr>\n",
       "    <tr>\n",
       "      <th>...</th>\n",
       "      <td>...</td>\n",
       "      <td>...</td>\n",
       "      <td>...</td>\n",
       "      <td>...</td>\n",
       "      <td>...</td>\n",
       "      <td>...</td>\n",
       "      <td>...</td>\n",
       "      <td>...</td>\n",
       "      <td>...</td>\n",
       "      <td>...</td>\n",
       "      <td>...</td>\n",
       "      <td>...</td>\n",
       "      <td>...</td>\n",
       "      <td>...</td>\n",
       "      <td>...</td>\n",
       "      <td>...</td>\n",
       "      <td>...</td>\n",
       "      <td>...</td>\n",
       "      <td>...</td>\n",
       "      <td>...</td>\n",
       "      <td>...</td>\n",
       "    </tr>\n",
       "    <tr>\n",
       "      <th>8722</th>\n",
       "      <td>141</td>\n",
       "      <td>259</td>\n",
       "      <td>102</td>\n",
       "      <td>110</td>\n",
       "      <td>84</td>\n",
       "      <td>114</td>\n",
       "      <td>128</td>\n",
       "      <td>185</td>\n",
       "      <td>49</td>\n",
       "      <td>112</td>\n",
       "      <td>84</td>\n",
       "      <td>107</td>\n",
       "      <td>77</td>\n",
       "      <td>114</td>\n",
       "      <td>104</td>\n",
       "      <td>84</td>\n",
       "      <td>128</td>\n",
       "      <td>116</td>\n",
       "      <td>70</td>\n",
       "      <td>62</td>\n",
       "      <td>Nitrogen metabolism</td>\n",
       "    </tr>\n",
       "    <tr>\n",
       "      <th>8778</th>\n",
       "      <td>117</td>\n",
       "      <td>140</td>\n",
       "      <td>99</td>\n",
       "      <td>134</td>\n",
       "      <td>115</td>\n",
       "      <td>180</td>\n",
       "      <td>98</td>\n",
       "      <td>122</td>\n",
       "      <td>71</td>\n",
       "      <td>87</td>\n",
       "      <td>115</td>\n",
       "      <td>135</td>\n",
       "      <td>101</td>\n",
       "      <td>91</td>\n",
       "      <td>105</td>\n",
       "      <td>115</td>\n",
       "      <td>116</td>\n",
       "      <td>101</td>\n",
       "      <td>97</td>\n",
       "      <td>74</td>\n",
       "      <td>Nitrogen metabolism</td>\n",
       "    </tr>\n",
       "    <tr>\n",
       "      <th>8914</th>\n",
       "      <td>42</td>\n",
       "      <td>79</td>\n",
       "      <td>37</td>\n",
       "      <td>32</td>\n",
       "      <td>20</td>\n",
       "      <td>40</td>\n",
       "      <td>27</td>\n",
       "      <td>33</td>\n",
       "      <td>14</td>\n",
       "      <td>28</td>\n",
       "      <td>20</td>\n",
       "      <td>21</td>\n",
       "      <td>18</td>\n",
       "      <td>21</td>\n",
       "      <td>24</td>\n",
       "      <td>20</td>\n",
       "      <td>27</td>\n",
       "      <td>30</td>\n",
       "      <td>18</td>\n",
       "      <td>13</td>\n",
       "      <td>Nitrogen metabolism</td>\n",
       "    </tr>\n",
       "    <tr>\n",
       "      <th>9005</th>\n",
       "      <td>47</td>\n",
       "      <td>36</td>\n",
       "      <td>25</td>\n",
       "      <td>36</td>\n",
       "      <td>21</td>\n",
       "      <td>14</td>\n",
       "      <td>17</td>\n",
       "      <td>35</td>\n",
       "      <td>17</td>\n",
       "      <td>15</td>\n",
       "      <td>21</td>\n",
       "      <td>12</td>\n",
       "      <td>27</td>\n",
       "      <td>28</td>\n",
       "      <td>24</td>\n",
       "      <td>21</td>\n",
       "      <td>15</td>\n",
       "      <td>19</td>\n",
       "      <td>20</td>\n",
       "      <td>14</td>\n",
       "      <td>Nitrogen metabolism</td>\n",
       "    </tr>\n",
       "    <tr>\n",
       "      <th>9055</th>\n",
       "      <td>24</td>\n",
       "      <td>24</td>\n",
       "      <td>10</td>\n",
       "      <td>28</td>\n",
       "      <td>27</td>\n",
       "      <td>19</td>\n",
       "      <td>22</td>\n",
       "      <td>28</td>\n",
       "      <td>2</td>\n",
       "      <td>16</td>\n",
       "      <td>27</td>\n",
       "      <td>21</td>\n",
       "      <td>17</td>\n",
       "      <td>20</td>\n",
       "      <td>11</td>\n",
       "      <td>27</td>\n",
       "      <td>18</td>\n",
       "      <td>27</td>\n",
       "      <td>5</td>\n",
       "      <td>13</td>\n",
       "      <td>Nitrogen metabolism</td>\n",
       "    </tr>\n",
       "  </tbody>\n",
       "</table>\n",
       "<p>124 rows × 21 columns</p>\n",
       "</div>"
      ],
      "text/plain": [
       "        0    4    8   12   16   20  ...   60   68   72  76  80               pathway\n",
       "113    52   37   20   38   51   62  ...   51   32   31  30  17  Nitrogen metabolism \n",
       "136    47   38   23   30   27    9  ...   27   14   26  23  14  Nitrogen metabolism \n",
       "210    32   59   38   28   31   36  ...   31   44   44  31  11  Nitrogen metabolism \n",
       "260   115  275  107  117   76  118  ...   76  133  120  71  76  Nitrogen metabolism \n",
       "309    94   98   45   63   69   73  ...   69   67   65  56  46  Nitrogen metabolism \n",
       "...   ...  ...  ...  ...  ...  ...  ...  ...  ...  ...  ..  ..                   ...\n",
       "8722  141  259  102  110   84  114  ...   84  128  116  70  62  Nitrogen metabolism \n",
       "8778  117  140   99  134  115  180  ...  115  116  101  97  74  Nitrogen metabolism \n",
       "8914   42   79   37   32   20   40  ...   20   27   30  18  13  Nitrogen metabolism \n",
       "9005   47   36   25   36   21   14  ...   21   15   19  20  14  Nitrogen metabolism \n",
       "9055   24   24   10   28   27   19  ...   27   18   27   5  13  Nitrogen metabolism \n",
       "\n",
       "[124 rows x 21 columns]"
      ]
     },
     "execution_count": 107,
     "metadata": {
      "tags": []
     },
     "output_type": "execute_result"
    }
   ],
   "source": [
    "def get_gene_wanted(some_pathway):\n",
    "  \"\"\"This fucntion makes a plot of the pathway we choose\"\"\"\n",
    "\n",
    "  ### find contigs with these annotations\n",
    "  genes_wanted=gene_info_clean.loc[gene_info_clean['KEGG_clean']==some_pathway,].copy()\n",
    "\n",
    "  #find the counts for the genes with the annotations we want\n",
    "  counts_wanted=gene_counts.loc[gene_counts['CAMNT'].isin(genes_wanted.CAMNT)].copy()\n",
    "\n",
    "  #add a column to our table\n",
    "  counts_wanted['pathway']=some_pathway\n",
    "  del counts_wanted['CAMNT']\n",
    "\n",
    "  return counts_wanted\n",
    "\n",
    "get_gene_wanted('Nitrogen metabolism ')"
   ]
  },
  {
   "cell_type": "code",
   "execution_count": null,
   "metadata": {
    "colab": {
     "base_uri": "https://localhost:8080/",
     "height": 148
    },
    "executionInfo": {
     "elapsed": 507,
     "status": "ok",
     "timestamp": 1599838075569,
     "user": {
      "displayName": "Maria Hernandez Limon",
      "photoUrl": "https://lh3.googleusercontent.com/a-/AOh14Ghd3PTHlBML4DLlupZiaArIJ8xYakaUbI3sK1QW=s64",
      "userId": "15768601250316805169"
     },
     "user_tz": 300
    },
    "id": "hKsNnBjWW3z-",
    "outputId": "a9d59c75-b604-4f17-fd90-b52d29110533"
   },
   "outputs": [
    {
     "data": {
      "text/html": [
       "<div>\n",
       "<style scoped>\n",
       "    .dataframe tbody tr th:only-of-type {\n",
       "        vertical-align: middle;\n",
       "    }\n",
       "\n",
       "    .dataframe tbody tr th {\n",
       "        vertical-align: top;\n",
       "    }\n",
       "\n",
       "    .dataframe thead th {\n",
       "        text-align: right;\n",
       "    }\n",
       "</style>\n",
       "<table border=\"1\" class=\"dataframe\">\n",
       "  <thead>\n",
       "    <tr style=\"text-align: right;\">\n",
       "      <th></th>\n",
       "      <th>0</th>\n",
       "      <th>4</th>\n",
       "      <th>8</th>\n",
       "      <th>12</th>\n",
       "      <th>16</th>\n",
       "      <th>20</th>\n",
       "      <th>24</th>\n",
       "      <th>28</th>\n",
       "      <th>32</th>\n",
       "      <th>36</th>\n",
       "      <th>40</th>\n",
       "      <th>44</th>\n",
       "      <th>48</th>\n",
       "      <th>52</th>\n",
       "      <th>56</th>\n",
       "      <th>60</th>\n",
       "      <th>68</th>\n",
       "      <th>72</th>\n",
       "      <th>76</th>\n",
       "      <th>80</th>\n",
       "    </tr>\n",
       "    <tr>\n",
       "      <th>pathway</th>\n",
       "      <th></th>\n",
       "      <th></th>\n",
       "      <th></th>\n",
       "      <th></th>\n",
       "      <th></th>\n",
       "      <th></th>\n",
       "      <th></th>\n",
       "      <th></th>\n",
       "      <th></th>\n",
       "      <th></th>\n",
       "      <th></th>\n",
       "      <th></th>\n",
       "      <th></th>\n",
       "      <th></th>\n",
       "      <th></th>\n",
       "      <th></th>\n",
       "      <th></th>\n",
       "      <th></th>\n",
       "      <th></th>\n",
       "      <th></th>\n",
       "    </tr>\n",
       "  </thead>\n",
       "  <tbody>\n",
       "    <tr>\n",
       "      <th>Nitrogen metabolism</th>\n",
       "      <td>70.41129</td>\n",
       "      <td>101.604839</td>\n",
       "      <td>47.16129</td>\n",
       "      <td>53.419355</td>\n",
       "      <td>49.193548</td>\n",
       "      <td>63.475806</td>\n",
       "      <td>52.830645</td>\n",
       "      <td>78.451613</td>\n",
       "      <td>28.185484</td>\n",
       "      <td>54.225806</td>\n",
       "      <td>49.193548</td>\n",
       "      <td>70.491935</td>\n",
       "      <td>46.967742</td>\n",
       "      <td>48.620968</td>\n",
       "      <td>47.032258</td>\n",
       "      <td>49.193548</td>\n",
       "      <td>62.048387</td>\n",
       "      <td>59.564516</td>\n",
       "      <td>41.362903</td>\n",
       "      <td>27.693548</td>\n",
       "    </tr>\n",
       "  </tbody>\n",
       "</table>\n",
       "</div>"
      ],
      "text/plain": [
       "                            0           4   ...         76         80\n",
       "pathway                                     ...                      \n",
       "Nitrogen metabolism   70.41129  101.604839  ...  41.362903  27.693548\n",
       "\n",
       "[1 rows x 20 columns]"
      ]
     },
     "execution_count": 108,
     "metadata": {
      "tags": []
     },
     "output_type": "execute_result"
    }
   ],
   "source": [
    "def get_gene_wanted(some_pathway):\n",
    "  \"\"\"This fucntion makes a plot of the pathway we choose\"\"\"\n",
    "\n",
    "  ### find contigs with these annotations\n",
    "  genes_wanted=gene_info_clean.loc[gene_info_clean['KEGG_clean']==some_pathway,].copy()\n",
    "\n",
    "  #find the counts for the genes with the annotations we want\n",
    "  counts_wanted=gene_counts.loc[gene_counts['CAMNT'].isin(genes_wanted.CAMNT)].copy()\n",
    "\n",
    "  #add a column to our table\n",
    "  counts_wanted['pathway']=some_pathway\n",
    "  del counts_wanted['CAMNT']\n",
    "\n",
    "  mean=counts_wanted.groupby('pathway').mean()\n",
    "  return mean\n",
    "\n",
    "get_gene_wanted('Nitrogen metabolism ')"
   ]
  },
  {
   "cell_type": "markdown",
   "metadata": {
    "id": "gGjKoHwCIoHc"
   },
   "source": [
    "Let's flip this to make it easier to plot and make a quick plot"
   ]
  },
  {
   "cell_type": "code",
   "execution_count": null,
   "metadata": {
    "colab": {
     "base_uri": "https://localhost:8080/",
     "height": 282
    },
    "executionInfo": {
     "elapsed": 1058,
     "status": "ok",
     "timestamp": 1599838079171,
     "user": {
      "displayName": "Maria Hernandez Limon",
      "photoUrl": "https://lh3.googleusercontent.com/a-/AOh14Ghd3PTHlBML4DLlupZiaArIJ8xYakaUbI3sK1QW=s64",
      "userId": "15768601250316805169"
     },
     "user_tz": 300
    },
    "id": "SJa_B5y5IRZi",
    "outputId": "cbbcfd69-0145-481d-9efb-35d0375ea303"
   },
   "outputs": [
    {
     "data": {
      "text/plain": [
       "<matplotlib.axes._subplots.AxesSubplot at 0x7fd1b19b74e0>"
      ]
     },
     "execution_count": 109,
     "metadata": {
      "tags": []
     },
     "output_type": "execute_result"
    },
    {
     "data": {
      "image/png": "[encoded data removed]",
      "text/plain": [
       "<Figure size 432x288 with 1 Axes>"
      ]
     },
     "metadata": {
      "needs_background": "light",
      "tags": []
     },
     "output_type": "display_data"
    }
   ],
   "source": [
    "def get_gene_wanted(some_pathway):\n",
    "  \"\"\"This fucntion makes a plot of the pathway we choose\"\"\"\n",
    "\n",
    "  ### find contigs with these annotations\n",
    "  genes_wanted=gene_info_clean.loc[gene_info_clean['KEGG_clean']==some_pathway,].copy()\n",
    "\n",
    "  #find the counts for the genes with the annotations we want\n",
    "  counts_wanted=gene_counts.loc[gene_counts['CAMNT'].isin(genes_wanted.CAMNT)].copy()\n",
    "\n",
    "  #add a column to our table\n",
    "  counts_wanted['pathway']=some_pathway\n",
    "  del counts_wanted['CAMNT']\n",
    "\n",
    "  mean=counts_wanted.groupby('pathway').mean().transpose()\n",
    "  return mean.plot()\n",
    "\n",
    "  plt.close()\n",
    "\n",
    "get_gene_wanted('Nitrogen metabolism ')"
   ]
  },
  {
   "cell_type": "markdown",
   "metadata": {
    "id": "EkyP_qC38fXu"
   },
   "source": [
    "But we need to add an option to see the diel"
   ]
  },
  {
   "cell_type": "code",
   "execution_count": null,
   "metadata": {
    "colab": {
     "base_uri": "https://localhost:8080/",
     "height": 282
    },
    "executionInfo": {
     "elapsed": 896,
     "status": "ok",
     "timestamp": 1599838082298,
     "user": {
      "displayName": "Maria Hernandez Limon",
      "photoUrl": "https://lh3.googleusercontent.com/a-/AOh14Ghd3PTHlBML4DLlupZiaArIJ8xYakaUbI3sK1QW=s64",
      "userId": "15768601250316805169"
     },
     "user_tz": 300
    },
    "id": "LgJ6zsAc0Oa0",
    "outputId": "d418bc8d-eed9-4fb5-d7c9-1c5827b11e2e"
   },
   "outputs": [
    {
     "data": {
      "text/plain": [
       "<matplotlib.axes._subplots.AxesSubplot at 0x7fd1b19409e8>"
      ]
     },
     "execution_count": 110,
     "metadata": {
      "tags": []
     },
     "output_type": "execute_result"
    },
    {
     "data": {
      "image/png": "[encoded data removed]",
      "text/plain": [
       "<Figure size 432x288 with 1 Axes>"
      ]
     },
     "metadata": {
      "needs_background": "light",
      "tags": []
     },
     "output_type": "display_data"
    }
   ],
   "source": [
    "def get_gene_wanted(some_pathway, diel):\n",
    "\n",
    "  ### find contigs with these annotations and the diel category wanted\n",
    "\n",
    "  if diel== True:\n",
    "    genes_wanted=gene_info_clean.loc[((gene_info_clean['KEGG_clean']==some_pathway) & (gene_info_clean['RAIN_diel_Results']==True)),].copy()\n",
    "  elif diel == False:\n",
    "    genes_wanted=gene_info_clean.loc[((gene_info_clean['KEGG_clean']==some_pathway) & (gene_info_clean['RAIN_diel_Results']==False)),].copy()\n",
    "  else:\n",
    "    genes_wanted=gene_info_clean.loc[gene_info_clean['KEGG_clean']==some_pathway,].copy()\n",
    "\n",
    "  #find the counts for the genes with the annotations we want\n",
    "  counts_wanted=gene_counts.loc[gene_counts['CAMNT'].isin(genes_wanted.CAMNT)].copy()\n",
    "\n",
    "  #add a column to our table\n",
    "  counts_wanted['pathway']=some_pathway\n",
    "  del counts_wanted['CAMNT']\n",
    "\n",
    "  #groupby the mean\n",
    "  mean=counts_wanted.groupby('pathway').mean().transpose()\n",
    "  return mean.plot()\n",
    "\n",
    "  plt.close()\n",
    "\n",
    "get_gene_wanted('Ribosome ', True)"
   ]
  },
  {
   "cell_type": "markdown",
   "metadata": {
    "id": "oIcebOXEC8sP"
   },
   "source": [
    "let's add some shading so we can tell day and night apart"
   ]
  },
  {
   "cell_type": "code",
   "execution_count": null,
   "metadata": {
    "colab": {
     "base_uri": "https://localhost:8080/",
     "height": 295
    },
    "executionInfo": {
     "elapsed": 1385,
     "status": "ok",
     "timestamp": 1599838346740,
     "user": {
      "displayName": "Maria Hernandez Limon",
      "photoUrl": "https://lh3.googleusercontent.com/a-/AOh14Ghd3PTHlBML4DLlupZiaArIJ8xYakaUbI3sK1QW=s64",
      "userId": "15768601250316805169"
     },
     "user_tz": 300
    },
    "id": "ynAX7LRGC7Gb",
    "outputId": "096361f7-6d86-4d01-fff9-b9dcdbba3765"
   },
   "outputs": [
    {
     "data": {
      "image/png": "[encoded data removed]",
      "text/plain": [
       "<Figure size 432x288 with 1 Axes>"
      ]
     },
     "metadata": {
      "tags": []
     },
     "output_type": "display_data"
    }
   ],
   "source": [
    "def get_gene_wanted(some_pathway, diel):\n",
    "\n",
    "  ### find contigs with these annotations and the diel category wanted\n",
    "\n",
    "  if diel== True:\n",
    "    genes_wanted=gene_info_clean.loc[((gene_info_clean['KEGG_clean']==some_pathway) & (gene_info_clean['RAIN_diel_Results']==True)),].copy()\n",
    "  elif diel == False:\n",
    "    genes_wanted=gene_info_clean.loc[((gene_info_clean['KEGG_clean']==some_pathway) & (gene_info_clean['RAIN_diel_Results']==False)),].copy()\n",
    "  else:\n",
    "    genes_wanted=gene_info_clean.loc[gene_info_clean['KEGG_clean']==some_pathway,].copy()\n",
    "\n",
    "  #find the counts for the genes with the annotations we want\n",
    "  counts_wanted=gene_counts.loc[gene_counts['CAMNT'].isin(genes_wanted.CAMNT)].copy()\n",
    "\n",
    "  #add a column to our table\n",
    "  counts_wanted['pathway']=some_pathway\n",
    "  del counts_wanted['CAMNT']\n",
    "\n",
    "  mean=counts_wanted.groupby('pathway').mean().transpose()\n",
    "  #return mean\n",
    "  \n",
    "  ###make my plot pretty\n",
    "  fig, ax= plt.subplots()\n",
    "  sns.set_style('white')\n",
    "\n",
    "  ax.plot(mean,label=some_pathway)\n",
    "  plt.xlim(0,80)\n",
    "\n",
    "  plt.axvspan(0, 8, alpha=.2, color='grey',zorder=1)\n",
    "  plt.axvspan(21.25, 32, alpha=.2, color='grey',zorder=1)\n",
    "  plt.axvspan(45.25, 56, alpha=.2, color='grey',zorder=1)\n",
    "  plt.axvspan(69.25, 80, alpha=.2, color='grey',zorder=1)\n",
    "\n",
    "  ax.set_title('{} {} genes n={}'.format(diel, some_pathway,counts_wanted.shape[0]))\n",
    "  ax.set_xlabel('Hours sampling')\n",
    "  ax.set_ylabel('Gene counts')\n",
    "  plt.legend()\n",
    "\n",
    "  plt.savefig(data_out_directory+'{}_{}.pdf'.format(some_pathway,diel))\n",
    "  plt.show()\n",
    "  plt.close()\n",
    "\n",
    "get_gene_wanted('Photosynthesis ', 'All')"
   ]
  },
  {
   "cell_type": "markdown",
   "metadata": {
    "id": "wCG0_Dk_J8oy"
   },
   "source": [
    "let's compare photosynthesis true, false and all"
   ]
  },
  {
   "cell_type": "code",
   "execution_count": null,
   "metadata": {
    "colab": {
     "base_uri": "https://localhost:8080/",
     "height": 851
    },
    "executionInfo": {
     "elapsed": 4113,
     "status": "ok",
     "timestamp": 1599838354289,
     "user": {
      "displayName": "Maria Hernandez Limon",
      "photoUrl": "https://lh3.googleusercontent.com/a-/AOh14Ghd3PTHlBML4DLlupZiaArIJ8xYakaUbI3sK1QW=s64",
      "userId": "15768601250316805169"
     },
     "user_tz": 300
    },
    "id": "XUIC4CQgKCaq",
    "outputId": "3b3d7ee3-3739-4c08-e857-95555e4e0b3c"
   },
   "outputs": [
    {
     "data": {
      "image/png": "[encoded data removed]",
      "text/plain": [
       "<Figure size 432x288 with 1 Axes>"
      ]
     },
     "metadata": {
      "tags": []
     },
     "output_type": "display_data"
    },
    {
     "data": {
      "image/png": "[encoded data removed]",
      "text/plain": [
       "<Figure size 432x288 with 1 Axes>"
      ]
     },
     "metadata": {
      "tags": []
     },
     "output_type": "display_data"
    },
    {
     "data": {
      "image/png": "[encoded data removed]",
      "text/plain": [
       "<Figure size 432x288 with 1 Axes>"
      ]
     },
     "metadata": {
      "tags": []
     },
     "output_type": "display_data"
    }
   ],
   "source": [
    "get_gene_wanted('Photosynthesis ', 'All')\n",
    "get_gene_wanted('Photosynthesis ', True)\n",
    "get_gene_wanted('Photosynthesis ', False)"
   ]
  },
  {
   "cell_type": "markdown",
   "metadata": {
    "id": "2UCKv7Q_U__C"
   },
   "source": [
    "As expected photosynthesis related genes show a diel pattern. The majority of the genes 61/71 are diel. When we look at the pattern of all the genes together we see that the diel genes dominate the patterns we see."
   ]
  },
  {
   "cell_type": "markdown",
   "metadata": {
    "id": "pHVaNFatZJiB"
   },
   "source": [
    "Let's check a set of genes we don't know much about and see what we learn"
   ]
  },
  {
   "cell_type": "code",
   "execution_count": null,
   "metadata": {
    "id": "sOzyFGZ9Y-6H"
   },
   "outputs": [],
   "source": [
    "get_gene_wanted('Nitrogen metabolism ', 'All')\n",
    "get_gene_wanted('Nitrogen metabolism ', True)\n",
    "get_gene_wanted('Nitrogen metabolism ', False)"
   ]
  },
  {
   "cell_type": "markdown",
   "metadata": {
    "id": "BztrTnQVVSMm"
   },
   "source": [
    "For genes related to nitrogen metabolism we see that the majority are not diel. This may suggest that given the low concentrations of nitrogen in the North Pacific Sunbtropical Gyre that the cells take up nitrogen whenever they can. "
   ]
  },
  {
   "cell_type": "markdown",
   "metadata": {
    "id": "RnXJXNXZd3Ax"
   },
   "source": [
    "# Homework\n",
    "\n",
    "Can you make a function to print all three lines, (all, true, false) in one plot?"
   ]
  },
  {
   "cell_type": "code",
   "execution_count": null,
   "metadata": {
    "id": "s92cxDOxeFuL"
   },
   "outputs": [],
   "source": [
    "#### your work###\n",
    "###Hint: use the skills you learned from Katie \n",
    "### hint: I already did most of the work for you so use the function I made as a spring board\n",
    "\n",
    "\n",
    "\n",
    "\n"
   ]
  },
  {
   "cell_type": "markdown",
   "metadata": {
    "id": "1Mnya8TEeDFE"
   },
   "source": [
    "### Answer"
   ]
  },
  {
   "cell_type": "code",
   "execution_count": null,
   "metadata": {
    "colab": {
     "base_uri": "https://localhost:8080/",
     "height": 295
    },
    "executionInfo": {
     "elapsed": 934,
     "status": "ok",
     "timestamp": 1599838096135,
     "user": {
      "displayName": "Maria Hernandez Limon",
      "photoUrl": "https://lh3.googleusercontent.com/a-/AOh14Ghd3PTHlBML4DLlupZiaArIJ8xYakaUbI3sK1QW=s64",
      "userId": "15768601250316805169"
     },
     "user_tz": 300
    },
    "id": "w9Zu0pU9RVZe",
    "outputId": "b6aa48c6-b875-40c9-8d91-6ad5c3d5eb59"
   },
   "outputs": [
    {
     "data": {
      "image/png": "[encoded data removed]",
      "text/plain": [
       "<Figure size 432x288 with 1 Axes>"
      ]
     },
     "metadata": {
      "tags": []
     },
     "output_type": "display_data"
    }
   ],
   "source": [
    "#### I will add on Fri morning :)\n",
    "\n",
    "def get_gene_wanted(some_pathway):\n",
    "\n",
    "  ### find contigs with these annotations and the diel category wanted\n",
    "\n",
    "  #true\n",
    "  genes_wanted_true=gene_info_clean.loc[((gene_info_clean['KEGG_clean']==some_pathway) & (gene_info_clean['RAIN_diel_Results']==True)),].copy()\n",
    "  counts_wanted_true=gene_counts.loc[gene_counts['CAMNT'].isin(genes_wanted_true.CAMNT)].copy()\n",
    "  counts_wanted_true['pathway']=some_pathway\n",
    "  del counts_wanted_true['CAMNT']\n",
    "  mean_true=counts_wanted_true.groupby('pathway').mean().transpose()\n",
    "\n",
    "  ##counts for the label\n",
    "  counts_true=counts_wanted_true.shape[0]\n",
    "\n",
    "  #false\n",
    "  genes_wanted_false=gene_info_clean.loc[((gene_info_clean['KEGG_clean']==some_pathway) & (gene_info_clean['RAIN_diel_Results']==False)),].copy()\n",
    "  counts_wanted_false=gene_counts.loc[gene_counts['CAMNT'].isin(genes_wanted_false.CAMNT)].copy()\n",
    "  counts_wanted_false['pathway']=some_pathway\n",
    "  del counts_wanted_false['CAMNT']\n",
    "  mean_false=counts_wanted_false.groupby('pathway').mean().transpose()\n",
    "\n",
    "  ##counts for the label\n",
    "  counts_false=counts_wanted_false.shape[0]\n",
    "\n",
    "  #all\n",
    "  genes_wanted_all=gene_info_clean.loc[gene_info_clean['KEGG_clean']==some_pathway,].copy()\n",
    "  counts_wanted_all=gene_counts.loc[gene_counts['CAMNT'].isin(genes_wanted_all.CAMNT)].copy()\n",
    "  counts_wanted_all['pathway']=some_pathway\n",
    "  del counts_wanted_all['CAMNT']\n",
    "  mean_all=counts_wanted_all.groupby('pathway').mean().transpose()\n",
    "\n",
    "  ##counts for the label\n",
    "  counts_all=counts_wanted_all.shape[0]\n",
    "  \n",
    "  ###make my plot pretty\n",
    "  fig, ax= plt.subplots()\n",
    "  sns.set_style('white')\n",
    "\n",
    "  ax.plot(mean_true, label='True')\n",
    "  ax.plot(mean_false, label='False')\n",
    "  ax.plot(mean_all, label='All')\n",
    "  \n",
    "  ax.set_title('{} All={}, [True={}, False={}]'.format(some_pathway,counts_all,counts_true,counts_false))\n",
    "  ax.set_xlabel('Hours sampling')\n",
    "  ax.set_ylabel('Gene counts')\n",
    "  ax.legend()  \n",
    "  \n",
    "  plt.xlim(0,80)\n",
    "  plt.axvspan(0, 8, alpha=.2, color='grey',zorder=1)\n",
    "  plt.axvspan(21.25, 32, alpha=.2, color='grey',zorder=1)\n",
    "  plt.axvspan(45.25, 56, alpha=.2, color='grey',zorder=1)\n",
    "  plt.axvspan(69.25, 80, alpha=.2, color='grey',zorder=1)\n",
    "  plt.show()\n",
    "\n",
    "  plt.close()\n",
    "\n",
    "get_gene_wanted('Photosynthesis ')"
   ]
  }
 ],
 "metadata": {
  "colab": {
   "collapsed_sections": [
    "5Li0pgA-G2b0",
    "tewKH94dIeBF",
    "Ha0rbdiwPDq6",
    "RgY7xjXdQiK9",
    "hkjMbPKmQzB1",
    "nFYXWWcBZ6_I",
    "CkQUjHL3SPgd",
    "wthO_5s8F6LH",
    "qL2EviKhMMRq",
    "MPxtqCqnKVKY",
    "mJBW9aHRN5RB",
    "x0fwgVOfP72Q"
   ],
   "name": "Day8_Pandas_Continued.ipynb",
   "provenance": [
    {
     "file_id": "1ki3XFClSy2C9VnZk9bUijsbM06Gzjuo4",
     "timestamp": 1618586254417
    }
   ],
   "toc_visible": true
  },
  "kernelspec": {
   "display_name": "Python 3",
   "language": "python",
   "name": "python3"
  },
  "language_info": {
   "codemirror_mode": {
    "name": "ipython",
    "version": 3
   },
   "file_extension": ".py",
   "mimetype": "text/x-python",
   "name": "python",
   "nbconvert_exporter": "python",
   "pygments_lexer": "ipython3",
   "version": "3.8.8"
  }
 },
 "nbformat": 4,
 "nbformat_minor": 1
}

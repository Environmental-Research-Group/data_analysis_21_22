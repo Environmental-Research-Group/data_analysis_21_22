{
 "cells": [
  {
   "cell_type": "code",
   "execution_count": null,
   "metadata": {},
   "outputs": [],
   "source": [
    "import ee\n",
    "import pandas as pd\n",
    "import numpy as np\n",
    "import matplotlib.pyplot as plt\n",
    "import time\n",
    "from tqdm.notebook import tqdm, trange\n",
    "import tqdm\n",
    "from pprint import pprint \n",
    "import statsmodels.api as sm\n",
    "import math\n",
    "import geemap\n",
    "\n",
    "from IPython.display import Image\n",
    "\n",
    "import folium\n",
    "from folium import plugins\n",
    "import importlib\n",
    "\n",
    "import geopandas as gpd\n",
    "from PIL import Image"
   ]
  },
  {
   "cell_type": "code",
   "execution_count": null,
   "metadata": {},
   "outputs": [],
   "source": [
    "ee.Authenticate()"
   ]
  },
  {
   "cell_type": "code",
   "execution_count": null,
   "metadata": {},
   "outputs": [],
   "source": [
    "ee.Initialize()"
   ]
  },
  {
   "cell_type": "code",
   "execution_count": null,
   "metadata": {},
   "outputs": [],
   "source": [
    "col_sent = ee.ImageCollection(\"COPERNICUS/S2_SR\")"
   ]
  },
  {
   "cell_type": "code",
   "execution_count": null,
   "metadata": {},
   "outputs": [],
   "source": [
    "# Subset images with less than 5% cloud cover, then subset those which intersect the \n",
    "# lower left corner of the rectangle 'poly' we've just defined above.\n",
    "clouds = col_sent.filter(ee.Filter.lt('CLOUDY_PIXEL_PERCENTAGE', \n",
    "                                      5)).filterBounds(poly)\n",
    "\n",
    "# Adjust chosen bands to anything you want, and the featurization will flow from it\n",
    "chosen_bands = ['B2', 'B3', 'B4', 'B8']\n",
    "\n",
    "# choose only desired bands from the image \n",
    "bands = clouds.select(chosen_bands)\n",
    "s = bands.sort('CLOUD_COVER')\n",
    "# s contains all sentinel images which satisfied the above two filters \n",
    "\n",
    "# Here you  choose whether you want to have:\n",
    "#     (1) the least cloudy image s.first()\n",
    "#     (2) the median of all images in s \n",
    "\n",
    "\n",
    "# Option 1:\n",
    "#scene = s.first()\n",
    "\n",
    "# Option 2:\n",
    "scene = s.reduce(ee.Reducer.median())"
   ]
  },
  {
   "cell_type": "code",
   "execution_count": null,
   "metadata": {},
   "outputs": [],
   "source": [
    "# Applying the same filters as above, but only to the Near Infared Band (NIR):\n",
    "nir = clouds.select(['B8']).reduce(ee.Reducer.median())\n",
    "\n",
    "# Do the same for the red band\n",
    "red = clouds.select(['B4']).reduce(ee.Reducer.median())"
   ]
  },
  {
   "cell_type": "code",
   "execution_count": null,
   "metadata": {},
   "outputs": [],
   "source": [
    "# Calculate NDVI (Normalized Difference Vegetation Index):\n",
    "numer = nir.add(red)\n",
    "denom = nir.subtract(red)\n",
    "\n",
    "ndvi = denom.divide(numer)"
   ]
  },
  {
   "cell_type": "code",
   "execution_count": null,
   "metadata": {},
   "outputs": [],
   "source": [
    "// Import country boundaries feature collection.\n",
    "var dataset = ee.FeatureCollection('USDOS/LSIB_SIMPLE/2017');\n",
    "\n",
    "// Apply filter where country name equals Uganda.\n",
    "var ugandaBorder = dataset.filter(ee.Filter.eq('country_na', 'Uganda'));\n",
    "\n",
    "// Print new \"ugandaBorder\" object and explorer features and properties.\n",
    "// There should only be one feature representing Uganda.\n",
    "print(ugandaBorder);\n",
    "\n",
    "// Add Uganda outline to the Map as a layer.\n",
    "Map.centerObject(ugandaBorder, 6);\n",
    "Map.addLayer(ugandaBorder);"
   ]
  },
  {
   "cell_type": "code",
   "execution_count": null,
   "metadata": {},
   "outputs": [],
   "source": [
    "// Define a point of interest. Use the UI Drawing Tools to import a point\n",
    "// geometry and name it \"point\" or set the point coordinates with the\n",
    "// ee.Geometry.Point() function as demonstrated here.\n",
    "var point = ee.Geometry.Point([-122.292, 37.9018]);\n",
    "\n",
    "// Import the Landsat 8 TOA image collection.\n",
    "var l8 = ee.ImageCollection('LANDSAT/LC08/C01/T1_TOA');\n",
    "\n",
    "// Get the least cloudy image in 2015.\n",
    "var image = ee.Image(\n",
    "  l8.filterBounds(point)\n",
    "    .filterDate('2015-01-01', '2015-12-31')\n",
    "    .sort('CLOUD_COVER')\n",
    "    .first()\n",
    ");"
   ]
  },
  {
   "cell_type": "code",
   "execution_count": null,
   "metadata": {},
   "outputs": [],
   "source": [
    "// Compute the Normalized Difference Vegetation Index (NDVI).\n",
    "var nir = image.select('B5');\n",
    "var red = image.select('B4');\n",
    "var ndvi = nir.subtract(red).divide(nir.add(red)).rename('NDVI');\n",
    "\n",
    "// Display the result.\n",
    "Map.centerObject(image, 9);\n",
    "var ndviParams = {min: -1, max: 1, palette: ['blue', 'white', 'green']};\n",
    "Map.addLayer(ndvi, ndviParams, 'NDVI image');"
   ]
  },
  {
   "cell_type": "code",
   "execution_count": null,
   "metadata": {},
   "outputs": [],
   "source": [
    "var ndvi = image.normalizedDifference(['B5', 'B4']).rename('NDVI');"
   ]
  },
  {
   "cell_type": "code",
   "execution_count": null,
   "metadata": {},
   "outputs": [],
   "source": [
    "var addNDVI = function(image) {\n",
    "  var ndvi = image.normalizedDifference(['B5', 'B4']).rename('NDVI');\n",
    "  return image.addBands(ndvi);\n",
    "};\n",
    "\n",
    "// Test the addNDVI function on a single image.\n",
    "var ndvi = addNDVI(image).select('NDVI');"
   ]
  },
  {
   "cell_type": "code",
   "execution_count": null,
   "metadata": {},
   "outputs": [],
   "source": []
  }
 ],
 "metadata": {
  "kernelspec": {
   "display_name": "Python 3",
   "language": "python",
   "name": "python3"
  },
  "language_info": {
   "codemirror_mode": {
    "name": "ipython",
    "version": 3
   },
   "file_extension": ".py",
   "mimetype": "text/x-python",
   "name": "python",
   "nbconvert_exporter": "python",
   "pygments_lexer": "ipython3",
   "version": "3.8.5"
  }
 },
 "nbformat": 4,
 "nbformat_minor": 4
}

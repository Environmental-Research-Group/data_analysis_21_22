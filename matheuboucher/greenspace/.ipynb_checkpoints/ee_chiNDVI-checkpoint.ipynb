{
 "cells": [
  {
   "cell_type": "code",
   "execution_count": 2,
   "metadata": {},
   "outputs": [],
   "source": [
    "import ee\n",
    "import pandas as pd\n",
    "import numpy as np\n",
    "import matplotlib.pyplot as plt\n",
    "import time\n",
    "from tqdm.notebook import tqdm, trange\n",
    "import tqdm\n",
    "from pprint import pprint \n",
    "import statsmodels.api as sm\n",
    "import math\n",
    "import geemap\n",
    "import os\n",
    "\n",
    "from IPython.display import Image\n",
    "\n",
    "import folium\n",
    "from folium import plugins\n",
    "import importlib\n",
    "\n",
    "import geopandas as gpd\n",
    "from PIL import Image"
   ]
  },
  {
   "cell_type": "code",
   "execution_count": 3,
   "metadata": {},
   "outputs": [],
   "source": [
    "#ee.Authenticate()"
   ]
  },
  {
   "cell_type": "code",
   "execution_count": 4,
   "metadata": {},
   "outputs": [
    {
     "name": "stderr",
     "output_type": "stream",
     "text": [
      "*** Earth Engine *** Authenticate calls from this Earth Engine Python client will fail after 2022-05-09: please upgrade. https://developers.google.com/earth-engine/guides/python_install\n"
     ]
    }
   ],
   "source": [
    "ee.Initialize()"
   ]
  },
  {
   "cell_type": "code",
   "execution_count": 5,
   "metadata": {},
   "outputs": [],
   "source": [
    "col_sent = ee.ImageCollection(\"COPERNICUS/S2_SR\")"
   ]
  },
  {
   "cell_type": "code",
   "execution_count": 6,
   "metadata": {},
   "outputs": [],
   "source": [
    "# Isolate Cook County from the Census collection\n",
    "counties = ee.FeatureCollection('TIGER/2018/Counties')\n",
    "cookCounty = counties.filter(ee.Filter.eq(\"GEOID\", '17031'))\n",
    "\n",
    "# Get all US zip codes, then restrict to those that intersect with Cook County, and then\n",
    "# filter out those that don't overlap at all but only touch on the boundary\n",
    "# (e.g. some adjacent zip codes in Illinois and Indiana)\n",
    "zipCodes = (\n",
    "    ee.FeatureCollection('TIGER/2010/ZCTA5').filterBounds(cookCounty)\n",
    "    .filter(\"GEOID10 != '46311'\").filter(\"GEOID10 != '46324'\")\n",
    "    .filter(\"GEOID10 != '46321'\").filter(\"GEOID10 != '46327'\")\n",
    "    .filter(\"GEOID10 != '46320'\").filter(\"GEOID10 != '60047'\")\n",
    "    .filter(\"GEOID10 != '60035'\").filter(\"GEOID10 != '60110'\")\n",
    "    .filter(\"GEOID10 != '60118'\").filter(\"GEOID10 != '60143'\")\n",
    "    .filter(\"GEOID10 != '60191'\").filter(\"GEOID10 != '60106'\")\n",
    "    .filter(\"GEOID10 != '60523'\").filter(\"GEOID10 != '60441'\")\n",
    "    .filter(\"GEOID10 != '60448'\").filter(\"GEOID10 != '60449'\")\n",
    "    .filter(\"GEOID10 != '60491'\").filter(\"GEOID10 != '60417'\")\n",
    ")\n",
    "\n",
    "# Create a geometry that is the union of all the zip codes in Chicago\n",
    "zipChiGeom = zipCodes.union(100);\n",
    "#censusTracts = ee.FeatureCollection(\"TIGER/2010/Tracts_DP1\").filterBounds(cookCounty)\n",
    "\n",
    "zipCodeIDs = zipCodes.aggregate_array(\"GEOID10\").getInfo()\n",
    "\n",
    "## UNCOMMENT LINE BELOW TO SEE AN ARRAY OF THE INCLUDED ZIP CODES ##\n",
    "#pprint(zipCodeIDs, width=90, compact=True)"
   ]
  },
  {
   "cell_type": "code",
   "execution_count": 7,
   "metadata": {},
   "outputs": [],
   "source": [
    "# Subset images with less than 5% cloud cover, then subset those which intersect the \n",
    "# lower left corner of the rectangle 'poly' we've just defined above.\n",
    "clouds = col_sent.filter(ee.Filter.lt('CLOUDY_PIXEL_PERCENTAGE', 5)).filterBounds(cookCounty)\n",
    "\n",
    "# Adjust chosen bands to anything you want, and the featurization will flow from it\n",
    "chosen_bands = ['B2', 'B3', 'B4', 'B8']\n",
    "\n",
    "# choose only desired bands from the image \n",
    "bands = clouds.select(chosen_bands)\n",
    "s = bands.sort('CLOUD_COVER')\n",
    "# s contains all sentinel images which satisfied the above two filters \n",
    "\n",
    "# Option 2:\n",
    "scene = s.reduce(ee.Reducer.median())"
   ]
  },
  {
   "cell_type": "code",
   "execution_count": 8,
   "metadata": {},
   "outputs": [],
   "source": [
    "# Applying the same filters as above, but only to the Near Infared Band (NIR):\n",
    "nir = clouds.select(['B8']).reduce(ee.Reducer.median())\n",
    "\n",
    "# Do the same for the red band\n",
    "red = clouds.select(['B4']).reduce(ee.Reducer.median())\n",
    "\n",
    "# Calculate NDVI (Normalized Difference Vegetation Index) and restrict it to the polygon that is made from\n",
    "# the union of all Chicago zip codes\n",
    "numer = nir.add(red)\n",
    "denom = nir.subtract(red)\n",
    "ndvi = denom.divide(numer)\n",
    "ndvi_Chi = ndvi.clip(zipChiGeom.geometry())"
   ]
  },
  {
   "cell_type": "code",
   "execution_count": 9,
   "metadata": {
    "scrolled": true
   },
   "outputs": [
    {
     "data": {
      "application/vnd.jupyter.widget-view+json": {
       "model_id": "cc28d29c0e254705bf3f13cd0b969db7",
       "version_major": 2,
       "version_minor": 0
      },
      "text/plain": [
       "Map(center=[41.89520774043857, -87.64615767216159], controls=(WidgetControl(options=['position', 'transparent_…"
      ]
     },
     "metadata": {},
     "output_type": "display_data"
    }
   ],
   "source": [
    "# Generate a map, add the ndvi as a layer, then center the map on Cook County, and add Chicago's zip codes\n",
    "# as a layer\n",
    "ndviVP = {'min': -1, 'max': 1, 'palette': ['000FFF', 'FFFFFF', '00FF00']}\n",
    "\n",
    "fmap = geemap.Map()\n",
    "fmap.addLayer(ndvi_Chi, ndviVP, 'Scene 1')\n",
    "fmap.centerObject(cookCounty, 9)\n",
    "#fmap.addLayer(cookCounty)\n",
    "fmap.addLayer(zipCodes)\n",
    "fmap"
   ]
  },
  {
   "cell_type": "code",
   "execution_count": 16,
   "metadata": {},
   "outputs": [
    {
     "name": "stdout",
     "output_type": "stream",
     "text": [
      "Computing statistics ...\n",
      "Generating URL ...\n",
      "Downloading data from https://earthengine.googleapis.com/v1alpha/projects/earthengine-legacy/tables/22bfed07ff049c9e5a68a3e967eb0bf6-4aac624569566cc0729ae569dddd5bf8:getFeatures\n",
      "Please wait ...\n",
      "Data downloaded to /Users/matheuboucher/Downloads/chi_ST_stats_2018_01_01.csv\n"
     ]
    }
   ],
   "source": [
    "# RUNNING THIS WILL DOWNLOAD A CSV CONTAINING MEAN NDVI BY ZIP CODE IN COOK COUNTY\n",
    "# TO YOUR PERSONAL DOWNLOADS FOLDER. YOU CAN ALTERNATIVELY JUST COPY THE ndvi_chiZip_dataset.csv THAT IS\n",
    "# IN MY FOLDER TO YOUR OWN ;).\n",
    "    \n",
    "out_dir = os.path.join(os.path.expanduser('~'), 'Downloads')\n",
    "out_stats = os.path.join(out_dir, 'chi_NDVI_stats.csv')\n",
    "\n",
    "if not os.path.exists(out_dir):\n",
    "    os.makedirs(out_dir)\n",
    "\n",
    "# Allowed output formats: csv, shp, json, kml, kmz\n",
    "# Allowed statistics type: MEAN, MAXIMUM, MINIMUM, MEDIAN, STD, MIN_MAX, VARIANCE, SUM\n",
    "#geemap.zonal_statistics(ndvi_Chi, zipCodes, out_stats, statistics_type='MEAN', scale=1000)\n",
    "geemap.zonal_statistics(ndvi_Chi, zipCodes, out_stats, statistics_type='MEAN', scale=1000)\n",
    "\n",
    "ndviVP = {'min': -1, 'max': 1, 'palette': ['000FFF', 'FFFFFF', '00FF00']}"
   ]
  },
  {
   "cell_type": "code",
   "execution_count": null,
   "metadata": {},
   "outputs": [],
   "source": []
  }
 ],
 "metadata": {
  "kernelspec": {
   "display_name": "Python 3",
   "language": "python",
   "name": "python3"
  },
  "language_info": {
   "codemirror_mode": {
    "name": "ipython",
    "version": 3
   },
   "file_extension": ".py",
   "mimetype": "text/x-python",
   "name": "python",
   "nbconvert_exporter": "python",
   "pygments_lexer": "ipython3",
   "version": "3.8.5"
  }
 },
 "nbformat": 4,
 "nbformat_minor": 5
}

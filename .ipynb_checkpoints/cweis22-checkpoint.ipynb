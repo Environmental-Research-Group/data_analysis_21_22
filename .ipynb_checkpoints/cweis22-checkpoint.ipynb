{
 "cells": [
  {
   "cell_type": "code",
   "execution_count": 74,
   "id": "54f57a8e",
   "metadata": {},
   "outputs": [],
   "source": [
    "import ee\n",
    "import pandas as pd\n",
    "import numpy as np\n",
    "import matplotlib.pyplot as plt\n",
    "import time\n",
    "from tqdm.notebook import tqdm, trange\n",
    "import tqdm\n",
    "from pprint import pprint \n",
    "import statsmodels.api as sm\n",
    "import math\n",
    "import geemap\n",
    "import os\n",
    "\n",
    "from IPython.display import Image\n",
    "\n",
    "import folium\n",
    "from folium import plugins\n",
    "import importlib\n",
    "\n",
    "import geopandas as gpd\n",
    "from PIL import Image"
   ]
  },
  {
   "cell_type": "code",
   "execution_count": 2,
   "id": "6bd6876e",
   "metadata": {},
   "outputs": [
    {
     "data": {
      "text/html": [
       "<p>To authorize access needed by Earth Engine, open the following\n",
       "        URL in a web browser and follow the instructions:</p>\n",
       "        <p><a href=https://accounts.google.com/o/oauth2/auth?client_id=517222506229-vsmmajv00ul0bs7p89v5m89qs8eb9359.apps.googleusercontent.com&scope=https%3A%2F%2Fwww.googleapis.com%2Fauth%2Fearthengine+https%3A%2F%2Fwww.googleapis.com%2Fauth%2Fdevstorage.full_control&redirect_uri=urn%3Aietf%3Awg%3Aoauth%3A2.0%3Aoob&response_type=code&code_challenge=QIUcp07wP3kqD53cevTdFQDmsClxDPH-EFasXq2hmMU&code_challenge_method=S256>https://accounts.google.com/o/oauth2/auth?client_id=517222506229-vsmmajv00ul0bs7p89v5m89qs8eb9359.apps.googleusercontent.com&scope=https%3A%2F%2Fwww.googleapis.com%2Fauth%2Fearthengine+https%3A%2F%2Fwww.googleapis.com%2Fauth%2Fdevstorage.full_control&redirect_uri=urn%3Aietf%3Awg%3Aoauth%3A2.0%3Aoob&response_type=code&code_challenge=QIUcp07wP3kqD53cevTdFQDmsClxDPH-EFasXq2hmMU&code_challenge_method=S256</a></p>\n",
       "        <p>The authorization workflow will generate a code, which you\n",
       "        should paste in the box below</p>\n",
       "        "
      ],
      "text/plain": [
       "<IPython.core.display.HTML object>"
      ]
     },
     "metadata": {},
     "output_type": "display_data"
    },
    {
     "name": "stdout",
     "output_type": "stream",
     "text": [
      "Enter verification code: 4/1AX4XfWhJyUGzJm6OErtnjkilmubfFz61dTCzzB-AxULKVCGrbKX25IMD9IM\n",
      "\n",
      "Successfully saved authorization token.\n"
     ]
    }
   ],
   "source": [
    "ee.Authenticate()"
   ]
  },
  {
   "cell_type": "code",
   "execution_count": 77,
   "id": "7b800ea2",
   "metadata": {
    "scrolled": true
   },
   "outputs": [],
   "source": [
    "ee.Initialize()"
   ]
  },
  {
   "cell_type": "code",
   "execution_count": 76,
   "id": "35b5e831",
   "metadata": {},
   "outputs": [],
   "source": [
    "col_sent = ee.ImageCollection(\"COPERNICUS/S2_SR\")"
   ]
  },
  {
   "cell_type": "code",
   "execution_count": 21,
   "id": "1b4ee4e1",
   "metadata": {},
   "outputs": [
    {
     "name": "stdout",
     "output_type": "stream",
     "text": [
      "['60636', '60601', '60602', '60603', '60604', '60606', '60607', '60612', '60618', '60619',\n",
      " '60621', '60631', '60638', '60639', '60641', '60645', '60646', '60651', '60652', '60654',\n",
      " '60655', '60656', '60661', '60707', '60647', '60659', '60609', '60634', '60629', '60624',\n",
      " '60626', '60827', '60643', '60622', '60637', '60610', '60657', '60615', '60614', '60640',\n",
      " '60632', '60653', '60617', '60613', '60611', '60628', '60630', '60608', '60660', '60642',\n",
      " '60605', '60633', '60616', '60625', '60620', '60649', '60623', '60644']\n"
     ]
    },
    {
     "data": {
      "text/plain": [
       "<ee.featurecollection.FeatureCollection at 0x7f7d104e7950>"
      ]
     },
     "execution_count": 21,
     "metadata": {},
     "output_type": "execute_result"
    }
   ],
   "source": [
    "# Isolate Cook County from the Census collection\n",
    "counties = ee.FeatureCollection('TIGER/2018/Counties')\n",
    "cookCounty = counties.filter(ee.Filter.eq(\"GEOID\", '17031'))\n",
    "\n",
    "# This is a list of the 67 zip codes that are accepted to make up Chicago\n",
    "# strict_zip_codes = list(['60007','60018','60068','60106','60131','60176','60601','60602','60603','60604','60605','60606',\n",
    "#                '60607','60608','60609','60610','60611','60612','60613','60614','60615','60616','60617','60618',\n",
    "#                '60619','60620','60621','60622','60623','60624','60625','60626','60628','60629','60630','60631',\n",
    "#                '60632','60633','60634','60636','60637','60638','60639','60640','60641','60642','60643','60644',\n",
    "#                '60645','60646','60647','60649','60651','60652','60653','60654','60655','60656','60657','60659',\n",
    "#                '60660','60661','60706','60707','60714','60804','60827'])\n",
    "\n",
    "# This is a list of the zip codes that show up on a map of Chicago\n",
    "# Note: Up to 60601 in the above list includes zip codes west of and around O'Hare, \n",
    "# which is 60666 in most maps but does not have its own zip code in TIGER/2018/Counties\n",
    "# and was therefore excluded from this list in order to make as close to a visualization of strictly Chicago as possible\n",
    "stricter_zip_codes = list(['60601','60602','60603','60604','60605','60606',\n",
    "               '60607','60608','60609','60610','60611','60612','60613','60614','60615','60616','60617','60618',\n",
    "               '60619','60620','60621','60622','60623','60624','60625','60626','60628','60629','60630','60631',\n",
    "               '60632','60633','60634','60636','60637','60638','60639','60640','60641','60642','60643','60644',\n",
    "               '60645','60646','60647','60649','60651','60652','60653','60654','60655','60656','60657','60659',\n",
    "               '60660','60661','60707','60827','60666'])\n",
    "\n",
    "# Get all US zip codes, then restrict to those that intersect with Cook County, and then\n",
    "# filter out those that don't overlap at all but only touch on the boundary\n",
    "# (e.g. some adjacent zip codes in Illinois and Indiana)\n",
    "# Commenting this to form a more strict set of zip codes\n",
    "# zipCodes = (\n",
    "#     ee.FeatureCollection('TIGER/2010/ZCTA5').filterBounds(cookCounty)\n",
    "#     .filter(\"GEOID10 != '46311'\").filter(\"GEOID10 != '46324'\")\n",
    "#     .filter(\"GEOID10 != '46321'\").filter(\"GEOID10 != '46327'\")\n",
    "#     .filter(\"GEOID10 != '46320'\").filter(\"GEOID10 != '60047'\")\n",
    "#     .filter(\"GEOID10 != '60035'\").filter(\"GEOID10 != '60110'\")\n",
    "#     .filter(\"GEOID10 != '60118'\").filter(\"GEOID10 != '60143'\")\n",
    "#     .filter(\"GEOID10 != '60191'\").filter(\"GEOID10 != '60106'\")\n",
    "#     .filter(\"GEOID10 != '60523'\").filter(\"GEOID10 != '60441'\")\n",
    "#     .filter(\"GEOID10 != '60448'\").filter(\"GEOID10 != '60449'\")\n",
    "#     .filter(\"GEOID10 != '60491'\").filter(\"GEOID10 != '60417'\")\n",
    "# )\n",
    "\n",
    "zipCodes = (\n",
    "     ee.FeatureCollection('TIGER/2010/ZCTA5').filterBounds(cookCounty)\n",
    "     .filter(ee.Filter.inList(\"GEOID10\",stricter_zip_codes)))\n",
    "\n",
    "# Create a geometry that is the union of all the zip codes in Chicago\n",
    "zipChiGeom = zipCodes.union();\n",
    "#censusTracts = ee.FeatureCollection(\"TIGER/2010/Tracts_DP1\").filterBounds(cookCounty)\n",
    "\n",
    "zipCodeIDs = zipCodes.aggregate_array(\"GEOID10\").getInfo()\n",
    "pprint(zipCodeIDs, width=90, compact=True)"
   ]
  },
  {
   "cell_type": "code",
   "execution_count": 15,
   "id": "9689835d",
   "metadata": {},
   "outputs": [],
   "source": [
    "# Subset images with less than 5% cloud cover, then subset those which intersect the \n",
    "# lower left corner of the rectangle 'poly' we've just defined above.\n",
    "clouds = col_sent.filter(ee.Filter.lt('CLOUDY_PIXEL_PERCENTAGE', 5)).filterBounds(cookCounty)\n",
    "\n",
    "# Adjust chosen bands to anything you want, and the featurization will flow from it\n",
    "chosen_bands = ['B2', 'B3', 'B4', 'B8']\n",
    "\n",
    "# choose only desired bands from the image \n",
    "bands = clouds.select(chosen_bands)\n",
    "s = bands.sort('CLOUD_COVER')\n",
    "# s contains all sentinel images which satisfied the above two filters \n",
    "\n",
    "# Option 2:\n",
    "scene = s.reduce(ee.Reducer.median())"
   ]
  },
  {
   "cell_type": "code",
   "execution_count": 22,
   "id": "2c0a87fd",
   "metadata": {},
   "outputs": [],
   "source": [
    "# Applying the same filters as above, but only to the Near Infared Band (NIR):\n",
    "nir = clouds.select(['B8']).reduce(ee.Reducer.median())\n",
    "\n",
    "# Do the same for the red band\n",
    "red = clouds.select(['B4']).reduce(ee.Reducer.median())\n",
    "\n",
    "# Calculate NDVI (Normalized Difference Vegetation Index) and restrict it to the polygon that is made from\n",
    "# the union of all Chicago zip codes\n",
    "numer = nir.add(red)\n",
    "denom = nir.subtract(red)\n",
    "ndvi = denom.divide(numer)\n",
    "ndvi_Chi = ndvi.clip(zipCodes.geometry())\n",
    "# ndvi_Chi = ndvi.clip(zipChiGeom.geometry()) — Idt it makes a difference"
   ]
  },
  {
   "cell_type": "code",
   "execution_count": 42,
   "id": "1f2746b1",
   "metadata": {},
   "outputs": [],
   "source": [
    "surfTemp = ee.ImageCollection('MODIS/006/MOD11A2').filterDate('2021-01-01', '2022-01-01').filterBounds(zipCodes)\n",
    "landSurfaceTemperature = surfTemp.select('LST_Day_1km');\n",
    "landSurfaceTemperatureVis = {\n",
    "  'min': 13000.0,\n",
    "  'max': 16500.0,\n",
    "  'palette': [\n",
    "    '040274', '040281', '0502a3', '0502b8', '0502ce', '0502e6',\n",
    "    '0602ff', '235cb1', '307ef3', '269db1', '30c8e2', '32d3ef',\n",
    "    '3be285', '3ff38f', '86e26f', '3ae237', 'b5e22e', 'd6e21f',\n",
    "    'fff705', 'ffd611', 'ffb613', 'ff8b13', 'ff6e08', 'ff500d',\n",
    "    'ff0000', 'de0101', 'c21301', 'a71001', '911003'\n",
    "  ]}"
   ]
  },
  {
   "cell_type": "code",
   "execution_count": 85,
   "id": "1461cff7",
   "metadata": {},
   "outputs": [
    {
     "ename": "SyntaxError",
     "evalue": "invalid syntax (3124966801.py, line 10)",
     "output_type": "error",
     "traceback": [
      "\u001b[0;36m  File \u001b[0;32m\"/var/folders/9h/bwq50x_s3sldh1jvww4191_80000gn/T/ipykernel_55209/3124966801.py\"\u001b[0;36m, line \u001b[0;32m10\u001b[0m\n\u001b[0;31m    return img\u001b[0m\n\u001b[0m         ^\u001b[0m\n\u001b[0;31mSyntaxError\u001b[0m\u001b[0;31m:\u001b[0m invalid syntax\n"
     ]
    }
   ],
   "source": [
    "# def tempConvert(x):\n",
    "#     return x.multiply(0.02).subtract(273.15).copyProperties(x, ['system:time_start'])\n",
    "\n",
    "# def modLSTc(img): \n",
    "#     modLSTday.map(tempConvert(img):\n",
    "                        \n",
    "# landSurfaceTempCelc = landSurfaceTemperature.map(tempConvert, landSurfaceTemperature[img])\n",
    "\n",
    "landSurfaceTempCelc = map(landSurfaceTemperature, img\n",
    "                                                 return img\n",
    "                                                 .multiply(0.02)\n",
    "                                                 .subtract(273.15)\n",
    "                                                 .copyProperties(img, ['system:time_start'])\n",
    "\n",
    ")\n",
    "\n",
    "\n",
    "\n",
    "\n",
    "# tempConvert(landSurfaceTemperature)\n"
   ]
  },
  {
   "cell_type": "code",
   "execution_count": 43,
   "id": "429ad43b",
   "metadata": {
    "scrolled": false
   },
   "outputs": [
    {
     "data": {
      "application/vnd.jupyter.widget-view+json": {
       "model_id": "a8bd741f92c54fb49ee30b84d01abe83",
       "version_major": 2,
       "version_minor": 0
      },
      "text/plain": [
       "Map(center=[41.89520774043857, -87.64615767216159], controls=(WidgetControl(options=['position', 'transparent_…"
      ]
     },
     "metadata": {},
     "output_type": "display_data"
    }
   ],
   "source": [
    "# Generate a map, add the ndvi as a layer, then center the map on Cook County, and add Chicago's zip codes\n",
    "# as a layer\n",
    "ndviVP = {'min': -1, 'max': 1, 'palette': ['000FFF', 'FFFFFF', '00FF00']}\n",
    "\n",
    "fmap = geemap.Map()\n",
    "# fmap.addLayer(ndvi_Chi, ndviVP, 'Scene 1')\n",
    "fmap.centerObject(cookCounty, 9)\n",
    "#fmap.addLayer(cookCounty)\n",
    "fmap.addLayer(\n",
    "    landSurfaceTemperature, landSurfaceTemperatureVis,\n",
    "    'Land Surface Temperature')\n",
    "# lst_urban_point = ee.lst.mean().sample(cookCounty, scale).first().get('LST_Day_1km').getInfo()\n",
    "fmap.addLayer(zipCodes.draw('000000', 0, 1))\n",
    "# fmap.addLayer()\n",
    "fmap"
   ]
  },
  {
   "cell_type": "code",
   "execution_count": 10,
   "id": "7e723fb7",
   "metadata": {},
   "outputs": [
    {
     "name": "stdout",
     "output_type": "stream",
     "text": [
      "Computing statistics ...\n",
      "Generating URL ...\n",
      "Downloading data from https://earthengine.googleapis.com/v1alpha/projects/earthengine-legacy/tables/d8038aa237c1933e392808f34cd888db-729aebb1e715b96127f29519ba3b5a46:getFeatures\n",
      "Please wait ...\n",
      "Data downloaded to /Users/cweis22/Downloads/chi_ndvi_stats.csv\n"
     ]
    }
   ],
   "source": [
    "# RUNNING THIS WILL DOWNLOAD A CSV CONTAINING MEAN NDVI BY ZIP CODE IN COOK COUNTY\n",
    "# TO YOUR PERSONAL DOWNLOADS FOLDER. YOU CAN ALTERNATIVELY JUST COPY THE ndvi_chiZip_dataset.csv THAT IS\n",
    "# IN MY FOLDER TO YOUR OWN ;).\n",
    "    \n",
    "out_dir = os.path.join(os.path.expanduser('~'), 'Downloads')\n",
    "out_stats = os.path.join(out_dir, 'chi_ndvi_stats.csv')\n",
    "\n",
    "if not os.path.exists(out_dir):\n",
    "    os.makedirs(out_dir)\n",
    "\n",
    "# Allowed output formats: csv, shp, json, kml, kmz\n",
    "# Allowed statistics type: MEAN, MAXIMUM, MINIMUM, MEDIAN, STD, MIN_MAX, VARIANCE, SUM\n",
    "geemap.zonal_statistics(ndvi_Chi, zipCodes, out_stats, statistics_type='MEAN', scale=1000)\n",
    "\n",
    "ndviVP = {'min': -1, 'max': 1, 'palette': ['000FFF', 'FFFFFF', '00FF00']}"
   ]
  },
  {
   "cell_type": "code",
   "execution_count": 86,
   "id": "3e72f7b1",
   "metadata": {},
   "outputs": [
    {
     "name": "stdout",
     "output_type": "stream",
     "text": [
      "Computing statistics ...\n",
      "Generating URL ...\n",
      "Downloading data from https://earthengine.googleapis.com/v1alpha/projects/earthengine-legacy/tables/a808f6f76909511acc2512e22eb2ef1c-455f5c68cd18802aff00eb4d0c0ae44f:getFeatures\n",
      "Please wait ...\n",
      "Data downloaded to /Users/cweis22/Downloads/chi_ndvi_stats.csv\n"
     ]
    }
   ],
   "source": [
    "# RUNNING THIS WILL DOWNLOAD A CSV CONTAINING MEAN NDVI BY ZIP CODE IN COOK COUNTY\n",
    "# TO YOUR PERSONAL DOWNLOADS FOLDER. YOU CAN ALTERNATIVELY JUST COPY THE ndvi_chiZip_dataset.csv THAT IS\n",
    "# IN MY FOLDER TO YOUR OWN ;).\n",
    "    \n",
    "out_dir = os.path.join(os.path.expanduser('~'), 'Downloads')\n",
    "out_stats = os.path.join(out_dir, 'chi_ndvi_stats.csv')\n",
    "\n",
    "if not os.path.exists(out_dir):\n",
    "    os.makedirs(out_dir)\n",
    "\n",
    "# Allowed output formats: csv, shp, json, kml, kmz\n",
    "# Allowed statistics type: MEAN, MAXIMUM, MINIMUM, MEDIAN, STD, MIN_MAX, VARIANCE, SUM\n",
    "geemap.zonal_statistics(ndvi_Chi, zipCodes, out_stats, statistics_type='MEAN', scale=1000)\n",
    "\n",
    "ndviVP = {'min': -1, 'max': 1, 'palette': ['000FFF', 'FFFFFF', '00FF00']}"
   ]
  },
  {
   "cell_type": "code",
   "execution_count": null,
   "id": "e98142ae",
   "metadata": {},
   "outputs": [],
   "source": []
  }
 ],
 "metadata": {
  "kernelspec": {
   "display_name": "Python 3 (ipykernel)",
   "language": "python",
   "name": "python3"
  },
  "language_info": {
   "codemirror_mode": {
    "name": "ipython",
    "version": 3
   },
   "file_extension": ".py",
   "mimetype": "text/x-python",
   "name": "python",
   "nbconvert_exporter": "python",
   "pygments_lexer": "ipython3",
   "version": "3.7.11"
  }
 },
 "nbformat": 4,
 "nbformat_minor": 5
}

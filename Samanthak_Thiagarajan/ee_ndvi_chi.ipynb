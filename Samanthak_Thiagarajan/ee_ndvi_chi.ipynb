{
 "cells": [
  {
   "cell_type": "markdown",
   "id": "7c8221c1",
   "metadata": {},
   "source": [
    "# ERG Data Challenge Week 2\n",
    "## Plotting NDVI"
   ]
  },
  {
   "cell_type": "code",
   "execution_count": 1,
   "id": "98f22612",
   "metadata": {},
   "outputs": [],
   "source": [
    "import ee\n",
    "import pandas as pd\n",
    "import numpy as np\n",
    "import matplotlib.pyplot as plt\n",
    "import time\n",
    "from tqdm.notebook import tqdm, trange\n",
    "import tqdm\n",
    "from pprint import pprint \n",
    "import statsmodels.api as sm\n",
    "import math\n",
    "\n",
    "from IPython.display import Image\n",
    "\n",
    "import folium\n",
    "from folium import plugins\n",
    "import importlib\n",
    "\n",
    "# import geopandas as gpd\n",
    "from PIL import Image"
   ]
  },
  {
   "cell_type": "markdown",
   "id": "853766f5",
   "metadata": {},
   "source": [
    "### Start Here!"
   ]
  },
  {
   "cell_type": "code",
   "execution_count": 2,
   "id": "5966200b",
   "metadata": {},
   "outputs": [
    {
     "data": {
      "text/html": [
       "<p>To authorize access needed by Earth Engine, open the following\n",
       "        URL in a web browser and follow the instructions:</p>\n",
       "        <p><a href=https://accounts.google.com/o/oauth2/auth?client_id=517222506229-vsmmajv00ul0bs7p89v5m89qs8eb9359.apps.googleusercontent.com&scope=https%3A%2F%2Fwww.googleapis.com%2Fauth%2Fearthengine+https%3A%2F%2Fwww.googleapis.com%2Fauth%2Fdevstorage.full_control&redirect_uri=urn%3Aietf%3Awg%3Aoauth%3A2.0%3Aoob&response_type=code&code_challenge=-Lnb_kU0RDyAjMldlxMzQshZ2WzBGnPSHa8snA-kKzo&code_challenge_method=S256>https://accounts.google.com/o/oauth2/auth?client_id=517222506229-vsmmajv00ul0bs7p89v5m89qs8eb9359.apps.googleusercontent.com&scope=https%3A%2F%2Fwww.googleapis.com%2Fauth%2Fearthengine+https%3A%2F%2Fwww.googleapis.com%2Fauth%2Fdevstorage.full_control&redirect_uri=urn%3Aietf%3Awg%3Aoauth%3A2.0%3Aoob&response_type=code&code_challenge=-Lnb_kU0RDyAjMldlxMzQshZ2WzBGnPSHa8snA-kKzo&code_challenge_method=S256</a></p>\n",
       "        <p>The authorization workflow will generate a code, which you\n",
       "        should paste in the box below</p>\n",
       "        "
      ],
      "text/plain": [
       "<IPython.core.display.HTML object>"
      ]
     },
     "metadata": {},
     "output_type": "display_data"
    },
    {
     "name": "stdout",
     "output_type": "stream",
     "text": [
      "Enter verification code: 4/1AX4XfWj7kl1mkbe9MCLFHYgidKB-FUq-nRDFOq6ff7Houm8depxucETS6s4\n",
      "\n",
      "Successfully saved authorization token.\n"
     ]
    }
   ],
   "source": [
    "ee.Authenticate()"
   ]
  },
  {
   "cell_type": "code",
   "execution_count": 3,
   "id": "8566c620",
   "metadata": {},
   "outputs": [],
   "source": [
    "ee.Initialize()"
   ]
  },
  {
   "cell_type": "markdown",
   "id": "f775e60d",
   "metadata": {},
   "source": [
    "### Run these cells to allow us to use these functions"
   ]
  },
  {
   "cell_type": "code",
   "execution_count": 4,
   "id": "10a7eff0",
   "metadata": {},
   "outputs": [],
   "source": [
    "\"\"\"\n",
    "Standard code for adding an EE object to a folium map. copied almost directly from EE Python API \n",
    "\"\"\"\n",
    "def add_ee_layer2(self, eeImageObject, visParams, name):\n",
    "    map_id_dict = ee.Image(eeImageObject).getMapId(visParams)\n",
    "    folium.raster_layers.TileLayer(\n",
    "        tiles = map_id_dict['tile_fetcher'].url_format,\n",
    "        attr = \"Map Data &copy; <a href='https://earthengine.google.com/'>Google Earth Engine</a>\",\n",
    "        name = name,\n",
    "        overlay = True,\n",
    "        control = True\n",
    "    ).add_to(self)\n",
    "folium.Map.add_ee_layer2 = add_ee_layer2"
   ]
  },
  {
   "cell_type": "code",
   "execution_count": 5,
   "id": "6a8ac774",
   "metadata": {},
   "outputs": [],
   "source": [
    "\"\"\"\n",
    "Whenever you visualize something on EE using folium you need to name the band, and as a result,\n",
    "we have different vis params for whether we are visualizing a single image or a median composite etc \n",
    "\"\"\"\n",
    "vis_params_red = {\n",
    "  'min': 0,\n",
    "  'max': 6000,\n",
    "  'palette': ['000000', 'FF0000']}\n",
    "vis_params_green = {\n",
    "  'min': 0,\n",
    "  'max': 6000,\n",
    "  'palette': ['000000', '00FF00']}\n",
    "vis_params_blue = {\n",
    "  'min': 0,\n",
    "  'max': 6000,\n",
    "  'palette': ['000000', '0000FF']}\n",
    "\n",
    "# Set visualization parameters for multiple bands (cannot provide palette)\n",
    "vis_params_median = {\n",
    "  'min': 0,\n",
    "  'max': 4000,\n",
    "'bands': ['B4_median', 'B3_median', 'B2_median', 'B8_median']}\n",
    "vis_params_median_single = {\n",
    "  'min': 0,\n",
    "  'max': 1,\n",
    "'bands': ['B8_median']}\n",
    "vis_params_multi = {\n",
    "    'min': 0,\n",
    "  'max': 4000,\n",
    "'bands': ['B4', 'B3', 'B2']}\n",
    "vis_params_B = {\n",
    "    'min': 0,\n",
    "  'max': 4000,\n",
    "'bands': ['B']}\n",
    "vis_params_Bsum = {\n",
    "    'min': 0,\n",
    "  'max': 4000,\n",
    "'bands': ['B_sum']}"
   ]
  },
  {
   "cell_type": "code",
   "execution_count": 6,
   "id": "0af3bb9d",
   "metadata": {},
   "outputs": [],
   "source": [
    "# This is where we put in Chicago's latitude and longitude:\n",
    "# Example: lbx = lower bound x\n",
    "# Note: box is 0.1 x 0.1 lat long units\n",
    "lbx = -87.6298\n",
    "ubx = lbx + 0.1\n",
    "lby = 41.8\n",
    "uby = lby + 0.1\n",
    "\n",
    "# Make an Earth Engine object polygon with the above coordinates \n",
    "poly = ee.Geometry.Polygon(\n",
    "    [[[lbx, lby],\n",
    "      [lbx, uby],\n",
    "      [ubx, uby],\n",
    "      [ubx, lby]]])\n",
    "\n",
    "# Alternatively our point of interest:\n",
    "# This defines the lower left hand corner of our rectangle\n",
    "poi = ee.Geometry.Point(lbx,lby)\n",
    "\n",
    "# Filetering by year could be set up:\n",
    "# This is NOT yet functional\n",
    "month = 8\n",
    "start_year = 2014\n",
    "end_year = 2018"
   ]
  },
  {
   "cell_type": "markdown",
   "id": "ffc2ceb3",
   "metadata": {},
   "source": [
    "Import Sentinel Data from Google Earth Engine:}"
   ]
  },
  {
   "cell_type": "code",
   "execution_count": 7,
   "id": "2ce53715",
   "metadata": {},
   "outputs": [],
   "source": [
    "col_sent = ee.ImageCollection(\"MODIS/061/MOD11A1\")"
   ]
  },
  {
   "cell_type": "markdown",
   "id": "f4a140bb",
   "metadata": {},
   "source": [
    "Filter clouds and choose least cloudy images:"
   ]
  },
  {
   "cell_type": "code",
   "execution_count": 8,
   "id": "e3353935",
   "metadata": {},
   "outputs": [],
   "source": [
    "# Subset images with less than 5% cloud cover, then subset those which intersect the \n",
    "# lower left corner of the rectangle 'poly' we've just defined above.\n",
    "clouds = col_sent.filter(ee.Filter.lt('CLOUDY_PIXEL_PERCENTAGE', \n",
    "                                      5)).filterBounds(poly)\n",
    "\n",
    "# Adjust chosen bands to anything you want, and the featurization will flow from it\n",
    "chosen_bands = ['B2', 'B3', 'B4', 'B8']\n",
    "\n",
    "# choose only desired bands from the image \n",
    "bands = clouds.select(chosen_bands)\n",
    "s = bands.sort('CLOUD_COVER')\n",
    "# s contains all sentinel images which satisfied the above two filters \n",
    "\n",
    "# Here you  choose whether you want to have:\n",
    "#     (1) the least cloudy image s.first()\n",
    "#     (2) the median of all images in s \n",
    "\n",
    "\n",
    "# Option 1:\n",
    "#scene = s.first()\n",
    "\n",
    "# Option 2:\n",
    "scene = s.reduce(ee.Reducer.median())"
   ]
  },
  {
   "cell_type": "markdown",
   "id": "34e973d1",
   "metadata": {
    "tags": []
   },
   "source": [
    "#### Useful docs:\n",
    "\n",
    "Earth Engine API: \n",
    "(In other words, how to manipulate earth engine objects) \\\n",
    "https://developers.google.com/earth-engine/apidocs/ee-array-add\n",
    "\n",
    "Sentinel Data Specifications:\n",
    "(What what measured and what is it called) \\\n",
    "https://developers.google.com/earth-engine/datasets/catalog/COPERNICUS_S2_SR"
   ]
  },
  {
   "cell_type": "code",
   "execution_count": 9,
   "id": "97bd5f25",
   "metadata": {},
   "outputs": [],
   "source": [
    "# Applying the same filters as above, but only to the Near Infared Band (NIR):\n",
    "nir = clouds.select(['B8']).reduce(ee.Reducer.median())\n",
    "\n",
    "# Do the same for the red band\n",
    "red = clouds.select(['B4']).reduce(ee.Reducer.median())"
   ]
  },
  {
   "cell_type": "markdown",
   "id": "8b7426e2",
   "metadata": {},
   "source": [
    "$$ NDVI = \\frac{NIR + Red}{NIR - Red}$$"
   ]
  },
  {
   "cell_type": "code",
   "execution_count": 12,
   "id": "7e9e279a",
   "metadata": {},
   "outputs": [],
   "source": [
    "# Calculate NDVI (Normalized Difference Vegetation Index):\n",
    "numer = nir.add(red)\n",
    "denom = nir.subtract(red)\n",
    "\n",
    "ndvi = denom.divide(numer)"
   ]
  },
  {
   "cell_type": "code",
   "execution_count": 13,
   "id": "0f80c7fd",
   "metadata": {},
   "outputs": [
    {
     "data": {
      "text/html": [
       "<div style=\"width:100%;\"><div style=\"position:relative;width:100%;height:0;padding-bottom:60%;\"><span style=\"color:#565656\">Make this Notebook Trusted to load map: File -> Trust Notebook</span><iframe src=\"about:blank\" style=\"position:absolute;width:100%;height:100%;left:0;top:0;border:none !important;\" data-html=%3C%21DOCTYPE%20html%3E%0A%3Chead%3E%20%20%20%20%0A%20%20%20%20%3Cmeta%20http-equiv%3D%22content-type%22%20content%3D%22text/html%3B%20charset%3DUTF-8%22%20/%3E%0A%20%20%20%20%0A%20%20%20%20%20%20%20%20%3Cscript%3E%0A%20%20%20%20%20%20%20%20%20%20%20%20L_NO_TOUCH%20%3D%20false%3B%0A%20%20%20%20%20%20%20%20%20%20%20%20L_DISABLE_3D%20%3D%20false%3B%0A%20%20%20%20%20%20%20%20%3C/script%3E%0A%20%20%20%20%0A%20%20%20%20%3Cstyle%3Ehtml%2C%20body%20%7Bwidth%3A%20100%25%3Bheight%3A%20100%25%3Bmargin%3A%200%3Bpadding%3A%200%3B%7D%3C/style%3E%0A%20%20%20%20%3Cstyle%3E%23map%20%7Bposition%3Aabsolute%3Btop%3A0%3Bbottom%3A0%3Bright%3A0%3Bleft%3A0%3B%7D%3C/style%3E%0A%20%20%20%20%3Cscript%20src%3D%22https%3A//cdn.jsdelivr.net/npm/leaflet%401.6.0/dist/leaflet.js%22%3E%3C/script%3E%0A%20%20%20%20%3Cscript%20src%3D%22https%3A//code.jquery.com/jquery-1.12.4.min.js%22%3E%3C/script%3E%0A%20%20%20%20%3Cscript%20src%3D%22https%3A//maxcdn.bootstrapcdn.com/bootstrap/3.2.0/js/bootstrap.min.js%22%3E%3C/script%3E%0A%20%20%20%20%3Cscript%20src%3D%22https%3A//cdnjs.cloudflare.com/ajax/libs/Leaflet.awesome-markers/2.0.2/leaflet.awesome-markers.js%22%3E%3C/script%3E%0A%20%20%20%20%3Clink%20rel%3D%22stylesheet%22%20href%3D%22https%3A//cdn.jsdelivr.net/npm/leaflet%401.6.0/dist/leaflet.css%22/%3E%0A%20%20%20%20%3Clink%20rel%3D%22stylesheet%22%20href%3D%22https%3A//maxcdn.bootstrapcdn.com/bootstrap/3.2.0/css/bootstrap.min.css%22/%3E%0A%20%20%20%20%3Clink%20rel%3D%22stylesheet%22%20href%3D%22https%3A//maxcdn.bootstrapcdn.com/bootstrap/3.2.0/css/bootstrap-theme.min.css%22/%3E%0A%20%20%20%20%3Clink%20rel%3D%22stylesheet%22%20href%3D%22https%3A//maxcdn.bootstrapcdn.com/font-awesome/4.6.3/css/font-awesome.min.css%22/%3E%0A%20%20%20%20%3Clink%20rel%3D%22stylesheet%22%20href%3D%22https%3A//cdnjs.cloudflare.com/ajax/libs/Leaflet.awesome-markers/2.0.2/leaflet.awesome-markers.css%22/%3E%0A%20%20%20%20%3Clink%20rel%3D%22stylesheet%22%20href%3D%22https%3A//cdn.jsdelivr.net/gh/python-visualization/folium/folium/templates/leaflet.awesome.rotate.min.css%22/%3E%0A%20%20%20%20%0A%20%20%20%20%20%20%20%20%20%20%20%20%3Cmeta%20name%3D%22viewport%22%20content%3D%22width%3Ddevice-width%2C%0A%20%20%20%20%20%20%20%20%20%20%20%20%20%20%20%20initial-scale%3D1.0%2C%20maximum-scale%3D1.0%2C%20user-scalable%3Dno%22%20/%3E%0A%20%20%20%20%20%20%20%20%20%20%20%20%3Cstyle%3E%0A%20%20%20%20%20%20%20%20%20%20%20%20%20%20%20%20%23map_8314f91c7f464972a06536d38fc7efb5%20%7B%0A%20%20%20%20%20%20%20%20%20%20%20%20%20%20%20%20%20%20%20%20position%3A%20relative%3B%0A%20%20%20%20%20%20%20%20%20%20%20%20%20%20%20%20%20%20%20%20width%3A%20100.0%25%3B%0A%20%20%20%20%20%20%20%20%20%20%20%20%20%20%20%20%20%20%20%20height%3A%20100.0%25%3B%0A%20%20%20%20%20%20%20%20%20%20%20%20%20%20%20%20%20%20%20%20left%3A%200.0%25%3B%0A%20%20%20%20%20%20%20%20%20%20%20%20%20%20%20%20%20%20%20%20top%3A%200.0%25%3B%0A%20%20%20%20%20%20%20%20%20%20%20%20%20%20%20%20%7D%0A%20%20%20%20%20%20%20%20%20%20%20%20%3C/style%3E%0A%20%20%20%20%20%20%20%20%0A%3C/head%3E%0A%3Cbody%3E%20%20%20%20%0A%20%20%20%20%0A%20%20%20%20%20%20%20%20%20%20%20%20%3Cdiv%20class%3D%22folium-map%22%20id%3D%22map_8314f91c7f464972a06536d38fc7efb5%22%20%3E%3C/div%3E%0A%20%20%20%20%20%20%20%20%0A%3C/body%3E%0A%3Cscript%3E%20%20%20%20%0A%20%20%20%20%0A%20%20%20%20%20%20%20%20%20%20%20%20var%20map_8314f91c7f464972a06536d38fc7efb5%20%3D%20L.map%28%0A%20%20%20%20%20%20%20%20%20%20%20%20%20%20%20%20%22map_8314f91c7f464972a06536d38fc7efb5%22%2C%0A%20%20%20%20%20%20%20%20%20%20%20%20%20%20%20%20%7B%0A%20%20%20%20%20%20%20%20%20%20%20%20%20%20%20%20%20%20%20%20center%3A%20%5B41.8%2C%20-87.6298%5D%2C%0A%20%20%20%20%20%20%20%20%20%20%20%20%20%20%20%20%20%20%20%20crs%3A%20L.CRS.EPSG3857%2C%0A%20%20%20%20%20%20%20%20%20%20%20%20%20%20%20%20%20%20%20%20zoom%3A%2010%2C%0A%20%20%20%20%20%20%20%20%20%20%20%20%20%20%20%20%20%20%20%20zoomControl%3A%20true%2C%0A%20%20%20%20%20%20%20%20%20%20%20%20%20%20%20%20%20%20%20%20preferCanvas%3A%20false%2C%0A%20%20%20%20%20%20%20%20%20%20%20%20%20%20%20%20%7D%0A%20%20%20%20%20%20%20%20%20%20%20%20%29%3B%0A%0A%20%20%20%20%20%20%20%20%20%20%20%20%0A%0A%20%20%20%20%20%20%20%20%0A%20%20%20%20%0A%20%20%20%20%20%20%20%20%20%20%20%20var%20tile_layer_366a2684cdd34880b2eb77fd4e0ca8bc%20%3D%20L.tileLayer%28%0A%20%20%20%20%20%20%20%20%20%20%20%20%20%20%20%20%22https%3A//%7Bs%7D.tile.openstreetmap.org/%7Bz%7D/%7Bx%7D/%7By%7D.png%22%2C%0A%20%20%20%20%20%20%20%20%20%20%20%20%20%20%20%20%7B%22attribution%22%3A%20%22Data%20by%20%5Cu0026copy%3B%20%5Cu003ca%20href%3D%5C%22http%3A//openstreetmap.org%5C%22%5Cu003eOpenStreetMap%5Cu003c/a%5Cu003e%2C%20under%20%5Cu003ca%20href%3D%5C%22http%3A//www.openstreetmap.org/copyright%5C%22%5Cu003eODbL%5Cu003c/a%5Cu003e.%22%2C%20%22detectRetina%22%3A%20false%2C%20%22maxNativeZoom%22%3A%2018%2C%20%22maxZoom%22%3A%2018%2C%20%22minZoom%22%3A%200%2C%20%22noWrap%22%3A%20false%2C%20%22opacity%22%3A%201%2C%20%22subdomains%22%3A%20%22abc%22%2C%20%22tms%22%3A%20false%7D%0A%20%20%20%20%20%20%20%20%20%20%20%20%29.addTo%28map_8314f91c7f464972a06536d38fc7efb5%29%3B%0A%20%20%20%20%20%20%20%20%0A%20%20%20%20%0A%20%20%20%20%20%20%20%20%20%20%20%20var%20tile_layer_a7c43dd98b3b429981d40bbffa0dfba0%20%3D%20L.tileLayer%28%0A%20%20%20%20%20%20%20%20%20%20%20%20%20%20%20%20%22https%3A//earthengine.googleapis.com/v1alpha/projects/earthengine-legacy/maps/4f5d8aad6679ddddc41a5adf2a21ac83-571b73afbcf66c61f776dbb58788b38c/tiles/%7Bz%7D/%7Bx%7D/%7By%7D%22%2C%0A%20%20%20%20%20%20%20%20%20%20%20%20%20%20%20%20%7B%22attribution%22%3A%20%22Map%20Data%20%5Cu0026copy%3B%20%5Cu003ca%20href%3D%5Cu0027https%3A//earthengine.google.com/%5Cu0027%5Cu003eGoogle%20Earth%20Engine%5Cu003c/a%5Cu003e%22%2C%20%22detectRetina%22%3A%20false%2C%20%22maxNativeZoom%22%3A%2018%2C%20%22maxZoom%22%3A%2018%2C%20%22minZoom%22%3A%200%2C%20%22noWrap%22%3A%20false%2C%20%22opacity%22%3A%201%2C%20%22subdomains%22%3A%20%22abc%22%2C%20%22tms%22%3A%20false%7D%0A%20%20%20%20%20%20%20%20%20%20%20%20%29.addTo%28map_8314f91c7f464972a06536d38fc7efb5%29%3B%0A%20%20%20%20%20%20%20%20%0A%3C/script%3E onload=\"this.contentDocument.open();this.contentDocument.write(    decodeURIComponent(this.getAttribute('data-html')));this.contentDocument.close();\" allowfullscreen webkitallowfullscreen mozallowfullscreen></iframe></div></div>"
      ],
      "text/plain": [
       "<folium.folium.Map at 0x22e78d2a190>"
      ]
     },
     "execution_count": 13,
     "metadata": {},
     "output_type": "execute_result"
    }
   ],
   "source": [
    "fmap = folium.Map(location=[lby, lbx], zoom_start=10)\n",
    "fmap.add_ee_layer2(ndvi, vis_params_median_single, 'Scene 1')\n",
    "fmap"
   ]
  },
  {
   "cell_type": "code",
   "execution_count": null,
   "id": "553d1ff0",
   "metadata": {},
   "outputs": [],
   "source": []
  },
  {
   "cell_type": "code",
   "execution_count": null,
   "id": "91f7be2e",
   "metadata": {},
   "outputs": [],
   "source": []
  }
 ],
 "metadata": {
  "kernelspec": {
   "display_name": "Python 3 (ipykernel)",
   "language": "python",
   "name": "python3"
  },
  "language_info": {
   "codemirror_mode": {
    "name": "ipython",
    "version": 3
   },
   "file_extension": ".py",
   "mimetype": "text/x-python",
   "name": "python",
   "nbconvert_exporter": "python",
   "pygments_lexer": "ipython3",
   "version": "3.9.7"
  }
 },
 "nbformat": 4,
 "nbformat_minor": 5
}

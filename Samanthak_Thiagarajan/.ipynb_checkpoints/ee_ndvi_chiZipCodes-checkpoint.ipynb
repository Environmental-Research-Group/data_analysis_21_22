{
 "cells": [
  {
   "cell_type": "code",
   "execution_count": 2,
   "id": "4ac84a2d",
   "metadata": {},
   "outputs": [],
   "source": [
    "import ee\n",
    "import pandas as pd\n",
    "import numpy as np\n",
    "import matplotlib.pyplot as plt\n",
    "import time\n",
    "from tqdm.notebook import tqdm, trange\n",
    "import tqdm\n",
    "from pprint import pprint \n",
    "import statsmodels.api as sm\n",
    "import math\n",
    "import geemap\n",
    "import os\n",
    "\n",
    "from IPython.display import Image\n",
    "\n",
    "import folium\n",
    "from folium import plugins\n",
    "import importlib\n",
    "\n",
    "# import geopandas as gpd\n",
    "from PIL import Image"
   ]
  },
  {
   "cell_type": "code",
   "execution_count": 3,
   "id": "6429778a",
   "metadata": {},
   "outputs": [
    {
     "data": {
      "text/html": [
       "<p>To authorize access needed by Earth Engine, open the following\n",
       "        URL in a web browser and follow the instructions:</p>\n",
       "        <p><a href=https://accounts.google.com/o/oauth2/auth?client_id=517222506229-vsmmajv00ul0bs7p89v5m89qs8eb9359.apps.googleusercontent.com&scope=https%3A%2F%2Fwww.googleapis.com%2Fauth%2Fearthengine+https%3A%2F%2Fwww.googleapis.com%2Fauth%2Fdevstorage.full_control&redirect_uri=urn%3Aietf%3Awg%3Aoauth%3A2.0%3Aoob&response_type=code&code_challenge=oZPPBhg9FzDs5t0m1smA5cEm8BjGTTRLYaqNL4TzQh0&code_challenge_method=S256>https://accounts.google.com/o/oauth2/auth?client_id=517222506229-vsmmajv00ul0bs7p89v5m89qs8eb9359.apps.googleusercontent.com&scope=https%3A%2F%2Fwww.googleapis.com%2Fauth%2Fearthengine+https%3A%2F%2Fwww.googleapis.com%2Fauth%2Fdevstorage.full_control&redirect_uri=urn%3Aietf%3Awg%3Aoauth%3A2.0%3Aoob&response_type=code&code_challenge=oZPPBhg9FzDs5t0m1smA5cEm8BjGTTRLYaqNL4TzQh0&code_challenge_method=S256</a></p>\n",
       "        <p>The authorization workflow will generate a code, which you\n",
       "        should paste in the box below</p>\n",
       "        "
      ],
      "text/plain": [
       "<IPython.core.display.HTML object>"
      ]
     },
     "metadata": {},
     "output_type": "display_data"
    },
    {
     "name": "stdout",
     "output_type": "stream",
     "text": [
      "Enter verification code: 4/1AX4XfWhaxghE6xr9jbErScONLjb7QIqtPK_4bcOaYreWXcwW8WO_zjAAZ24\n",
      "\n",
      "Successfully saved authorization token.\n"
     ]
    }
   ],
   "source": [
    "ee.Authenticate()"
   ]
  },
  {
   "cell_type": "code",
   "execution_count": 4,
   "id": "ef4af293",
   "metadata": {},
   "outputs": [],
   "source": [
    "ee.Initialize()"
   ]
  },
  {
   "cell_type": "code",
   "execution_count": 5,
   "id": "72555d7c",
   "metadata": {},
   "outputs": [],
   "source": [
    "col_sent = ee.ImageCollection(\"COPERNICUS/S2_SR\")"
   ]
  },
  {
   "cell_type": "code",
   "execution_count": 6,
   "id": "23bdfd4e",
   "metadata": {},
   "outputs": [
    {
     "name": "stdout",
     "output_type": "stream",
     "text": [
      "['60636', '60077', '60164', '60415', '60422', '60469', '60526', '60601', '60602', '60603',\n",
      " '60604', '60606', '60607', '60612', '60618', '60619', '60621', '60631', '60638', '60639',\n",
      " '60641', '60645', '60646', '60651', '60652', '60654', '60655', '60656', '60661', '60706',\n",
      " '60707', '60712', '60714', '60805', '60026', '60029', '60043', '60053', '60076', '60104',\n",
      " '60130', '60131', '60141', '60153', '60154', '60155', '60160', '60162', '60163', '60165',\n",
      " '60171', '60176', '60195', '60203', '60301', '60302', '60304', '60425', '60426', '60428',\n",
      " '60455', '60456', '60457', '60459', '60647', '60471', '60659', '60558', '60070', '60482',\n",
      " '60487', '60107', '60609', '60634', '60629', '60093', '60804', '60133', '60018', '60527',\n",
      " '60464', '60521', '60173', '60453', '60461', '60624', '60091', '60626', '60169', '60062',\n",
      " '60015', '60472', '60827', '60643', '60467', '60411', '60622', '60439', '60476', '60126',\n",
      " '60202', '60458', '60465', '60637', '60803', '60501', '60478', '60201', '60610', '60423',\n",
      " '60657', '60016', '60438', '60103', '60615', '60430', '60614', '60443', '60477', '60480',\n",
      " '60640', '60089', '60632', '60007', '60010', '60463', '60534', '60653', '60617', '60429',\n",
      " '60022', '60402', '60172', '60008', '60525', '60056', '60068', '60475', '60025', '60067',\n",
      " '60005', '60090', '60613', '60473', '60305', '60611', '60193', '60628', '60192', '60120',\n",
      " '60546', '60074', '60004', '60630', '60466', '60608', '60513', '60409', '60445', '60194',\n",
      " '60660', '60642', '60605', '60419', '60633', '60616', '60462', '60625', '60452', '60620',\n",
      " '60649', '60406', '60623', '60644']\n"
     ]
    }
   ],
   "source": [
    "# Isolate Cook County from the Census collection\n",
    "counties = ee.FeatureCollection('TIGER/2018/Counties')\n",
    "cookCounty = counties.filter(ee.Filter.eq(\"GEOID\", '17031'))\n",
    "\n",
    "# Get all US zip codes, then restrict to those that intersect with Cook County, and then\n",
    "# filter out those that don't overlap at all but only touch on the boundary\n",
    "# (e.g. some adjacent zip codes in Illinois and Indiana)\n",
    "zipCodes = (\n",
    "    ee.FeatureCollection('TIGER/2010/ZCTA5').filterBounds(cookCounty)\n",
    "    .filter(\"GEOID10 != '46311'\").filter(\"GEOID10 != '46324'\")\n",
    "    .filter(\"GEOID10 != '46321'\").filter(\"GEOID10 != '46327'\")\n",
    "    .filter(\"GEOID10 != '46320'\").filter(\"GEOID10 != '60047'\")\n",
    "    .filter(\"GEOID10 != '60035'\").filter(\"GEOID10 != '60110'\")\n",
    "    .filter(\"GEOID10 != '60118'\").filter(\"GEOID10 != '60143'\")\n",
    "    .filter(\"GEOID10 != '60191'\").filter(\"GEOID10 != '60106'\")\n",
    "    .filter(\"GEOID10 != '60523'\").filter(\"GEOID10 != '60441'\")\n",
    "    .filter(\"GEOID10 != '60448'\").filter(\"GEOID10 != '60449'\")\n",
    "    .filter(\"GEOID10 != '60491'\").filter(\"GEOID10 != '60417'\")\n",
    ")\n",
    "\n",
    "# Create a geometry that is the union of all the zip codes in Chicago\n",
    "zipChiGeom = zipCodes.union(100);\n",
    "#censusTracts = ee.FeatureCollection(\"TIGER/2010/Tracts_DP1\").filterBounds(cookCounty)\n",
    "\n",
    "zipCodeIDs = zipCodes.aggregate_array(\"GEOID10\").getInfo()\n",
    "pprint(zipCodeIDs, width=90, compact=True)"
   ]
  },
  {
   "cell_type": "code",
   "execution_count": 7,
   "id": "8f34a6da",
   "metadata": {},
   "outputs": [],
   "source": [
    "# Subset images with less than 5% cloud cover, then subset those which intersect the \n",
    "# lower left corner of the rectangle 'poly' we've just defined above.\n",
    "clouds = col_sent.filter(ee.Filter.lt('CLOUDY_PIXEL_PERCENTAGE', 5)).filterBounds(cookCounty)\n",
    "\n",
    "# Adjust chosen bands to anything you want, and the featurization will flow from it\n",
    "chosen_bands = ['B2', 'B3', 'B4', 'B8']\n",
    "\n",
    "# choose only desired bands from the image \n",
    "bands = clouds.select(chosen_bands)\n",
    "s = bands.sort('CLOUD_COVER')\n",
    "# s contains all sentinel images which satisfied the above two filters \n",
    "\n",
    "# Option 2:\n",
    "scene = s.reduce(ee.Reducer.median())"
   ]
  },
  {
   "cell_type": "code",
   "execution_count": 8,
   "id": "65fa56ca",
   "metadata": {},
   "outputs": [],
   "source": [
    "# Applying the same filters as above, but only to the Near Infared Band (NIR):\n",
    "nir = clouds.select(['B8']).reduce(ee.Reducer.median())\n",
    "\n",
    "# Do the same for the red band\n",
    "red = clouds.select(['B4']).reduce(ee.Reducer.median())\n",
    "\n",
    "# Calculate NDVI (Normalized Difference Vegetation Index) and restrict it to the polygon that is made from\n",
    "# the union of all Chicago zip codes\n",
    "numer = nir.add(red)\n",
    "denom = nir.subtract(red)\n",
    "ndvi = denom.divide(numer)\n",
    "ndvi_Chi = ndvi.clip(zipChiGeom.geometry())"
   ]
  },
  {
   "cell_type": "code",
   "execution_count": 9,
   "id": "8b92749d",
   "metadata": {
    "scrolled": false
   },
   "outputs": [
    {
     "ename": "NameError",
     "evalue": "name 'ndviVP' is not defined",
     "output_type": "error",
     "traceback": [
      "\u001b[1;31m---------------------------------------------------------------------------\u001b[0m",
      "\u001b[1;31mNameError\u001b[0m                                 Traceback (most recent call last)",
      "Input \u001b[1;32mIn [9]\u001b[0m, in \u001b[0;36m<module>\u001b[1;34m\u001b[0m\n\u001b[0;32m      1\u001b[0m \u001b[38;5;66;03m# Generate a map, add the ndvi as a layer, then center the map on Cook County, and add Chicago's zip codes\u001b[39;00m\n\u001b[0;32m      2\u001b[0m \u001b[38;5;66;03m# as a layer\u001b[39;00m\n\u001b[0;32m      4\u001b[0m fmap \u001b[38;5;241m=\u001b[39m geemap\u001b[38;5;241m.\u001b[39mMap()\n\u001b[1;32m----> 5\u001b[0m fmap\u001b[38;5;241m.\u001b[39maddLayer(ndvi_Chi, \u001b[43mndviVP\u001b[49m, \u001b[38;5;124m'\u001b[39m\u001b[38;5;124mScene 1\u001b[39m\u001b[38;5;124m'\u001b[39m)\n\u001b[0;32m      6\u001b[0m fmap\u001b[38;5;241m.\u001b[39mcenterObject(cookCounty, \u001b[38;5;241m9\u001b[39m)\n\u001b[0;32m      7\u001b[0m \u001b[38;5;66;03m#fmap.addLayer(cookCounty)\u001b[39;00m\n",
      "\u001b[1;31mNameError\u001b[0m: name 'ndviVP' is not defined"
     ]
    }
   ],
   "source": [
    "# Generate a map, add the ndvi as a layer, then center the map on Cook County, and add Chicago's zip codes\n",
    "# as a layer\n",
    "ndviVP = {'min': -1, 'max': 1, 'palette': ['000FFF', 'FFFFFF', '00FF00']}\n",
    "fmap = geemap.Map()\n",
    "fmap.addLayer(ndvi_Chi, ndviVP, 'Scene 1')\n",
    "fmap.centerObject(cookCounty, 9)\n",
    "#fmap.addLayer(cookCounty)\n",
    "fmap.addLayer(zipCodes)\n",
    "fmap"
   ]
  },
  {
   "cell_type": "code",
   "execution_count": 81,
   "id": "881ea0b1",
   "metadata": {},
   "outputs": [
    {
     "name": "stdout",
     "output_type": "stream",
     "text": [
      "Computing statistics ...\n",
      "Generating URL ...\n",
      "Downloading data from https://earthengine.googleapis.com/v1alpha/projects/earthengine-legacy/tables/72edb1aa131b9200df0054bb21cc00bb-a87ba89e3d4c26c845b3f9c4edb9dbef:getFeatures\n",
      "Please wait ...\n",
      "Data downloaded to /Users/matheuboucher/Downloads/dem_stats.csv\n"
     ]
    }
   ],
   "source": [
    "# RUNNING THIS WILL DOWNLOAD A CSV CONTAINING MEAN NDVI BY ZIP CODE IN COOK COUNTY\n",
    "# TO YOUR PERSONAL DOWNLOADS FOLDER. YOU CAN ALTERNATIVELY JUST COPY THE ndvi_chiZip_dataset.csv THAT IS\n",
    "# IN MY FOLDER TO YOUR OWN ;).\n",
    "    \n",
    "out_dir = os.path.join(os.path.expanduser('~'), 'Downloads')\n",
    "out_stats = os.path.join(out_dir, 'chi_ndvi_stats.csv')\n",
    "\n",
    "if not os.path.exists(out_dir):\n",
    "    os.makedirs(out_dir)\n",
    "\n",
    "# Allowed output formats: csv, shp, json, kml, kmz\n",
    "# Allowed statistics type: MEAN, MAXIMUM, MINIMUM, MEDIAN, STD, MIN_MAX, VARIANCE, SUM\n",
    "geemap.zonal_statistics(ndvi_Chi, zipCodes, out_stats, statistics_type='MEAN', scale=1000)\n",
    "\n",
    "# ndviVP = {'min': -1, 'max': 1, 'palette': ['000FFF', 'FFFFFF', '00FF00']}"
   ]
  },
  {
   "cell_type": "code",
   "execution_count": null,
   "id": "3b8e7f70",
   "metadata": {},
   "outputs": [],
   "source": []
  }
 ],
 "metadata": {
  "kernelspec": {
   "display_name": "Python 3 (ipykernel)",
   "language": "python",
   "name": "python3"
  },
  "language_info": {
   "codemirror_mode": {
    "name": "ipython",
    "version": 3
   },
   "file_extension": ".py",
   "mimetype": "text/x-python",
   "name": "python",
   "nbconvert_exporter": "python",
   "pygments_lexer": "ipython3",
   "version": "3.9.7"
  }
 },
 "nbformat": 4,
 "nbformat_minor": 5
}
